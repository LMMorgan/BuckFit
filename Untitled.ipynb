{
 "cells": [
  {
   "cell_type": "code",
   "execution_count": 1,
   "metadata": {},
   "outputs": [],
   "source": [
    "from vasppy.outcar import forces_from_outcar\n",
    "import numpy as np\n",
    "import glob\n",
    "from fitting import FitModel\n",
    "import lammps"
   ]
  },
  {
   "cell_type": "code",
   "execution_count": null,
   "metadata": {},
   "outputs": [],
   "source": [
    "params = {}\n",
    "params['core_shell'] = { 'Li': False, 'Ni': False, 'O': True }\n",
    "params['charges'] = {'Li': +1.0,\n",
    "                     'Ni': +3.0,\n",
    "                     'O': {'core':  +0.960,\n",
    "                           'shell': -2.960}}\n",
    "params['masses'] = {'Li': 6.941,\n",
    "                    'Ni': 58.6934,\n",
    "                    'O': {'core': 15.0,\n",
    "                          'shell': 1.0} }\n",
    "\n",
    "params['bpp'] = {'Li-O' : [632.1018, 0.2906, 0.0],\n",
    "                 'Ni-O' : [1582.5000, 0.2882, 0.000],\n",
    "                 'O-O'  : [22764.3000, 0.1490, 21.7]}\n",
    "\n",
    "params['sd'] = {'Li-O' : [50, 0.01, 0.01],\n",
    "                'Ni-O' : [60, 0.01, 0.01],\n",
    "                'O-O'  : [60, 0.01, 5]}\n",
    "\n",
    "params['cs_springs'] = {'O' : [65.0, 0.0]}\n",
    "\n",
    "excude_from_fit = ['Li_O_c','Ni_O_c']"
   ]
  },
  {
   "cell_type": "code",
   "execution_count": null,
   "metadata": {},
   "outputs": [],
   "source": [
    "fit_data = FitModel.collect_info(params)"
   ]
  },
  {
   "cell_type": "code",
   "execution_count": null,
   "metadata": {},
   "outputs": [],
   "source": []
  },
  {
   "cell_type": "code",
   "execution_count": 2,
   "metadata": {},
   "outputs": [],
   "source": [
    "from pymatgen.io.vasp import Poscar\n",
    "from pymatgen.core.lattice import Lattice\n",
    "from pymatgen.core.structure import Structure\n",
    "\n",
    "poscar = Poscar.from_file('CONTCAR')\n",
    "forces = forces_from_outcar('outcars/OUTCAR1')[-1]\n",
    "structure = poscar.structure"
   ]
  },
  {
   "cell_type": "code",
   "execution_count": null,
   "metadata": {},
   "outputs": [],
   "source": []
  },
  {
   "cell_type": "code",
   "execution_count": 41,
   "metadata": {},
   "outputs": [],
   "source": [
    "def abc_matrix(a, b, c):\n",
    "    a_hat = a/(np.sqrt(sum(a**2)))\n",
    "    axb_hat = np.cross(a,b)/(np.sqrt(sum(np.cross(a,b)**2)))\n",
    "    ax = np.sqrt(sum(a**2))\n",
    "    bx = np.dot(b, a/(np.sqrt(sum(a**2))))\n",
    "    by = np.sqrt(sum(np.cross(a_hat, b)**2))\n",
    "    cx = np.dot(c,a_hat)\n",
    "    cy = np.dot(c, np.cross(axb_hat, a_hat))\n",
    "    cz = np.dot(c, axb_hat)\n",
    "    return np.array([[ax, bx, cx],[0, by, cy],[0 , 0, cz]])\n",
    "\n",
    "def apply_rotation(rotation_matrix, sites):\n",
    "    new = np.vstack([np.dot(rotation_matrix, x) for x in sites])\n",
    "    return new\n",
    "\n",
    "def lammps_lattice(structure, forces):\n",
    "    a, b, c = structure.lattice.matrix\n",
    "    \n",
    "    if np.cross(a, b).dot(c) < 0:\n",
    "        raise ValueError('This is a left-hand coordinate system. Lammps requires a right-hand coordinate system.')\n",
    "    else:        \n",
    "        abc = abc_matrix(a, b, c)\n",
    "        new_lattice = Lattice(abc)\n",
    "        cell_lengths = np.array(new_lattice.lengths)\n",
    "        tilt_factor = np.array([abc[0,1], abc[0,2], abc[1,2]])\n",
    "        rotation_matrix = np.dot(abc, structure.lattice.inv_matrix.T)\n",
    "\n",
    "        new_coords = apply_rotation(rotation_matrix, structure.cart_coords)\n",
    "        new_forces = apply_rotation(rotation_matrix, forces)\n",
    "        \n",
    "        new_structure = Structure(new_lattice, structure.species, new_coords, coords_are_cartesian=True)\n",
    "\n",
    "    return cell_lengths, tilt_factor, new_structure, new_forces\n",
    "\n",
    "cell_lengths, tilt_factor, new_structure, new_forces = lammps_lattice(structure, forces)"
   ]
  },
  {
   "cell_type": "code",
   "execution_count": null,
   "metadata": {},
   "outputs": [],
   "source": []
  },
  {
   "cell_type": "code",
   "execution_count": null,
   "metadata": {},
   "outputs": [],
   "source": [
    "def lammps_matrix(structure):\n",
    "    \"\"\"\n",
    "    Defines the cell dimensions of the system, imposing a transformation for left/right-hand basis if needed.\n",
    "    \n",
    "    Args:\n",
    "        structure (obj): A pymatgen structural object created from a POSCAR.\n",
    "    \n",
    "    Returns:\n",
    "        cell_lengths (list(float)): Lengths of each cell direction.\n",
    "        tilt_factor (list(float)): Tilt factors of the cell.\n",
    "        \n",
    "    \"\"\"\n",
    "    a, b, c = structure.lattice.lengths\n",
    "    alpha, beta, gamma = np.deg2rad(structure.lattice.angles)\n",
    "    A, B, C = structure.lattice._matrix\n",
    "    ax = a\n",
    "    bx = b*np.cos(gamma)\n",
    "    by = b*np.sin(gamma)\n",
    "    cx = c*np.cos(beta)\n",
    "    cy = ( np.dot(B,C) - (bx*cx) )/by\n",
    "    cz = np.sqrt(c**2-cx**2-cy**2)\n",
    "    cell_lengths = [a, b, c]\n",
    "    tilt_factor = [bx, cx, cy]\n",
    "    return cell_lengths, tilt_factor"
   ]
  },
  {
   "cell_type": "code",
   "execution_count": null,
   "metadata": {},
   "outputs": [],
   "source": []
  },
  {
   "cell_type": "code",
   "execution_count": null,
   "metadata": {},
   "outputs": [],
   "source": []
  },
  {
   "cell_type": "code",
   "execution_count": null,
   "metadata": {},
   "outputs": [],
   "source": []
  },
  {
   "cell_type": "code",
   "execution_count": null,
   "metadata": {},
   "outputs": [],
   "source": []
  },
  {
   "cell_type": "code",
   "execution_count": null,
   "metadata": {},
   "outputs": [],
   "source": []
  },
  {
   "cell_type": "code",
   "execution_count": null,
   "metadata": {},
   "outputs": [],
   "source": []
  },
  {
   "cell_type": "code",
   "execution_count": null,
   "metadata": {},
   "outputs": [],
   "source": []
  },
  {
   "cell_type": "code",
   "execution_count": null,
   "metadata": {},
   "outputs": [],
   "source": []
  },
  {
   "cell_type": "code",
   "execution_count": null,
   "metadata": {},
   "outputs": [],
   "source": []
  },
  {
   "cell_type": "code",
   "execution_count": null,
   "metadata": {},
   "outputs": [],
   "source": []
  },
  {
   "cell_type": "code",
   "execution_count": null,
   "metadata": {},
   "outputs": [],
   "source": []
  },
  {
   "cell_type": "code",
   "execution_count": null,
   "metadata": {},
   "outputs": [],
   "source": []
  },
  {
   "cell_type": "code",
   "execution_count": null,
   "metadata": {},
   "outputs": [],
   "source": []
  },
  {
   "cell_type": "code",
   "execution_count": null,
   "metadata": {},
   "outputs": [],
   "source": []
  },
  {
   "cell_type": "code",
   "execution_count": null,
   "metadata": {},
   "outputs": [],
   "source": []
  },
  {
   "cell_type": "code",
   "execution_count": null,
   "metadata": {},
   "outputs": [],
   "source": []
  },
  {
   "cell_type": "code",
   "execution_count": null,
   "metadata": {},
   "outputs": [],
   "source": [
    "\n"
   ]
  },
  {
   "cell_type": "code",
   "execution_count": null,
   "metadata": {},
   "outputs": [],
   "source": []
  },
  {
   "cell_type": "code",
   "execution_count": null,
   "metadata": {},
   "outputs": [],
   "source": []
  },
  {
   "cell_type": "code",
   "execution_count": null,
   "metadata": {},
   "outputs": [],
   "source": []
  },
  {
   "cell_type": "code",
   "execution_count": null,
   "metadata": {},
   "outputs": [],
   "source": []
  }
 ],
 "metadata": {
  "kernelspec": {
   "display_name": "Python 3",
   "language": "python",
   "name": "python3"
  },
  "language_info": {
   "codemirror_mode": {
    "name": "ipython",
    "version": 3
   },
   "file_extension": ".py",
   "mimetype": "text/x-python",
   "name": "python",
   "nbconvert_exporter": "python",
   "pygments_lexer": "ipython3",
   "version": "3.7.3"
  }
 },
 "nbformat": 4,
 "nbformat_minor": 2
}
