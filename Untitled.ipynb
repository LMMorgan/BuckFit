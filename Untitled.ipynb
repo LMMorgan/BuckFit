{
 "cells": [
  {
   "cell_type": "code",
   "execution_count": 1,
   "metadata": {},
   "outputs": [],
   "source": [
    "from vasppy.outcar import forces_from_outcar\n",
    "import numpy as np\n",
    "import glob\n",
    "from fitting import FitModel"
   ]
  },
  {
   "cell_type": "code",
   "execution_count": 2,
   "metadata": {},
   "outputs": [],
   "source": [
    "params = {}\n",
    "params['core_shell'] = { 'Li': False, 'Ni': False, 'O': True }\n",
    "params['charges'] = {'Li': +1.0,\n",
    "                     'Ni': +3.0,\n",
    "                     'O': {'core':  +0.960,\n",
    "                           'shell': -2.960}}\n",
    "params['masses'] = {'Li': 6.941,\n",
    "                    'Ni': 58.6934,\n",
    "                    'O': {'core': 15.0,\n",
    "                          'shell': 1.0} }\n",
    "\n",
    "params['bpp'] = {'Li-O' : [632.1018, 0.2906, 0.0],\n",
    "                 'Ni-O' : [1582.5000, 0.2882, 0.000],\n",
    "                 'O-O'  : [22764.3000, 0.1490, 21.7]}\n",
    "\n",
    "params['sd'] = {'Li-O' : [50, 0.01, 0.01],\n",
    "                'Ni-O' : [60, 0.01, 0.01],\n",
    "                'O-O'  : [60, 0.01, 5]}\n",
    "\n",
    "params['cs_springs'] = {'O' : [65.0, 0.0]}\n",
    "\n",
    "excude_from_fit = ['Li_O_c','Ni_O_c']"
   ]
  },
  {
   "cell_type": "code",
   "execution_count": 3,
   "metadata": {},
   "outputs": [
    {
     "name": "stdout",
     "output_type": "stream",
     "text": [
      "Found elements: ['Li', 'Ni', 'O']\n",
      "Found elements: ['Li', 'Ni', 'O']\n"
     ]
    }
   ],
   "source": [
    "fit_data = FitModel.collect_info(params)"
   ]
  },
  {
   "cell_type": "code",
   "execution_count": null,
   "metadata": {},
   "outputs": [],
   "source": []
  },
  {
   "cell_type": "code",
   "execution_count": 5,
   "metadata": {},
   "outputs": [],
   "source": [
    "test = collate_forces(fit_data)"
   ]
  },
  {
   "cell_type": "code",
   "execution_count": 15,
   "metadata": {},
   "outputs": [
    {
     "data": {
      "text/plain": [
       "(288, 3, 2)"
      ]
     },
     "execution_count": 15,
     "metadata": {},
     "output_type": "execute_result"
    }
   ],
   "source": [
    "test.shape"
   ]
  },
  {
   "cell_type": "code",
   "execution_count": 21,
   "metadata": {},
   "outputs": [
    {
     "data": {
      "text/plain": [
       "(3,)"
      ]
     },
     "execution_count": 21,
     "metadata": {},
     "output_type": "execute_result"
    }
   ],
   "source": [
    "things = [[1,2], [3], [5,6]]\n",
    "x = np.array(things)\n",
    "x.shape"
   ]
  },
  {
   "cell_type": "code",
   "execution_count": null,
   "metadata": {},
   "outputs": [],
   "source": []
  },
  {
   "cell_type": "code",
   "execution_count": null,
   "metadata": {},
   "outputs": [],
   "source": []
  },
  {
   "cell_type": "code",
   "execution_count": 4,
   "metadata": {},
   "outputs": [],
   "source": [
    "def collate_forces(fit_data):\n",
    "    forces_data = []\n",
    "    for structure in fit_data.lammps_data:\n",
    "        atom_forces = []\n",
    "        for atoms in structure.atoms:\n",
    "            atom_forces.append(atoms.forces)\n",
    "        forces = np.stack(atom_forces, axis=0)\n",
    "        forces_data.append(forces)\n",
    "    all_forces = np.stack(forces_data, axis=2)\n",
    "    return all_forces"
   ]
  },
  {
   "cell_type": "code",
   "execution_count": null,
   "metadata": {},
   "outputs": [],
   "source": []
  }
 ],
 "metadata": {
  "kernelspec": {
   "display_name": "Python 3",
   "language": "python",
   "name": "python3"
  },
  "language_info": {
   "codemirror_mode": {
    "name": "ipython",
    "version": 3
   },
   "file_extension": ".py",
   "mimetype": "text/x-python",
   "name": "python",
   "nbconvert_exporter": "python",
   "pygments_lexer": "ipython3",
   "version": "3.7.3"
  }
 },
 "nbformat": 4,
 "nbformat_minor": 2
}
