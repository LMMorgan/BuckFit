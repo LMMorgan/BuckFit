{
 "cells": [
  {
   "cell_type": "code",
   "execution_count": 52,
   "metadata": {},
   "outputs": [],
   "source": [
    "from pymatgen.core.lattice import Lattice\n",
    "from pymatgen.core.structure import Structure\n",
    "import numpy as np\n",
    "from vasppy.outcar import forces_from_outcar\n",
    "from pymatgen.io.vasp import Poscar\n",
    "import lammps"
   ]
  },
  {
   "cell_type": "code",
   "execution_count": 53,
   "metadata": {},
   "outputs": [],
   "source": [
    "def get_structure(supercell=None):\n",
    "    if supercell is not None and len(supercell) is not 3:\n",
    "            raise ValueError('Incorrect dimensions for supercell. Requires x,y,z expansion, i.e. list of 3 integers')\n",
    "            \n",
    "    structure = Poscar.from_file('poscars/POSCAR1').structure\n",
    "    forces = forces_from_outcar('outcars/OUTCAR1')[-1]\n",
    "    structure.add_site_property('forces', forces)\n",
    "    if supercell is not None:\n",
    "        structure = structure*supercell\n",
    "    return structure"
   ]
  },
  {
   "cell_type": "code",
   "execution_count": 54,
   "metadata": {},
   "outputs": [],
   "source": [
    "def abc_matrix(a, b, c):\n",
    "    a_hat = a/(np.sqrt(sum(a**2)))\n",
    "    axb_hat = np.cross(a,b)/(np.sqrt(sum(np.cross(a,b)**2)))\n",
    "    ax = np.sqrt(sum(a**2))  \n",
    "    bx = np.dot(b, a_hat)\n",
    "    by = np.sqrt(sum(np.cross(a_hat, b)**2))\n",
    "    cx = np.dot(c,a_hat)\n",
    "    cy = np.dot(c, np.cross(axb_hat, a_hat))\n",
    "    cz = np.dot(c, axb_hat)\n",
    "    return np.array([[ax, bx, cx],[0, by, cy],[0 , 0, cz]])\n",
    "\n",
    "def apply_rotation(rotation_matrix, vector_array):\n",
    "    return np.dot(rotation_matrix,vector_array.T).T\n",
    "\n",
    "def lammps_lattice(structure):\n",
    "    if 'forces' not in structure.site_properties:\n",
    "        raise AttributeError(\"Structure object should have 'forces' site_properties set\")\n",
    "        \n",
    "    #THIS NEEDS CHECKING AGAIN BUT IS NOT THE MAIN ISSUE\n",
    "    a, b, c = structure.lattice.matrix.T #Previously this was structure.lattice.matrix which read rows not columns\n",
    "    \n",
    "    if np.cross(a, b).dot(c) < 0:\n",
    "        raise ValueError('This is a left-hand coordinate system. Lammps requires a right-hand coordinate system.')\n",
    "    else:        \n",
    "        abc = abc_matrix(a, b, c)\n",
    "        new_lattice = Lattice(abc)\n",
    "        cell_lengths = np.array(new_lattice.lengths)\n",
    "        tilt_factors = np.array([abc[0,1], abc[0,2], abc[1,2]])\n",
    "        rotation_matrix = np.dot(abc, structure.lattice.inv_matrix.T)\n",
    "\n",
    "        new_coords = apply_rotation(rotation_matrix, structure.cart_coords)\n",
    "        new_forces = apply_rotation(rotation_matrix, np.array(structure.site_properties['forces']))\n",
    "        \n",
    "        new_structure = Structure(new_lattice, structure.species, new_coords, coords_are_cartesian=True, site_properties={'forces': new_forces})\n",
    "\n",
    "    return cell_lengths, tilt_factors, new_structure"
   ]
  },
  {
   "cell_type": "code",
   "execution_count": 55,
   "metadata": {},
   "outputs": [],
   "source": [
    "structure = get_structure(supercell=[1,1,1])\n",
    "cell_lengths, tilt_factors, new_structure = lammps_lattice(structure)"
   ]
  },
  {
   "cell_type": "code",
   "execution_count": 15,
   "metadata": {},
   "outputs": [],
   "source": [
    "new_structure.to(fmt='poscar', filename='testPOSCAR')"
   ]
  },
  {
   "cell_type": "code",
   "execution_count": null,
   "metadata": {},
   "outputs": [],
   "source": []
  },
  {
   "cell_type": "code",
   "execution_count": null,
   "metadata": {},
   "outputs": [],
   "source": []
  },
  {
   "cell_type": "code",
   "execution_count": null,
   "metadata": {},
   "outputs": [],
   "source": []
  },
  {
   "cell_type": "code",
   "execution_count": null,
   "metadata": {},
   "outputs": [],
   "source": []
  },
  {
   "cell_type": "code",
   "execution_count": null,
   "metadata": {},
   "outputs": [],
   "source": []
  },
  {
   "cell_type": "code",
   "execution_count": null,
   "metadata": {},
   "outputs": [],
   "source": []
  },
  {
   "cell_type": "code",
   "execution_count": null,
   "metadata": {},
   "outputs": [],
   "source": []
  },
  {
   "cell_type": "code",
   "execution_count": null,
   "metadata": {},
   "outputs": [],
   "source": []
  },
  {
   "cell_type": "code",
   "execution_count": null,
   "metadata": {},
   "outputs": [],
   "source": []
  },
  {
   "cell_type": "code",
   "execution_count": null,
   "metadata": {},
   "outputs": [],
   "source": []
  },
  {
   "cell_type": "code",
   "execution_count": null,
   "metadata": {},
   "outputs": [],
   "source": []
  },
  {
   "cell_type": "code",
   "execution_count": null,
   "metadata": {},
   "outputs": [],
   "source": []
  },
  {
   "cell_type": "code",
   "execution_count": null,
   "metadata": {},
   "outputs": [],
   "source": []
  },
  {
   "cell_type": "code",
   "execution_count": null,
   "metadata": {},
   "outputs": [],
   "source": []
  },
  {
   "cell_type": "code",
   "execution_count": null,
   "metadata": {},
   "outputs": [],
   "source": []
  },
  {
   "cell_type": "code",
   "execution_count": null,
   "metadata": {},
   "outputs": [],
   "source": []
  },
  {
   "cell_type": "code",
   "execution_count": null,
   "metadata": {},
   "outputs": [],
   "source": []
  },
  {
   "cell_type": "code",
   "execution_count": null,
   "metadata": {},
   "outputs": [],
   "source": []
  },
  {
   "cell_type": "code",
   "execution_count": null,
   "metadata": {},
   "outputs": [],
   "source": []
  },
  {
   "cell_type": "code",
   "execution_count": null,
   "metadata": {},
   "outputs": [],
   "source": []
  },
  {
   "cell_type": "code",
   "execution_count": null,
   "metadata": {},
   "outputs": [],
   "source": []
  },
  {
   "cell_type": "code",
   "execution_count": null,
   "metadata": {},
   "outputs": [],
   "source": []
  },
  {
   "cell_type": "code",
   "execution_count": null,
   "metadata": {},
   "outputs": [],
   "source": []
  }
 ],
 "metadata": {
  "kernelspec": {
   "display_name": "Python 3",
   "language": "python",
   "name": "python3"
  },
  "language_info": {
   "codemirror_mode": {
    "name": "ipython",
    "version": 3
   },
   "file_extension": ".py",
   "mimetype": "text/x-python",
   "name": "python",
   "nbconvert_exporter": "python",
   "pygments_lexer": "ipython3",
   "version": "3.7.3"
  }
 },
 "nbformat": 4,
 "nbformat_minor": 2
}
