{
 "cells": [
  {
   "cell_type": "code",
   "execution_count": 1,
   "metadata": {},
   "outputs": [],
   "source": [
    "from vasppy.outcar import forces_from_outcar\n",
    "import numpy as np\n",
    "import glob\n",
    "from fitting import FitModel\n",
    "import lammps"
   ]
  },
  {
   "cell_type": "code",
   "execution_count": 2,
   "metadata": {},
   "outputs": [],
   "source": [
    "params = {}\n",
    "params['core_shell'] = { 'Li': False, 'Ni': False, 'O': True }\n",
    "params['charges'] = {'Li': +1.0,\n",
    "                     'Ni': +3.0,\n",
    "                     'O': {'core':  +0.960,\n",
    "                           'shell': -2.960}}\n",
    "params['masses'] = {'Li': 6.941,\n",
    "                    'Ni': 58.6934,\n",
    "                    'O': {'core': 15.0,\n",
    "                          'shell': 1.0} }\n",
    "\n",
    "params['bpp'] = {'Li-O' : [632.1018, 0.2906, 0.0],\n",
    "                 'Ni-O' : [1582.5000, 0.2882, 0.000],\n",
    "                 'O-O'  : [22764.3000, 0.1490, 21.7]}\n",
    "\n",
    "params['sd'] = {'Li-O' : [50, 0.01, 0.01],\n",
    "                'Ni-O' : [60, 0.01, 0.01],\n",
    "                'O-O'  : [60, 0.01, 5]}\n",
    "\n",
    "params['cs_springs'] = {'O' : [65.0, 0.0]}\n",
    "\n",
    "excude_from_fit = ['Li_O_c','Ni_O_c']"
   ]
  },
  {
   "cell_type": "code",
   "execution_count": 9,
   "metadata": {},
   "outputs": [
    {
     "name": "stdout",
     "output_type": "stream",
     "text": [
      "Found elements: ['Li', 'Ni', 'O']\n",
      "Found elements: ['Li', 'Ni', 'O']\n"
     ]
    }
   ],
   "source": [
    "fit_data = FitModel.collect_info(params)"
   ]
  },
  {
   "cell_type": "code",
   "execution_count": 4,
   "metadata": {},
   "outputs": [
    {
     "data": {
      "text/plain": [
       "[<lammps_data.LammpsData at 0x1241cf400>,\n",
       " <lammps_data.LammpsData at 0x126578da0>]"
      ]
     },
     "execution_count": 4,
     "metadata": {},
     "output_type": "execute_result"
    }
   ],
   "source": [
    "fit_data.lammps_data"
   ]
  },
  {
   "cell_type": "code",
   "execution_count": 8,
   "metadata": {},
   "outputs": [
    {
     "name": "stdout",
     "output_type": "stream",
     "text": [
      "<Lammps Style:full Atoms:2.9e+02 Lattice:[10.9, 10.4, 14.0]>\n",
      "<Lammps Style:full Atoms:2.9e+02 Lattice:[10.9, 10.4, 14.0]>\n"
     ]
    }
   ],
   "source": [
    "for lammps_data in fit_data.lammps_data:\n",
    "    print(lammps_data.lmp)"
   ]
  },
  {
   "cell_type": "code",
   "execution_count": null,
   "metadata": {},
   "outputs": [],
   "source": []
  },
  {
   "cell_type": "code",
   "execution_count": null,
   "metadata": {},
   "outputs": [],
   "source": []
  },
  {
   "cell_type": "code",
   "execution_count": null,
   "metadata": {},
   "outputs": [],
   "source": []
  },
  {
   "cell_type": "code",
   "execution_count": null,
   "metadata": {},
   "outputs": [],
   "source": []
  },
  {
   "cell_type": "code",
   "execution_count": null,
   "metadata": {},
   "outputs": [],
   "source": []
  },
  {
   "cell_type": "code",
   "execution_count": null,
   "metadata": {},
   "outputs": [],
   "source": []
  },
  {
   "cell_type": "code",
   "execution_count": null,
   "metadata": {},
   "outputs": [],
   "source": []
  }
 ],
 "metadata": {
  "kernelspec": {
   "display_name": "Python 3",
   "language": "python",
   "name": "python3"
  },
  "language_info": {
   "codemirror_mode": {
    "name": "ipython",
    "version": 3
   },
   "file_extension": ".py",
   "mimetype": "text/x-python",
   "name": "python",
   "nbconvert_exporter": "python",
   "pygments_lexer": "ipython3",
   "version": "3.7.3"
  }
 },
 "nbformat": 4,
 "nbformat_minor": 2
}
