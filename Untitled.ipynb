{
 "cells": [
  {
   "cell_type": "code",
   "execution_count": 1,
   "metadata": {},
   "outputs": [],
   "source": [
    "from pymatgen.core.lattice import Lattice\n",
    "from pymatgen.core.structure import Structure\n",
    "import numpy as np\n",
    "from vasppy.outcar import forces_from_outcar\n",
    "from pymatgen.io.vasp import Poscar\n",
    "import lammps"
   ]
  },
  {
   "cell_type": "code",
   "execution_count": 2,
   "metadata": {},
   "outputs": [],
   "source": [
    "def get_structure(supercell=None):\n",
    "    if supercell is not None and len(supercell) is not 3:\n",
    "            raise ValueError('Incorrect dimensions for supercell. Requires x,y,z expansion, i.e. list of 3 integers')\n",
    "    structure = Poscar.from_file('poscars/POSCAR1').structure\n",
    "    forces = forces_from_outcar('outcars/OUTCAR1')[-1]\n",
    "    structure.add_site_property('forces', forces)\n",
    "    if supercell is not None:\n",
    "        structure = structure*supercell\n",
    "    return structure"
   ]
  },
  {
   "cell_type": "code",
   "execution_count": 3,
   "metadata": {},
   "outputs": [],
   "source": [
    "def abc_matrix(a, b, c):\n",
    "    \"\"\"\n",
    "    Calculates the cell matrix for transformed non-othorombic LAMMPS input.\n",
    "    \n",
    "    Args:\n",
    "        a (np.array): 1D numpy array of the a vector.\n",
    "        b (np.array): 1D numpy array of the b vector.\n",
    "        c (np.array): 1D numpy array of the c vector.\n",
    "    \n",
    "    Returns:\n",
    "        (np.array): 2D numpy array of abc.\n",
    "    \"\"\"\n",
    "    ax = np.linalg.norm(a)\n",
    "    a_hat = a/ax\n",
    "    bx = np.dot(b, a_hat)\n",
    "    by = np.linalg.norm(np.cross(a_hat, b))\n",
    "    cx = np.dot(c, a_hat)\n",
    "    axb = np.cross(a,b)\n",
    "    axb_hat = axb / np.linalg.norm(axb)\n",
    "    cy = np.dot(c, np.cross(axb_hat, a_hat))\n",
    "    cz = np.dot(c, axb_hat)\n",
    "    return np.array([[ax, bx, cx],[0, by, cy],[0 , 0, cz]])\n",
    "\n",
    "def new_basis(abc, lattice):\n",
    "    \"\"\"\n",
    "    Determines the new basis for the lattice by finding the dot product of the new lattice and old lattice.\n",
    "    \n",
    "    Args:\n",
    "        abc (np.array): 2D numpy array of new lattice.\n",
    "        lattice (np.array): 2D numpy array of original lattice.\n",
    "\n",
    "    Returns:\n",
    "        (np.array): 2D numpy array of the lattice transformation.\n",
    "    \"\"\"\n",
    "    return np.dot(abc.T, lattice.inv_matrix.T)\n",
    "\n",
    "def apply_new_basis(new_base, vector_array):\n",
    "    \"\"\"\n",
    "    Calculates the new site vaules for transformed non-othorombic LAMMPS structure using the dot product of the new base lattice and the vector array to be transformed.\n",
    "    \n",
    "    Args:\n",
    "        new_base (np.array): 2D numpy array of transformation to be applied to the given site values.\n",
    "        vector_array (np.array): 2D numpy array of pre-transformed site values.\n",
    "    \n",
    "    Returns:\n",
    "        (np.array): 2D numpy array of new site values.\n",
    "    \"\"\"\n",
    "    return np.dot(new_base, vector_array).T  \n",
    "\n",
    "def lammps_lattice(structure):\n",
    "    \"\"\"\n",
    "    Imposes transformation for non-orthorobic cell for LAMMPS to read cell_lengths and tilt_factors, creates a new pymatgen structure object with the new transformation and associated forces.\n",
    "    \n",
    "    Args:\n",
    "        structure (obj): A pymatgen structural object created from a POSCAR, with forces from an OUTCAR included as site properties.\n",
    "    \n",
    "    Returns:\n",
    "        cell_lengths (np.array): Lengths of each cell direction.\n",
    "        tilt_factors (np.array): Tilt factors of the cell.\n",
    "        new_structure (obj): A pymatgen structural object created from the transformed matrix structure, with forces included as site properties.\n",
    "    \"\"\"\n",
    "    a, b, c = structure.lattice.matrix\n",
    "    if np.cross(a, b).dot(c) < 0:\n",
    "        raise ValueError('This is a left-hand coordinate system. Lammps requires a right-hand coordinate system.')\n",
    "    else:        \n",
    "        abc = abc_matrix(a,b,c)\n",
    "#         abc[0,1] = -.00\n",
    "        new_lattice = Lattice(abc)\n",
    "        cell_lengths = np.array([abc[0,0], abc[1,1], abc[2,2]])\n",
    "        tilt_factors = np.array([abc[0,1], abc[0,2], abc[1,2]])\n",
    "        new_base = new_basis(abc, structure.lattice)\n",
    "        \n",
    "        new_coords = apply_new_basis(new_base, structure.cart_coords.T)\n",
    "        new_forces = apply_new_basis(new_base, np.array(structure.site_properties['forces']).T)\n",
    "        new_structure = Structure(new_lattice, structure.species, new_coords, coords_are_cartesian=True, site_properties={'forces': new_forces})\n",
    "\n",
    "    return cell_lengths, tilt_factors, new_structure"
   ]
  },
  {
   "cell_type": "code",
   "execution_count": 4,
   "metadata": {},
   "outputs": [],
   "source": [
    "structure = get_structure(supercell=[1,1,1])\n",
    "cell_lengths, tilt_factors, new_structure = lammps_lattice(structure)"
   ]
  },
  {
   "cell_type": "code",
   "execution_count": 5,
   "metadata": {},
   "outputs": [],
   "source": [
    "new_structure.to(fmt='poscar', filename='testPOSCAR')"
   ]
  },
  {
   "cell_type": "code",
   "execution_count": null,
   "metadata": {},
   "outputs": [],
   "source": []
  },
  {
   "cell_type": "code",
   "execution_count": 6,
   "metadata": {},
   "outputs": [],
   "source": [
    "benchmark = np.genfromtxt('force_comparison/benchmark_forces.dat', delimiter=\" \", autostrip=True)"
   ]
  },
  {
   "cell_type": "code",
   "execution_count": 7,
   "metadata": {},
   "outputs": [],
   "source": [
    "e15 = np.genfromtxt('force_comparison/e15_forces.dat', delimiter=\" \", autostrip=True)\n",
    "e10 = np.genfromtxt('force_comparison/e10_forces.dat', delimiter=\" \", autostrip=True)\n",
    "e8 = np.genfromtxt('force_comparison/e8_forces.dat', delimiter=\" \", autostrip=True)\n",
    "e6 = np.genfromtxt('force_comparison/e6_forces.dat', delimiter=\" \", autostrip=True)\n",
    "f15 = np.genfromtxt('force_comparison/f15_forces.dat', delimiter=\" \", autostrip=True)\n",
    "f6 = np.genfromtxt('force_comparison/f6_forces.dat', delimiter=\" \", autostrip=True)\n",
    "f5 = np.genfromtxt('force_comparison/f5_forces.dat', delimiter=\" \", autostrip=True)\n",
    "f4 = np.genfromtxt('force_comparison/f4_forces.dat', delimiter=\" \", autostrip=True)\n",
    "f3 = np.genfromtxt('force_comparison/f3_forces.dat', delimiter=\" \", autostrip=True)\n",
    "combinee10f5 = np.genfromtxt('force_comparison/combine_forces.dat', delimiter=\" \", autostrip=True)\n",
    "combinee10f4 = np.genfromtxt('force_comparison/combinee10f4_forces.dat', delimiter=\" \", autostrip=True)\n",
    "combinee10f3 = np.genfromtxt('force_comparison/combinee10f3_forces.dat', delimiter=\" \", autostrip=True)\n",
    "combinee9f3 = np.genfromtxt('force_comparison/combinee9f3_forces.dat', delimiter=\" \", autostrip=True)\n",
    "combinee8f4 = np.genfromtxt('force_comparison/combinee8f4_forces.dat', delimiter=\" \", autostrip=True)"
   ]
  },
  {
   "cell_type": "code",
   "execution_count": null,
   "metadata": {},
   "outputs": [],
   "source": []
  },
  {
   "cell_type": "code",
   "execution_count": 8,
   "metadata": {},
   "outputs": [],
   "source": [
    "def error_calc(benchmark, new):\n",
    "    return np.sum((benchmark - new)**2)/ new.size"
   ]
  },
  {
   "cell_type": "code",
   "execution_count": 9,
   "metadata": {},
   "outputs": [],
   "source": [
    "error_list = []\n",
    "test_list = [e15, e10, e8, e6, f15, f6, f5, f4, f3, combinee10f5, combinee10f4, combinee10f3, combinee9f3, combinee8f4]\n",
    "name_list = ['energy cutoff e-15', 'energy cutoff e-10', 'energy cutoff e-8', 'energy cutoff e-6',\n",
    "             'force cutoff e-15', 'force cutoff e-6', 'force cutoff e-5', 'force cutoff e-4','force cutoff e-3',\n",
    "             'energy cutoff e-10 and forces cutoff e-5','energy cutoff e-10 and forces cutoff e-4',\n",
    "             'energy cutoff e-10 and forces cutoff e-3','energy cutoff e-9 and forces cutoff e-3',\n",
    "             'energy cutoff e-8 and forces cutoff e-4']\n",
    "\n",
    "for test in test_list:\n",
    "    error = error_calc(benchmark, test)\n",
    "    error_list.append(error)"
   ]
  },
  {
   "cell_type": "code",
   "execution_count": 10,
   "metadata": {},
   "outputs": [
    {
     "data": {
      "text/plain": [
       "[0.0,\n",
       " 1.0558933648803818e-11,\n",
       " 3.384211261955443e-05,\n",
       " 0.0020867147480385165,\n",
       " 0.0,\n",
       " 0.0,\n",
       " 2.8863950186150605e-14,\n",
       " 3.513164062357016e-12,\n",
       " 1.4635975220607727e-10,\n",
       " 1.0558933648803818e-11,\n",
       " 1.0558933648803818e-11,\n",
       " 1.4635975220607727e-10,\n",
       " 2.1204998202594207e-05,\n",
       " 3.384211261955443e-05]"
      ]
     },
     "execution_count": 10,
     "metadata": {},
     "output_type": "execute_result"
    }
   ],
   "source": [
    "error_list"
   ]
  },
  {
   "cell_type": "code",
   "execution_count": 11,
   "metadata": {},
   "outputs": [
    {
     "name": "stdout",
     "output_type": "stream",
     "text": [
      "energy cutoff e-15 has an error of 0.00e+00\n",
      "energy cutoff e-10 has an error of 1.06e-11\n",
      "energy cutoff e-8 has an error of 3.38e-05\n",
      "energy cutoff e-6 has an error of 2.09e-03\n",
      "force cutoff e-15 has an error of 0.00e+00\n",
      "force cutoff e-6 has an error of 0.00e+00\n",
      "force cutoff e-5 has an error of 2.89e-14\n",
      "force cutoff e-4 has an error of 3.51e-12\n",
      "force cutoff e-3 has an error of 1.46e-10\n",
      "energy cutoff e-10 and forces cutoff e-5 has an error of 1.06e-11\n",
      "energy cutoff e-10 and forces cutoff e-4 has an error of 1.06e-11\n",
      "energy cutoff e-10 and forces cutoff e-3 has an error of 1.46e-10\n",
      "energy cutoff e-9 and forces cutoff e-3 has an error of 2.12e-05\n",
      "energy cutoff e-8 and forces cutoff e-4 has an error of 3.38e-05\n"
     ]
    }
   ],
   "source": [
    "for error, name in zip(error_list, name_list):\n",
    "    print('{} has an error of {:.2e}'.format(name, error))"
   ]
  },
  {
   "cell_type": "code",
   "execution_count": null,
   "metadata": {},
   "outputs": [],
   "source": []
  },
  {
   "cell_type": "code",
   "execution_count": null,
   "metadata": {},
   "outputs": [],
   "source": []
  },
  {
   "cell_type": "code",
   "execution_count": 1,
   "metadata": {},
   "outputs": [],
   "source": [
    "params = {}\n",
    "params['core_shell'] = { 'Li': False, 'Ni': False, 'O': True }\n",
    "params['charges'] = {'Li': +1.0,\n",
    "                     'Ni': +3.0,\n",
    "                     'O': {'core':  -2.0, #+0.960,\n",
    "                           'shell': 0.0}} #-2.960}}\n",
    "params['masses'] = {'Li': 6.941,\n",
    "                    'Ni': 58.6934,\n",
    "                    'O': {'core': 14.3991,\n",
    "                          'shell': 1.5999} }\n",
    "params['cs_springs'] = {'O-O' : [20.0, 0.0]}\n",
    "\n",
    "distribution = {}\n",
    "distribution['Li-O'] = {'bpp' : [663.111, 0.119, 0.0],\n",
    "                        'sd' : [80, 0.01, 0.01]}\n",
    "distribution['Ni-O'] = {'bpp' : [1393.540, 0.218, 0.000],\n",
    "                        'sd'  : [80, 0.01, 0.01]}\n",
    "distribution['O-O'] = {'bpp' : [25804.807, 0.284, 0.0],\n",
    "                       'sd'  : [200, 0.01, 5]}"
   ]
  },
  {
   "cell_type": "code",
   "execution_count": 2,
   "metadata": {},
   "outputs": [
    {
     "name": "stdout",
     "output_type": "stream",
     "text": [
      "Found elements: ['Li', 'Ni', 'O']\n"
     ]
    }
   ],
   "source": [
    "from fitting import FitModel\n",
    "fit_data2 = FitModel.collect_info(params, distribution, supercell=[8,4,2])"
   ]
  },
  {
   "cell_type": "code",
   "execution_count": 14,
   "metadata": {},
   "outputs": [],
   "source": [
    "include_labels = ['dq_O', 'q_scaling', 'O-O spring', 'Li_O_a',     'Li_O_rho', 'Ni_O_a',      'Ni_O_rho', 'O_O_a',        'O_O_rho']\n",
    "bounds_list = [(0.01, 4), (0.3,1.0),   (10.0,150.0), (30.0,5000.0),(0.01,1.0), (150.0,5000.0),(0.01,1.0), (150.0,30000.0),(0.01,1.0)]"
   ]
  },
  {
   "cell_type": "code",
   "execution_count": 15,
   "metadata": {},
   "outputs": [],
   "source": [
    "#check if atom_type is present?\n",
    "#check buckingham formatting\n",
    "#check bounds: none <= 0.01 (dq exception?)\n",
    "\n",
    "import input_checker as ic\n",
    "\n",
    "for i, label in enumerate(include_labels):\n",
    "    if label.startswith('dq_'):\n",
    "        ic.check_coreshell(label, fit_data2, bounds_list[i])\n",
    "    elif label == 'q_scaling':\n",
    "        ic.check_scaling_limits(label, bounds_list[i])\n",
    "    elif '-' in label:\n",
    "        ic.check_spring(label, bounds_list[i])"
   ]
  },
  {
   "cell_type": "code",
   "execution_count": null,
   "metadata": {},
   "outputs": [],
   "source": []
  },
  {
   "cell_type": "code",
   "execution_count": null,
   "metadata": {},
   "outputs": [],
   "source": []
  },
  {
   "cell_type": "code",
   "execution_count": null,
   "metadata": {},
   "outputs": [],
   "source": []
  },
  {
   "cell_type": "code",
   "execution_count": null,
   "metadata": {},
   "outputs": [],
   "source": []
  },
  {
   "cell_type": "code",
   "execution_count": null,
   "metadata": {},
   "outputs": [],
   "source": []
  }
 ],
 "metadata": {
  "kernelspec": {
   "display_name": "Python 3",
   "language": "python",
   "name": "python3"
  },
  "language_info": {
   "codemirror_mode": {
    "name": "ipython",
    "version": 3
   },
   "file_extension": ".py",
   "mimetype": "text/x-python",
   "name": "python",
   "nbconvert_exporter": "python",
   "pygments_lexer": "ipython3",
   "version": "3.7.3"
  }
 },
 "nbformat": 4,
 "nbformat_minor": 2
}
