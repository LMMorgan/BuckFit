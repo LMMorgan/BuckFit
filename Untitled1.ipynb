{
 "cells": [
  {
   "cell_type": "code",
   "execution_count": 76,
   "metadata": {},
   "outputs": [],
   "source": [
    "from lammps import IPyLammps\n",
    "import math"
   ]
  },
  {
   "cell_type": "code",
   "execution_count": 63,
   "metadata": {},
   "outputs": [
    {
     "name": "stdout",
     "output_type": "stream",
     "text": [
      "Found elements: ['Li', 'Ni', 'O']\n"
     ]
    },
    {
     "name": "stderr",
     "output_type": "stream",
     "text": [
      "/Users/lmm82/.pyenv/versions/3.7.3/lib/python3.7/site-packages/pymatgen/io/vasp/outputs.py:1014: UserWarning: No POTCAR file with matching TITEL fields was found in /Users/lmm82/Documents/current_work/popoff/vaspruns\n",
      "  warnings.warn(\"No POTCAR file with matching TITEL fields\" \" was found in {}\".format(os.path.abspath(p)))\n"
     ]
    }
   ],
   "source": [
    "from popoff.fitting_code import FitModel\n",
    "import popoff.fitting_output as output\n",
    "from popoff.input_checker import setup_error_checks\n",
    "from scipy import optimize\n",
    "import numpy as np\n",
    "params = {}\n",
    "params['core_shell'] = { 'Li': False, 'Ni': False, 'O': False }\n",
    "params['charges'] = {'Li': +1.0,\n",
    "                     'Ni': +3.0,\n",
    "                     'O': -2.0}\n",
    "params['masses'] = {'Li': 6.941,\n",
    "                    'Ni': 58.6934,\n",
    "                    'O': 15.999}\n",
    "params['potentials'] = {'Li-O': [663.111, 0.119, 0.0],\n",
    "                        'Ni-O': [1393.540, 0.218, 0.000],\n",
    "                        'O-O': [25804.807, 0.284, 0.0]}\n",
    "fit_data = FitModel.collect_info(params, np.array([0]), supercell=None)"
   ]
  },
  {
   "cell_type": "code",
   "execution_count": 77,
   "metadata": {},
   "outputs": [
    {
     "name": "stdout",
     "output_type": "stream",
     "text": [
      "LAMMPS output is captured by PyLammps wrapper\n"
     ]
    }
   ],
   "source": [
    "#Creates a lammps instance\n",
    "L = IPyLammps()"
   ]
  },
  {
   "cell_type": "code",
   "execution_count": 78,
   "metadata": {},
   "outputs": [],
   "source": [
    "#Sets unis and atom style\n",
    "L.units(\"metal\")\n",
    "L.atom_style(\"full\")"
   ]
  },
  {
   "cell_type": "code",
   "execution_count": 79,
   "metadata": {},
   "outputs": [
    {
     "data": {
      "text/plain": [
       "['Reading data file ...',\n",
       " '  triclinic box = (0 0 0) to (10.9157 10.0609 14.0527) with tilt (0 0 0)',\n",
       " '  1 by 1 by 1 MPI processor grid',\n",
       " '  reading atoms ...',\n",
       " '  192 atoms',\n",
       " 'Finding 1-2 1-3 1-4 neighbors ...',\n",
       " '  special bond factors lj:   0          0          0         ',\n",
       " '  special bond factors coul: 0          0          0         ',\n",
       " '  0 = max # of 1-2 neighbors',\n",
       " '  0 = max # of 1-3 neighbors',\n",
       " '  0 = max # of 1-4 neighbors',\n",
       " '  1 = max # of special neighbors']"
      ]
     },
     "execution_count": 79,
     "metadata": {},
     "output_type": "execute_result"
    }
   ],
   "source": [
    "#reads in file\n",
    "L.read_data(\"lammps/coords_rigid.lmp\")"
   ]
  },
  {
   "cell_type": "code",
   "execution_count": 80,
   "metadata": {},
   "outputs": [
    {
     "data": {
      "text/plain": [
       "'192 atoms in group cores'"
      ]
     },
     "execution_count": 80,
     "metadata": {},
     "output_type": "execute_result"
    }
   ],
   "source": [
    "#gets cores groups\n",
    "L.group('cores type {}'.format(fit_data.lammps_data[0].type_core()))"
   ]
  },
  {
   "cell_type": "code",
   "execution_count": 81,
   "metadata": {},
   "outputs": [],
   "source": [
    "#set rigid commands\n",
    "L.pair_style('buck/coul/long', 10.0)\n",
    "L.pair_coeff(1, 1, 0, 1, 0)\n",
    "\n",
    "# #set core-shell commands\n",
    "# L.bond_style(\"harmonic\")\n",
    "# L.bond_coeff(1, 10.0, 1.2)\n",
    "\n",
    "#set universal commands\n",
    "L.kspace_style('ewald', 1e-6)\n",
    "L.min_style('cg')"
   ]
  },
  {
   "cell_type": "code",
   "execution_count": null,
   "metadata": {},
   "outputs": [],
   "source": []
  },
  {
   "cell_type": "code",
   "execution_count": 69,
   "metadata": {},
   "outputs": [],
   "source": [
    "L.thermo_style(\"custom step temp epair press\")"
   ]
  },
  {
   "cell_type": "code",
   "execution_count": 70,
   "metadata": {},
   "outputs": [
    {
     "data": {
      "text/plain": [
       "[{'name': 'all', 'type': 'static'}, {'name': 'cores', 'type': 'static'}]"
      ]
     },
     "execution_count": 70,
     "metadata": {},
     "output_type": "execute_result"
    }
   ],
   "source": [
    "L.groups"
   ]
  },
  {
   "cell_type": "code",
   "execution_count": 71,
   "metadata": {},
   "outputs": [
    {
     "data": {
      "text/plain": [
       "[{'name': 'thermo_temp', 'style': 'temp', 'group': 'all'},\n",
       " {'name': 'thermo_press', 'style': 'pressure', 'group': 'all'},\n",
       " {'name': 'thermo_pe', 'style': 'pe', 'group': 'all'}]"
      ]
     },
     "execution_count": 71,
     "metadata": {},
     "output_type": "execute_result"
    }
   ],
   "source": [
    "L.computes"
   ]
  },
  {
   "cell_type": "code",
   "execution_count": 72,
   "metadata": {},
   "outputs": [],
   "source": [
    "L.variable(\"t equal temp\")"
   ]
  },
  {
   "cell_type": "code",
   "execution_count": null,
   "metadata": {},
   "outputs": [],
   "source": []
  },
  {
   "cell_type": "code",
   "execution_count": 73,
   "metadata": {},
   "outputs": [
    {
     "data": {
      "text/plain": [
       "{'t': <lammps.Variable at 0x1231cc208>}"
      ]
     },
     "execution_count": 73,
     "metadata": {},
     "output_type": "execute_result"
    }
   ],
   "source": [
    "L.variables"
   ]
  },
  {
   "cell_type": "code",
   "execution_count": 74,
   "metadata": {},
   "outputs": [],
   "source": [
    "# L.variables['t'].value"
   ]
  },
  {
   "cell_type": "code",
   "execution_count": 23,
   "metadata": {},
   "outputs": [
    {
     "data": {
      "text/plain": [
       "System(units='metal', atom_style='full', atom_map='array', molecule_type='standard', natoms=192, ntypes=3, style='buck/coul/long', nbonds=0, nbondtypes=0, bond_style='none', nangles=0, nangletypes=0, angle_style='none', ndihedrals=0, dihedral_style='none', nimpropers=0, nimpropertypes=0, improper_style='none', kspace_style='ewald', dimensions=3, boundaries='p,p p,p p,p', xlo=0.0, xhi=10.9157, ylo=0.0, yhi=10.0609, zlo=0.0, zhi=14.0527)"
      ]
     },
     "execution_count": 23,
     "metadata": {},
     "output_type": "execute_result"
    }
   ],
   "source": [
    "L.system"
   ]
  },
  {
   "cell_type": "code",
   "execution_count": 54,
   "metadata": {},
   "outputs": [],
   "source": [
    "x = L.system.xhi - L.system.xlo"
   ]
  },
  {
   "cell_type": "code",
   "execution_count": 55,
   "metadata": {},
   "outputs": [],
   "source": [
    "y = L.system.yhi - L.system.ylo"
   ]
  },
  {
   "cell_type": "code",
   "execution_count": 56,
   "metadata": {},
   "outputs": [],
   "source": [
    "z = L.system.zhi - L.system.zlo"
   ]
  },
  {
   "cell_type": "code",
   "execution_count": 61,
   "metadata": {},
   "outputs": [
    {
     "data": {
      "text/plain": [
       "1543.292332895051"
      ]
     },
     "execution_count": 61,
     "metadata": {},
     "output_type": "execute_result"
    }
   ],
   "source": [
    "x*y*z"
   ]
  },
  {
   "cell_type": "code",
   "execution_count": null,
   "metadata": {},
   "outputs": [],
   "source": []
  },
  {
   "cell_type": "code",
   "execution_count": null,
   "metadata": {},
   "outputs": [],
   "source": []
  }
 ],
 "metadata": {
  "kernelspec": {
   "display_name": "Python 3",
   "language": "python",
   "name": "python3"
  },
  "language_info": {
   "codemirror_mode": {
    "name": "ipython",
    "version": 3
   },
   "file_extension": ".py",
   "mimetype": "text/x-python",
   "name": "python",
   "nbconvert_exporter": "python",
   "pygments_lexer": "ipython3",
   "version": "3.7.3"
  }
 },
 "nbformat": 4,
 "nbformat_minor": 4
}
