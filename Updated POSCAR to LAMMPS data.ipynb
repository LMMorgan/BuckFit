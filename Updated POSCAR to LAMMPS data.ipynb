{
 "cells": [
  {
   "cell_type": "code",
   "execution_count": 1,
   "metadata": {},
   "outputs": [],
   "source": [
    "from pymatgen.io.vasp import Poscar\n",
    "from lammps_data import LammpsData"
   ]
  },
  {
   "cell_type": "code",
   "execution_count": 7,
   "metadata": {},
   "outputs": [
    {
     "name": "stdout",
     "output_type": "stream",
     "text": [
      "Found elements: ['Li', 'Ni', 'O']\n"
     ]
    }
   ],
   "source": [
    "poscar = Poscar.from_file('poscars/POSCAR1')\n",
    "my_structure = poscar.structure\n",
    "\n",
    "# set up some auxiliary data\n",
    "params = {}\n",
    "params['core_shell'] = { 'Li': False, 'Ni': False, 'O': True }\n",
    "params['charges'] = {'Li': +1.0,\n",
    "                     'Ni': +3.0,\n",
    "                     'O': {'core':  +0.960,\n",
    "                           'shell': -2.960}}\n",
    "params['masses'] = {'Li': 6.941,\n",
    "                    'Ni': 58.6934,\n",
    "                    'O': {'core': 15.0,\n",
    "                          'shell': 1.0} }\n",
    "\n",
    "lmp = LammpsData.from_structure(my_structure, params)\n",
    "\n",
    "# print(lmp.input_string())"
   ]
  },
  {
   "cell_type": "code",
   "execution_count": 4,
   "metadata": {},
   "outputs": [],
   "source": [
    "with open( 'filename', 'w' ) as f:\n",
    "    f.write(lmp.input_string())"
   ]
  },
  {
   "cell_type": "code",
   "execution_count": null,
   "metadata": {},
   "outputs": [],
   "source": []
  },
  {
   "cell_type": "code",
   "execution_count": null,
   "metadata": {},
   "outputs": [],
   "source": []
  },
  {
   "cell_type": "code",
   "execution_count": null,
   "metadata": {},
   "outputs": [],
   "source": []
  },
  {
   "cell_type": "code",
   "execution_count": null,
   "metadata": {},
   "outputs": [],
   "source": []
  },
  {
   "cell_type": "code",
   "execution_count": null,
   "metadata": {},
   "outputs": [],
   "source": []
  },
  {
   "cell_type": "code",
   "execution_count": null,
   "metadata": {},
   "outputs": [],
   "source": []
  }
 ],
 "metadata": {
  "kernelspec": {
   "display_name": "Python 3",
   "language": "python",
   "name": "python3"
  },
  "language_info": {
   "codemirror_mode": {
    "name": "ipython",
    "version": 3
   },
   "file_extension": ".py",
   "mimetype": "text/x-python",
   "name": "python",
   "nbconvert_exporter": "python",
   "pygments_lexer": "ipython3",
   "version": "3.7.3"
  }
 },
 "nbformat": 4,
 "nbformat_minor": 2
}
