{
 "cells": [
  {
   "cell_type": "markdown",
   "metadata": {},
   "source": [
    "# Cross validation"
   ]
  },
  {
   "cell_type": "code",
   "execution_count": 18,
   "metadata": {},
   "outputs": [],
   "source": [
    "import os\n",
    "import sys\n",
    "from fitting import FitModel\n",
    "import numpy as np\n",
    "import matplotlib.pyplot as plt\n",
    "import json\n",
    "import glob"
   ]
  },
  {
   "cell_type": "code",
   "execution_count": 19,
   "metadata": {},
   "outputs": [],
   "source": [
    "def extract_stresses_and_forces(fit_data, values, args):\n",
    "    fit_data.init_potential(values, args)\n",
    "    ip_forces, ip_stresses = fit_data.get_forces_and_stresses()\n",
    "    dft_forces = fit_data.expected_forces()\n",
    "    dft_stresses = fit_data.expected_stresses()\n",
    "    return dft_forces, ip_forces, dft_stresses, ip_stresses\n",
    "\n",
    "def chi_squared_error(dft_forces, ip_forces, dft_stresses, ip_stresses):\n",
    "    force_diff = np.sum((dft_forces - ip_forces)**2)/ dft_forces.size\n",
    "    stess_diff = np.sum((dft_stresses - ip_stresses)**2)/6\n",
    "    return force_diff + (stess_diff*0.001)\n",
    "\n",
    "def create_directory(head_directory_name, structure_number):\n",
    "    directory = os.path.join(head_directory_name, str(structure_number))\n",
    "    os.makedirs(directory)\n",
    "    return directory\n",
    "\n",
    "def validation_sets(num_of_fits, tot_num_structures, num_struct_to_fit, structure_nums):\n",
    "    sets_of_structures = []\n",
    "    while len(sets_of_structures) < num_of_fits:\n",
    "        struct_set = np.sort(np.random.randint(1,tot_num_structures+1, size=num_struct_to_fit), axis=0)\n",
    "        if len(set(struct_set)) != num_struct_to_fit:\n",
    "            continue\n",
    "        if any(x in struct_set for x in structure_nums):\n",
    "            continue\n",
    "        if not any(np.array_equiv(struct_set, x) for x in sets_of_structures):\n",
    "            sets_of_structures.append(struct_set)\n",
    "    return np.array(sets_of_structures)"
   ]
  },
  {
   "cell_type": "markdown",
   "metadata": {},
   "source": [
    "### Set up parameters for LiNiO2 with core-shell O-O"
   ]
  },
  {
   "cell_type": "code",
   "execution_count": 25,
   "metadata": {},
   "outputs": [],
   "source": [
    "params = {}\n",
    "params['core_shell'] = { 'Li': False, 'Ni': False, 'O': False }\n",
    "params['charges'] = {'Li': +1.0,\n",
    "                     'Ni': +3.0,\n",
    "                     'O': -2.0}\n",
    "#                      'O': {'core':  -2.0, #+0.960,\n",
    "#                            'shell': 0.0}} #-2.960}}\n",
    "params['masses'] = {'Li': 6.941,\n",
    "                    'Ni': 58.6934,\n",
    "                    'O': 15.9999}\n",
    "#                     'O': {'core': 14.3991,\n",
    "#                           'shell': 1.5999} }\n",
    "# params['cs_springs'] = {'O-O' : [20.0, 0.0]}\n",
    "\n",
    "distribution = {}\n",
    "distribution['Li-O'] = {'bpp' : [663.111, 0.119, 0.0],\n",
    "                        'sd' : [80, 0.01, 0.01]}\n",
    "distribution['Ni-O'] = {'bpp' : [1393.540, 0.218, 0.000],\n",
    "                        'sd'  : [80, 0.01, 0.01]}\n",
    "distribution['O-O'] = {'bpp' : [25804.807, 0.284, 0.0],\n",
    "                       'sd'  : [200, 0.01, 5]}"
   ]
  },
  {
   "cell_type": "markdown",
   "metadata": {},
   "source": [
    "### Define the directory paths and names/number of structures"
   ]
  },
  {
   "cell_type": "code",
   "execution_count": 26,
   "metadata": {},
   "outputs": [
    {
     "ename": "FileExistsError",
     "evalue": "[Errno 17] File exists: 'final_potentials/partial+ri/cross_validation'",
     "output_type": "error",
     "traceback": [
      "\u001b[0;31m---------------------------------------------------------------------------\u001b[0m",
      "\u001b[0;31mFileExistsError\u001b[0m                           Traceback (most recent call last)",
      "\u001b[0;32m<ipython-input-26-d53a3a58b512>\u001b[0m in \u001b[0;36m<module>\u001b[0;34m\u001b[0m\n\u001b[1;32m     11\u001b[0m \u001b[0mhead_directory_name\u001b[0m \u001b[0;34m=\u001b[0m \u001b[0;34m'final_potentials/partial+ri'\u001b[0m\u001b[0;34m\u001b[0m\u001b[0;34m\u001b[0m\u001b[0m\n\u001b[1;32m     12\u001b[0m \u001b[0mcv_directory_name\u001b[0m \u001b[0;34m=\u001b[0m \u001b[0;34m'cross_validation'\u001b[0m\u001b[0;34m\u001b[0m\u001b[0;34m\u001b[0m\u001b[0m\n\u001b[0;32m---> 13\u001b[0;31m \u001b[0mhead_output_directory\u001b[0m \u001b[0;34m=\u001b[0m \u001b[0mcreate_directory\u001b[0m\u001b[0;34m(\u001b[0m\u001b[0mhead_directory_name\u001b[0m\u001b[0;34m,\u001b[0m \u001b[0mcv_directory_name\u001b[0m\u001b[0;34m)\u001b[0m\u001b[0;34m\u001b[0m\u001b[0;34m\u001b[0m\u001b[0m\n\u001b[0m",
      "\u001b[0;32m<ipython-input-19-00a55dcb016d>\u001b[0m in \u001b[0;36mcreate_directory\u001b[0;34m(head_directory_name, structure_number)\u001b[0m\n\u001b[1;32m     13\u001b[0m \u001b[0;32mdef\u001b[0m \u001b[0mcreate_directory\u001b[0m\u001b[0;34m(\u001b[0m\u001b[0mhead_directory_name\u001b[0m\u001b[0;34m,\u001b[0m \u001b[0mstructure_number\u001b[0m\u001b[0;34m)\u001b[0m\u001b[0;34m:\u001b[0m\u001b[0;34m\u001b[0m\u001b[0;34m\u001b[0m\u001b[0m\n\u001b[1;32m     14\u001b[0m     \u001b[0mdirectory\u001b[0m \u001b[0;34m=\u001b[0m \u001b[0mos\u001b[0m\u001b[0;34m.\u001b[0m\u001b[0mpath\u001b[0m\u001b[0;34m.\u001b[0m\u001b[0mjoin\u001b[0m\u001b[0;34m(\u001b[0m\u001b[0mhead_directory_name\u001b[0m\u001b[0;34m,\u001b[0m \u001b[0mstr\u001b[0m\u001b[0;34m(\u001b[0m\u001b[0mstructure_number\u001b[0m\u001b[0;34m)\u001b[0m\u001b[0;34m)\u001b[0m\u001b[0;34m\u001b[0m\u001b[0;34m\u001b[0m\u001b[0m\n\u001b[0;32m---> 15\u001b[0;31m     \u001b[0mos\u001b[0m\u001b[0;34m.\u001b[0m\u001b[0mmakedirs\u001b[0m\u001b[0;34m(\u001b[0m\u001b[0mdirectory\u001b[0m\u001b[0;34m)\u001b[0m\u001b[0;34m\u001b[0m\u001b[0;34m\u001b[0m\u001b[0m\n\u001b[0m\u001b[1;32m     16\u001b[0m     \u001b[0;32mreturn\u001b[0m \u001b[0mdirectory\u001b[0m\u001b[0;34m\u001b[0m\u001b[0;34m\u001b[0m\u001b[0m\n\u001b[1;32m     17\u001b[0m \u001b[0;34m\u001b[0m\u001b[0m\n",
      "\u001b[0;32m~/.pyenv/versions/3.7.3/lib/python3.7/os.py\u001b[0m in \u001b[0;36mmakedirs\u001b[0;34m(name, mode, exist_ok)\u001b[0m\n\u001b[1;32m    219\u001b[0m             \u001b[0;32mreturn\u001b[0m\u001b[0;34m\u001b[0m\u001b[0;34m\u001b[0m\u001b[0m\n\u001b[1;32m    220\u001b[0m     \u001b[0;32mtry\u001b[0m\u001b[0;34m:\u001b[0m\u001b[0;34m\u001b[0m\u001b[0;34m\u001b[0m\u001b[0m\n\u001b[0;32m--> 221\u001b[0;31m         \u001b[0mmkdir\u001b[0m\u001b[0;34m(\u001b[0m\u001b[0mname\u001b[0m\u001b[0;34m,\u001b[0m \u001b[0mmode\u001b[0m\u001b[0;34m)\u001b[0m\u001b[0;34m\u001b[0m\u001b[0;34m\u001b[0m\u001b[0m\n\u001b[0m\u001b[1;32m    222\u001b[0m     \u001b[0;32mexcept\u001b[0m \u001b[0mOSError\u001b[0m\u001b[0;34m:\u001b[0m\u001b[0;34m\u001b[0m\u001b[0;34m\u001b[0m\u001b[0m\n\u001b[1;32m    223\u001b[0m         \u001b[0;31m# Cannot rely on checking for EEXIST, since the operating system\u001b[0m\u001b[0;34m\u001b[0m\u001b[0;34m\u001b[0m\u001b[0;34m\u001b[0m\u001b[0m\n",
      "\u001b[0;31mFileExistsError\u001b[0m: [Errno 17] File exists: 'final_potentials/partial+ri/cross_validation'"
     ]
    }
   ],
   "source": [
    "# Define number of structures\n",
    "tot_num_structures = 15 #Total number of structures in the pool\n",
    "num_struct_to_fit = 5 #How many structures are in the fit\n",
    "num_of_fits = 8 #How many validation sets to run\n",
    "\n",
    "# Define paths to poscar/outcar directories\n",
    "poscar_directory = os.path.join('poscars','thermos')\n",
    "outcar_directory = os.path.join('outcars','thermos')\n",
    "\n",
    "# Create cross validation directory\n",
    "head_directory_name = 'final_potentials/partial+ri'\n",
    "cv_directory_name = 'cross_validation'\n",
    "head_output_directory = create_directory(head_directory_name, cv_directory_name)"
   ]
  },
  {
   "cell_type": "markdown",
   "metadata": {},
   "source": [
    "### Calculates each structures potential with every other structure, returning the forces and error"
   ]
  },
  {
   "cell_type": "code",
   "execution_count": 27,
   "metadata": {},
   "outputs": [
    {
     "name": "stdout",
     "output_type": "stream",
     "text": [
      "Found elements: ['Li', 'Ni', 'O']\n",
      "Found elements: ['Li', 'Ni', 'O']\n",
      "Found elements: ['Li', 'Ni', 'O']\n",
      "Found elements: ['Li', 'Ni', 'O']\n",
      "Found elements: ['Li', 'Ni', 'O']\n",
      "Found elements: ['Li', 'Ni', 'O']\n",
      "Found elements: ['Li', 'Ni', 'O']\n",
      "Found elements: ['Li', 'Ni', 'O']\n",
      "Found elements: ['Li', 'Ni', 'O']\n",
      "Found elements: ['Li', 'Ni', 'O']\n",
      "Found elements: ['Li', 'Ni', 'O']\n",
      "Found elements: ['Li', 'Ni', 'O']\n",
      "Found elements: ['Li', 'Ni', 'O']\n",
      "Found elements: ['Li', 'Ni', 'O']\n",
      "Found elements: ['Li', 'Ni', 'O']\n",
      "Found elements: ['Li', 'Ni', 'O']\n",
      "Found elements: ['Li', 'Ni', 'O']\n",
      "Found elements: ['Li', 'Ni', 'O']\n",
      "Found elements: ['Li', 'Ni', 'O']\n",
      "Found elements: ['Li', 'Ni', 'O']\n",
      "Found elements: ['Li', 'Ni', 'O']\n",
      "Found elements: ['Li', 'Ni', 'O']\n",
      "Found elements: ['Li', 'Ni', 'O']\n",
      "Found elements: ['Li', 'Ni', 'O']\n",
      "Found elements: ['Li', 'Ni', 'O']\n",
      "Found elements: ['Li', 'Ni', 'O']\n",
      "Found elements: ['Li', 'Ni', 'O']\n",
      "Found elements: ['Li', 'Ni', 'O']\n",
      "Found elements: ['Li', 'Ni', 'O']\n",
      "Found elements: ['Li', 'Ni', 'O']\n",
      "Found elements: ['Li', 'Ni', 'O']\n",
      "Found elements: ['Li', 'Ni', 'O']\n",
      "Found elements: ['Li', 'Ni', 'O']\n",
      "Found elements: ['Li', 'Ni', 'O']\n",
      "Found elements: ['Li', 'Ni', 'O']\n",
      "Found elements: ['Li', 'Ni', 'O']\n",
      "Found elements: ['Li', 'Ni', 'O']\n",
      "Found elements: ['Li', 'Ni', 'O']\n",
      "Found elements: ['Li', 'Ni', 'O']\n",
      "Found elements: ['Li', 'Ni', 'O']\n"
     ]
    }
   ],
   "source": [
    "for potential_file in sorted(glob.glob('{}/*/potentials.json'.format(head_directory_name))):\n",
    "    with open(potential_file, 'r') as f:\n",
    "        potentials = json.load(f)\n",
    "    structure_nums = potential_file.replace('/potentials.json', '').replace('{}/'.format(head_directory_name),'')\n",
    "    structure_nums = np.array([int(num) for num in structure_nums.split('-')])\n",
    "    include_labels = list(potentials.keys())\n",
    "    include_values = list(potentials.values())\n",
    "    indv_output_directory = create_directory(head_output_directory, 'p{}'.format('-'.join([str(num) for num in structure_nums])))\n",
    "    sets_of_structures = validation_sets(num_of_fits, tot_num_structures, num_struct_to_fit, structure_nums)\n",
    "    for structs in sets_of_structures: \n",
    "        for struct_num, struct in enumerate(structs):\n",
    "            os.system('cp {}/POSCAR{} {}/POSCAR{}'.format(poscar_directory, struct, 'poscars', struct_num+1))\n",
    "            os.system('cp {}/OUTCAR{} {}/OUTCAR{}'.format(outcar_directory, struct, 'outcars', struct_num+1))    \n",
    "        fit_data = FitModel.collect_info(params, distribution, supercell=[2,2,2])\n",
    "        dft_f, ip_f, dft_s, ip_s = extract_stresses_and_forces(fit_data, include_values, include_labels)\n",
    "        error = chi_squared_error(dft_f, ip_f, dft_s, ip_s)\n",
    "#         print('{}/p{}-s{}_dft_forces.dat'.format(indv_output_directory, ','.join([str(num) for num in structure_nums]), ','.join([str(num) for num in structs])))\n",
    "        np.savetxt('{}/s{}_dft_forces.dat'.format(indv_output_directory, '-'.join([str(num) for num in structs])), dft_f, fmt='%.10e', delimiter=' ')\n",
    "        np.savetxt('{}/s{}_ip_forces.dat'.format(indv_output_directory, '-'.join([str(num) for num in structs])), ip_f, fmt='%.10e', delimiter=' ')\n",
    "        np.savetxt('{}/s{}_dft_stresses.dat'.format(indv_output_directory, '-'.join([str(num) for num in structs])), dft_s, fmt='%.10e', delimiter=' ')\n",
    "        np.savetxt('{}/s{}_ip_stresses.dat'.format(indv_output_directory, '-'.join([str(num) for num in structs])), ip_s, fmt='%.10e', delimiter=' ')\n",
    "        with open('{}/s{}_error.dat'.format(indv_output_directory, '-'.join([str(num) for num in structs])), 'w') as f:\n",
    "            f.write(str(error)) "
   ]
  },
  {
   "cell_type": "markdown",
   "metadata": {},
   "source": [
    "## Plotting the cross-validation"
   ]
  },
  {
   "cell_type": "code",
   "execution_count": 28,
   "metadata": {},
   "outputs": [
    {
     "data": {
      "image/png": "[encoded data removed]",
      "text/plain": [
       "<Figure size 432x288 with 1 Axes>"
      ]
     },
     "metadata": {
      "needs_background": "light"
     },
     "output_type": "display_data"
    }
   ],
   "source": [
    "for cv_directory in sorted(glob.glob('{}/*'.format(head_output_directory))):\n",
    "    if '.png' in cv_directory:\n",
    "        continue\n",
    "    error_dict = {}\n",
    "    for error_file in sorted(glob.glob('{}/*error.dat'.format(cv_directory))):\n",
    "        fit_struct_nums = error_file.replace(cv_directory, '').replace('/s','').replace('_error.dat', '')\n",
    "        error = float(np.loadtxt(error_file))\n",
    "        error_dict.update( {fit_struct_nums:error})\n",
    "    plt.scatter(*zip(*sorted(error_dict.items())))\n",
    "    plt.xticks(rotation=50)\n",
    "    plt.xlabel('structure numbers')\n",
    "    plt.ylabel('$\\chi^2$ error')\n",
    "    plt.title('Potential {} cross-validation fit errors ($\\chi^2$)'.format(cv_directory.replace('{}/p'.format(head_output_directory),'')))\n",
    "    plt.savefig('{}/p{}_cv_fit_errors.png'.format(head_output_directory,cv_directory.replace('{}/p'.format(head_output_directory),'')),dpi=500, bbox_inches = \"tight\")\n",
    "    plt.show()"
   ]
  },
  {
   "cell_type": "code",
   "execution_count": null,
   "metadata": {},
   "outputs": [],
   "source": []
  }
 ],
 "metadata": {
  "kernelspec": {
   "display_name": "Python 3",
   "language": "python",
   "name": "python3"
  },
  "language_info": {
   "codemirror_mode": {
    "name": "ipython",
    "version": 3
   },
   "file_extension": ".py",
   "mimetype": "text/x-python",
   "name": "python",
   "nbconvert_exporter": "python",
   "pygments_lexer": "ipython3",
   "version": "3.7.3"
  }
 },
 "nbformat": 4,
 "nbformat_minor": 2
}
