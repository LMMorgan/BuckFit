{
 "cells": [
  {
   "cell_type": "markdown",
   "metadata": {},
   "source": [
    "# Cross validation"
   ]
  },
  {
   "cell_type": "code",
   "execution_count": null,
   "metadata": {},
   "outputs": [],
   "source": [
    "import os\n",
    "import sys\n",
    "from fitting import FitModel\n",
    "import numpy as np\n",
    "import matplotlib.pyplot as plt\n",
    "import json\n",
    "import glob"
   ]
  },
  {
   "cell_type": "code",
   "execution_count": null,
   "metadata": {},
   "outputs": [],
   "source": [
    "def get_forces(fit_data, values, args):\n",
    "    fit_data.init_potential(values, args)\n",
    "    ip_forces = fit_data.get_forces()\n",
    "    dft_forces = fit_data.expected_forces()\n",
    "    return dft_forces, ip_forces\n",
    "\n",
    "def chi_squared_error(dft_forces, ip_forces):\n",
    "    return np.sum((dft_forces - ip_forces)**2)/ dft_forces.size\n",
    "\n",
    "def create_directory(head_directory_name, structure_number):\n",
    "    directory = os.path.join(head_directory_name, str(structure_number))\n",
    "    os.makedirs(directory)\n",
    "    return directory"
   ]
  },
  {
   "cell_type": "markdown",
   "metadata": {},
   "source": [
    "### Set up parameters for LiNiO2 with core-shell O-O"
   ]
  },
  {
   "cell_type": "code",
   "execution_count": null,
   "metadata": {},
   "outputs": [],
   "source": [
    "params = {}\n",
    "params['core_shell'] = { 'Li': False, 'Ni': False, 'O': True }\n",
    "params['charges'] = {'Li': +1.0,\n",
    "                     'Ni': +3.0,\n",
    "                     'O': {'core':  -2.0, #+0.960,\n",
    "                           'shell': 0.0}} #-2.960}}\n",
    "params['masses'] = {'Li': 6.941,\n",
    "                    'Ni': 58.6934,\n",
    "                    'O': {'core': 14.3991,\n",
    "                          'shell': 1.5999} }\n",
    "params['cs_springs'] = {'O-O' : [20.0, 0.0]}\n",
    "\n",
    "distribution = {}\n",
    "distribution['Li-O'] = {'bpp' : [663.111, 0.119, 0.0],\n",
    "                        'sd' : [80, 0.01, 0.01]}\n",
    "distribution['Ni-O'] = {'bpp' : [1393.540, 0.218, 0.000],\n",
    "                        'sd'  : [80, 0.01, 0.01]}\n",
    "distribution['O-O'] = {'bpp' : [25804.807, 0.284, 0.0],\n",
    "                       'sd'  : [200, 0.01, 5]}"
   ]
  },
  {
   "cell_type": "markdown",
   "metadata": {},
   "source": [
    "### Define the directory paths and names/number of structures"
   ]
  },
  {
   "cell_type": "code",
   "execution_count": null,
   "metadata": {},
   "outputs": [],
   "source": [
    "# Create cross validation directory\n",
    "head_directory_name = '1_structure_fits'\n",
    "cv_directory_name = 'cross_validation'\n",
    "head_output_directory = create_directory(head_directory_name, cv_directory_name)\n",
    "\n",
    "\n",
    "# Define paths to poscar/outcar directories\n",
    "poscar_directory = os.path.join('poscars','thermos')\n",
    "outcar_directory = os.path.join('outcars','thermos')\n",
    "\n",
    "# Define number of structures\n",
    "number_of_structures = 15"
   ]
  },
  {
   "cell_type": "markdown",
   "metadata": {},
   "source": [
    "### Calculates each structures potential with every other structure, returning the forces and error"
   ]
  },
  {
   "cell_type": "code",
   "execution_count": null,
   "metadata": {},
   "outputs": [],
   "source": [
    "for potential_file in sorted(glob.glob('{}/*/potentials.json'.format(head_directory_name,cv_directory_name))): #change 1 to * for all cross-validations\n",
    "    with open(potential_file, 'r') as f:\n",
    "        potentials = json.load(f)\n",
    "    structure_num = int(potential_file.replace('/potentials.json', '').replace('1_structure_fits/',''))\n",
    "    include_labels = list(potentials.keys())\n",
    "    include_values = list(potentials.values())\n",
    "    indv_output_directory = create_directory(head_output_directory, 'p{}'.format(structure_num))\n",
    "    for structure in range(number_of_structures):\n",
    "        if (structure+1) != structure_num:\n",
    "            os.system('cp {}/POSCAR{} {}/{}'.format(poscar_directory, structure+1, 'poscars', 'POSCAR1'))\n",
    "            os.system('cp {}/OUTCAR{} {}/{}'.format(outcar_directory, structure+1, 'outcars', 'OUTCAR1'))\n",
    "            fit_data = FitModel.collect_info(params, distribution, supercell=[2,2,2])\n",
    "            dft_forces, ip_forces = get_forces(fit_data, include_values, include_labels)\n",
    "            error = chi_squared_error(dft_forces, ip_forces)      \n",
    "#             print('{}/p{}-s{}_dft_forces.dat'.format(indv_output_directory, structure_num, structure+1))\n",
    "            np.savetxt('{}/p{}-s{}_dft_forces.dat'.format(indv_output_directory, structure_num, structure+1), dft_forces, fmt='%.10e', delimiter=' ')\n",
    "            np.savetxt('{}/p{}-s{}_ip_forces.dat'.format(indv_output_directory, structure_num, structure+1), ip_forces, fmt='%.10e', delimiter=' ')\n",
    "            with open('{}/p{}-s{}_error.dat'.format(indv_output_directory, structure_num, structure+1), 'w') as f:\n",
    "                f.write(str(error))"
   ]
  },
  {
   "cell_type": "code",
   "execution_count": null,
   "metadata": {},
   "outputs": [],
   "source": []
  },
  {
   "cell_type": "code",
   "execution_count": null,
   "metadata": {},
   "outputs": [],
   "source": []
  },
  {
   "cell_type": "code",
   "execution_count": null,
   "metadata": {},
   "outputs": [],
   "source": []
  }
 ],
 "metadata": {
  "kernelspec": {
   "display_name": "Python 3",
   "language": "python",
   "name": "python3"
  },
  "language_info": {
   "codemirror_mode": {
    "name": "ipython",
    "version": 3
   },
   "file_extension": ".py",
   "mimetype": "text/x-python",
   "name": "python",
   "nbconvert_exporter": "python",
   "pygments_lexer": "ipython3",
   "version": "3.7.3"
  }
 },
 "nbformat": 4,
 "nbformat_minor": 2
}
