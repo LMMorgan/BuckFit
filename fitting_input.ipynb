{
 "cells": [
  {
   "cell_type": "code",
   "execution_count": 1,
   "metadata": {},
   "outputs": [],
   "source": [
    "import arviz as az\n",
    "import matplotlib.pyplot as plt\n",
    "from fitting import FitModel"
   ]
  },
  {
   "cell_type": "code",
   "execution_count": 2,
   "metadata": {},
   "outputs": [],
   "source": [
    "params = {}\n",
    "params['core_shell'] = { 'Li': False, 'Ni': False, 'O': True }\n",
    "params['charges'] = {'Li': +1.0,\n",
    "                     'Ni': +3.0,\n",
    "                     'O': {'core':  +0.960,\n",
    "                           'shell': -2.960}}\n",
    "params['masses'] = {'Li': 6.941,\n",
    "                    'Ni': 58.6934,\n",
    "                    'O': {'core': 15.0,\n",
    "                          'shell': 1.0} }\n",
    "\n",
    "params['bpp'] = {'Li-O' : [632.1018, 0.2906, 0.0],\n",
    "                 'Ni-O' : [1582.5000, 0.2882, 0.000],\n",
    "                 'O-O'  : [22764.3000, 0.1490, 21.7]}\n",
    "\n",
    "params['sd'] = {'Li-O' : [50, 0.01, 0.01],\n",
    "                'Ni-O' : [60, 0.01, 0.01],\n",
    "                'O-O'  : [60, 0.01, 5]}\n",
    "\n",
    "params['cs_springs'] = {'O' : [65.0, 0.0]}\n",
    "\n",
    "excude_from_fit = ['Li_O_c','Ni_O_c']"
   ]
  },
  {
   "cell_type": "code",
   "execution_count": 3,
   "metadata": {},
   "outputs": [
    {
     "name": "stdout",
     "output_type": "stream",
     "text": [
      "Found elements: ['Li', 'Ni', 'O']\n"
     ]
    }
   ],
   "source": [
    "fit_data = FitModel.collect_info(params)"
   ]
  },
  {
   "cell_type": "code",
   "execution_count": null,
   "metadata": {},
   "outputs": [
    {
     "name": "stderr",
     "output_type": "stream",
     "text": [
      "Sample initial stage: ...\n",
      "/Users/lmm82/.pyenv/versions/3.7.3/lib/python3.7/site-packages/pymc3/step_methods/smc.py:176: UserWarning: Warning: SMC-ABC methods are experimental step methods and not yet recommended for use in PyMC3!\n",
      "  warnings.warn(EXPERIMENTAL_WARNING)\n",
      "Stage: 0 Beta: 0.050 Steps: 25\n",
      "Stage: 1 Beta: 0.172 Steps: 18\n"
     ]
    }
   ],
   "source": [
    "trace = fit_data.run_fit(excude_from_fit, epsilon=0.1, draws=1000)"
   ]
  },
  {
   "cell_type": "code",
   "execution_count": null,
   "metadata": {},
   "outputs": [],
   "source": [
    "az.style.use('arviz-darkgrid')\n",
    "az.plot_trace(trace)\n",
    "plt.savefig('coreshell_LiNiO2_trace2.png',dpi=500, bbox_inches = \"tight\")"
   ]
  },
  {
   "cell_type": "code",
   "execution_count": null,
   "metadata": {},
   "outputs": [],
   "source": [
    "az.plot_posterior(trace, round_to = 3, point_estimate = 'mode')\n",
    "plt.savefig('coreshell_LiNiO2_mode2.png',dpi=500, bbox_inches = \"tight\")"
   ]
  },
  {
   "cell_type": "code",
   "execution_count": null,
   "metadata": {},
   "outputs": [],
   "source": [
    "# fig, axes = az.plot_forest(trace,\n",
    "#                            kind='ridgeplot',\n",
    "#                            var_names=['Li_O_rho','Ni_O_rho', 'O_O_rho'],\n",
    "#                            combined=True,\n",
    "#                            ridgeplot_overlap=10,\n",
    "#                            colors='white',\n",
    "#                            figsize=(9, 7))"
   ]
  },
  {
   "cell_type": "code",
   "execution_count": null,
   "metadata": {},
   "outputs": [],
   "source": [
    "# pm.summary(trace)"
   ]
  },
  {
   "cell_type": "code",
   "execution_count": null,
   "metadata": {},
   "outputs": [],
   "source": [
    "# # ALTERNATIVE TO VASPPY\n",
    "# from pymatgen.io.vasp.outputs import Outcar\n",
    "# def get_forces(outcar):\n",
    "#     data = outcar.read_table_pattern(header_pattern=r\"\\sPOSITION\\s+TOTAL-FORCE \\(eV/Angst\\)\\n\\s-+\",\n",
    "#                                      row_pattern=r\"\\s+[+-]?(\\d+\\.\\d+)\\s+[+-]?(\\d+\\.\\d+)\\s+[+-]?(\\d+\\.\\d+)\\s+([+-]?\\d+\\.\\d+)\\s+([+-]?\\d+\\.\\d+)\\s+([+-]?\\d+\\.\\d+)\",\n",
    "#                                      footer_pattern=r\"\\s--+\",\n",
    "#                                      postprocess=lambda x: float(x),\n",
    "#                                      last_one_only=False)\n",
    "#     forces = []\n",
    "#     for atom_data in data[-1]:\n",
    "#         xyz_force = atom_data[3:]\n",
    "#         forces.append(xyz_force)\n",
    "#     return forces\n",
    "# outcar = Outcar(\"OUTCAR\")\n",
    "# forces = get_forces(outcar)"
   ]
  },
  {
   "cell_type": "code",
   "execution_count": null,
   "metadata": {},
   "outputs": [],
   "source": []
  },
  {
   "cell_type": "code",
   "execution_count": null,
   "metadata": {},
   "outputs": [],
   "source": []
  }
 ],
 "metadata": {
  "kernelspec": {
   "display_name": "Python 3",
   "language": "python",
   "name": "python3"
  },
  "language_info": {
   "codemirror_mode": {
    "name": "ipython",
    "version": 3
   },
   "file_extension": ".py",
   "mimetype": "text/x-python",
   "name": "python",
   "nbconvert_exporter": "python",
   "pygments_lexer": "ipython3",
   "version": "3.7.3"
  }
 },
 "nbformat": 4,
 "nbformat_minor": 2
}
