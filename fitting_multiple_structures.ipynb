{
 "cells": [
  {
   "cell_type": "code",
   "execution_count": 1,
   "metadata": {},
   "outputs": [],
   "source": [
    "import os\n",
    "from fitting import FitModel\n",
    "from scipy import optimize\n",
    "import numpy as np\n",
    "import matplotlib.pyplot as plt\n",
    "import input_checker as ic\n",
    "import json"
   ]
  },
  {
   "cell_type": "code",
   "execution_count": 2,
   "metadata": {},
   "outputs": [],
   "source": [
    "def create_directory(head_directory_name, structure_number):\n",
    "    directory = os.path.join(head_directory_name, str(structure_number))\n",
    "    os.makedirs(directory)\n",
    "    return directory\n",
    "\n",
    "def setup_error_checks(include_labels, bounds_list, fit_data, params):\n",
    "        if len(include_labels) != len(bounds_list):\n",
    "            raise IndexError('include_labels and bounds_list are not of equal length. Check there are bounds associated with each label with the correct bound values.')\n",
    "        for label, bounds in zip(include_labels, bounds_list):\n",
    "            if label.startswith('dq_'):\n",
    "                ic.check_coreshell(label, bounds, fit_data)\n",
    "            elif label == 'q_scaling':\n",
    "                ic.check_scaling_limits(label, bounds)\n",
    "            elif '-' in label:\n",
    "                ic.check_spring(label, bounds, params)\n",
    "            elif '_a' in label or '_rho' in label or '_c' in label:\n",
    "                ic.check_buckingham(label, bounds, params)\n",
    "            else:\n",
    "                raise TypeError('Label {} is not a valid label type'.format(label))\n",
    "                \n",
    "def extract_stresses_and_forces(fit_data, values, args):\n",
    "    fit_data.init_potential(values, args)\n",
    "    ip_forces, ip_stresses = fit_data.get_forces_and_stresses()\n",
    "    dft_forces = fit_data.expected_forces()\n",
    "    dft_stresses = fit_data.expected_stresses()\n",
    "    return dft_forces, ip_forces, dft_stresses, ip_stresses"
   ]
  },
  {
   "cell_type": "markdown",
   "metadata": {},
   "source": [
    "### Set up parameters for LiNiO2 with core-shell O-O"
   ]
  },
  {
   "cell_type": "code",
   "execution_count": 3,
   "metadata": {},
   "outputs": [],
   "source": [
    "params = {}\n",
    "# params['core_shell'] = { 'Li': False, 'Ni': False, 'O': False }\n",
    "# params['charges'] = {'Li': +1.0,\n",
    "#                      'Ni': +3.0,\n",
    "#                      'O': -2.0}\n",
    "# params['masses'] = {'Li': 6.941,\n",
    "#                     'Ni': 58.6934,\n",
    "#                     'O': 15.999}\n",
    "# params['cs_springs'] = {}\n",
    "\n",
    "params['core_shell'] = { 'Li': False, 'Ni': False, 'O': True }\n",
    "params['charges'] = {'Li': +1.0,\n",
    "                     'Ni': +3.0,\n",
    "                     'O': {'core':  -2.0, #+0.960,\n",
    "                           'shell': 0.0}} #-2.960}}\n",
    "params['masses'] = {'Li': 6.941,\n",
    "                    'Ni': 58.6934,\n",
    "                    'O': {'core': 14.3991,\n",
    "                          'shell': 1.5999} }\n",
    "params['cs_springs'] = {'O-O' : [20.0, 0.0]}\n",
    "\n",
    "distribution = {}\n",
    "distribution['Li-O'] = {'bpp' : [663.111, 0.119, 0.0],\n",
    "                        'sd' : [80, 0.01, 0.01]}\n",
    "distribution['Ni-O'] = {'bpp' : [1393.540, 0.218, 0.000],\n",
    "                        'sd'  : [80, 0.01, 0.01]}\n",
    "distribution['O-O'] = {'bpp' : [25804.807, 0.284, 0.0],\n",
    "                       'sd'  : [200, 0.01, 5]}"
   ]
  },
  {
   "cell_type": "markdown",
   "metadata": {},
   "source": [
    "### Set up the fitting parameters\n",
    "The lables and associated bounds"
   ]
  },
  {
   "cell_type": "code",
   "execution_count": null,
   "metadata": {},
   "outputs": [],
   "source": [
    "include_labels = ['dq_O', 'q_scaling', 'O-O spring', 'Li_O_a',     'Li_O_rho', 'Ni_O_a',      'Ni_O_rho', 'O_O_a',        'O_O_rho']\n",
    "bounds_list = [(0.01, 4), (0.3,1.0),   (10.0,150.0), (100.0,50000.0),(0.01,1.0), (100.0,50000.0),(0.01,1.0), (150.0,50000.0),(0.01,1.0)]"
   ]
  },
  {
   "cell_type": "markdown",
   "metadata": {},
   "source": [
    "### Directory set up\n",
    "Requires the head directory name, the number of structuers, number of structures to fit to, and number of fits to run."
   ]
  },
  {
   "cell_type": "code",
   "execution_count": null,
   "metadata": {},
   "outputs": [],
   "source": [
    "tot_num_structures = 15 #Total number of structures in the pool\n",
    "num_struct_to_fit = 1 #How many structures are in the fit\n",
    "num_of_fits = 1 #How many fits to run\n",
    "head_directory_name = '{}_stress_test'.format(num_struct_to_fit)"
   ]
  },
  {
   "cell_type": "markdown",
   "metadata": {},
   "source": [
    "### Randomly selecting sets of structures\n",
    "Creating 'num_of_fits' random sets of length 'num_struct_to_fit'"
   ]
  },
  {
   "cell_type": "code",
   "execution_count": null,
   "metadata": {},
   "outputs": [],
   "source": [
    "sets_of_structures = []\n",
    "while len(sets_of_structures) < num_of_fits:\n",
    "    struct_set = np.sort(np.random.randint(0,tot_num_structures, size=num_struct_to_fit), axis=0)\n",
    "    if len(set(struct_set)) != num_struct_to_fit:\n",
    "        continue\n",
    "    if not any(np.array_equiv(struct_set, x) for x in sets_of_structures):\n",
    "        sets_of_structures.append(struct_set) \n",
    "sets_of_structures = np.array(sets_of_structures)"
   ]
  },
  {
   "cell_type": "markdown",
   "metadata": {},
   "source": [
    "### Runs the fit for each structure in the number of structures to its directory\n",
    "This copies the relivant poscar and outcar from the thermo directory to the working directory for each structure, then runs the fit and prints the output files to the correct output directory.\n",
    "\n",
    "Not very neatly done, but should work for now and can be tidied up later."
   ]
  },
  {
   "cell_type": "code",
   "execution_count": null,
   "metadata": {},
   "outputs": [],
   "source": [
    "poscar_directory = os.path.join('poscars','thermos')\n",
    "outcar_directory = os.path.join('outcars','thermos')\n",
    "for fit, structs in enumerate(sets_of_structures): \n",
    "    for struct_num, struct in enumerate(structs):\n",
    "        os.system('cp {}/POSCAR{} {}/POSCAR{}'.format(poscar_directory, struct+1, 'poscars', struct_num+1))\n",
    "        os.system('cp {}/OUTCAR{} {}/OUTCAR{}'.format(outcar_directory, struct+1, 'outcars', struct_num+1))\n",
    "    fit_data = FitModel.collect_info(params, distribution, supercell=[2,2,2])\n",
    "    setup_error_checks(include_labels, bounds_list, fit_data, params)\n",
    "    s = optimize.differential_evolution(fit_data.chi_squared_error, bounds=bounds_list, popsize=25,\n",
    "                                        args=([include_labels]), maxiter=2000,\n",
    "                                        disp=True, init='latinhypercube', workers=-1)\n",
    "    dft_f, ip_f, dft_s, ip_s = extract_stresses_and_forces(fit_data, s.x, include_labels)\n",
    "    local_struct_dir = '-'.join([ '{}'.format(struct+1) for struct in structs])\n",
    "    struct_directory = create_directory(head_directory_name, local_struct_dir)\n",
    "    np.savetxt('{}/dft_forces.dat'.format(struct_directory), dft_f, fmt='%.10e', delimiter=' ')\n",
    "    np.savetxt('{}/ip_forces.dat'.format(struct_directory), ip_f, fmt='%.10e', delimiter=' ')\n",
    "    np.savetxt('{}/dft_stresses.dat'.format(struct_directory), dft_s, fmt='%.10e', delimiter=' ')\n",
    "    np.savetxt('{}/ip_stresses.dat'.format(struct_directory), ip_s, fmt='%.10e', delimiter=' ')\n",
    "    with open('{}/error.dat'.format(struct_directory), 'w') as f:\n",
    "        f.write(str(s.fun))\n",
    "    potential_dict = {k:v for k, v in zip(include_labels, s.x)}\n",
    "    with open('{}/potentials.json'.format(struct_directory), 'w') as f:\n",
    "        json.dump(potential_dict, f)  "
   ]
  },
  {
   "cell_type": "code",
   "execution_count": null,
   "metadata": {},
   "outputs": [],
   "source": []
  },
  {
   "cell_type": "code",
   "execution_count": null,
   "metadata": {},
   "outputs": [],
   "source": []
  },
  {
   "cell_type": "code",
   "execution_count": null,
   "metadata": {},
   "outputs": [],
   "source": []
  },
  {
   "cell_type": "code",
   "execution_count": null,
   "metadata": {},
   "outputs": [],
   "source": []
  },
  {
   "cell_type": "code",
   "execution_count": null,
   "metadata": {},
   "outputs": [],
   "source": []
  },
  {
   "cell_type": "code",
   "execution_count": null,
   "metadata": {},
   "outputs": [],
   "source": []
  }
 ],
 "metadata": {
  "kernelspec": {
   "display_name": "Python 3",
   "language": "python",
   "name": "python3"
  },
  "language_info": {
   "codemirror_mode": {
    "name": "ipython",
    "version": 3
   },
   "file_extension": ".py",
   "mimetype": "text/x-python",
   "name": "python",
   "nbconvert_exporter": "python",
   "pygments_lexer": "ipython3",
   "version": "3.7.3"
  }
 },
 "nbformat": 4,
 "nbformat_minor": 2
}
