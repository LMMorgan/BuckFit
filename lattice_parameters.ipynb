{
 "cells": [
  {
   "cell_type": "code",
   "execution_count": null,
   "metadata": {},
   "outputs": [],
   "source": [
    "import os\n",
    "from fitting_code import FitModel\n",
    "from scipy import optimize\n",
    "import numpy as np\n",
    "import matplotlib.pyplot as plt\n",
    "import input_checker as ic\n",
    "import json\n",
    "import lammps\n",
    "import glob\n",
    "from matplotlib import gridspec\n",
    "import seaborn as sns"
   ]
  },
  {
   "cell_type": "code",
   "execution_count": null,
   "metadata": {},
   "outputs": [],
   "source": [
    "def get_lattice(fit_data, values, args):\n",
    "    \"\"\"\n",
    "    Returns relaxed structures with the parameters from the fitted potential implemented.\n",
    "    Args:\n",
    "        fit_data (obj(FitModel)): all structural data and associated properties defined, with methods for implementing the fitting process using LAMMPS. \n",
    "        values (list(float)): Values relating to the fitting arguments passes in.\n",
    "        args (list(str)): Keys relating to the fitting parameters for the system, such as charge, springs, and buckingham parameters.\n",
    "    Returns:\n",
    "        lmp (obj): Lammps object with structure and specified commands implemented, after MD minimisation and relaxation.\n",
    "    \"\"\"\n",
    "    fit_data.init_potential(values, args)\n",
    "    lmp = fit_data.get_lattice_params()\n",
    "    return lmp\n",
    "\n",
    "def differences(lattice_params, ref):\n",
    "    \"\"\"\n",
    "    Returns relaxed structures with the parameters from the fitted potential implemented.\n",
    "    Args:\n",
    "        lattice_params (np.array): lattice parameters (a,b,c) and volume of fitted MD parameters.\n",
    "        ref (np.array): lattice parameters (a,b,c) and volume of DFT reference values.\n",
    "    Returns:\n",
    "        (np.array): Percentage differences between MD (lattice_params) and DFT (ref) lattice parameters.\n",
    "    \"\"\"\n",
    "    return ((lattice_params)/ref)*100"
   ]
  },
  {
   "cell_type": "markdown",
   "metadata": {},
   "source": [
    "## Setup of fitting parameters for your structure (Example: LiNiO2)\n",
    "Params is the dictionary (of dictionaries) which contains the main information relating to the system and potentials. There are 5 sub dictionaries: core_shell, charges, masses, potentials, and cs_springs.\n",
    "\n",
    "**core_shell**: The keys are each atom type within the structure, with the relating value a boolean expression stating if that atom type is core-shell or not i.e. True = core-shell, False = rigid ion.\n",
    "\n",
    "**charges**: The keys are again each atom type within the structure. The relating value is either a float representation of the atomic charge (for rigid ion atoms) or a sub dictionary where the sub keys are 'core' and 'shell', with the relating sub values being a float representation of the charge. Note: if you are fitting the charge separation (dq), the formal charge should be on the core and 0.0 charge on the shell.\n",
    "\n",
    "**masses**: Similar to charges, the keys are each atom type within the structure, with the values either a float representation of the atomic mass, or a sub directory with the sub keys 'core' and 'shell' and sub values a float representation of the mass on each (summing to the atomic mass). Mass can not be fitted, and there is no definative way of splitting the mass, however convention suggests having 10 % mass on the shell.\n",
    "\n",
    "**potentials**: The keys are atom label pairs separated by a dash (str), example: 'Li-O'. The values are a list of the buckingham potential parameters, i.e. [a, rho, c], where each parameter is a float.\n",
    "\n",
    "**cs_springs**: The keys are agian atom label pairs separated by a dash (str), example: 'O-O'. This basically denotes the spring is between 'O' core and 'O' shell. The values are a list of the spring contants, k1 and k2, as floats. Commonly k2 is set to 0.0."
   ]
  },
  {
   "cell_type": "code",
   "execution_count": null,
   "metadata": {},
   "outputs": [],
   "source": [
    "params = {}\n",
    "params['core_shell'] = { 'Li': False, 'Ni': False, 'O': True }\n",
    "params['charges'] = {'Li': +1.0,\n",
    "                     'Ni': +3.0,\n",
    "                     'O': {'core':  -2.0,\n",
    "                           'shell': 0.0}} \n",
    "params['masses'] = {'Li': 6.941,\n",
    "                    'Ni': 58.6934,\n",
    "                    'O': {'core': 14.3991,\n",
    "                          'shell': 1.5999} }\n",
    "params['potentials'] = {'Li-O': [663.111, 0.119, 0.0],\n",
    "                        'Ni-O': [1393.540, 0.218, 0.000],\n",
    "                        'O-O': [25804.807, 0.284, 0.0]}\n",
    "params['cs_springs'] = {'O-O' : [20.0, 0.0]}"
   ]
  },
  {
   "cell_type": "markdown",
   "metadata": {},
   "source": [
    "## Directory set up\n",
    "\n",
    "Structures is a required input. This designate how many structures are in the training set (saved in a sub directory named 'training_set' in both the 'poscars' and 'outcars' directories). The lattice parameters are calculated for all structures in the training set.\n",
    "\n",
    "The 'directory' is set up to read the potental from a results directory, containing sub directories with 'potentials.json' files. This can be changed to your results directory."
   ]
  },
  {
   "cell_type": "code",
   "execution_count": null,
   "metadata": {},
   "outputs": [],
   "source": [
    "structures = 15 #Total number of structures in the training set\n",
    "directory = 'results'\n",
    "poscars = os.path.join('poscars','training_set')\n",
    "outcars = os.path.join('outcars','training_set')"
   ]
  },
  {
   "cell_type": "markdown",
   "metadata": {},
   "source": [
    "## Reference data (a, b, c, volume)\n",
    "Here is where you state the reference you want to compare your lattice parameters (a,b,c) and volumes to. This needs to be the same scale (or adjusted to) as the structure cell size."
   ]
  },
  {
   "cell_type": "code",
   "execution_count": null,
   "metadata": {},
   "outputs": [],
   "source": [
    "ref_DFT = [10.916, 10.061, 14.053, 1543.293] #(2.7289340495999999*4, (5.0304288864000002*2), 14.053= (14.0527168296999996*1), volume is a*b*c =1543.2928215270413)\n",
    "ref_DFT = np.array([ref_DFT[0]*2,ref_DFT[1]*2,ref_DFT[2]*2,ref_DFT[3]*8])"
   ]
  },
  {
   "cell_type": "markdown",
   "metadata": {},
   "source": [
    "## Running MD with each potential and collecting the lattice parameters for each structure\n",
    "\n"
   ]
  },
  {
   "cell_type": "code",
   "execution_count": null,
   "metadata": {},
   "outputs": [],
   "source": [
    "calculated_parameters = []\n",
    "percent_difference = []\n",
    "for potential_file in sorted(glob.glob('{}/*/potentials.json'.format(head_directory_name))):\n",
    "    with open(potential_file, 'r') as f:\n",
    "        potentials = json.load(f)\n",
    "    for structure in range(structures): \n",
    "        os.system('cp {}/POSCAR{} {}/POSCAR1'.format(poscars, structure+1, 'poscars'))\n",
    "        os.system('cp {}/OUTCAR{} {}/OUTCAR1'.format(outcars, structure+1, 'outcars'))\n",
    "        fit_data = FitModel.collect_info(params, supercell=[2,2,2])\n",
    "        lmp = get_lattice(fit_data, potentials.values(), potentials.keys())\n",
    "        lammps = lmp[0]\n",
    "        lattice_params = np.array([lammps.box.lengths[0], lammps.box.lengths[1], lammps.box.lengths[2], lammps.box.volume])\n",
    "        calculated_parameters.append(lattice_params)\n",
    "        diffs = differences(lattice_params, ref_DFT)\n",
    "        percent_difference.append(diffs)"
   ]
  },
  {
   "cell_type": "code",
   "execution_count": null,
   "metadata": {},
   "outputs": [],
   "source": [
    "calculated_parameters = np.array(calculated_parameters)\n",
    "percent_difference = np.array(percent_difference)"
   ]
  },
  {
   "cell_type": "code",
   "execution_count": null,
   "metadata": {},
   "outputs": [],
   "source": [
    "labels = ['a ($\\AA$)', 'b ($\\AA$)', 'c ($\\AA$)', 'volume ($\\AA^2$)']\n",
    "fig, axs = plt.subplots(1, len(labels), figsize=(10,8))\n",
    "plt.subplots_adjust(wspace=0.8)\n",
    "for i, label in enumerate(labels):\n",
    "    x = np.random.rand(len(calculated_parameters))\n",
    "    axs[i].scatter(x, calculated_parameters.transpose()[i])\n",
    "    axs[i].scatter(0.5, ref_DFT[i])\n",
    "    axs[i].set_xlim(left=-1.5, right=2.5)\n",
    "    axs[i].set_xticks([])\n",
    "    axs[i].set_title('{}'.format(label))\n",
    "# plt.savefig('results/plots/{}_lattice_comparison.png'.format(),dpi=500, bbox_inches = \"tight\")\n",
    "plt.show()"
   ]
  },
  {
   "cell_type": "code",
   "execution_count": null,
   "metadata": {},
   "outputs": [],
   "source": [
    "np.savetxt('results/{}_lattice_values.dat', calculated_parameters, header = ' '.join(labels))\n",
    "np.savetxt('results/{}_lattice_diffs.dat', percent_difference, header = ' '.join(labels))"
   ]
  },
  {
   "cell_type": "code",
   "execution_count": null,
   "metadata": {},
   "outputs": [],
   "source": []
  },
  {
   "cell_type": "code",
   "execution_count": null,
   "metadata": {},
   "outputs": [],
   "source": [
    "calculated_parameters = np.loadtxt('results/{}_lattice_values.dat')\n",
    "percent_difference= np.loadtxt('results/{}_lattice_diffs.dat')"
   ]
  },
  {
   "cell_type": "code",
   "execution_count": null,
   "metadata": {},
   "outputs": [],
   "source": []
  },
  {
   "cell_type": "code",
   "execution_count": null,
   "metadata": {},
   "outputs": [],
   "source": []
  },
  {
   "cell_type": "code",
   "execution_count": null,
   "metadata": {},
   "outputs": [],
   "source": [
    "def scatter_plot(x,y,ref_DFT,label,gs):\n",
    "    axs = plt.subplot(gs)\n",
    "    axs.scatter(x, y)\n",
    "    axs.scatter(0.5, ref_DFT)\n",
    "    axs.set_xlim(left=-1.5, right=2.5)\n",
    "    axs.set_xticks([])\n",
    "    axs.set_title('{}'.format(label))\n",
    "    plt.subplots_adjust(wspace=0)\n",
    "    return axs\n",
    "\n",
    "def distribution_plot(df_data, gs):\n",
    "    axs = plt.subplot(gs)\n",
    "    axs.axis('off')\n",
    "    axs = sns.kdeplot(y, vertical=True, shade=True)\n",
    "    return axs\n",
    "\n",
    "def y_limits(ref_DFT, y):\n",
    "    if ref_DFT <= y.min():\n",
    "        ylims = (ref_DFT-(ref_DFT*0.002), y.max()+(y.max()*0.002))\n",
    "    elif ref_DFT >= y.max():\n",
    "        ylims = (y.min()-(y.min()*0.002), ref_DFT+(ref_DFT*0.002))\n",
    "    else:\n",
    "        ylims = (y.min()-(y.min()*0.002), y.max()+(y.max()*0.002))\n",
    "    return ylims"
   ]
  },
  {
   "cell_type": "code",
   "execution_count": null,
   "metadata": {},
   "outputs": [],
   "source": [
    "labels = ['a ($\\AA$)', 'b ($\\AA$)', 'c ($\\AA$)', 'volume ($\\AA^2$)']\n",
    "short_labels = ['a', 'b', 'c', 'volume']\n",
    "\n",
    "for i in range(len(labels)):\n",
    "    fig, axs = plt.subplots(1, 2, figsize=(4,8), sharey=True)\n",
    "    plt.subplots_adjust(wspace=0)\n",
    "    x = np.random.rand(len(calculated_parameters))\n",
    "    y = calculated_parameters.T[i]\n",
    "    gs = gridspec.GridSpec(1, 2, width_ratios=[2, 1])\n",
    "\n",
    "    axs[0] = scatter_plot(x,y,ref_DFT[i],labels[i],gs[0])\n",
    "    axs[1] = distribution_plot(y, gs[1])\n",
    "    ylims = y_limits(ref_DFT[i], y)\n",
    "    axs[0].set_ylim(ylims)\n",
    "    axs[1].set(ylim =ylims)\n",
    "    plt.savefig('results/plots/{}_lattice_comparison.png'.format(short_labels[i]),dpi=500, bbox_inches = \"tight\")\n",
    "    plt.show()\n"
   ]
  },
  {
   "cell_type": "code",
   "execution_count": null,
   "metadata": {},
   "outputs": [],
   "source": [
    "labels = ['a ($\\AA$)', 'b ($\\AA$)', 'c ($\\AA$)', 'volume ($\\AA^2$)']\n",
    "fig, axs = plt.subplots(1, 8, figsize=(20,8), sharey=True)\n",
    "plt.subplots_adjust(wspace=0.0)\n",
    "gs = gridspec.GridSpec(1, 8, width_ratios=[1, 0.5, 1, 0.5, 1, 0.5, 1, 0.5])\n",
    "\n",
    "for i, j in enumerate(range(0,8,2)):\n",
    "    y = calculated_parameters.T[i]\n",
    "    x = np.random.rand(len(y))\n",
    "    ylims = y_limits(ref_DFT[i], y)  \n",
    "    axs[j] = scatter_plot(x,y,ref_DFT[i],labels[i],gs[j])\n",
    "    axs[j+1] = distribution_plot(y, gs[j+1])\n",
    "    ylims = y_limits(ref_DFT[i], y)\n",
    "    axs[j].set_ylim(ylims)\n",
    "    axs[j+1].set(ylim =ylims)\n",
    "#     plt.savefig('plots/3_structure_lattice_comparison.png',dpi=500, bbox_inches = \"tight\")\n",
    "plt.show()"
   ]
  },
  {
   "cell_type": "code",
   "execution_count": null,
   "metadata": {},
   "outputs": [],
   "source": []
  },
  {
   "cell_type": "code",
   "execution_count": null,
   "metadata": {},
   "outputs": [],
   "source": []
  },
  {
   "cell_type": "code",
   "execution_count": null,
   "metadata": {},
   "outputs": [],
   "source": []
  },
  {
   "cell_type": "code",
   "execution_count": null,
   "metadata": {},
   "outputs": [],
   "source": []
  },
  {
   "cell_type": "code",
   "execution_count": null,
   "metadata": {},
   "outputs": [],
   "source": []
  },
  {
   "cell_type": "code",
   "execution_count": null,
   "metadata": {},
   "outputs": [],
   "source": []
  },
  {
   "cell_type": "code",
   "execution_count": null,
   "metadata": {},
   "outputs": [],
   "source": []
  },
  {
   "cell_type": "code",
   "execution_count": null,
   "metadata": {},
   "outputs": [],
   "source": []
  },
  {
   "cell_type": "code",
   "execution_count": null,
   "metadata": {},
   "outputs": [],
   "source": []
  },
  {
   "cell_type": "code",
   "execution_count": null,
   "metadata": {},
   "outputs": [],
   "source": []
  },
  {
   "cell_type": "code",
   "execution_count": null,
   "metadata": {},
   "outputs": [],
   "source": []
  },
  {
   "cell_type": "code",
   "execution_count": null,
   "metadata": {},
   "outputs": [],
   "source": []
  },
  {
   "cell_type": "code",
   "execution_count": null,
   "metadata": {},
   "outputs": [],
   "source": []
  },
  {
   "cell_type": "code",
   "execution_count": null,
   "metadata": {},
   "outputs": [],
   "source": []
  },
  {
   "cell_type": "code",
   "execution_count": null,
   "metadata": {},
   "outputs": [],
   "source": []
  }
 ],
 "metadata": {
  "kernelspec": {
   "display_name": "Python 3",
   "language": "python",
   "name": "python3"
  },
  "language_info": {
   "codemirror_mode": {
    "name": "ipython",
    "version": 3
   },
   "file_extension": ".py",
   "mimetype": "text/x-python",
   "name": "python",
   "nbconvert_exporter": "python",
   "pygments_lexer": "ipython3",
   "version": "3.7.3"
  }
 },
 "nbformat": 4,
 "nbformat_minor": 2
}
