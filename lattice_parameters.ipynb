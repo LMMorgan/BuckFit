{
 "cells": [
  {
   "cell_type": "code",
   "execution_count": null,
   "metadata": {},
   "outputs": [],
   "source": [
    "import os\n",
    "from fitting import FitModel\n",
    "from scipy import optimize\n",
    "import numpy as np\n",
    "import matplotlib.pyplot as plt\n",
    "import input_checker as ic\n",
    "import json\n",
    "import lammps\n",
    "import glob\n",
    "from matplotlib import gridspec\n",
    "import seaborn as sns"
   ]
  },
  {
   "cell_type": "code",
   "execution_count": null,
   "metadata": {},
   "outputs": [],
   "source": [
    "def get_forces(fit_data, values, args):\n",
    "    fit_data.init_potential(values, args)\n",
    "    ip_forces = fit_data.get_forces()\n",
    "    dft_forces = fit_data.expected_forces()\n",
    "    return dft_forces, ip_forces\n",
    "\n",
    "def get_lattice(fit_data, values, args):\n",
    "    fit_data.init_potential(values, args)\n",
    "    lmp = fit_data.get_lattice_params()\n",
    "    return lmp\n",
    "\n",
    "def differences(a_c_vol, ref):\n",
    "    return ((a_c_vol-ref)/ref)*100"
   ]
  },
  {
   "cell_type": "code",
   "execution_count": null,
   "metadata": {},
   "outputs": [],
   "source": [
    "params = {}\n",
    "params['core_shell'] = { 'Li': False, 'Ni': False, 'O': True }\n",
    "params['charges'] = {'Li': +1.0,\n",
    "                     'Ni': +3.0,\n",
    "                     'O': {'core':  -2.0, #+0.960,\n",
    "                           'shell': 0.0}} #-2.960}}\n",
    "params['masses'] = {'Li': 6.941,\n",
    "                    'Ni': 58.6934,\n",
    "                    'O': {'core': 14.3991,\n",
    "                          'shell': 1.5999} }\n",
    "params['cs_springs'] = {'O-O' : [20.0, 0.0]}\n",
    "\n",
    "distribution = {}\n",
    "distribution['Li-O'] = {'bpp' : [663.111, 0.119, 0.0],\n",
    "                        'sd' : [80, 0.01, 0.01]}\n",
    "distribution['Ni-O'] = {'bpp' : [1393.540, 0.218, 0.000],\n",
    "                        'sd'  : [80, 0.01, 0.01]}\n",
    "distribution['O-O'] = {'bpp' : [25804.807, 0.284, 0.0],\n",
    "                       'sd'  : [200, 0.01, 5]}"
   ]
  },
  {
   "cell_type": "code",
   "execution_count": null,
   "metadata": {},
   "outputs": [],
   "source": [
    "tot_num_structures = 1 #Total number of structures in the pool\n",
    "head_directory_name = '2_structure_fits'\n",
    "poscar_directory = os.path.join('poscars','thermos')\n",
    "outcar_directory = os.path.join('outcars','thermos')"
   ]
  },
  {
   "cell_type": "code",
   "execution_count": null,
   "metadata": {},
   "outputs": [],
   "source": [
    "##### ref_DFT = [2.729, 14.053, 96.456]\n",
    "ref_DFT = [10.916, 10.061, 14.053, 1543.293] #(2.7289340495999999*4, (5.0304288864000002*2), 14.053= (14.0527168296999996*1), volume is a*b*c =1543.2928215270413)\n",
    "ref_DFT = np.array([ref_DFT[0]*2,ref_DFT[1]*2,ref_DFT[2]*2,ref_DFT[3]*8])\n",
    "\n",
    "calculated_parameters = []\n",
    "percent_difference = []\n",
    "for potential_file in sorted(glob.glob('{}/*/potentials.json'.format(head_directory_name))):\n",
    "    with open(potential_file, 'r') as f:\n",
    "        potentials = json.load(f)\n",
    "    for structure in range(tot_num_structures): \n",
    "        os.system('cp {}/POSCAR{} {}/POSCAR1'.format(poscar_directory, structure+1, 'poscars'))\n",
    "        os.system('cp {}/OUTCAR{} {}/OUTCAR1'.format(outcar_directory, structure+1, 'outcars'))\n",
    "        fit_data = FitModel.collect_info(params, distribution, supercell=[2,2,2])\n",
    "        lmp = get_lattice(fit_data, potentials.values(), potentials.keys())\n",
    "        lammps = lmp[0]\n",
    "        a_c_vol = np.array([lammps.box.lengths[0], lammps.box.lengths[1], lammps.box.lengths[2], lammps.box.volume])\n",
    "        calculated_parameters.append(a_c_vol)\n",
    "        diffs = differences(a_c_vol, ref_DFT)\n",
    "        percent_difference.append(diffs)\n",
    "#         print(a_c_vol)\n",
    "#         print(diffs)"
   ]
  },
  {
   "cell_type": "code",
   "execution_count": null,
   "metadata": {},
   "outputs": [],
   "source": [
    "calculated_parameters = np.array(calculated_parameters)\n",
    "percent_difference = np.array(percent_difference)"
   ]
  },
  {
   "cell_type": "code",
   "execution_count": null,
   "metadata": {},
   "outputs": [],
   "source": [
    "labels = ['a ($\\AA$)', 'b ($\\AA$)', 'c ($\\AA$)', 'volume ($\\AA^2$)']\n",
    "fig, axs = plt.subplots(1, len(labels), figsize=(10,8))\n",
    "plt.subplots_adjust(wspace=0.8)\n",
    "for i, label in enumerate(labels):\n",
    "    x = np.random.rand(len(calculated_parameters))\n",
    "    axs[i].scatter(x, calculated_parameters.transpose()[i])\n",
    "    axs[i].scatter(0.5, ref_DFT[i])\n",
    "    axs[i].set_xlim(left=-1.5, right=2.5)\n",
    "    axs[i].set_xticks([])\n",
    "    axs[i].set_title('{}'.format(label))\n",
    "# plt.savefig('plots/2_structure_lattice_comparison.png',dpi=500, bbox_inches = \"tight\")\n",
    "plt.show()"
   ]
  },
  {
   "cell_type": "code",
   "execution_count": null,
   "metadata": {},
   "outputs": [],
   "source": [
    "np.savetxt('2_structure_lattice_values.dat', calculated_parameters, header = ' '.join(labels))\n",
    "np.savetxt('2_structure_lattice_diffs.dat', percent_difference, header = ' '.join(labels))"
   ]
  },
  {
   "cell_type": "code",
   "execution_count": null,
   "metadata": {},
   "outputs": [],
   "source": []
  },
  {
   "cell_type": "code",
   "execution_count": null,
   "metadata": {},
   "outputs": [],
   "source": [
    "def scatter_plot(x,y,ref_DFT,label,gs):\n",
    "    axs = plt.subplot(gs)\n",
    "    axs.scatter(x, y)\n",
    "    axs.scatter(0.5, ref_DFT)\n",
    "    axs.set_xlim(left=-1.5, right=2.5)\n",
    "    axs.set_xticks([])\n",
    "    axs.set_title('{}'.format(label))\n",
    "    plt.subplots_adjust(wspace=0)\n",
    "    return axs\n",
    "\n",
    "def distribution_plot(df_data, gs):\n",
    "    axs = plt.subplot(gs)\n",
    "    axs.axis('off')\n",
    "    axs = sns.kdeplot(y, vertical=True, shade=True)\n",
    "    return axs\n",
    "\n",
    "def y_limits(ref_DFT, y):\n",
    "    if ref_DFT <= y.min():\n",
    "        ylims = (ref_DFT-(ref_DFT*0.002), y.max()-(y.max()*0.002))\n",
    "    elif ref_DFT >= y.max():\n",
    "        ylims = (y.min()-(y.min()*0.002), ref_DFT+(ref_DFT*0.002))\n",
    "    else:\n",
    "        ylims = (y.min()-(y.min()*0.002), y.max()-(y.max()*0.002))\n",
    "    return ylims"
   ]
  },
  {
   "cell_type": "code",
   "execution_count": null,
   "metadata": {},
   "outputs": [],
   "source": [
    "labels = ['a ($\\AA$)', 'b ($\\AA$)', 'c ($\\AA$)', 'volume ($\\AA^2$)']\n",
    "\n",
    "for i in range(len(labels)):\n",
    "    fig, axs = plt.subplots(1, 2, figsize=(4,8), sharey=True)\n",
    "    plt.subplots_adjust(wspace=0)\n",
    "    x = np.random.rand(len(calculated_parameters))\n",
    "    y = calculated_parameters.T[i]\n",
    "    gs = gridspec.GridSpec(1, 2, width_ratios=[2, 1])\n",
    "\n",
    "    axs[0] = scatter_plot(x,y,ref_DFT[i],labels[i],gs[0])\n",
    "    axs[1] = distribution_plot(y, gs[1])\n",
    "    ylims = y_limits(ref_DFT[i], y)\n",
    "    axs[0].set_ylim(ylims)\n",
    "    axs[1].set(ylim =ylims)\n",
    "#     plt.savefig('plots/2_structure_lattice_comparison_{}.png'.format(labels[i]),dpi=500, bbox_inches = \"tight\")\n",
    "    plt.show()\n"
   ]
  },
  {
   "cell_type": "code",
   "execution_count": null,
   "metadata": {},
   "outputs": [],
   "source": [
    "labels = ['a ($\\AA$)', 'b ($\\AA$)', 'c ($\\AA$)', 'volume ($\\AA^2$)']\n",
    "fig, axs = plt.subplots(1, 8, figsize=(20,8), sharey=True)\n",
    "plt.subplots_adjust(wspace=0.0)\n",
    "gs = gridspec.GridSpec(1, 8, width_ratios=[1, 0.5, 1, 0.5, 1, 0.5, 1, 0.5])\n",
    "\n",
    "for i, j in enumerate(range(0,8,2)):\n",
    "    y = calculated_parameters.T[i]\n",
    "    x = np.random.rand(len(y))\n",
    "    ylims = y_limits(ref_DFT[i], y)  \n",
    "    axs[j] = scatter_plot(x,y,ref_DFT[i],labels[i],gs[j])\n",
    "    axs[j+1] = distribution_plot(y, gs[j+1])\n",
    "    ylims = y_limits(ref_DFT[i], y)\n",
    "    axs[j].set_ylim(ylims)\n",
    "    axs[j+1].set(ylim =ylims)\n",
    "#     # plt.savefig('plots/2_structure_lattice_comparison.png',dpi=500, bbox_inches = \"tight\")\n",
    "plt.show()"
   ]
  },
  {
   "cell_type": "code",
   "execution_count": null,
   "metadata": {},
   "outputs": [],
   "source": []
  },
  {
   "cell_type": "code",
   "execution_count": null,
   "metadata": {},
   "outputs": [],
   "source": []
  },
  {
   "cell_type": "code",
   "execution_count": null,
   "metadata": {},
   "outputs": [],
   "source": [
    "# plt.plot([1,0.9,0.8,0.7,0.6,0.5,0.4, 0.3, 0.2, 0.1],[1.91447, 1.15191, 0.64100, 0.3006, 0.16467, 0.10002, 0.09871, 0.12966, 0.16898, 0.19944], '-ok')\n",
    "# plt.xlabel('charge scaling factor')\n",
    "# plt.ylabel('MSE')\n",
    "# plt.savefig('charge_scaling_error_plot.png',dpi=500, bbox_inches = \"tight\")\n",
    "# plt.show()"
   ]
  },
  {
   "cell_type": "code",
   "execution_count": null,
   "metadata": {},
   "outputs": [],
   "source": [
    "# plt.plot([1, 2, 3, 4, 5, 6, 7, 8],[0.25289, 0.27519, 0.28708, 0.29331, 0.30346, 0.30094, 0.30782, 0.30310], '-ok')\n",
    "# plt.xlabel('number of structures')\n",
    "# plt.ylabel('fit error')\n",
    "# plt.savefig('error_vs_numStructure.png',dpi=500, bbox_inches = \"tight\")\n",
    "# plt.show()"
   ]
  },
  {
   "cell_type": "code",
   "execution_count": null,
   "metadata": {},
   "outputs": [],
   "source": [
    "# Geometry optimised structure:\n",
    "#      fun: 0.00024535877391032265\n",
    "#        x: array([6.63110880e+02, 1.19385635e-01, 1.39354000e+03, 2.17550689e-01,\n",
    "#        2.58048072e+04, 2.84121273e-01])"
   ]
  },
  {
   "cell_type": "code",
   "execution_count": null,
   "metadata": {},
   "outputs": [],
   "source": [
    "#      fun: 0.00020117218726958615\n",
    "#        x: array([5.16859856e+02, 2.27622770e-01, 3.17959194e+02, 3.02641291e-01,\n",
    "#        1.56010420e+04, 3.00961159e-01])"
   ]
  },
  {
   "cell_type": "code",
   "execution_count": null,
   "metadata": {},
   "outputs": [],
   "source": [
    "#      fun: 2.9965469134567404e-05\n",
    "#        x: array([1.57187515e+03, 2.38087128e-01, 2.18242730e+02, 5.40287127e-01,\n",
    "#        3.67954544e+04, 3.99826009e-02])"
   ]
  },
  {
   "cell_type": "code",
   "execution_count": null,
   "metadata": {},
   "outputs": [],
   "source": [
    "#      fun: 0.00022146538630216886\n",
    "#        x: array([1.99884762e+03, 1.97915567e-01, 1.92779928e+03, 2.00805359e-01,\n",
    "#        2.23406599e+04, 2.91794009e-01])"
   ]
  },
  {
   "cell_type": "code",
   "execution_count": null,
   "metadata": {},
   "outputs": [],
   "source": [
    "#      fun: 0.00021587433861985865\n",
    "#        x: array([1.36449374e+03, 2.07769552e-01, 5.85016576e+02, 2.44567736e-01,\n",
    "#        2.12183128e+04, 2.92891694e-01])"
   ]
  },
  {
   "cell_type": "code",
   "execution_count": null,
   "metadata": {},
   "outputs": [],
   "source": [
    "#      fun: 0.0001749872704503645\n",
    "#        x: array([1.27061887e+03, 2.08855364e-01, 3.21011122e+02, 3.30160472e-01,\n",
    "#        8.15204948e+03, 3.24710512e-01])"
   ]
  },
  {
   "cell_type": "code",
   "execution_count": null,
   "metadata": {},
   "outputs": [],
   "source": [
    "#      fun: 0.00024201340356503294\n",
    "#        x: array([1.51933430e+03, 2.19804987e-01, 2.73284257e+03, 1.25871870e-01,\n",
    "#        3.99602258e+04, 2.74290327e-01])"
   ]
  },
  {
   "cell_type": "code",
   "execution_count": null,
   "metadata": {},
   "outputs": [],
   "source": [
    "#      fun: 3.0152162973553667e-05\n",
    "#        x: array([1.61227502e+03, 2.36678924e-01, 2.18410497e+02, 5.39111493e-01,\n",
    "#        1.18954090e+02, 2.72658396e-01])"
   ]
  },
  {
   "cell_type": "code",
   "execution_count": null,
   "metadata": {},
   "outputs": [],
   "source": [
    "#      fun: 0.00020736598495354775\n",
    "#        x: array([1.83446063e+03, 1.86905880e-01, 2.72859123e+02, 3.07100959e-01,\n",
    "#        2.00429777e+04, 2.91059506e-01])"
   ]
  },
  {
   "cell_type": "code",
   "execution_count": null,
   "metadata": {},
   "outputs": [],
   "source": []
  },
  {
   "cell_type": "code",
   "execution_count": null,
   "metadata": {},
   "outputs": [],
   "source": []
  }
 ],
 "metadata": {
  "kernelspec": {
   "display_name": "Python 3",
   "language": "python",
   "name": "python3"
  },
  "language_info": {
   "codemirror_mode": {
    "name": "ipython",
    "version": 3
   },
   "file_extension": ".py",
   "mimetype": "text/x-python",
   "name": "python",
   "nbconvert_exporter": "python",
   "pygments_lexer": "ipython3",
   "version": "3.7.3"
  }
 },
 "nbformat": 4,
 "nbformat_minor": 2
}
