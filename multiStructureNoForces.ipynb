{
 "cells": [
  {
   "cell_type": "code",
   "execution_count": 1,
   "metadata": {},
   "outputs": [],
   "source": [
    "import lammps\n",
    "import random\n",
    "from tqdm import trange\n",
    "import pymc3 as pm\n",
    "import arviz as az\n",
    "import numpy as np\n",
    "import pymatgen as pmg\n",
    "import theano.tensor as tt\n",
    "import glob"
   ]
  },
  {
   "cell_type": "code",
   "execution_count": 2,
   "metadata": {},
   "outputs": [],
   "source": [
    "elements = pmg.Element('O'), pmg.Element('Li'), pmg.Element('Ni')\n",
    "o, li, ni = elements\n",
    "\n",
    "charges = {\n",
    "    li: 1,\n",
    "    ni: 3,\n",
    "    o: -2,\n",
    "}\n",
    "\n",
    "bpp_def = {\n",
    "'O_O_A' : 22764.7000,\n",
    "'O_O_rho' : 0.1490,\n",
    "'O_O_C' : 20.765,\n",
    "'O_Li_A' : 632.1018,\n",
    "'O_Li_rho' : 0.2906,\n",
    "'O_Li_C' : 0.0,\n",
    "'O_Ni_A' : 1273.669,\n",
    "'O_Ni_rho' : 0.333,\n",
    "'O_Ni_C' : 0.0}\n",
    "\n",
    "bpp = {\n",
    "'O_O_A' : 22764.7000,\n",
    "'O_O_rho' : 0.1490,\n",
    "'O_O_C' : 20.765,\n",
    "'O_Li_A' : 632.1018,\n",
    "'O_Li_rho' : 0.2906,\n",
    "'O_Li_C' : 0.0,\n",
    "'O_Ni_A' : 1273.669,\n",
    "'O_Ni_rho' : 0.333,\n",
    "'O_Ni_C' : 0.1}\n",
    "\n",
    "pairs = [(o,o), (o,ni), (o,li)]\n",
    "structures = []\n",
    "for structure in glob.glob('POSCAR*'):\n",
    "    st = pmg.Structure.from_file(structure)\n",
    "    st.remove_oxidation_states()\n",
    "    structures.append(pmg.symmetry.analyzer.SpacegroupAnalyzer(st).get_conventional_standard_structure())"
   ]
  },
  {
   "cell_type": "code",
   "execution_count": 3,
   "metadata": {},
   "outputs": [],
   "source": [
    "def init(structure):\n",
    "    lmp = lammps.Lammps(units='electron', \n",
    "                    style = 'full',\n",
    "                    args=['-log', 'none', '-screen', 'none'])\n",
    "    lmp.system.add_pymatgen_structure(structure, elements)\n",
    "    lmp.command('kspace_style pppm 1e-6')\n",
    "\n",
    "    lmp.command('pair_style buck/coul/long 12.0')\n",
    "    lmp.command('pair_coeff * * 0 1 0')\n",
    "\n",
    "    \n",
    "\n",
    "    for c in charges:\n",
    "        lmp.command('set atom %d charge %f' % (elements.index(c)+1, charges[c]))\n",
    "    \n",
    "    return lmp"
   ]
  },
  {
   "cell_type": "code",
   "execution_count": 4,
   "metadata": {},
   "outputs": [],
   "source": [
    "def update_potentials(**kwargs):\n",
    "    bpp.update(kwargs)\n",
    "def set_potentials(instance):\n",
    "    for pair in pairs:\n",
    "\n",
    "        instance.command('pair_coeff {} {} {} {} {}'.format(dex(pair[0]), \n",
    "                                      dex(pair[1]),  \n",
    "                                      bpp['{}_{}_A'.format(pair[0], pair[1])], \n",
    "                                      bpp['{}_{}_rho'.format(pair[0], pair[1])],\n",
    "                                      bpp['{}_{}_C'.format(pair[0], pair[1])]\n",
    "                                     )\n",
    "             )\n",
    "        \n",
    "def dex(elin): return elements.index(elin) + 1"
   ]
  },
  {
   "cell_type": "code",
   "execution_count": 5,
   "metadata": {},
   "outputs": [],
   "source": [
    "def simfunc(**kwargs):\n",
    "    if min(kwargs.values()) > 0:\n",
    "        update_potentials(**kwargs)\n",
    "        \n",
    "        out = np.zeros([instances[0].system.total,3, len(instances)])\n",
    "        \n",
    "        \n",
    "        for instance in instances:\n",
    "            set_potentials(instance)\n",
    "            instance.run(0)\n",
    "            out[:,:,instances.index(instance)] = instance.system.forces\n",
    "            \n",
    "            \n",
    "            \n",
    "    else: out = np.ones([instances[0].system.total,3, len(instances)])*999999999 # ThisAlgorithmBecomingSkynetCost\n",
    "    return out"
   ]
  },
  {
   "cell_type": "code",
   "execution_count": 6,
   "metadata": {},
   "outputs": [],
   "source": [
    "instances = [init(structure) for structure in structures]"
   ]
  },
  {
   "cell_type": "code",
   "execution_count": 8,
   "metadata": {},
   "outputs": [
    {
     "ename": "IndexError",
     "evalue": "list index out of range",
     "output_type": "error",
     "traceback": [
      "\u001b[0;31m---------------------------------------------------------------------------\u001b[0m",
      "\u001b[0;31mIndexError\u001b[0m                                Traceback (most recent call last)",
      "\u001b[0;32m<ipython-input-8-be17e601fa87>\u001b[0m in \u001b[0;36m<module>\u001b[0;34m\u001b[0m\n\u001b[0;32m----> 1\u001b[0;31m \u001b[0mexpected\u001b[0m \u001b[0;34m=\u001b[0m \u001b[0mnp\u001b[0m\u001b[0;34m.\u001b[0m\u001b[0mzeros\u001b[0m\u001b[0;34m(\u001b[0m\u001b[0;34m[\u001b[0m\u001b[0minstances\u001b[0m\u001b[0;34m[\u001b[0m\u001b[0;36m0\u001b[0m\u001b[0;34m]\u001b[0m\u001b[0;34m.\u001b[0m\u001b[0msystem\u001b[0m\u001b[0;34m.\u001b[0m\u001b[0mtotal\u001b[0m\u001b[0;34m,\u001b[0m\u001b[0;36m3\u001b[0m\u001b[0;34m,\u001b[0m \u001b[0mlen\u001b[0m\u001b[0;34m(\u001b[0m\u001b[0minstances\u001b[0m\u001b[0;34m)\u001b[0m\u001b[0;34m]\u001b[0m\u001b[0;34m)\u001b[0m\u001b[0;34m\u001b[0m\u001b[0;34m\u001b[0m\u001b[0m\n\u001b[0m",
      "\u001b[0;31mIndexError\u001b[0m: list index out of range"
     ]
    }
   ],
   "source": [
    "expected = np.zeros([instances[0].system.total,3, len(instances)])"
   ]
  },
  {
   "cell_type": "code",
   "execution_count": null,
   "metadata": {},
   "outputs": [],
   "source": [
    "with pm.Model() as model:\n",
    "    O_O_C      = pm.Normal(\"O_O_C\",    mu = bpp_def['O_O_C'],    sd =  5)\n",
    "    O_Li_A     = pm.Normal(\"O_Li_A\",   mu = bpp_def['O_Li_A'],   sd =  100)\n",
    "    O_Li_rho   = pm.Normal(\"O_Li_rho\", mu = bpp_def['O_Li_rho'], sd =  0.1)\n",
    "    O_Mn_A     = pm.Normal(\"O_Ni_A\",   mu = bpp_def['O_Ni_A'],   sd =  50)\n",
    "    O_Mn_rho   = pm.Normal(\"O_Ni_rho\", mu = bpp_def['O_Ni_rho'], sd =  0.05)\n",
    "    \n",
    "    simulator = pm.Simulator('simulator', simfunc, observed=expected)\n",
    "    \n",
    "    trace = pm.sample(step=pm.SMC(ABC=True, epsilon=1), draws=100)"
   ]
  }
 ],
 "metadata": {
  "kernelspec": {
   "display_name": "Python 3",
   "language": "python",
   "name": "python3"
  },
  "language_info": {
   "codemirror_mode": {
    "name": "ipython",
    "version": 3
   },
   "file_extension": ".py",
   "mimetype": "text/x-python",
   "name": "python",
   "nbconvert_exporter": "python",
   "pygments_lexer": "ipython3",
   "version": "3.7.3"
  }
 },
 "nbformat": 4,
 "nbformat_minor": 2
}
