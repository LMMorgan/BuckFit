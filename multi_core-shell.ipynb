{
 "cells": [
  {
   "cell_type": "code",
   "execution_count": 1,
   "metadata": {},
   "outputs": [],
   "source": [
    "import lammps\n",
    "import random\n",
    "from tqdm import trange\n",
    "import pymc3 as pm\n",
    "import arviz as az\n",
    "import numpy as np\n",
    "import pymatgen as pmg\n",
    "import theano.tensor as tt\n",
    "import glob\n",
    "\n",
    "from poscar_to_lammps import poscar_to_lammps\n",
    "from pymatgen.io.vasp import Poscar\n",
    "\n",
    "import sys\n",
    "from contextlib import contextmanager"
   ]
  },
  {
   "cell_type": "code",
   "execution_count": 2,
   "metadata": {},
   "outputs": [],
   "source": [
    "def setup_parameters():\n",
    "    \"\"\"\n",
    "    Contains and returns the setup information.\n",
    "    \n",
    "    Args:\n",
    "        None.\n",
    "\n",
    "    Returns:\n",
    "        core_shell (dict): A dictionary of booleans defining which elements are core-shell species.\n",
    "                           Key = atom label (str) and value = True or False (bool)\n",
    "        charges (dict): A dictionary of charges for each atom type. Key = Atom label(str),\n",
    "                        value = either the charge (float) for non-core-shell species, or a sub-dictionary\n",
    "                        containing { 'core': core_charge (float), 'shell': shell_charge (float) }.\n",
    "        structures (list): A list of lammps input file names generated from the POSCARs.\n",
    "        elements (list): A list of the elements in the structure, with core and shell entered separately.\n",
    "        pairs (list): A list of interacting atom pairs used for defining the pair_coeff.\n",
    "        cs_springs (dict): A dictionary of the bond_coeff values. Key = atom label and\n",
    "                           values = K (energy/distance^2) and r0 (equilibrium bond distance) (list).\n",
    "        bpp_def (dict): A dictionary of the default/starting values for the buckingham potentials.\n",
    "                        Key = atom1_atom2_parameter (str) and value = parameter (float).\n",
    "        bpp (dict): Same as bpp_def however the values will change during the fitting process.\n",
    "                    Key = atom1_atom2_parameter (str) and value = parameter (float).\n",
    "    \"\"\"\n",
    "    core_shell = { 'Li': False , 'Ni': False, 'O': True}\n",
    "\n",
    "    charges = {'Li': +1.0,\n",
    "               'Ni': +3.0,\n",
    "               'O': {'core':  +0.960,\n",
    "                     'shell': -2.960}}\n",
    "    \n",
    "     # 3. Load a POSCAR or list of POSCARs using pymatgen and appends to a list of structures\n",
    "    structures = structs_from_poscars(core_shell, charges)\n",
    "\n",
    "    elements = ['Li', 'Ni', 'Oc', 'O'] #shells must be stated as element label. Relabel cores if needed.\n",
    "    li, ni, oc, o = elements\n",
    "\n",
    "    pairs = [(li,o), (ni,o), (o,o)]\n",
    "\n",
    "    #Must be in same order given in charges dictionary\n",
    "    cs_springs = {o : [65.0, 0.0]} #Set to None if not using any core-shells\n",
    "\n",
    "    bpp_def = {'Li_O_A'   : 456.783,\n",
    "               'Li_O_rho' : 0.212,\n",
    "               'Li_O_C'   : 0.0,\n",
    "               'Ni_O_A'   : 1540.922,\n",
    "               'Ni_O_rho' : 0.323,\n",
    "               'Ni_O_C'   : 0.425,\n",
    "               'O_O_A'    : 22764.7000,\n",
    "               'O_O_rho'  : 0.1490,\n",
    "               'O_O_C'    : 20.4}\n",
    "\n",
    "    bpp = {'Li_O_A'   : 456.783,\n",
    "           'Li_O_rho' : 0.212,\n",
    "           'Li_O_C'   : 0.0,\n",
    "           'Ni_O_A'   : 1540.922,\n",
    "           'Ni_O_rho' : 0.323,\n",
    "           'Ni_O_C'   : 0.425,\n",
    "           'O_O_A'    : 22764.7000,\n",
    "           'O_O_rho'  : 0.1490,\n",
    "           'O_O_C'    : 20.4}\n",
    "    \n",
    "    return core_shell, charges, structures, elements, pairs, cs_springs, bpp_def, bpp"
   ]
  },
  {
   "cell_type": "code",
   "execution_count": 3,
   "metadata": {},
   "outputs": [],
   "source": [
    "@contextmanager\n",
    "def custom_redirection(fileobj):\n",
    "    \"\"\"\n",
    "    Redirects print to file.\n",
    "    \n",
    "    Args:\n",
    "        fileobj (file): File name to redirect print to\n",
    "\n",
    "    Returns:\n",
    "        None.\n",
    "    \"\"\"\n",
    "    old = sys.stdout\n",
    "    sys.stdout = fileobj\n",
    "    try:\n",
    "        yield fileobj\n",
    "    finally:\n",
    "        sys.stdout = old\n",
    "\n",
    "def structs_from_poscars(core_shell, charges):\n",
    "    \"\"\"\n",
    "    Reads in POSCARs, creates equivalent lammps inputs.\n",
    "    \n",
    "    Args:\n",
    "        core_shell (dict): A dictionary of booleans stating if any atoms should be made core-shell.\n",
    "        charges (dict): A dictionary of charges for each atom type. Key = Atom label(str),\n",
    "                        value = charge(float)/sub_dict(dict). If atom is core-shell a sub dictionary\n",
    "                        will be the value, where sub_key = 'core' or 'shell' and sub_value = charge(float).\n",
    "\n",
    "    Returns:\n",
    "        structures (list): A list of lammps imput file names generated from the POSCARs.\n",
    "    \"\"\"\n",
    "    structures = []\n",
    "    for i, structure in enumerate(glob.glob('poscars/POSCAR*')):\n",
    "        file = 'lammps/coords{}.lmp'.format(i+1)\n",
    "        with open(file, 'w') as struct:\n",
    "            with custom_redirection(struct):\n",
    "                poscar = Poscar.from_file(structure)\n",
    "                poscar_to_lammps(poscar, core_shell, charges )\n",
    "        structures.append(file)\n",
    "    return structures"
   ]
  },
  {
   "cell_type": "code",
   "execution_count": 4,
   "metadata": {},
   "outputs": [],
   "source": [
    "core_shell, charges, structures, elements, pairs, cs_springs, bpp_def, bpp = setup_parameters()"
   ]
  },
  {
   "cell_type": "code",
   "execution_count": 5,
   "metadata": {},
   "outputs": [],
   "source": [
    "def init(structure, cs_springs=None):\n",
    "    \"\"\"\n",
    "    Initialises the system from the structure (read in from lammps input) and non-changing parameters.\n",
    "    \n",
    "    Args:\n",
    "        structure (str): Name of lammps input file.\n",
    "        cs_springs (dict): A dictionary of the bond_coeff values. Key = atom label and\n",
    "                           values = K (energy/distance^2) and r0 (equilibrium bond distance) (list).\n",
    "                           Default = None.\n",
    "\n",
    "    Returns:\n",
    "        lmp (Lammps): Lammps system with structure and specified commands implemented.\n",
    "    \"\"\"\n",
    "    lmp = lammps.Lammps(units='metal', style = 'full', args=['-log', 'none', '-screen', 'none'])\n",
    "    lmp.command('fix csinfo all property/atom i_CSID')\n",
    "    lmp.command('read_data {} fix csinfo NULL CS-Info'.format(structure))\n",
    "\n",
    "    lmp.command('group cores type 3') #MAKE BOTH MORE GENERIC FROM READING CHARGE LIST?\n",
    "    lmp.command('group shells type 4')\n",
    "\n",
    "    if cs_springs:\n",
    "        lmp.command('pair_style buck/coul/long/cs 10.0')\n",
    "        lmp.command('pair_coeff * * 0 1 0')\n",
    "\n",
    "        lmp.command('bond_style harmonic')\n",
    "        for i, spring in enumerate(cs_springs):\n",
    "            lmp.command('bond_coeff {} {} {}'.format(i+1,\n",
    "                                                     cs_springs[spring][0],\n",
    "                                                     cs_springs[spring][1]))\n",
    "    else:\n",
    "        lmp.command('pair_style buck/coul/long 10.0')\n",
    "        lmp.command('pair_coeff * * 0 1 0')\n",
    "    \n",
    "    lmp.command('kspace_style pppm 1e-6')\n",
    "\n",
    "    #setup for minimization\n",
    "    lmp.command('min_style cg')\n",
    "\n",
    "    return lmp"
   ]
  },
  {
   "cell_type": "code",
   "execution_count": 6,
   "metadata": {},
   "outputs": [],
   "source": [
    "def update_potentials(**kwargs):\n",
    "    \"\"\"\n",
    "    Unpdates the potentials for the fitting process.\n",
    "\n",
    "    Args:\n",
    "        **kwargs: The parameters to be updated in the fitting process as set with pm.Model.\n",
    "\n",
    "    Returns:\n",
    "        None.\n",
    "    \"\"\"\n",
    "    bpp.update(kwargs)\n",
    "    \n",
    "def set_potentials(instance):\n",
    "    \"\"\"\n",
    "    Sets the potential for the sepecified Lammps system (changes for each iteration of the potential fit).\n",
    "\n",
    "    Args:\n",
    "        instance (Lammps): Lammps system with structure and specified commands implemented.\n",
    "\n",
    "    Returns:\n",
    "        None\n",
    "    \"\"\"\n",
    "    for pair in pairs:\n",
    "        instance.command('pair_coeff {} {} {} {} {}'.format(dex(pair[0]),\n",
    "                                                            dex(pair[1]),\n",
    "                                                            bpp['{}_{}_A'.format(pair[0], pair[1])],\n",
    "                                                            bpp['{}_{}_rho'.format(pair[0], pair[1])],\n",
    "                                                            bpp['{}_{}_C'.format(pair[0], pair[1])]))\n",
    "\n",
    "def dex(elin): return elements.index(elin) + 1"
   ]
  },
  {
   "cell_type": "code",
   "execution_count": 7,
   "metadata": {},
   "outputs": [],
   "source": [
    "def simfunc(**kwargs):\n",
    "    \"\"\"\n",
    "    Runs a minimization and run for each instance and returns the forces.\n",
    "\n",
    "    Args:\n",
    "        **kwargs: Contain data for type of fitting and to what parameters as set with pm.Model.\n",
    "\n",
    "    Returns:\n",
    "        out (np.array): x,y,z forces on each atom associated with each given instance.\n",
    "    \"\"\"    \n",
    "    if min(kwargs.values()) > 0:\n",
    "        update_potentials(**kwargs)\n",
    "        out = np.zeros([instances[0].system.total,3, len(instances)])\n",
    "        \n",
    "        for instance in instances:\n",
    "            set_potentials(instance)\n",
    "            instance.command('fix 1 cores setforce 0.0 0.0 0.0')\n",
    "            instance.command('minimize 1e-5 1e-5 5000 10000')\n",
    "            instance.command('unfix 1')\n",
    "            instance.run(0)            \n",
    "            out[:,:,instances.index(instance)] = instance.system.forces\n",
    "            \n",
    "    else: out = np.ones([instances[0].system.total,3, len(instances)])*999999999 # ThisAlgorithmBecomingSkynetCost\n",
    "        \n",
    "    return out"
   ]
  },
  {
   "cell_type": "code",
   "execution_count": 8,
   "metadata": {},
   "outputs": [],
   "source": [
    "instances = [init(structure, cs_springs) for structure in structures]"
   ]
  },
  {
   "cell_type": "code",
   "execution_count": 9,
   "metadata": {},
   "outputs": [],
   "source": [
    "expected = np.zeros([instances[0].system.total,3, len(instances)])"
   ]
  },
  {
   "cell_type": "code",
   "execution_count": 10,
   "metadata": {},
   "outputs": [
    {
     "name": "stderr",
     "output_type": "stream",
     "text": [
      "Sample initial stage: ...\n",
      "/Users/lmm82/.pyenv/versions/3.7.3/lib/python3.7/site-packages/pymc3/step_methods/smc.py:176: UserWarning: Warning: SMC-ABC methods are experimental step methods and not yet recommended for use in PyMC3!\n",
      "  warnings.warn(EXPERIMENTAL_WARNING)\n"
     ]
    },
    {
     "ename": "KeyboardInterrupt",
     "evalue": "",
     "output_type": "error",
     "traceback": [
      "\u001b[0;31m---------------------------------------------------------------------------\u001b[0m",
      "\u001b[0;31mKeyboardInterrupt\u001b[0m                         Traceback (most recent call last)",
      "\u001b[0;32m<ipython-input-10-eb3ddae6f354>\u001b[0m in \u001b[0;36m<module>\u001b[0;34m\u001b[0m\n\u001b[1;32m     13\u001b[0m     \u001b[0msimulator\u001b[0m \u001b[0;34m=\u001b[0m \u001b[0mpm\u001b[0m\u001b[0;34m.\u001b[0m\u001b[0mSimulator\u001b[0m\u001b[0;34m(\u001b[0m\u001b[0;34m'simulator'\u001b[0m\u001b[0;34m,\u001b[0m \u001b[0msimfunc\u001b[0m\u001b[0;34m,\u001b[0m \u001b[0mobserved\u001b[0m\u001b[0;34m=\u001b[0m\u001b[0mexpected\u001b[0m\u001b[0;34m)\u001b[0m\u001b[0;34m\u001b[0m\u001b[0;34m\u001b[0m\u001b[0m\n\u001b[1;32m     14\u001b[0m \u001b[0;34m\u001b[0m\u001b[0m\n\u001b[0;32m---> 15\u001b[0;31m     \u001b[0mtrace\u001b[0m \u001b[0;34m=\u001b[0m \u001b[0mpm\u001b[0m\u001b[0;34m.\u001b[0m\u001b[0msample\u001b[0m\u001b[0;34m(\u001b[0m\u001b[0mstep\u001b[0m\u001b[0;34m=\u001b[0m\u001b[0mpm\u001b[0m\u001b[0;34m.\u001b[0m\u001b[0mSMC\u001b[0m\u001b[0;34m(\u001b[0m\u001b[0mABC\u001b[0m\u001b[0;34m=\u001b[0m\u001b[0;32mTrue\u001b[0m\u001b[0;34m,\u001b[0m \u001b[0mepsilon\u001b[0m\u001b[0;34m=\u001b[0m\u001b[0;36m0.1\u001b[0m\u001b[0;34m)\u001b[0m\u001b[0;34m,\u001b[0m \u001b[0mdraws\u001b[0m\u001b[0;34m=\u001b[0m\u001b[0;36m5000\u001b[0m\u001b[0;34m)\u001b[0m\u001b[0;34m\u001b[0m\u001b[0;34m\u001b[0m\u001b[0m\n\u001b[0m",
      "\u001b[0;32m~/.pyenv/versions/3.7.3/lib/python3.7/site-packages/pymc3/sampling.py\u001b[0m in \u001b[0;36msample\u001b[0;34m(draws, step, init, n_init, start, trace, chain_idx, chains, cores, tune, progressbar, model, random_seed, live_plot, discard_tuned_samples, live_plot_kwargs, compute_convergence_checks, **kwargs)\u001b[0m\n\u001b[1;32m    339\u001b[0m                                \u001b[0mprogressbar\u001b[0m\u001b[0;34m=\u001b[0m\u001b[0mprogressbar\u001b[0m\u001b[0;34m,\u001b[0m\u001b[0;34m\u001b[0m\u001b[0;34m\u001b[0m\u001b[0m\n\u001b[1;32m    340\u001b[0m                                \u001b[0mmodel\u001b[0m\u001b[0;34m=\u001b[0m\u001b[0mmodel\u001b[0m\u001b[0;34m,\u001b[0m\u001b[0;34m\u001b[0m\u001b[0;34m\u001b[0m\u001b[0m\n\u001b[0;32m--> 341\u001b[0;31m                                random_seed=random_seed)\n\u001b[0m\u001b[1;32m    342\u001b[0m     \u001b[0;32melse\u001b[0m\u001b[0;34m:\u001b[0m\u001b[0;34m\u001b[0m\u001b[0;34m\u001b[0m\u001b[0m\n\u001b[1;32m    343\u001b[0m         \u001b[0;32mif\u001b[0m \u001b[0;34m'njobs'\u001b[0m \u001b[0;32min\u001b[0m \u001b[0mkwargs\u001b[0m\u001b[0;34m:\u001b[0m\u001b[0;34m\u001b[0m\u001b[0;34m\u001b[0m\u001b[0m\n",
      "\u001b[0;32m~/.pyenv/versions/3.7.3/lib/python3.7/site-packages/pymc3/step_methods/smc.py\u001b[0m in \u001b[0;36msample_smc\u001b[0;34m(draws, step, cores, progressbar, model, random_seed)\u001b[0m\n\u001b[1;32m    190\u001b[0m     \u001b[0;32mwhile\u001b[0m \u001b[0mbeta\u001b[0m \u001b[0;34m<\u001b[0m \u001b[0;36m1\u001b[0m\u001b[0;34m:\u001b[0m\u001b[0;34m\u001b[0m\u001b[0;34m\u001b[0m\u001b[0m\n\u001b[1;32m    191\u001b[0m \u001b[0;34m\u001b[0m\u001b[0m\n\u001b[0;32m--> 192\u001b[0;31m         \u001b[0mlikelihoods\u001b[0m \u001b[0;34m=\u001b[0m \u001b[0mnp\u001b[0m\u001b[0;34m.\u001b[0m\u001b[0marray\u001b[0m\u001b[0;34m(\u001b[0m\u001b[0;34m[\u001b[0m\u001b[0mlikelihood_logp\u001b[0m\u001b[0;34m(\u001b[0m\u001b[0msample\u001b[0m\u001b[0;34m)\u001b[0m \u001b[0;32mfor\u001b[0m \u001b[0msample\u001b[0m \u001b[0;32min\u001b[0m \u001b[0mposterior\u001b[0m\u001b[0;34m]\u001b[0m\u001b[0;34m)\u001b[0m\u001b[0;34m.\u001b[0m\u001b[0msqueeze\u001b[0m\u001b[0;34m(\u001b[0m\u001b[0;34m)\u001b[0m\u001b[0;34m\u001b[0m\u001b[0;34m\u001b[0m\u001b[0m\n\u001b[0m\u001b[1;32m    193\u001b[0m         \u001b[0mbeta\u001b[0m\u001b[0;34m,\u001b[0m \u001b[0mold_beta\u001b[0m\u001b[0;34m,\u001b[0m \u001b[0mweights\u001b[0m\u001b[0;34m,\u001b[0m \u001b[0msj\u001b[0m \u001b[0;34m=\u001b[0m \u001b[0mcalc_beta\u001b[0m\u001b[0;34m(\u001b[0m\u001b[0mbeta\u001b[0m\u001b[0;34m,\u001b[0m \u001b[0mlikelihoods\u001b[0m\u001b[0;34m,\u001b[0m \u001b[0mstep\u001b[0m\u001b[0;34m.\u001b[0m\u001b[0mthreshold\u001b[0m\u001b[0;34m)\u001b[0m\u001b[0;34m\u001b[0m\u001b[0;34m\u001b[0m\u001b[0m\n\u001b[1;32m    194\u001b[0m         \u001b[0mmodel\u001b[0m\u001b[0;34m.\u001b[0m\u001b[0mmarginal_likelihood\u001b[0m \u001b[0;34m*=\u001b[0m \u001b[0msj\u001b[0m\u001b[0;34m\u001b[0m\u001b[0;34m\u001b[0m\u001b[0m\n",
      "\u001b[0;32m~/.pyenv/versions/3.7.3/lib/python3.7/site-packages/pymc3/step_methods/smc.py\u001b[0m in \u001b[0;36m<listcomp>\u001b[0;34m(.0)\u001b[0m\n\u001b[1;32m    190\u001b[0m     \u001b[0;32mwhile\u001b[0m \u001b[0mbeta\u001b[0m \u001b[0;34m<\u001b[0m \u001b[0;36m1\u001b[0m\u001b[0;34m:\u001b[0m\u001b[0;34m\u001b[0m\u001b[0;34m\u001b[0m\u001b[0m\n\u001b[1;32m    191\u001b[0m \u001b[0;34m\u001b[0m\u001b[0m\n\u001b[0;32m--> 192\u001b[0;31m         \u001b[0mlikelihoods\u001b[0m \u001b[0;34m=\u001b[0m \u001b[0mnp\u001b[0m\u001b[0;34m.\u001b[0m\u001b[0marray\u001b[0m\u001b[0;34m(\u001b[0m\u001b[0;34m[\u001b[0m\u001b[0mlikelihood_logp\u001b[0m\u001b[0;34m(\u001b[0m\u001b[0msample\u001b[0m\u001b[0;34m)\u001b[0m \u001b[0;32mfor\u001b[0m \u001b[0msample\u001b[0m \u001b[0;32min\u001b[0m \u001b[0mposterior\u001b[0m\u001b[0;34m]\u001b[0m\u001b[0;34m)\u001b[0m\u001b[0;34m.\u001b[0m\u001b[0msqueeze\u001b[0m\u001b[0;34m(\u001b[0m\u001b[0;34m)\u001b[0m\u001b[0;34m\u001b[0m\u001b[0;34m\u001b[0m\u001b[0m\n\u001b[0m\u001b[1;32m    193\u001b[0m         \u001b[0mbeta\u001b[0m\u001b[0;34m,\u001b[0m \u001b[0mold_beta\u001b[0m\u001b[0;34m,\u001b[0m \u001b[0mweights\u001b[0m\u001b[0;34m,\u001b[0m \u001b[0msj\u001b[0m \u001b[0;34m=\u001b[0m \u001b[0mcalc_beta\u001b[0m\u001b[0;34m(\u001b[0m\u001b[0mbeta\u001b[0m\u001b[0;34m,\u001b[0m \u001b[0mlikelihoods\u001b[0m\u001b[0;34m,\u001b[0m \u001b[0mstep\u001b[0m\u001b[0;34m.\u001b[0m\u001b[0mthreshold\u001b[0m\u001b[0;34m)\u001b[0m\u001b[0;34m\u001b[0m\u001b[0;34m\u001b[0m\u001b[0m\n\u001b[1;32m    194\u001b[0m         \u001b[0mmodel\u001b[0m\u001b[0;34m.\u001b[0m\u001b[0mmarginal_likelihood\u001b[0m \u001b[0;34m*=\u001b[0m \u001b[0msj\u001b[0m\u001b[0;34m\u001b[0m\u001b[0;34m\u001b[0m\u001b[0m\n",
      "\u001b[0;32m~/.pyenv/versions/3.7.3/lib/python3.7/site-packages/pymc3/step_methods/smc_utils.py\u001b[0m in \u001b[0;36m__call__\u001b[0;34m(self, posterior)\u001b[0m\n\u001b[1;32m    277\u001b[0m         \"\"\"\n\u001b[1;32m    278\u001b[0m         \u001b[0mfunc_parameters\u001b[0m \u001b[0;34m=\u001b[0m \u001b[0mself\u001b[0m\u001b[0;34m.\u001b[0m\u001b[0mposterior_to_function\u001b[0m\u001b[0;34m(\u001b[0m\u001b[0mposterior\u001b[0m\u001b[0;34m)\u001b[0m\u001b[0;34m\u001b[0m\u001b[0;34m\u001b[0m\u001b[0m\n\u001b[0;32m--> 279\u001b[0;31m         \u001b[0msim_data\u001b[0m \u001b[0;34m=\u001b[0m \u001b[0mself\u001b[0m\u001b[0;34m.\u001b[0m\u001b[0mfunction\u001b[0m\u001b[0;34m(\u001b[0m\u001b[0;34m**\u001b[0m\u001b[0mfunc_parameters\u001b[0m\u001b[0;34m)\u001b[0m\u001b[0;34m\u001b[0m\u001b[0;34m\u001b[0m\u001b[0m\n\u001b[0m\u001b[1;32m    280\u001b[0m         \u001b[0mvalue\u001b[0m \u001b[0;34m=\u001b[0m \u001b[0mself\u001b[0m\u001b[0;34m.\u001b[0m\u001b[0mdist_func\u001b[0m\u001b[0;34m(\u001b[0m\u001b[0mself\u001b[0m\u001b[0;34m.\u001b[0m\u001b[0mobservations\u001b[0m\u001b[0;34m,\u001b[0m \u001b[0msim_data\u001b[0m\u001b[0;34m)\u001b[0m\u001b[0;34m\u001b[0m\u001b[0;34m\u001b[0m\u001b[0m\n\u001b[1;32m    281\u001b[0m         \u001b[0;32mreturn\u001b[0m \u001b[0mself\u001b[0m\u001b[0;34m.\u001b[0m\u001b[0mkernel\u001b[0m\u001b[0;34m(\u001b[0m\u001b[0mvalue\u001b[0m\u001b[0;34m)\u001b[0m\u001b[0;34m\u001b[0m\u001b[0;34m\u001b[0m\u001b[0m\n",
      "\u001b[0;32m<ipython-input-7-6c7f9e976416>\u001b[0m in \u001b[0;36msimfunc\u001b[0;34m(**kwargs)\u001b[0m\n\u001b[1;32m     16\u001b[0m             \u001b[0mset_potentials\u001b[0m\u001b[0;34m(\u001b[0m\u001b[0minstance\u001b[0m\u001b[0;34m)\u001b[0m\u001b[0;34m\u001b[0m\u001b[0;34m\u001b[0m\u001b[0m\n\u001b[1;32m     17\u001b[0m             \u001b[0minstance\u001b[0m\u001b[0;34m.\u001b[0m\u001b[0mcommand\u001b[0m\u001b[0;34m(\u001b[0m\u001b[0;34m'fix 1 cores setforce 0.0 0.0 0.0'\u001b[0m\u001b[0;34m)\u001b[0m\u001b[0;34m\u001b[0m\u001b[0;34m\u001b[0m\u001b[0m\n\u001b[0;32m---> 18\u001b[0;31m             \u001b[0minstance\u001b[0m\u001b[0;34m.\u001b[0m\u001b[0mcommand\u001b[0m\u001b[0;34m(\u001b[0m\u001b[0;34m'minimize 1e-5 1e-5 5000 10000'\u001b[0m\u001b[0;34m)\u001b[0m\u001b[0;34m\u001b[0m\u001b[0;34m\u001b[0m\u001b[0m\n\u001b[0m\u001b[1;32m     19\u001b[0m             \u001b[0minstance\u001b[0m\u001b[0;34m.\u001b[0m\u001b[0mcommand\u001b[0m\u001b[0;34m(\u001b[0m\u001b[0;34m'unfix 1'\u001b[0m\u001b[0;34m)\u001b[0m\u001b[0;34m\u001b[0m\u001b[0;34m\u001b[0m\u001b[0m\n\u001b[1;32m     20\u001b[0m             \u001b[0minstance\u001b[0m\u001b[0;34m.\u001b[0m\u001b[0mrun\u001b[0m\u001b[0;34m(\u001b[0m\u001b[0;36m0\u001b[0m\u001b[0;34m)\u001b[0m\u001b[0;34m\u001b[0m\u001b[0;34m\u001b[0m\u001b[0m\n",
      "\u001b[0;31mKeyboardInterrupt\u001b[0m: "
     ]
    }
   ],
   "source": [
    "with pm.Model() as model:\n",
    "#  pm.TruncatedNormal -- truncated so never tries a negative    pm.Uniform\n",
    "    Li_O_A      = pm.Normal(\"Li_O_A\",    mu = bpp_def['Li_O_A'],    sd =  100)\n",
    "    Li_O_rho    = pm.Normal(\"Li_O_rho\",  mu = bpp_def['Li_O_rho'],  sd =  0.05)\n",
    "#     Li_O_C      = pm.Normal(\"Li_O_C\",    mu = bpp_def['Li_O_C'],    sd =  0.01)\n",
    "    Ni_O_A      = pm.Normal(\"Ni_O_A\",    mu = bpp_def['Ni_O_A'],    sd =  100)\n",
    "    Ni_O_rho    = pm.Normal(\"Ni_O_rho\",  mu = bpp_def['Ni_O_rho'],  sd =  0.05)\n",
    "    Ni_O_C      = pm.Normal(\"Ni_O_C\",    mu = bpp_def['Ni_O_C'],    sd =  0.05)\n",
    "    O_O_A       = pm.Normal(\"O_O_A\",     mu = bpp_def['O_O_A'],     sd =  100)\n",
    "    O_O_rho     = pm.Normal(\"O_O_rho\",   mu = bpp_def['O_O_rho'],   sd =  0.05)\n",
    "    O_O_C       = pm.Normal(\"O_O_C\",     mu = bpp_def['O_O_C'],     sd =  5)\n",
    "    \n",
    "    simulator = pm.Simulator('simulator', simfunc, observed=expected)\n",
    "    \n",
    "    trace = pm.sample(step=pm.SMC(ABC=True, epsilon=0.1), draws=5000)\n"
   ]
  },
  {
   "cell_type": "code",
   "execution_count": null,
   "metadata": {},
   "outputs": [],
   "source": [
    "az.style.use('arviz-darkgrid')\n",
    "az.plot_trace(trace)"
   ]
  },
  {
   "cell_type": "code",
   "execution_count": null,
   "metadata": {},
   "outputs": [],
   "source": [
    "az.plot_posterior(trace, round_to = 3, point_estimate = 'mode')"
   ]
  },
  {
   "cell_type": "code",
   "execution_count": null,
   "metadata": {},
   "outputs": [],
   "source": []
  },
  {
   "cell_type": "code",
   "execution_count": null,
   "metadata": {},
   "outputs": [],
   "source": []
  },
  {
   "cell_type": "code",
   "execution_count": null,
   "metadata": {},
   "outputs": [],
   "source": []
  },
  {
   "cell_type": "code",
   "execution_count": null,
   "metadata": {},
   "outputs": [],
   "source": []
  },
  {
   "cell_type": "code",
   "execution_count": null,
   "metadata": {},
   "outputs": [],
   "source": []
  },
  {
   "cell_type": "code",
   "execution_count": null,
   "metadata": {},
   "outputs": [],
   "source": []
  },
  {
   "cell_type": "code",
   "execution_count": null,
   "metadata": {},
   "outputs": [],
   "source": []
  },
  {
   "cell_type": "code",
   "execution_count": null,
   "metadata": {},
   "outputs": [],
   "source": []
  },
  {
   "cell_type": "code",
   "execution_count": null,
   "metadata": {},
   "outputs": [],
   "source": []
  },
  {
   "cell_type": "code",
   "execution_count": null,
   "metadata": {},
   "outputs": [],
   "source": []
  },
  {
   "cell_type": "code",
   "execution_count": null,
   "metadata": {},
   "outputs": [],
   "source": []
  },
  {
   "cell_type": "code",
   "execution_count": null,
   "metadata": {},
   "outputs": [],
   "source": []
  },
  {
   "cell_type": "code",
   "execution_count": null,
   "metadata": {},
   "outputs": [],
   "source": []
  }
 ],
 "metadata": {
  "kernelspec": {
   "display_name": "Python 3",
   "language": "python",
   "name": "python3"
  },
  "language_info": {
   "codemirror_mode": {
    "name": "ipython",
    "version": 3
   },
   "file_extension": ".py",
   "mimetype": "text/x-python",
   "name": "python",
   "nbconvert_exporter": "python",
   "pygments_lexer": "ipython3",
   "version": "3.7.3"
  }
 },
 "nbformat": 4,
 "nbformat_minor": 2
}
