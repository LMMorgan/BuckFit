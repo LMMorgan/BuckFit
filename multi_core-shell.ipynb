{
 "cells": [
  {
   "cell_type": "code",
   "execution_count": 1,
   "metadata": {},
   "outputs": [],
   "source": [
    "import lammps\n",
    "import random\n",
    "from tqdm import trange\n",
    "import pymc3 as pm\n",
    "import arviz as az\n",
    "import numpy as np\n",
    "import pymatgen as pmg\n",
    "import theano.tensor as tt\n",
    "import glob\n",
    "\n",
    "from poscar_to_lammps import poscar_to_lammps\n",
    "from pymatgen.io.vasp import Poscar\n",
    "\n",
    "import sys\n",
    "from contextlib import contextmanager"
   ]
  },
  {
   "cell_type": "code",
   "execution_count": 2,
   "metadata": {},
   "outputs": [],
   "source": [
    "@contextmanager\n",
    "def custom_redirection(fileobj):\n",
    "    old = sys.stdout\n",
    "    sys.stdout = fileobj\n",
    "    try:\n",
    "        yield fileobj\n",
    "    finally:\n",
    "        sys.stdout = old\n",
    "\n",
    "def structs_from_poscars(core_shell, charges):\n",
    "    structures = []\n",
    "    for i, structure in enumerate(glob.glob('poscars/POSCAR*')):\n",
    "        file = 'lammps/coords{}.lmp'.format(i+1)\n",
    "        with open(file, 'w') as struct:\n",
    "            with custom_redirection(struct):\n",
    "                poscar = Poscar.from_file(structure)\n",
    "                poscar_to_lammps(poscar, core_shell, charges )\n",
    "        structures.append(file)\n",
    "    return structures"
   ]
  },
  {
   "cell_type": "code",
   "execution_count": 3,
   "metadata": {},
   "outputs": [],
   "source": [
    "# 1. Define which elements are core-shell species\n",
    "core_shell = { 'Li': False , 'Ni': False, 'O': True}\n",
    "\n",
    "# 2. Set charges: dictionary values are either a single number for non-core-shell species, \n",
    "# or a sub-dictionary containing { 'core': core_charge, 'shell': shell_charge }\n",
    "charges = {'Li': +1.0,\n",
    "           'Ni': +3.0,\n",
    "           'O': {'core':  +0.960,\n",
    "                 'shell': -2.960}}\n",
    " # 3. Load a POSCAR or list of using pymatgen and appends to a list of structures\n",
    "structures = structs_from_poscars(core_shell, charges)\n",
    "\n",
    "elements = ['Li', 'Ni', 'Oc', 'O']\n",
    "li, ni, oc, o = elements\n",
    "\n",
    "pairs = [(li,o), (ni,o), (o,o)]\n",
    "\n",
    "bpp_def = {'Li_O_A'   : 456.783,\n",
    "           'Li_O_rho' : 0.212,\n",
    "           'Li_O_C'   : 0.0,\n",
    "           'Ni_O_A'   : 1540.922,\n",
    "           'Ni_O_rho' : 0.323,\n",
    "           'Ni_O_C'   : 0.425,\n",
    "           'O_O_A'    : 22764.7000,\n",
    "           'O_O_rho'  : 0.1490,\n",
    "           'O_O_C'    : 20.4}\n",
    "\n",
    "bpp = {'Li_O_A'   : 456.783,\n",
    "       'Li_O_rho' : 0.212,\n",
    "       'Li_O_C'   : 0.0,\n",
    "       'Ni_O_A'   : 1540.922,\n",
    "       'Ni_O_rho' : 0.323,\n",
    "       'Ni_O_C'   : 0.425,\n",
    "       'O_O_A'    : 22764.7000,\n",
    "       'O_O_rho'  : 0.1490,\n",
    "       'O_O_C'    : 20.4}\n"
   ]
  },
  {
   "cell_type": "code",
   "execution_count": 4,
   "metadata": {},
   "outputs": [],
   "source": [
    "def init(structure):\n",
    "    lmp = lammps.Lammps(units='metal', style = 'full', args=['-log', 'none', '-screen', 'none'])\n",
    "    lmp.command('fix csinfo all property/atom i_CSID')\n",
    "    lmp.command('read_data {} fix csinfo NULL CS-Info'.format(structure))\n",
    "\n",
    "    lmp.command('group cores type 3')\n",
    "    lmp.command('group shells type 4')\n",
    "\n",
    "    lmp.command('pair_style buck/coul/long/cs 12.0') #ADD THE CS IF USING CORESHELLS NOT IF RIGID ION\n",
    "    lmp.command('pair_coeff * * 0 1 0')\n",
    "    \n",
    "    lmp.command('bond_style harmonic')\n",
    "    lmp.command('bond_coeff 1 65.0 0.0')\n",
    "    \n",
    "    lmp.command('kspace_style pppm 1e-6')\n",
    "\n",
    "        \n",
    "    #setup for minimization\n",
    "    lmp.command('min_style cg')\n",
    "\n",
    "    return lmp"
   ]
  },
  {
   "cell_type": "code",
   "execution_count": 5,
   "metadata": {},
   "outputs": [],
   "source": [
    "def update_potentials(**kwargs):\n",
    "    bpp.update(kwargs)\n",
    "    \n",
    "def set_potentials(instance):\n",
    "    for pair in pairs:\n",
    "        instance.command('pair_coeff {} {} {} {} {}'.format(dex(pair[0]),\n",
    "                                                            dex(pair[1]),\n",
    "                                                            bpp['{}_{}_A'.format(pair[0], pair[1])],\n",
    "                                                            bpp['{}_{}_rho'.format(pair[0], pair[1])],\n",
    "                                                            bpp['{}_{}_C'.format(pair[0], pair[1])]))\n",
    "\n",
    "def dex(elin): return elements.index(elin) + 1"
   ]
  },
  {
   "cell_type": "code",
   "execution_count": 6,
   "metadata": {},
   "outputs": [],
   "source": [
    "def simfunc(**kwargs):\n",
    "    if min(kwargs.values()) > 0:\n",
    "        update_potentials(**kwargs)\n",
    "        out = np.zeros([instances[0].system.total,3, len(instances)])\n",
    "        \n",
    "        for instance in instances:\n",
    "            set_potentials(instance)\n",
    "            instance.command('fix 1 cores setforce 0.0 0.0 0.0')\n",
    "            instance.command('minimize 1e-5 1e-5 5000 10000')\n",
    "            instance.command('unfix 1')\n",
    "            instance.run(0)            \n",
    "            out[:,:,instances.index(instance)] = instance.system.forces\n",
    "            \n",
    "    else: out = np.ones([instances[0].system.total,3, len(instances)])*999999999 # ThisAlgorithmBecomingSkynetCost\n",
    "        \n",
    "    return out"
   ]
  },
  {
   "cell_type": "code",
   "execution_count": 7,
   "metadata": {},
   "outputs": [],
   "source": [
    "instances = [init(structure) for structure in structures]"
   ]
  },
  {
   "cell_type": "code",
   "execution_count": null,
   "metadata": {},
   "outputs": [],
   "source": [
    "expected = np.zeros([instances[0].system.total,3, len(instances)])"
   ]
  },
  {
   "cell_type": "code",
   "execution_count": null,
   "metadata": {},
   "outputs": [],
   "source": [
    "with pm.Model() as model:\n",
    "#  pm.TruncatedNormal -- truncated so never tries a negative    pm.Uniform\n",
    "    Li_O_A      = pm.Normal(\"Li_O_A\",    mu = bpp_def['Li_O_A'],    sd =  100)\n",
    "    Li_O_rho    = pm.Normal(\"Li_O_rho\",  mu = bpp_def['Li_O_rho'],  sd =  0.05)\n",
    "#     Li_O_C      = pm.Normal(\"Li_O_C\",    mu = bpp_def['Li_O_C'],    sd =  0.01)\n",
    "    Ni_O_A      = pm.Normal(\"Ni_O_A\",    mu = bpp_def['Ni_O_A'],    sd =  100)\n",
    "    Ni_O_rho    = pm.Normal(\"Ni_O_rho\",  mu = bpp_def['Ni_O_rho'],  sd =  0.05)\n",
    "    Ni_O_C      = pm.Normal(\"Ni_O_C\",    mu = bpp_def['Ni_O_C'],    sd =  0.05)\n",
    "    O_O_A       = pm.Normal(\"O_O_A\",     mu = bpp_def['O_O_A'],     sd =  100)\n",
    "    O_O_rho     = pm.Normal(\"O_O_rho\",   mu = bpp_def['O_O_rho'],   sd =  0.05)\n",
    "    O_O_C       = pm.Normal(\"O_O_C\",     mu = bpp_def['O_O_C'],     sd =  5)\n",
    "    \n",
    "    simulator = pm.Simulator('simulator', simfunc, observed=expected)\n",
    "    \n",
    "    trace = pm.sample(step=pm.SMC(ABC=True, epsilon=0.1), draws=1000)\n"
   ]
  },
  {
   "cell_type": "code",
   "execution_count": null,
   "metadata": {},
   "outputs": [],
   "source": [
    "az.style.use('arviz-darkgrid')\n",
    "az.plot_trace(trace)"
   ]
  },
  {
   "cell_type": "code",
   "execution_count": null,
   "metadata": {},
   "outputs": [],
   "source": [
    "az.plot_posterior(trace, round_to = 3, point_estimate = 'mode')"
   ]
  },
  {
   "cell_type": "code",
   "execution_count": null,
   "metadata": {},
   "outputs": [],
   "source": []
  },
  {
   "cell_type": "code",
   "execution_count": null,
   "metadata": {},
   "outputs": [],
   "source": [
    "structures"
   ]
  },
  {
   "cell_type": "code",
   "execution_count": null,
   "metadata": {},
   "outputs": [],
   "source": []
  },
  {
   "cell_type": "code",
   "execution_count": null,
   "metadata": {},
   "outputs": [],
   "source": []
  },
  {
   "cell_type": "code",
   "execution_count": null,
   "metadata": {},
   "outputs": [],
   "source": []
  },
  {
   "cell_type": "code",
   "execution_count": null,
   "metadata": {},
   "outputs": [],
   "source": []
  },
  {
   "cell_type": "code",
   "execution_count": null,
   "metadata": {},
   "outputs": [],
   "source": []
  },
  {
   "cell_type": "code",
   "execution_count": null,
   "metadata": {},
   "outputs": [],
   "source": []
  },
  {
   "cell_type": "code",
   "execution_count": null,
   "metadata": {},
   "outputs": [],
   "source": []
  },
  {
   "cell_type": "code",
   "execution_count": null,
   "metadata": {},
   "outputs": [],
   "source": []
  },
  {
   "cell_type": "code",
   "execution_count": null,
   "metadata": {},
   "outputs": [],
   "source": []
  },
  {
   "cell_type": "code",
   "execution_count": null,
   "metadata": {},
   "outputs": [],
   "source": []
  },
  {
   "cell_type": "code",
   "execution_count": null,
   "metadata": {},
   "outputs": [],
   "source": []
  }
 ],
 "metadata": {
  "kernelspec": {
   "display_name": "Python 3",
   "language": "python",
   "name": "python3"
  },
  "language_info": {
   "codemirror_mode": {
    "name": "ipython",
    "version": 3
   },
   "file_extension": ".py",
   "mimetype": "text/x-python",
   "name": "python",
   "nbconvert_exporter": "python",
   "pygments_lexer": "ipython3",
   "version": "3.7.3"
  }
 },
 "nbformat": 4,
 "nbformat_minor": 2
}
