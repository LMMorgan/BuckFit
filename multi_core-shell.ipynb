{
 "cells": [
  {
   "cell_type": "code",
   "execution_count": 1,
   "metadata": {},
   "outputs": [],
   "source": [
    "import lammps\n",
    "import random\n",
    "from tqdm import trange\n",
    "import pymc3 as pm\n",
    "import arviz as az\n",
    "import numpy as np\n",
    "import pymatgen as pmg\n",
    "import theano.tensor as tt\n",
    "import glob"
   ]
  },
  {
   "cell_type": "code",
   "execution_count": 2,
   "metadata": {},
   "outputs": [],
   "source": [
    "#CHANGE LAST ELEMENT???\n",
    "elements = pmg.Element('Li'), pmg.Element('Ni'), pmg.Element('O'), pmg.Element('Ge') #Ge is oxygen shell\n",
    "li, ni, o, ge = elements\n",
    "\n",
    "pairs = [(li,ge), (ni,ge), (ge,ge)]\n",
    "\n",
    "charges = {li: 1, ni: 3, o: 0.960, ge: -2.960}\n",
    "masses = {li: 6.9410, ni: 52.8237, o: 14.3991, ge: 1.5999}\n",
    "\n",
    "bpp_def = {'Li_Ge_A'   : 456.783,\n",
    "           'Li_Ge_rho' : 0.212,\n",
    "           'Li_Ge_C'   : 0.0,\n",
    "           'Ni_Ge_A'   : 1540.922,\n",
    "           'Ni_Ge_rho' : 0.323,\n",
    "           'Ni_Ge_C'   : 0.425,\n",
    "           'Ge_Ge_A'   : 22764.7000,\n",
    "           'Ge_Ge_rho' : 0.1490,\n",
    "           'Ge_Ge_C'   : 20.4}\n",
    "\n",
    "bpp = {'Li_Ge_A'   : 456.783,\n",
    "       'Li_Ge_rho' : 0.212,\n",
    "       'Li_Ge_C'   : 0.0,\n",
    "       'Ni_Ge_A'   : 1540.922,\n",
    "       'Ni_Ge_rho' : 0.323,\n",
    "       'Ni_Ge_C'   : 0.425,\n",
    "       'Ge_Ge_A'   : 22764.7000,\n",
    "       'Ge_Ge_rho' : 0.1490,\n",
    "       'Ge_Ge_C'   : 20.4}\n"
   ]
  },
  {
   "cell_type": "code",
   "execution_count": 3,
   "metadata": {},
   "outputs": [],
   "source": [
    "structures = []\n",
    "for structure in glob.glob('poscars/POSCAR*'):\n",
    "    st = pmg.Structure.from_file(structure)\n",
    "    structures.append(st)"
   ]
  },
  {
   "cell_type": "code",
   "execution_count": 4,
   "metadata": {},
   "outputs": [],
   "source": [
    "for structure in structures:\n",
    "    new_sites = []\n",
    "    [new_sites.append(structure.frac_coords[i]) for i, species in enumerate(structure.species) if species.symbol == \"O\" ]\n",
    "    for i, species in enumerate(new_sites):\n",
    "        structure.append('Ge', new_sites[i], validate_proximity=False, properties=None)"
   ]
  },
  {
   "cell_type": "code",
   "execution_count": 5,
   "metadata": {},
   "outputs": [],
   "source": [
    "def init(structure):\n",
    "    lmp = lammps.Lammps(units='metal',\n",
    "                        style = 'full',\n",
    "                        args=['-log', 'none', '-screen', 'none'])\n",
    "    lmp.system.add_pymatgen_structure(structure, elements)\n",
    "    \n",
    "\n",
    "    lmp.command('group rigid type 1 2')\n",
    "    lmp.command('group coreshell type 3 4')\n",
    "    lmp.command('group cores type 3')\n",
    "    lmp.command('group shells type 4')\n",
    "\n",
    "    lmp.command('pair_style buck/coul/long 12.0')\n",
    "    lmp.command('pair_coeff * * 0 1 0')\n",
    "    \n",
    "    lmp.command('bond_style harmonic')\n",
    "    lmp.command('bond_coeff 1 65.0 0.0')\n",
    "    \n",
    "    lmp.command('kspace_style pppm 1e-6')\n",
    "    \n",
    "\n",
    "    for c in charges:\n",
    "        lmp.command('set atom %d charge %f' % (elements.index(c)+1, charges[c]))\n",
    "#     for i, m in enumerate(masses):\n",
    "#         lmp.command('set atom %d mass %f' % (elements.index(m)+1, masses[m]))\n",
    "\n",
    "    lmp.command('fix freeze cores setforce 0.0 0.0 0.0')\n",
    "\n",
    "    return lmp"
   ]
  },
  {
   "cell_type": "code",
   "execution_count": 6,
   "metadata": {},
   "outputs": [],
   "source": [
    "def update_potentials(**kwargs):\n",
    "    bpp.update(kwargs)\n",
    "    \n",
    "def set_potentials(instance):\n",
    "    for pair in pairs:\n",
    "        instance.command('pair_coeff {} {} {} {} {}'.format(dex(pair[0]),\n",
    "                                                            dex(pair[1]),\n",
    "                                                            bpp['{}_{}_A'.format(pair[0], pair[1])],\n",
    "                                                            bpp['{}_{}_rho'.format(pair[0], pair[1])],\n",
    "                                                            bpp['{}_{}_C'.format(pair[0], pair[1])]))\n",
    "\n",
    "\n",
    "\n",
    "def dex(elin): return elements.index(elin) + 1"
   ]
  },
  {
   "cell_type": "code",
   "execution_count": 7,
   "metadata": {},
   "outputs": [],
   "source": [
    "def simfunc(**kwargs):\n",
    "    if min(kwargs.values()) > 0:\n",
    "        update_potentials(**kwargs)\n",
    "        out = np.zeros([instances[0].system.total,3, len(instances)])\n",
    "        \n",
    "        for instance in instances:\n",
    "            set_potentials(instance)\n",
    "            instance.run(0)\n",
    "            out[:,:,instances.index(instance)] = instance.system.forces\n",
    "            \n",
    "    else: out = np.ones([instances[0].system.total,3, len(instances)])*999999999 # ThisAlgorithmBecomingSkynetCost\n",
    "        \n",
    "    return out"
   ]
  },
  {
   "cell_type": "code",
   "execution_count": 8,
   "metadata": {},
   "outputs": [
    {
     "ename": "LammpsNormalError",
     "evalue": "ERROR: Numeric index is out of bounds (../bond_harmonic.cpp:128)\n",
     "output_type": "error",
     "traceback": [
      "\u001b[0;31m---------------------------------------------------------------------------\u001b[0m",
      "\u001b[0;31mLammpsNormalError\u001b[0m                         Traceback (most recent call last)",
      "\u001b[0;32m<ipython-input-8-09eb7485f466>\u001b[0m in \u001b[0;36m<module>\u001b[0;34m\u001b[0m\n\u001b[0;32m----> 1\u001b[0;31m \u001b[0minstances\u001b[0m \u001b[0;34m=\u001b[0m \u001b[0;34m[\u001b[0m\u001b[0minit\u001b[0m\u001b[0;34m(\u001b[0m\u001b[0mstructure\u001b[0m\u001b[0;34m)\u001b[0m \u001b[0;32mfor\u001b[0m \u001b[0mstructure\u001b[0m \u001b[0;32min\u001b[0m \u001b[0mstructures\u001b[0m\u001b[0;34m]\u001b[0m\u001b[0;34m\u001b[0m\u001b[0;34m\u001b[0m\u001b[0m\n\u001b[0m",
      "\u001b[0;32m<ipython-input-8-09eb7485f466>\u001b[0m in \u001b[0;36m<listcomp>\u001b[0;34m(.0)\u001b[0m\n\u001b[0;32m----> 1\u001b[0;31m \u001b[0minstances\u001b[0m \u001b[0;34m=\u001b[0m \u001b[0;34m[\u001b[0m\u001b[0minit\u001b[0m\u001b[0;34m(\u001b[0m\u001b[0mstructure\u001b[0m\u001b[0;34m)\u001b[0m \u001b[0;32mfor\u001b[0m \u001b[0mstructure\u001b[0m \u001b[0;32min\u001b[0m \u001b[0mstructures\u001b[0m\u001b[0;34m]\u001b[0m\u001b[0;34m\u001b[0m\u001b[0;34m\u001b[0m\u001b[0m\n\u001b[0m",
      "\u001b[0;32m<ipython-input-5-4cf9d08a1f03>\u001b[0m in \u001b[0;36minit\u001b[0;34m(structure)\u001b[0m\n\u001b[1;32m     14\u001b[0m \u001b[0;34m\u001b[0m\u001b[0m\n\u001b[1;32m     15\u001b[0m     \u001b[0mlmp\u001b[0m\u001b[0;34m.\u001b[0m\u001b[0mcommand\u001b[0m\u001b[0;34m(\u001b[0m\u001b[0;34m'bond_style harmonic'\u001b[0m\u001b[0;34m)\u001b[0m\u001b[0;34m\u001b[0m\u001b[0;34m\u001b[0m\u001b[0m\n\u001b[0;32m---> 16\u001b[0;31m     \u001b[0mlmp\u001b[0m\u001b[0;34m.\u001b[0m\u001b[0mcommand\u001b[0m\u001b[0;34m(\u001b[0m\u001b[0;34m'bond_coeff 1 65.0 0.0'\u001b[0m\u001b[0;34m)\u001b[0m\u001b[0;34m\u001b[0m\u001b[0;34m\u001b[0m\u001b[0m\n\u001b[0m\u001b[1;32m     17\u001b[0m \u001b[0;34m\u001b[0m\u001b[0m\n\u001b[1;32m     18\u001b[0m     \u001b[0mlmp\u001b[0m\u001b[0;34m.\u001b[0m\u001b[0mcommand\u001b[0m\u001b[0;34m(\u001b[0m\u001b[0;34m'kspace_style pppm 1e-6'\u001b[0m\u001b[0;34m)\u001b[0m\u001b[0;34m\u001b[0m\u001b[0;34m\u001b[0m\u001b[0m\n",
      "\u001b[0;32mlammps/core.pyx\u001b[0m in \u001b[0;36mlammps.core.Lammps.command\u001b[0;34m()\u001b[0m\n",
      "\u001b[0;32mlammps/core.pyx\u001b[0m in \u001b[0;36mlammps.core.Lammps.check_error\u001b[0;34m()\u001b[0m\n",
      "\u001b[0;31mLammpsNormalError\u001b[0m: ERROR: Numeric index is out of bounds (../bond_harmonic.cpp:128)\n"
     ]
    }
   ],
   "source": [
    "instances = [init(structure) for structure in structures]"
   ]
  },
  {
   "cell_type": "code",
   "execution_count": null,
   "metadata": {},
   "outputs": [],
   "source": [
    "expected = np.zeros([instances[0].system.total,3, len(instances)])"
   ]
  },
  {
   "cell_type": "code",
   "execution_count": null,
   "metadata": {},
   "outputs": [],
   "source": [
    "with pm.Model() as model:\n",
    "    Li_Ge_A      = pm.Normal(\"Li_Ge_A\",    mu = bpp_def['Li_Ge_A'],    sd =  100)\n",
    "    Li_Ge_rho    = pm.Normal(\"Li_Ge_rho\",  mu = bpp_def['Li_Ge_rho'],  sd =  0.05)\n",
    "#     Li_Ge_C      = pm.Normal(\"Li_Ge_C\",    mu = bpp_def['Li_Ge_C'],    sd =  0.01)\n",
    "    Ni_Ge_A      = pm.Normal(\"Ni_Ge_A\",    mu = bpp_def['Ni_Ge_A'],    sd =  100)\n",
    "    Ni_Ge_rho    = pm.Normal(\"Ni_Ge_rho\",  mu = bpp_def['Ni_Ge_rho'],  sd =  0.05)\n",
    "    Ni_Ge_C      = pm.Normal(\"Ni_Ge_C\",    mu = bpp_def['Ni_Ge_C'],    sd =  0.05)\n",
    "    Ge_Ge_A       = pm.Normal(\"Ge_Ge_A\",     mu = bpp_def['Ge_Ge_A'],     sd =  100)\n",
    "    Ge_Ge_rho     = pm.Normal(\"Ge_Ge_rho\",   mu = bpp_def['Ge_Ge_rho'],   sd =  0.05)\n",
    "    Ge_Ge_C       = pm.Normal(\"Ge_Ge_C\",     mu = bpp_def['Ge_Ge_C'],     sd =  5)\n",
    "    \n",
    "    simulator = pm.Simulator('simulator', simfunc, observed=expected)\n",
    "    \n",
    "    trace = pm.sample(step=pm.SMC(ABC=True, epsilon=1), draws=500)"
   ]
  },
  {
   "cell_type": "code",
   "execution_count": null,
   "metadata": {},
   "outputs": [],
   "source": [
    "az.style.use('arviz-darkgrid')\n",
    "az.plot_trace(trace)"
   ]
  },
  {
   "cell_type": "code",
   "execution_count": null,
   "metadata": {},
   "outputs": [],
   "source": [
    "az.plot_posterior(trace, round_to = 3, point_estimate = 'mode')"
   ]
  },
  {
   "cell_type": "code",
   "execution_count": null,
   "metadata": {},
   "outputs": [],
   "source": []
  },
  {
   "cell_type": "code",
   "execution_count": null,
   "metadata": {},
   "outputs": [],
   "source": []
  },
  {
   "cell_type": "code",
   "execution_count": 11,
   "metadata": {},
   "outputs": [
    {
     "data": {
      "text/plain": [
       "'group'"
      ]
     },
     "execution_count": 11,
     "metadata": {},
     "output_type": "execute_result"
    }
   ],
   "source": [
    "    lmp = lammps.Lammps(units='metal',\n",
    "                        style = 'full',\n",
    "                        args=['-log', 'none', '-screen', 'none'])\n",
    "    lmp.system.add_pymatgen_structure(structures[0], elements)\n",
    "\n",
    "    lmp.command('group rigid type 1 2')\n",
    "    lmp.command('group coreshell type 3 4')\n",
    "    lmp.command('group cores type 3')\n",
    "    lmp.command('group shells type 4')"
   ]
  },
  {
   "cell_type": "code",
   "execution_count": null,
   "metadata": {},
   "outputs": [],
   "source": []
  },
  {
   "cell_type": "code",
   "execution_count": null,
   "metadata": {},
   "outputs": [],
   "source": []
  },
  {
   "cell_type": "code",
   "execution_count": null,
   "metadata": {},
   "outputs": [],
   "source": []
  },
  {
   "cell_type": "code",
   "execution_count": null,
   "metadata": {},
   "outputs": [],
   "source": []
  },
  {
   "cell_type": "code",
   "execution_count": null,
   "metadata": {},
   "outputs": [],
   "source": []
  },
  {
   "cell_type": "code",
   "execution_count": null,
   "metadata": {},
   "outputs": [],
   "source": []
  },
  {
   "cell_type": "code",
   "execution_count": null,
   "metadata": {},
   "outputs": [],
   "source": []
  },
  {
   "cell_type": "code",
   "execution_count": null,
   "metadata": {},
   "outputs": [],
   "source": []
  },
  {
   "cell_type": "code",
   "execution_count": null,
   "metadata": {},
   "outputs": [],
   "source": []
  },
  {
   "cell_type": "code",
   "execution_count": null,
   "metadata": {},
   "outputs": [],
   "source": []
  }
 ],
 "metadata": {
  "kernelspec": {
   "display_name": "Python 3",
   "language": "python",
   "name": "python3"
  },
  "language_info": {
   "codemirror_mode": {
    "name": "ipython",
    "version": 3
   },
   "file_extension": ".py",
   "mimetype": "text/x-python",
   "name": "python",
   "nbconvert_exporter": "python",
   "pygments_lexer": "ipython3",
   "version": "3.7.3"
  }
 },
 "nbformat": 4,
 "nbformat_minor": 2
}
