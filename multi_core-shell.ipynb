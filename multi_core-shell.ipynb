{
 "cells": [
  {
   "cell_type": "code",
   "execution_count": 1,
   "metadata": {},
   "outputs": [],
   "source": [
    "import lammps\n",
    "import pymc3 as pm\n",
    "import arviz as az\n",
    "import numpy as np\n",
    "import glob\n",
    "from copy import deepcopy\n",
    "import matplotlib.pyplot as plt\n",
    "\n",
    "from lammps_data import LammpsData\n",
    "from pymatgen.io.vasp import Poscar"
   ]
  },
  {
   "cell_type": "code",
   "execution_count": null,
   "metadata": {},
   "outputs": [],
   "source": []
  },
  {
   "cell_type": "code",
   "execution_count": 2,
   "metadata": {},
   "outputs": [],
   "source": [
    "def structs_from_poscars(params):\n",
    "    \"\"\"\n",
    "    Reads in POSCARs, creates equivalent lammps inputs.\n",
    "    \n",
    "    Args:\n",
    "        params (dict(dict)): contains core_shell (dict (bool)), charges (dict), and masses (dict).\n",
    "                             charges contains the charges for each atom type. Key = Atom label(str),\n",
    "                             value = charge(float)/sub_dict(dict). If atom is core-shell a sub dictionary\n",
    "                             will be the value, where sub_key = 'core' or 'shell' (float) and sub_value\n",
    "                             the charge (float). Same format/types uses for masses as in charges.\n",
    "\n",
    "    Returns:\n",
    "        structures (list(str)): A list of lammps imput file names generated from the POSCARs.\n",
    "        structures_data (list(obj)): A list of lammps objects generated from the POSCARs.\n",
    "    \"\"\"\n",
    "    structures = []\n",
    "    structures_data = []\n",
    "    for i, pos in enumerate(glob.glob('poscars/POSCAR*')):\n",
    "        poscar = Poscar.from_file(pos)\n",
    "        struct_data = LammpsData.from_structure(poscar.structure, params)\n",
    "        structures_data.append(struct_data)\n",
    "        lammps_file = 'lammps/coords{}.lmp'.format(i+1)\n",
    "        with open( lammps_file, 'w' ) as f:\n",
    "            f.write(struct_data.input_string())  \n",
    "        structures.append(lammps_file)\n",
    "        \n",
    "    return structures, structures_data\n",
    "\n",
    "def type_shell(core_shell):\n",
    "    \"\"\"\n",
    "    Determines which atom_type index relate to the shells on core-shell atoms\n",
    "    \n",
    "    Args:\n",
    "        core_shell (dict): A dictionary of booleans stating if any atoms are core-shell.\n",
    "    Returns:\n",
    "        shell_nums (list): A list of atom_type index values for any shells present on core-shell atoms.\n",
    "    \"\"\"\n",
    "    shell_nums = []\n",
    "    x = 0\n",
    "    for i in core_shell.values():\n",
    "        x +=1\n",
    "        if i:\n",
    "            x+=1\n",
    "            shell_nums.append(x)\n",
    "    return shell_nums"
   ]
  },
  {
   "cell_type": "code",
   "execution_count": 3,
   "metadata": {},
   "outputs": [],
   "source": [
    "def init(structure_data, structure, cs_springs=None):\n",
    "    \"\"\"\n",
    "    Initialises the system from the structure (read in from lammps input) and non-changing parameters.\n",
    "    \n",
    "    Args:\n",
    "        structure (str): Name of lammps input file.\n",
    "        cs_springs (dict): A dictionary of the bond_coeff values. Key = atom label and\n",
    "                           values = K (energy/distance^2) and r0 (equilibrium bond distance) (list).\n",
    "                           Default = None.\n",
    "\n",
    "    Returns:\n",
    "        lmp (Lammps): Lammps system with structure and specified commands implemented.\n",
    "    \"\"\"\n",
    "    lmp = lammps.Lammps(units='metal', style = 'full', args=['-log', 'none', '-screen', 'none'])\n",
    "    lmp.command('read_data {}'.format(structure))\n",
    "\n",
    "    lmp.command('group cores type {}'.format(structure_data.type_core()))\n",
    "    lmp.command('group shells type {}'.format(structure_data.type_shell()))\n",
    "\n",
    "    if cs_springs:\n",
    "        lmp.command('pair_style buck/coul/long/cs 10.0')\n",
    "        lmp.command('pair_coeff * * 0 1 0')\n",
    "\n",
    "        lmp.command('bond_style harmonic')\n",
    "        for i, spring in enumerate(cs_springs):\n",
    "            lmp.command('bond_coeff {} {} {}'.format(i+1,\n",
    "                                                     cs_springs[spring][0],\n",
    "                                                     cs_springs[spring][1]))\n",
    "    else:\n",
    "        lmp.command('pair_style buck/coul/long 10.0')\n",
    "        lmp.command('pair_coeff * * 0 1 0')\n",
    "    \n",
    "    lmp.command('kspace_style ewald 1e-6')\n",
    "\n",
    "    #setup for minimization\n",
    "    lmp.command('min_style cg')\n",
    "\n",
    "    return lmp"
   ]
  },
  {
   "cell_type": "code",
   "execution_count": 4,
   "metadata": {},
   "outputs": [],
   "source": [
    "def dex(element):\n",
    "    \"\"\"\n",
    "    Finds atom_index number for given element, where core-shell returns shell index.\n",
    "\n",
    "    Args:\n",
    "        element (str): element symbol\n",
    "\n",
    "    Returns:\n",
    "        atom_index (int): index of atom relating to element. In the case of core-shell atoms\n",
    "                          this will return the shell index.\n",
    "    \"\"\"\n",
    "    element_list = [e.label for e in structure_data.atom_types]\n",
    "    for e in element_list:\n",
    "        if element in e and 'core' not in e:\n",
    "            atom_index = element_list.index(e)+1\n",
    "    return atom_index\n",
    "\n",
    "def update_potentials(**kwargs):\n",
    "    \"\"\"\n",
    "    Unpdates the potentials set by pymc3 into the dictionary for the fitting process.\n",
    "\n",
    "    Args:\n",
    "        **kwargs: The parameters to be updated in the fitting process as set with pm.Model.\n",
    "\n",
    "    Returns:\n",
    "        None.\n",
    "    \"\"\"\n",
    "    bpp.update(kwargs)\n",
    "    \n",
    "def set_potentials(instance):\n",
    "    \"\"\"\n",
    "    Sets the potential for the sepecified Lammps system (changes for each iteration of the potential fit).\n",
    "\n",
    "    Args:\n",
    "        instance (Lammps): Lammps system with structure and specified commands implemented.\n",
    "\n",
    "    Returns:\n",
    "        None\n",
    "    \"\"\"\n",
    "    for pair in pairs:\n",
    "        instance.command('pair_coeff {} {} {} {} {}'.format(dex(pair[0]),\n",
    "                                                            dex(pair[1]),\n",
    "                                                            bpp['{}_{}_A'.format(pair[0], pair[1])],\n",
    "                                                            bpp['{}_{}_rho'.format(pair[0], pair[1])],\n",
    "                                                            bpp['{}_{}_C'.format(pair[0], pair[1])]))\n"
   ]
  },
  {
   "cell_type": "code",
   "execution_count": 5,
   "metadata": {},
   "outputs": [],
   "source": [
    "def simfunc(**kwargs):\n",
    "    \"\"\"\n",
    "    Runs a minimization and run for each instance and returns the forces.\n",
    "\n",
    "    Args:\n",
    "        **kwargs: Contain data for type of fitting and to what parameters as set with pm.Model.\n",
    "\n",
    "    Returns:\n",
    "        out (np.array): x,y,z forces on each atom associated with each given instance.\n",
    "    \"\"\"\n",
    "    if min(kwargs.values()) > 0:\n",
    "        update_potentials(**kwargs)\n",
    "        out = np.zeros([len(index), 3, len(instances)])\n",
    "        \n",
    "        for instance in instances:\n",
    "            set_potentials(instance)\n",
    "            instance.command('fix 1 cores setforce 0.0 0.0 0.0')\n",
    "            instance.command('minimize 1e-25 1e-25 5000 10000')\n",
    "            instance.command('unfix 1')\n",
    "            instance.run(0)\n",
    "            out[:,:,instances.index(instance)] = np.array([value for i, value in enumerate(instance.system.forces) if i in index])\n",
    "            \n",
    "    else: out = np.ones([len(index),3, len(instances)])*999999999 # ThisAlgorithmBecomingSkynetCost\n",
    "    \n",
    "    return out"
   ]
  },
  {
   "cell_type": "code",
   "execution_count": 6,
   "metadata": {},
   "outputs": [
    {
     "name": "stdout",
     "output_type": "stream",
     "text": [
      "Found elements: ['Li', 'Ni', 'O']\n",
      "Found elements: ['Li', 'Ni', 'O']\n"
     ]
    }
   ],
   "source": [
    "params = {}\n",
    "params['core_shell'] = { 'Li': False, 'Ni': False, 'O': True }\n",
    "params['charges'] = {'Li': +1.0,\n",
    "                     'Ni': +3.0,\n",
    "                     'O': {'core':  +0.960,\n",
    "                           'shell': -2.960}}\n",
    "params['masses'] = {'Li': 6.941,\n",
    "                    'Ni': 58.6934,\n",
    "                    'O': {'core': 15.0,\n",
    "                          'shell': 1.0} }\n",
    "\n",
    "poscar = Poscar.from_file('poscars/POSCAR1')\n",
    "my_structure = poscar.structure\n",
    "structure_data = LammpsData.from_structure(my_structure, params)\n",
    "lammps_file = 'lammps/coords1.lmp'\n",
    "with open( lammps_file, 'w' ) as f:\n",
    "    f.write(structure_data.input_string())\n",
    "\n",
    "pairs = [('Li','O'), ('Ni','O'), ('O','O')]\n",
    "\n",
    "#Must be in same order given in charges dictionary\n",
    "cs_springs = {'O' : [65.0, 0.0]} #Set to None if not using any core-shells\n",
    "\n",
    "bpp_def = {'Li_O_A'   : 632.1018,\n",
    "           'Li_O_rho' : 0.2906,\n",
    "           'Li_O_C'   : 0.0,\n",
    "           'Ni_O_A'   : 1582.5000,\n",
    "           'Ni_O_rho' : 0.2882,\n",
    "           'Ni_O_C'   : 0.000,\n",
    "           'O_O_A'    : 22764.3000,\n",
    "           'O_O_rho'  : 0.1490,\n",
    "           'O_O_C'    : 21.7}\n",
    "\n",
    "bpp = deepcopy(bpp_def)\n",
    "\n",
    "\n",
    " # 3. Load a POSCAR or list of POSCARs using pymatgen and appends to a list of structures\n",
    "structures, structures_data = structs_from_poscars(params)\n",
    "\n",
    "\n",
    "shells = type_shell(params['core_shell'])"
   ]
  },
  {
   "cell_type": "code",
   "execution_count": 7,
   "metadata": {},
   "outputs": [],
   "source": [
    "instances = [init(structures_data[i], structures[i], cs_springs) for i,structure in enumerate(structures)]\n",
    "index = [ i for i, atype in enumerate(instances[0].system.types) if atype not in shells]"
   ]
  },
  {
   "cell_type": "code",
   "execution_count": 8,
   "metadata": {},
   "outputs": [],
   "source": [
    "expected = np.zeros([len(index),3, len(instances)])"
   ]
  },
  {
   "cell_type": "code",
   "execution_count": null,
   "metadata": {},
   "outputs": [
    {
     "name": "stderr",
     "output_type": "stream",
     "text": [
      "Sample initial stage: ...\n",
      "/Users/lmm82/.pyenv/versions/3.7.3/lib/python3.7/site-packages/pymc3/step_methods/smc.py:176: UserWarning: Warning: SMC-ABC methods are experimental step methods and not yet recommended for use in PyMC3!\n",
      "  warnings.warn(EXPERIMENTAL_WARNING)\n",
      "Stage: 0 Beta: 0.003 Steps: 25\n"
     ]
    }
   ],
   "source": [
    "with pm.Model() as model:\n",
    "#  pm.TruncatedNormal -- truncated so never tries a negative    pm.Uniform\n",
    "    Li_O_A      = pm.Normal(\"Li_O_A\",    mu = bpp_def['Li_O_A'],    sd =  50)\n",
    "    Li_O_rho    = pm.Normal(\"Li_O_rho\",  mu = bpp_def['Li_O_rho'],  sd =  0.05)\n",
    "#     Li_O_C      = pm.Normal(\"Li_O_C\",    mu = bpp_def['Li_O_C'],    sd =  0.01)\n",
    "    Ni_O_A      = pm.Normal(\"Ni_O_A\",    mu = bpp_def['Ni_O_A'],    sd =  100)\n",
    "    Ni_O_rho    = pm.Normal(\"Ni_O_rho\",  mu = bpp_def['Ni_O_rho'],  sd =  0.05)\n",
    "#     Ni_O_C      = pm.Normal(\"Ni_O_C\",    mu = bpp_def['Ni_O_C'],    sd =  0.05)\n",
    "    O_O_A       = pm.Normal(\"O_O_A\",     mu = bpp_def['O_O_A'],     sd =  100)\n",
    "    O_O_rho     = pm.Normal(\"O_O_rho\",   mu = bpp_def['O_O_rho'],   sd =  0.01)\n",
    "    O_O_C       = pm.Normal(\"O_O_C\",     mu = bpp_def['O_O_C'],     sd =  5)\n",
    "    \n",
    "    simulator = pm.Simulator('simulator', simfunc, observed=expected)\n",
    "    \n",
    "    trace = pm.sample(step=pm.SMC(ABC=True, epsilon=0.1), draws=1000)\n",
    "#     trace = pm.sample(step=pm.SMC(ABC=True, epsilon=1000, dist_func=\"sum_of_squared_distance\"), draws=1000)"
   ]
  },
  {
   "cell_type": "code",
   "execution_count": null,
   "metadata": {},
   "outputs": [],
   "source": [
    "az.style.use('arviz-darkgrid')\n",
    "az.plot_trace(trace)\n",
    "plt.savefig('coreshell_LiNiO2_trace3.png',dpi=500, bbox_inches = \"tight\")"
   ]
  },
  {
   "cell_type": "code",
   "execution_count": null,
   "metadata": {},
   "outputs": [],
   "source": [
    "az.plot_posterior(trace, round_to = 3, point_estimate = 'mode')\n",
    "plt.savefig('coreshell_LiNiO2_mode3.png',dpi=500, bbox_inches = \"tight\")"
   ]
  },
  {
   "cell_type": "code",
   "execution_count": null,
   "metadata": {},
   "outputs": [],
   "source": []
  },
  {
   "cell_type": "code",
   "execution_count": null,
   "metadata": {},
   "outputs": [],
   "source": [
    "# fig, axes = az.plot_forest(trace,\n",
    "#                            kind='ridgeplot',\n",
    "#                            var_names=['Li_O_A','Ni_O_A', 'O_O_A'],\n",
    "#                            combined=True,\n",
    "#                            ridgeplot_overlap=10,\n",
    "#                            colors='white',\n",
    "#                            figsize=(9, 7))"
   ]
  },
  {
   "cell_type": "code",
   "execution_count": null,
   "metadata": {},
   "outputs": [],
   "source": [
    "# pm.summary(trace)"
   ]
  },
  {
   "cell_type": "code",
   "execution_count": null,
   "metadata": {},
   "outputs": [],
   "source": []
  },
  {
   "cell_type": "code",
   "execution_count": null,
   "metadata": {},
   "outputs": [],
   "source": []
  },
  {
   "cell_type": "code",
   "execution_count": null,
   "metadata": {},
   "outputs": [],
   "source": []
  },
  {
   "cell_type": "code",
   "execution_count": null,
   "metadata": {},
   "outputs": [],
   "source": [
    "# def setup_parameters():\n",
    "#     \"\"\"\n",
    "#     Contains and returns the setup information.\n",
    "    \n",
    "#     Args:\n",
    "#         None.\n",
    "\n",
    "#     Returns:\n",
    "#         core_shell (dict): A dictionary of booleans defining which elements are core-shell species.\n",
    "#                            Key = atom label (str) and value = True or False (bool)\n",
    "#         charges (dict): A dictionary of charges for each atom type. Key = Atom label(str),\n",
    "#                         value = either the charge (float) for non-core-shell species, or a sub-dictionary\n",
    "#                         containing { 'core': core_charge (float), 'shell': shell_charge (float) }.\n",
    "#         structures (list): A list of lammps input file names generated from the POSCARs.\n",
    "#         elements (list): A list of the elements in the structure, with core and shell entered separately.\n",
    "#         pairs (list): A list of interacting atom pairs used for defining the pair_coeff.\n",
    "#         cs_springs (dict): A dictionary of the bond_coeff values. Key = atom label and\n",
    "#                            values = K (energy/distance^2) and r0 (equilibrium bond distance) (list).\n",
    "#         bpp_def (dict): A dictionary of the default/starting values for the buckingham potentials.\n",
    "#                         Key = atom1_atom2_parameter (str) and value = parameter (float).\n",
    "#         bpp (dict): Same as bpp_def however the values will change during the fitting process.\n",
    "#                     Key = atom1_atom2_parameter (str) and value = parameter (float).\n",
    "#     \"\"\"\n",
    "    \n",
    "#     return  structures, structures_data, params, pairs, cs_springs, bpp_def, bpp\n",
    "\n",
    "# structures, structures_data, params, pairs, cs_springs, bpp_def, bpp = setup_parameters()"
   ]
  },
  {
   "cell_type": "code",
   "execution_count": null,
   "metadata": {},
   "outputs": [],
   "source": []
  },
  {
   "cell_type": "code",
   "execution_count": null,
   "metadata": {},
   "outputs": [],
   "source": []
  },
  {
   "cell_type": "code",
   "execution_count": null,
   "metadata": {},
   "outputs": [],
   "source": []
  },
  {
   "cell_type": "code",
   "execution_count": null,
   "metadata": {},
   "outputs": [],
   "source": []
  },
  {
   "cell_type": "code",
   "execution_count": null,
   "metadata": {},
   "outputs": [],
   "source": []
  },
  {
   "cell_type": "code",
   "execution_count": null,
   "metadata": {},
   "outputs": [],
   "source": []
  }
 ],
 "metadata": {
  "kernelspec": {
   "display_name": "Python 3",
   "language": "python",
   "name": "python3"
  },
  "language_info": {
   "codemirror_mode": {
    "name": "ipython",
    "version": 3
   },
   "file_extension": ".py",
   "mimetype": "text/x-python",
   "name": "python",
   "nbconvert_exporter": "python",
   "pygments_lexer": "ipython3",
   "version": "3.7.3"
  }
 },
 "nbformat": 4,
 "nbformat_minor": 2
}
