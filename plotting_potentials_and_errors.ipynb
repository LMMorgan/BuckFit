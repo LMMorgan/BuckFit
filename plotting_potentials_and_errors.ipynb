{
 "cells": [
  {
   "cell_type": "code",
   "execution_count": null,
   "metadata": {},
   "outputs": [],
   "source": [
    "import numpy as np\n",
    "import matplotlib.pyplot as plt\n",
    "import json\n",
    "import glob\n",
    "import os"
   ]
  },
  {
   "cell_type": "markdown",
   "metadata": {},
   "source": [
    "## Setup"
   ]
  },
  {
   "cell_type": "code",
   "execution_count": null,
   "metadata": {},
   "outputs": [],
   "source": [
    "def create_directory(head_directory_name, structure_number):\n",
    "    directory = os.path.join(head_directory_name, str(structure_number))\n",
    "    os.makedirs(directory)\n",
    "    return directory"
   ]
  },
  {
   "cell_type": "code",
   "execution_count": null,
   "metadata": {},
   "outputs": [],
   "source": [
    "# Define number of structures\n",
    "num_struct_in_fit = 1 #How many structures are in the fit\n",
    "\n",
    "# Create cross validation directory\n",
    "head_directory_name = '{}_structure_fits'.format(num_struct_in_fit)\n",
    "# head_directory_name = 'scale_testing/scale_0.1'\n",
    "plot_directory_name = 'plots'\n",
    "head_output_directory = create_directory(head_directory_name, plot_directory_name)"
   ]
  },
  {
   "cell_type": "markdown",
   "metadata": {},
   "source": [
    "## This section plots the errors of each structure\n",
    "Firstly the errors are read in from the sub directories into a dictionary, converting the error to a float and using the directory path as the structure number by removing the error file extention. This won't work for a directory tree, only for a depth of 1."
   ]
  },
  {
   "cell_type": "code",
   "execution_count": null,
   "metadata": {},
   "outputs": [],
   "source": [
    "error_dict = {}\n",
    "for error_file in sorted(glob.glob('{}/*/error.dat'.format(head_directory_name))):\n",
    "    error = float(np.loadtxt(error_file))\n",
    "    structure_num = error_file.replace('/error.dat', '').replace('{}/'.format(head_directory_name), '')\n",
    "    error_dict.update( {structure_num:error}) #Remove int if directory naming system changes to include strings. This will change the order of the structures though."
   ]
  },
  {
   "cell_type": "code",
   "execution_count": null,
   "metadata": {},
   "outputs": [],
   "source": [
    "plt.scatter(*zip(*sorted(error_dict.items())))\n",
    "plt.xticks(rotation=50)\n",
    "plt.xlabel('structure numbers')\n",
    "plt.ylabel('$\\chi^2$ error')\n",
    "plt.title('{} structure fit errors ($\\chi^2$)'.format(num_struct_in_fit))\n",
    "plt.savefig('{}/{}_structure_fit_errors.png'.format(head_output_directory, num_struct_in_fit),dpi=500, bbox_inches = \"tight\")\n",
    "plt.show()"
   ]
  },
  {
   "cell_type": "markdown",
   "metadata": {},
   "source": [
    "## This section plots the separate potential parameters for each structure\n",
    "Firstly the potentials are read in as a dictionary from each structures potentials.json file, these are edited to include the structure number, then appended to a list of potential dictionaries. These dictionaries are then combined to have all structures in one dictionary, where the keys are the potential name and the values are the tuples containing structure number and value. These are then plotted in individual plots by potential."
   ]
  },
  {
   "cell_type": "code",
   "execution_count": null,
   "metadata": {},
   "outputs": [],
   "source": [
    "list_of_dict = []\n",
    "for potential_file in sorted(glob.glob('{}/*/potentials.json'.format(head_directory_name))):\n",
    "    with open(potential_file, 'r') as f:\n",
    "        potentials = json.load(f)\n",
    "    structure_num = potential_file.replace('/potentials.json', '').replace('{}/'.format(head_directory_name), '')\n",
    "    potentials.update((k, (structure_num,v) ) for k,v in potentials.items()) #Remove int if directory naming system changes to include strings. This will change the order of the structures though.\n",
    "    list_of_dict.append(potentials)"
   ]
  },
  {
   "cell_type": "code",
   "execution_count": null,
   "metadata": {},
   "outputs": [],
   "source": [
    "potentials_dict = {}\n",
    "for key in list_of_dict[0].keys():\n",
    "    potentials_dict[key] = [potentials_dict[key] for potentials_dict in list_of_dict]"
   ]
  },
  {
   "cell_type": "code",
   "execution_count": null,
   "metadata": {},
   "outputs": [],
   "source": [
    "for k,v in potentials_dict.items():\n",
    "    x_val = [x[0] for x in v]\n",
    "    y_val = [y[1] for y in v]\n",
    "    plt.scatter(x_val,y_val)\n",
    "    plt.xticks(rotation=50)\n",
    "    plt.xlabel('structure number')\n",
    "    plt.ylabel('{} value'.format(k))\n",
    "    plt.title('{} {} structure fit'.format(k, num_struct_in_fit))\n",
    "    plt.savefig('{}/{}_structure_fit_{}.png'.format(head_output_directory, num_struct_in_fit, k) ,dpi=500, bbox_inches = \"tight\")\n",
    "    plt.show()"
   ]
  },
  {
   "cell_type": "markdown",
   "metadata": {},
   "source": [
    "## Plot forces and stresses"
   ]
  },
  {
   "cell_type": "code",
   "execution_count": null,
   "metadata": {},
   "outputs": [],
   "source": [
    "structure_num = 15\n",
    "for structure in sorted(glob.glob('{}/{}'.format(head_directory_name, structure_num))):\n",
    "    dft_forces = np.loadtxt('{}/dft_forces.dat'.format(structure), delimiter=' ')\n",
    "    ip_forces = np.loadtxt('{}/ip_forces.dat'.format(structure), delimiter=' ')\n",
    "    dft_stresses = np.loadtxt('{}/dft_stresses.dat'.format(structure), delimiter=' ')\n",
    "    ip_stresses = np.loadtxt('{}/ip_stresses.dat'.format(structure), delimiter=' ')"
   ]
  },
  {
   "cell_type": "code",
   "execution_count": null,
   "metadata": {},
   "outputs": [],
   "source": [
    "x= np.arange(0, len(dft_forces.flatten()))\n",
    "plt.scatter(x, dft_forces.flatten(), label='dft')\n",
    "plt.scatter(x, ip_forces.flatten(), label='ip')\n",
    "plt.legend()\n",
    "# plt.xticks(rotation=50)\n",
    "plt.xlabel('atom number')\n",
    "plt.ylabel('force')\n",
    "plt.text(0,3.5, 'error: {0:.5f}'.format(np.sum((dft_forces - ip_forces)**2)/ dft_forces.size))\n",
    "plt.savefig('{}/forces.png'.format(head_output_directory),dpi=500, bbox_inches = \"tight\")\n",
    "plt.show()"
   ]
  },
  {
   "cell_type": "code",
   "execution_count": null,
   "metadata": {},
   "outputs": [],
   "source": [
    "x= ['XX', 'YY', 'ZZ', 'XY', 'YZ', 'ZX'] \n",
    "plt.scatter(x, dft_stresses.flatten(), label='dft')\n",
    "plt.scatter(x, ip_stresses.flatten(), label='ip')\n",
    "plt.legend()\n",
    "# plt.xticks(rotation=50)\n",
    "plt.ylabel('stress')\n",
    "plt.text(0,-10, 'error: {0:.5f}'.format(np.sum((dft_stresses - ip_stresses)**2)/ dft_stresses.size))\n",
    "plt.savefig('{}/stresses.png'.format(head_output_directory),dpi=500, bbox_inches = \"tight\")\n",
    "plt.show()"
   ]
  },
  {
   "cell_type": "code",
   "execution_count": null,
   "metadata": {},
   "outputs": [],
   "source": [
    "force_diff = np.sum((dft_forces - ip_forces)**2)/ dft_forces.size\n",
    "stress_diff = np.sum((dft_stresses - ip_stresses)**2)/ dft_stresses.size\n",
    "force_diff+(stress_diff*0.1)"
   ]
  },
  {
   "cell_type": "code",
   "execution_count": null,
   "metadata": {},
   "outputs": [],
   "source": []
  },
  {
   "cell_type": "code",
   "execution_count": null,
   "metadata": {},
   "outputs": [],
   "source": []
  },
  {
   "cell_type": "code",
   "execution_count": null,
   "metadata": {},
   "outputs": [],
   "source": []
  },
  {
   "cell_type": "code",
   "execution_count": null,
   "metadata": {},
   "outputs": [],
   "source": []
  }
 ],
 "metadata": {
  "kernelspec": {
   "display_name": "Python 3",
   "language": "python",
   "name": "python3"
  },
  "language_info": {
   "codemirror_mode": {
    "name": "ipython",
    "version": 3
   },
   "file_extension": ".py",
   "mimetype": "text/x-python",
   "name": "python",
   "nbconvert_exporter": "python",
   "pygments_lexer": "ipython3",
   "version": "3.7.3"
  }
 },
 "nbformat": 4,
 "nbformat_minor": 2
}
