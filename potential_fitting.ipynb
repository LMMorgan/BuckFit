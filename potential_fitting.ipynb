{
 "cells": [
  {
   "cell_type": "code",
   "execution_count": 1,
   "metadata": {},
   "outputs": [],
   "source": [
    "from fitting_code import FitModel\n",
    "import fitting_output as output\n",
    "from scipy import optimize\n",
    "import numpy as np\n",
    "from input_checker import setup_error_checks"
   ]
  },
  {
   "cell_type": "code",
   "execution_count": 2,
   "metadata": {},
   "outputs": [],
   "source": [
    "def random_set_of_structures(fits, structures, structures_to_fit, seed=False):\n",
    "    \"\"\"\n",
    "    Randomly selects structures up to the number of structures to include in the fit, checks there are no repeats and returns the structure numbers of those to be included in the fit.\n",
    "    Args:\n",
    "        fits (int): Number of fits to run.\n",
    "        structures (int): Total number of structures in the training set.\n",
    "        structures_to_fit (int): Number of structures to fit to.\n",
    "        seed (optional: int or 1-d array_like): Seed for RandomState. Must be convertible to 32 bit unsigned integers. Default=False\n",
    "    Returns:\n",
    "        (np.array): Structure numbers of structures in training set to be fitted to.\n",
    "    \"\"\"\n",
    " \n",
    "    for x in [fits, structures, structures_to_fit]:\n",
    "        if isinstance(x, int) == False:\n",
    "            raise TypeError('Input values must be integers.')\n",
    "        if x <=0:\n",
    "            raise ValueError('Integer values must be positive.')\n",
    "\n",
    "    if seed is not False:\n",
    "        if isinstance(seed, int) == False and isinstance(seed, np.ndarray) == False:\n",
    "            raise TypeError('seed must be an integer, 1-d array, or False')\n",
    "        else:\n",
    "            np.random.seed(seed)\n",
    "            sets_of_structures = []\n",
    "            while len(sets_of_structures) < fits:\n",
    "                struct_set = np.sort(np.random.randint(0, structures, size=structures_to_fit), axis=0)\n",
    "                if len(set(struct_set)) != structures_to_fit:\n",
    "                    continue\n",
    "                if not any(np.array_equiv(struct_set, x) for x in sets_of_structures):\n",
    "                    sets_of_structures.append(struct_set) \n",
    "            return np.array(sets_of_structures)\n",
    "\n",
    "def run_fit(sets_of_structures, params, labels, bounds, supercell=None, seed=None):\n",
    "    \"\"\"\n",
    "    Collates the structures to be fitted into the working directory, creates the lammps inputs and runs the optimiser to fit to the designated parameters. Calls another function to save the data in the appropriate output directory.\n",
    "    Args:\n",
    "        sets_of_structures (np.array): Structure numbers of structures in training set to be fitted to.\n",
    "        params (dict(dict)): Setup dictionary containing the inputs for coreshell, charges, masses, potentials, and core-shell springs.\n",
    "        labels (list(str)): List of parameters to be fitted.\n",
    "        bounds (list(tuple(float))): List of lower and upper bound tuples associated with each parameter.\n",
    "        supercell (optional:list(int) or list(list(int))): 3 integers defining the cell increase in x, y, and z for all structures, or a list of lists where each list is 3 integers defining the cell increase in x, y, z, for each individual structure in the fitting process. i.e. all increase by the same amount, or each structure increased but different amounts. Default=None.\n",
    "        seed (optional: int or np.random.RandomState): If seed is not specified the np.RandomState singleton is used. If seed is an int, a new np.random.RandomState instance is used, seeded with seed. If seed is already a np.random.RandomState instance, then that np.random.RandomState instance is used. Specify seed for repeatable minimizations. Default=None\n",
    "    Returns:\n",
    "        None\n",
    "    \"\"\"\n",
    "    for fit, structs in enumerate(sets_of_structures):\n",
    "        fit_data = FitModel.collect_info(params, structs, supercell=supercell)\n",
    "        setup_error_checks(labels, bounds, fit_data, params)\n",
    "\n",
    "        fit_output = optimize.differential_evolution(fit_data.chi_squared_error, bounds=bounds, popsize=25,\n",
    "                                           args=([labels]), maxiter=1000, updating='deferred',\n",
    "                                           disp=True, init='latinhypercube', workers=-1, seed=seed)\n",
    "        dft_forces, ip_forces, dft_stresses, ip_stresses = output.extract_stresses_and_forces(fit_data, fit_output.x, labels)\n",
    "        local_struct_dir = '-'.join([ '{}'.format(struct+1) for struct in structs])\n",
    "        struct_directory = output.create_directory(head_directory_name, local_struct_dir)\n",
    "        output.save_data(struct_directory, labels, fit_output, dft_forces, ip_forces, dft_stresses, ip_stresses)\n",
    "    fit_data.reset_directories()"
   ]
  },
  {
   "cell_type": "markdown",
   "metadata": {},
   "source": [
    "## Setup of fitting parameters for your structure (Example: LiNiO2)\n",
    "Params is the dictionary (of dictionaries) which contains the main information relating to the system and potentials. There are 5 sub dictionaries: core_shell, charges, masses, potentials, and cs_springs.\n",
    "\n",
    "**core_shell**: The keys are each atom type within the structure, with the relating value a boolean expression stating if that atom type is core-shell or not i.e. True = core-shell, False = rigid ion.\n",
    "\n",
    "**charges**: The keys are again each atom type within the structure. The relating value is either a float representation of the atomic charge (for rigid ion atoms) or a sub dictionary where the sub keys are 'core' and 'shell', with the relating sub values being a float representation of the charge. Note: if you are fitting the charge separation (dq), the formal charge should be on the core and 0.0 charge on the shell.\n",
    "\n",
    "**masses**: Similar to charges, the keys are each atom type within the structure, with the values either a float representation of the atomic mass, or a sub directory with the sub keys 'core' and 'shell' and sub values a float representation of the mass on each (summing to the atomic mass). Mass can not be fitted, and there is no definative way of splitting the mass, however convention suggests having 10 % mass on the shell.\n",
    "\n",
    "**potentials**: The keys are atom label pairs separated by a dash (str), example: 'Li-O'. The values are a list of the buckingham potential parameters, i.e. [a, rho, c], where each parameter is a float.\n",
    "\n",
    "**cs_springs**: The keys are agian atom label pairs separated by a dash (str), example: 'O-O'. This basically denotes the spring is between 'O' core and 'O' shell. The values are a list of the spring contants, k1 and k2, as floats. Commonly k2 is set to 0.0."
   ]
  },
  {
   "cell_type": "code",
   "execution_count": 3,
   "metadata": {},
   "outputs": [],
   "source": [
    "# params = {}\n",
    "# params['core_shell'] = { 'Li': False, 'Ni': False, 'O': True }\n",
    "# params['charges'] = {'Li': +1.0,\n",
    "#                      'Ni': +3.0,\n",
    "#                      'O': {'core':  -2.0,\n",
    "#                            'shell': 0.0}} \n",
    "# params['masses'] = {'Li': 6.941,\n",
    "#                     'Ni': 58.6934,\n",
    "#                     'O': {'core': 14.3991,\n",
    "#                           'shell': 1.5999} }\n",
    "# params['potentials'] = {'Li-O': [663.111, 0.119, 0.0],\n",
    "#                         'Ni-O': [1393.540, 0.218, 0.000],\n",
    "#                         'O-O': [25804.807, 0.284, 0.0]}\n",
    "# params['cs_springs'] = {'O-O' : [20.0, 0.0]}"
   ]
  },
  {
   "cell_type": "markdown",
   "metadata": {},
   "source": [
    "Labels and bounds relate to the parameters you wish to include in your fit. Labels is a list of strings relating to the individual parameter. Accepted keys are:\n",
    "\n",
    "**dq_x**: Where x is the atomic symbol of the core-shell atom i.e. 'dq_O'. This parameter relates to the charge separation between the core and the shell, where dq is added to the charge for the core, and subtracted from the charge of the shell. In params, the charge should be split with the full charge on the core and 0.0 charge on the shell when this parameter is fitted.\n",
    "\n",
    "**q_scaling**: This parameter allows you to fit partial charges, where the term itself is the scaling factor. i.e. a q_scaling value of 0.5 is 0.5 x formal charge.\n",
    "\n",
    "**x-x spring**: Where x is the atomic symbol of the core-shell atom the spring constant relates to. Example: 'O-O spring'.\n",
    "\n",
    "**x_y_param**: Where x and y are the atoms associated with the potential parameter 'param'. Param can be a, rho, or c only. Examples: 'Li_O_a', 'Li_O_rho', and 'Li_O_c'. Note: DFT doesn't use a dispersion term, which is why the 'c' parameter is not fitted in this example.\n",
    "\n",
    "Bounds are a list of tuples containing the upper and lower values, i.e. bounds, you wish to impose on the relating parameter. Shown here the parameter labeled 'dq_O' has a lower bound of 0.001 and an upper bound of 4. The bounds position in the list must directly corespond to the label in the labels list."
   ]
  },
  {
   "cell_type": "code",
   "execution_count": 4,
   "metadata": {},
   "outputs": [],
   "source": [
    "# labels = ['dq_O', 'q_scaling', 'O-O spring', 'Li_O_a', 'Li_O_rho', 'Ni_O_a', 'Ni_O_rho', 'O_O_a', 'O_O_rho']\n",
    "# bounds = [(0.01, 4), (0.3,1.0), (10.0,150.0), (100.0,50000.0), (0.01,1.0), (100.0,50000.0), (0.01,1.0), (150.0,50000.0), (0.01,1.0)]"
   ]
  },
  {
   "cell_type": "markdown",
   "metadata": {},
   "source": [
    "Below is an example input of params, lables, and bounds for a **fully rigid ion** system.\n",
    "Note: The only non-required params key is 'cs_springs' as no spring constant used."
   ]
  },
  {
   "cell_type": "code",
   "execution_count": 5,
   "metadata": {},
   "outputs": [],
   "source": [
    "params = {}\n",
    "params['core_shell'] = { 'Li': False, 'Ni': False, 'O': False }\n",
    "params['charges'] = {'Li': +1.0,\n",
    "                     'Ni': +3.0,\n",
    "                     'O': -2.0}\n",
    "params['masses'] = {'Li': 6.941,\n",
    "                    'Ni': 58.6934,\n",
    "                    'O': 15.999}\n",
    "params['potentials'] = {'Li-O': [663.111, 0.119, 0.0],\n",
    "                        'Ni-O': [1393.540, 0.218, 0.000],\n",
    "                        'O-O': [25804.807, 0.284, 0.0]}\n",
    "\n",
    "labels = ['q_scaling', 'Li_O_a', 'Li_O_rho', 'Ni_O_a', 'Ni_O_rho', 'O_O_a', 'O_O_rho']\n",
    "bounds = [(0.3,1.0), (100.0,50000.0), (0.01,1.0), (100.0,50000.0), (0.01,1.0), (150.0,50000.0), (0.01,1.0)]"
   ]
  },
  {
   "cell_type": "markdown",
   "metadata": {},
   "source": [
    "## Directory set up\n",
    "\n",
    "Structures, structures_to_fit, and fits are required inputs. These designate how many structures are in the training set (saved in a sub directory named 'training_set' in both the 'poscars' and 'outcars' directories), how many of those structures to fit to, and how many fits to conduct, respectively.\n",
    "\n",
    "The 'head_directory_name' is set up to output the fit to a results directory, with a sub directory of the number of structures fitted. For example if you fit to 5 structures, your output would go to 'results/5_fit'. This can be changed without causing any issues."
   ]
  },
  {
   "cell_type": "code",
   "execution_count": 6,
   "metadata": {},
   "outputs": [],
   "source": [
    "structures = 15 #Total number of structures in the training set\n",
    "structures_to_fit = 3 #Number of structures you wish to fit to\n",
    "fits = 1 #Number of fits to run\n",
    "head_directory_name = 'results/{}_fit'.format(structures_to_fit)"
   ]
  },
  {
   "cell_type": "markdown",
   "metadata": {},
   "source": [
    "## Randomly selecting sets of structures\n",
    "To prevent any bias in the data, and to improve the variation in structures which are being fitted to, structures are selected randomly from the trianing set up to the number of structures you are decided to fit to. This is done in a function which will check that repeats of the same structure aren't used and doesn't require an input further to that given above. There is an optional input of 'seed' which allows you to designate a seed for reproducible results. 'seed' must be either an int or 1-d array_like. Default is None.\n",
    "\n",
    "**Note**: Training set must be saved in the correct place to run properly, otherwise errors will arise."
   ]
  },
  {
   "cell_type": "code",
   "execution_count": 7,
   "metadata": {},
   "outputs": [],
   "source": [
    "sets_of_structures = random_set_of_structures(fits, structures, structures_to_fit, seed=7)"
   ]
  },
  {
   "cell_type": "markdown",
   "metadata": {},
   "source": [
    "## Running the fit for each set of structures\n",
    "The fit itself is run within the function above called 'run_fit', which is executed here. There are 4 required inputs: 'sets_of_structures', 'params', 'labels', and 'bounds', which have already been defined. There are also 2 optional inputs: 'supercell' which creates a supercell of the structures before running the fit. This can either be a list with the multipliers for x, y, and z, i.e. [2,2,2], or a list of list if you want to use different system sizes (not recommended) or have different starting sizes, i.e. [[2,2,2],[1,1,2]]. The second is 'seed' which designates if the optimiser is seeded from a start point for reproducibility/repeatability. If seed is not specified the np.RandomState singleton is used. If seed is an int, a new np.random.RandomState instance is used, seeded with seed. If seed is already a np.random.RandomState instance, then that np.random.RandomState instance is used.\n",
    "\n",
    "If you want to change any of the optimisation parameters, such as the population size or initiation method, you need to do this within the *run_fit* function. The fitting process uses scipy.optimise.differential_evolution of which the documentation and input parameters can be found at https://docs.scipy.org/doc/scipy/reference/generated/scipy.optimize.differential_evolution.html.\n",
    "\n",
    "**Note**: workers relates to paralising the fit. It is currently set to '-1' which uses all avaliable cores. This will need to be changed appropriately if used on a shared machine.\n",
    "\n",
    "Output data is sent to the *head directory* location, in a sub directory named with the structure numbers which it has been fitted to. Example: fitting to 3 random structures will be in a sub directory similar to '2-4-10'."
   ]
  },
  {
   "cell_type": "code",
   "execution_count": 8,
   "metadata": {},
   "outputs": [
    {
     "name": "stdout",
     "output_type": "stream",
     "text": [
      "Found elements: ['Li', 'Ni', 'O']\n",
      "Found elements: ['Li', 'Ni', 'O']\n",
      "Found elements: ['Li', 'Ni', 'O']\n",
      "differential_evolution step 1: f(x)= 82.9013\n"
     ]
    },
    {
     "ename": "FileExistsError",
     "evalue": "Results directory already exists. Please either delete/rename the directory or rename the output location.",
     "output_type": "error",
     "traceback": [
      "\u001b[0;31m---------------------------------------------------------------------------\u001b[0m",
      "\u001b[0;31mFileExistsError\u001b[0m                           Traceback (most recent call last)",
      "\u001b[0;32m<ipython-input-8-cea344d564bd>\u001b[0m in \u001b[0;36m<module>\u001b[0;34m\u001b[0m\n\u001b[0;32m----> 1\u001b[0;31m \u001b[0mrun_fit\u001b[0m\u001b[0;34m(\u001b[0m\u001b[0msets_of_structures\u001b[0m\u001b[0;34m,\u001b[0m \u001b[0mparams\u001b[0m\u001b[0;34m,\u001b[0m \u001b[0mlabels\u001b[0m\u001b[0;34m,\u001b[0m \u001b[0mbounds\u001b[0m\u001b[0;34m)\u001b[0m\u001b[0;31m#, supercell=[2,2,2], seed=7)\u001b[0m\u001b[0;34m\u001b[0m\u001b[0;34m\u001b[0m\u001b[0m\n\u001b[0m",
      "\u001b[0;32m<ipython-input-2-72be0ec1388f>\u001b[0m in \u001b[0;36mrun_fit\u001b[0;34m(sets_of_structures, params, labels, bounds, supercell, seed)\u001b[0m\n\u001b[1;32m     59\u001b[0m         \u001b[0mdft_forces\u001b[0m\u001b[0;34m,\u001b[0m \u001b[0mip_forces\u001b[0m\u001b[0;34m,\u001b[0m \u001b[0mdft_stresses\u001b[0m\u001b[0;34m,\u001b[0m \u001b[0mip_stresses\u001b[0m \u001b[0;34m=\u001b[0m \u001b[0moutput\u001b[0m\u001b[0;34m.\u001b[0m\u001b[0mextract_stresses_and_forces\u001b[0m\u001b[0;34m(\u001b[0m\u001b[0mfit_data\u001b[0m\u001b[0;34m,\u001b[0m \u001b[0mfit_output\u001b[0m\u001b[0;34m.\u001b[0m\u001b[0mx\u001b[0m\u001b[0;34m,\u001b[0m \u001b[0mlabels\u001b[0m\u001b[0;34m)\u001b[0m\u001b[0;34m\u001b[0m\u001b[0;34m\u001b[0m\u001b[0m\n\u001b[1;32m     60\u001b[0m         \u001b[0mlocal_struct_dir\u001b[0m \u001b[0;34m=\u001b[0m \u001b[0;34m'-'\u001b[0m\u001b[0;34m.\u001b[0m\u001b[0mjoin\u001b[0m\u001b[0;34m(\u001b[0m\u001b[0;34m[\u001b[0m \u001b[0;34m'{}'\u001b[0m\u001b[0;34m.\u001b[0m\u001b[0mformat\u001b[0m\u001b[0;34m(\u001b[0m\u001b[0mstruct\u001b[0m\u001b[0;34m+\u001b[0m\u001b[0;36m1\u001b[0m\u001b[0;34m)\u001b[0m \u001b[0;32mfor\u001b[0m \u001b[0mstruct\u001b[0m \u001b[0;32min\u001b[0m \u001b[0mstructs\u001b[0m\u001b[0;34m]\u001b[0m\u001b[0;34m)\u001b[0m\u001b[0;34m\u001b[0m\u001b[0;34m\u001b[0m\u001b[0m\n\u001b[0;32m---> 61\u001b[0;31m         \u001b[0mstruct_directory\u001b[0m \u001b[0;34m=\u001b[0m \u001b[0moutput\u001b[0m\u001b[0;34m.\u001b[0m\u001b[0mcreate_directory\u001b[0m\u001b[0;34m(\u001b[0m\u001b[0mhead_directory_name\u001b[0m\u001b[0;34m,\u001b[0m \u001b[0mlocal_struct_dir\u001b[0m\u001b[0;34m)\u001b[0m\u001b[0;34m\u001b[0m\u001b[0;34m\u001b[0m\u001b[0m\n\u001b[0m\u001b[1;32m     62\u001b[0m         \u001b[0moutput\u001b[0m\u001b[0;34m.\u001b[0m\u001b[0msave_data\u001b[0m\u001b[0;34m(\u001b[0m\u001b[0mstruct_directory\u001b[0m\u001b[0;34m,\u001b[0m \u001b[0mlabels\u001b[0m\u001b[0;34m,\u001b[0m \u001b[0mfit_output\u001b[0m\u001b[0;34m,\u001b[0m \u001b[0mdft_forces\u001b[0m\u001b[0;34m,\u001b[0m \u001b[0mip_forces\u001b[0m\u001b[0;34m,\u001b[0m \u001b[0mdft_stresses\u001b[0m\u001b[0;34m,\u001b[0m \u001b[0mip_stresses\u001b[0m\u001b[0;34m)\u001b[0m\u001b[0;34m\u001b[0m\u001b[0;34m\u001b[0m\u001b[0m\n\u001b[1;32m     63\u001b[0m     \u001b[0mfit_data\u001b[0m\u001b[0;34m.\u001b[0m\u001b[0mreset_directories\u001b[0m\u001b[0;34m(\u001b[0m\u001b[0;34m)\u001b[0m\u001b[0;34m\u001b[0m\u001b[0;34m\u001b[0m\u001b[0m\n",
      "\u001b[0;32m~/Documents/current_work/lammps_potenial_fitting/fitting_output.py\u001b[0m in \u001b[0;36mcreate_directory\u001b[0;34m(head_directory_name, local_struct_dir)\u001b[0m\n\u001b[1;32m     14\u001b[0m     \u001b[0mdirectory\u001b[0m \u001b[0;34m=\u001b[0m \u001b[0mos\u001b[0m\u001b[0;34m.\u001b[0m\u001b[0mpath\u001b[0m\u001b[0;34m.\u001b[0m\u001b[0mjoin\u001b[0m\u001b[0;34m(\u001b[0m\u001b[0mhead_directory_name\u001b[0m\u001b[0;34m,\u001b[0m \u001b[0mlocal_struct_dir\u001b[0m\u001b[0;34m)\u001b[0m\u001b[0;34m\u001b[0m\u001b[0;34m\u001b[0m\u001b[0m\n\u001b[1;32m     15\u001b[0m     \u001b[0;32mif\u001b[0m \u001b[0mos\u001b[0m\u001b[0;34m.\u001b[0m\u001b[0mpath\u001b[0m\u001b[0;34m.\u001b[0m\u001b[0misdir\u001b[0m\u001b[0;34m(\u001b[0m\u001b[0mdirectory\u001b[0m\u001b[0;34m)\u001b[0m\u001b[0;34m:\u001b[0m\u001b[0;34m\u001b[0m\u001b[0;34m\u001b[0m\u001b[0m\n\u001b[0;32m---> 16\u001b[0;31m         \u001b[0;32mraise\u001b[0m \u001b[0mFileExistsError\u001b[0m\u001b[0;34m(\u001b[0m\u001b[0;34m'Results directory already exists. Please either delete/rename the directory or rename the output location.'\u001b[0m\u001b[0;34m)\u001b[0m\u001b[0;34m\u001b[0m\u001b[0;34m\u001b[0m\u001b[0m\n\u001b[0m\u001b[1;32m     17\u001b[0m     \u001b[0;32melse\u001b[0m\u001b[0;34m:\u001b[0m\u001b[0;34m\u001b[0m\u001b[0;34m\u001b[0m\u001b[0m\n\u001b[1;32m     18\u001b[0m         \u001b[0mos\u001b[0m\u001b[0;34m.\u001b[0m\u001b[0mmakedirs\u001b[0m\u001b[0;34m(\u001b[0m\u001b[0mdirectory\u001b[0m\u001b[0;34m)\u001b[0m\u001b[0;34m\u001b[0m\u001b[0;34m\u001b[0m\u001b[0m\n",
      "\u001b[0;31mFileExistsError\u001b[0m: Results directory already exists. Please either delete/rename the directory or rename the output location."
     ]
    }
   ],
   "source": [
    "run_fit(sets_of_structures, params, labels, bounds)#, supercell=[2,2,2], seed=7)"
   ]
  },
  {
   "cell_type": "markdown",
   "metadata": {},
   "source": [
    "## Other notes\n",
    "\n",
    "There are a couple of things you might also want to consider changing, such as the short range and long range cutoffs (currently 10 angstrom) for the atom interactions and the ewald precision (currently $1e^{-6}$). This can be changed in the 'initiate_lmp' function in 'lammps_data.py'. You can also change the units used by lammps within this function as well (currently 'metal'), along with the minimiser used (currently cg).\n",
    "\n",
    "The working directories are reset by removing all poscar, outcar, and lammps files. The subdirectories will remain which contain the training set."
   ]
  },
  {
   "cell_type": "code",
   "execution_count": null,
   "metadata": {},
   "outputs": [],
   "source": []
  }
 ],
 "metadata": {
  "kernelspec": {
   "display_name": "Python 3",
   "language": "python",
   "name": "python3"
  },
  "language_info": {
   "codemirror_mode": {
    "name": "ipython",
    "version": 3
   },
   "file_extension": ".py",
   "mimetype": "text/x-python",
   "name": "python",
   "nbconvert_exporter": "python",
   "pygments_lexer": "ipython3",
   "version": "3.7.3"
  }
 },
 "nbformat": 4,
 "nbformat_minor": 4
}
