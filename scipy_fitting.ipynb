{
 "cells": [
  {
   "cell_type": "code",
   "execution_count": 1,
   "metadata": {},
   "outputs": [],
   "source": [
    "from fitting import FitModel\n",
    "from databases import initiate_db, print_summary\n",
    "from plotters import forces_plots\n",
    "from scipy import optimize\n",
    "import numpy as np\n",
    "import matplotlib.pyplot as plt"
   ]
  },
  {
   "cell_type": "code",
   "execution_count": 2,
   "metadata": {},
   "outputs": [],
   "source": [
    "params = {}\n",
    "params['core_shell'] = { 'Li': False, 'Ni': False, 'O': False }\n",
    "params['charges'] = {'Li': +1.0,\n",
    "                     'Ni': +3.0,\n",
    "                     'O': -2.0}\n",
    "params['masses'] = {'Li': 6.941,\n",
    "                    'Ni': 58.6934,\n",
    "                    'O': 15.999}\n",
    "params['cs_springs'] = {}\n",
    "\n",
    "\n",
    "# params['core_shell'] = { 'Li': False, 'Ni': False, 'O': True }\n",
    "# params['charges'] = {'Li': +1.0,\n",
    "#                      'Ni': +3.0,\n",
    "#                      'O': {'core':  +0.960,\n",
    "#                            'shell': -2.960}}\n",
    "# params['masses'] = {'Li': 6.941,\n",
    "#                     'Ni': 58.6934,\n",
    "#                     'O': {'core': 14.3991,\n",
    "#                           'shell': 1.5999} }\n",
    "# params['cs_springs'] = {'O' : [100.0, 0.0]}\n",
    "\n",
    "\n",
    "distribution = {}\n",
    "distribution['Li-O'] = {'bpp' : [663.111, 0.119, 0.0],\n",
    "                        'sd' : [80, 0.01, 0.01]}\n",
    "\n",
    "distribution['Ni-O'] = {'bpp' : [1393.540, 0.218, 0.000],\n",
    "                        'sd'  : [80, 0.01, 0.01]}\n",
    "\n",
    "distribution['O-O'] = {'bpp' : [25804.807, 0.284, 0.0],\n",
    "                       'sd'  : [200, 0.01, 5]}\n",
    "       \n",
    "excude_from_fit = [] # string of atom1_atom2_param. Example of format = 'O_O_rho'"
   ]
  },
  {
   "cell_type": "code",
   "execution_count": null,
   "metadata": {},
   "outputs": [],
   "source": []
  },
  {
   "cell_type": "code",
   "execution_count": 3,
   "metadata": {},
   "outputs": [
    {
     "name": "stdout",
     "output_type": "stream",
     "text": [
      "Found elements: ['Li', 'Ni', 'O']\n"
     ]
    }
   ],
   "source": [
    "fit_data = FitModel.collect_info(params, distribution, supercell=[1,1,1])"
   ]
  },
  {
   "cell_type": "code",
   "execution_count": 4,
   "metadata": {},
   "outputs": [],
   "source": [
    "include_labels = ['Li_O_a', 'Li_O_rho', 'Ni_O_a', 'Ni_O_rho', 'O_O_a', 'O_O_rho']\n",
    "# include_values = [1.06819131e+03, 2.11191786e-01, 3.10582127e+02, 2.60191312e-01, 2.89687978e+04, 2.81854872e-01]\n",
    "bounds_list = [(100.0,2000.0),(0.01,1.0),(100.0,3000.0),(0.01,1.0),(100.0,40000.0),(0.01,1.0)]"
   ]
  },
  {
   "cell_type": "code",
   "execution_count": 5,
   "metadata": {},
   "outputs": [],
   "source": [
    "# optimize.minimize(fit_data.fit_error, include_values, args=(include_labels), method='TNC', bounds=bounds_list, options={'maxiter':3000, 'maxfev':3000, })"
   ]
  },
  {
   "cell_type": "code",
   "execution_count": 6,
   "metadata": {},
   "outputs": [],
   "source": [
    "# optimize.minimize(fit_data.fit_error, include_values, args=(include_labels), method='trust-constr', bounds=bounds_list, options={'xtol':0.001})"
   ]
  },
  {
   "cell_type": "code",
   "execution_count": 7,
   "metadata": {},
   "outputs": [
    {
     "name": "stdout",
     "output_type": "stream",
     "text": [
      "differential_evolution step 1: f(x)= 6.22717\n",
      "differential_evolution step 2: f(x)= 3.80092\n",
      "differential_evolution step 3: f(x)= 3.80092\n",
      "differential_evolution step 4: f(x)= 3.80092\n",
      "differential_evolution step 5: f(x)= 3.80092\n",
      "differential_evolution step 6: f(x)= 3.80092\n",
      "differential_evolution step 7: f(x)= 3.80092\n",
      "differential_evolution step 8: f(x)= 3.80092\n",
      "differential_evolution step 9: f(x)= 3.80092\n",
      "differential_evolution step 10: f(x)= 3.80092\n",
      "differential_evolution step 11: f(x)= 3.80092\n",
      "differential_evolution step 12: f(x)= 3.78254\n",
      "differential_evolution step 13: f(x)= 3.78254\n",
      "differential_evolution step 14: f(x)= 3.78254\n",
      "differential_evolution step 15: f(x)= 3.78254\n",
      "differential_evolution step 16: f(x)= 3.78254\n",
      "differential_evolution step 17: f(x)= 3.78254\n",
      "differential_evolution step 18: f(x)= 3.78016\n",
      "differential_evolution step 19: f(x)= 3.78016\n",
      "differential_evolution step 20: f(x)= 3.75214\n",
      "differential_evolution step 21: f(x)= 3.75214\n",
      "differential_evolution step 22: f(x)= 3.73095\n",
      "differential_evolution step 23: f(x)= 3.73086\n",
      "differential_evolution step 24: f(x)= 3.73086\n",
      "differential_evolution step 25: f(x)= 3.73086\n",
      "differential_evolution step 26: f(x)= 3.73028\n",
      "differential_evolution step 27: f(x)= 3.73028\n",
      "differential_evolution step 28: f(x)= 3.73028\n",
      "differential_evolution step 29: f(x)= 3.73028\n",
      "differential_evolution step 30: f(x)= 3.73028\n",
      "differential_evolution step 31: f(x)= 3.73028\n",
      "differential_evolution step 32: f(x)= 3.73028\n",
      "differential_evolution step 33: f(x)= 3.73028\n",
      "differential_evolution step 34: f(x)= 3.73028\n",
      "differential_evolution step 35: f(x)= 3.73028\n",
      "differential_evolution step 36: f(x)= 3.73023\n",
      "differential_evolution step 37: f(x)= 3.73023\n",
      "differential_evolution step 38: f(x)= 3.73023\n"
     ]
    }
   ],
   "source": [
    "s = optimize.differential_evolution(fit_data.fit_error,\n",
    "                                    bounds=bounds_list,\n",
    "                                    popsize=15,\n",
    "#                                     tol=0.0001,\n",
    "                                    args=([include_labels]),\n",
    "                                    maxiter=1000,\n",
    "                                    disp=True)"
   ]
  },
  {
   "cell_type": "code",
   "execution_count": 8,
   "metadata": {},
   "outputs": [
    {
     "data": {
      "text/plain": [
       "     fun: 3.730229774096095\n",
       " message: 'Optimization terminated successfully.'\n",
       "    nfev: 3517\n",
       "     nit: 38\n",
       " success: True\n",
       "       x: array([9.69232104e+02, 1.18155369e-01, 1.67231182e+02, 5.61912419e-01,\n",
       "       2.77242783e+04, 4.45542929e-02])"
      ]
     },
     "execution_count": 8,
     "metadata": {},
     "output_type": "execute_result"
    }
   ],
   "source": [
    "s"
   ]
  },
  {
   "cell_type": "code",
   "execution_count": null,
   "metadata": {},
   "outputs": [],
   "source": [
    "def fit_forces(fit_data, values, args):\n",
    "    potential_params = dict(zip( args, values ))\n",
    "    for pot in fit_data.potentials:\n",
    "        for param in [ pot.a, pot.rho, pot.c ]:\n",
    "            key = param.label_string\n",
    "            if key not in potential_params:\n",
    "                potential_params[key] = param.value\n",
    "    ip_forces = fit_data.get_forces(**potential_params)\n",
    "    return ip_forces"
   ]
  },
  {
   "cell_type": "code",
   "execution_count": null,
   "metadata": {},
   "outputs": [],
   "source": [
    "include_values = s.x\n",
    "ip_list = np.concatenate(fit_forces(fit_data, include_values, include_labels), axis=0)\n",
    "dft_list = np.concatenate(fit_data.expected_forces(), axis=0)"
   ]
  },
  {
   "cell_type": "code",
   "execution_count": null,
   "metadata": {},
   "outputs": [],
   "source": [
    "plt.plot(ip_list, label='ip')\n",
    "plt.plot(dft_list, label='dft')\n",
    "plt.ylabel('force')\n",
    "plt.xlabel('index')\n",
    "plt.legend()\n",
    "# plt.savefig('global_minimiser_example.png',dpi=500, bbox_inches = \"tight\")\n",
    "plt.show()\n",
    "np.sum(((dft_list-ip_list)**2)/ip_list.size)"
   ]
  },
  {
   "cell_type": "code",
   "execution_count": null,
   "metadata": {},
   "outputs": [],
   "source": []
  },
  {
   "cell_type": "code",
   "execution_count": null,
   "metadata": {},
   "outputs": [],
   "source": []
  },
  {
   "cell_type": "code",
   "execution_count": null,
   "metadata": {},
   "outputs": [],
   "source": []
  },
  {
   "cell_type": "markdown",
   "metadata": {},
   "source": [
    "Get Lattice Parameters"
   ]
  },
  {
   "cell_type": "code",
   "execution_count": null,
   "metadata": {},
   "outputs": [],
   "source": [
    "import lammps\n",
    "def get_lattice(fit_data):\n",
    "    potential_params = {}\n",
    "    for pot in fit_data.potentials:\n",
    "        for param in [pot.a, pot.rho, pot.c]:\n",
    "            key = param.label_string\n",
    "            potential_params[key] = param.value\n",
    "    lmp = fit_data.get_lattice_params(**potential_params)\n",
    "    return lmp"
   ]
  },
  {
   "cell_type": "code",
   "execution_count": null,
   "metadata": {},
   "outputs": [],
   "source": [
    "lmp = get_lattice(fit_data)\n",
    "lammps = lmp[0]"
   ]
  },
  {
   "cell_type": "code",
   "execution_count": null,
   "metadata": {},
   "outputs": [],
   "source": [
    "a_c_vol = [(lammps.box.lengths[0]/8),(lammps.box.lengths[2]/2),lammps.box.volume/8/4/2/2]\n",
    "ref_delmas = [2.879, 14.201, 101.951]"
   ]
  },
  {
   "cell_type": "code",
   "execution_count": null,
   "metadata": {},
   "outputs": [],
   "source": [
    "a_dif = (a_c_vol[0]-ref_delmas[0])/((a_c_vol[0]+ref_delmas[0])/2) * 100\n",
    "c_dif = (a_c_vol[1]-ref_delmas[1])/((a_c_vol[1]+ref_delmas[1])/2) * 100\n",
    "vol_dif = (a_c_vol[2]-ref_delmas[2])/((a_c_vol[2]+ref_delmas[2])/2) * 100"
   ]
  },
  {
   "cell_type": "code",
   "execution_count": null,
   "metadata": {},
   "outputs": [],
   "source": [
    "print('My calculated values are (a,c,vol): {}'.format(a_c_vol))\n",
    "print('Experimental values are (a,c,vol): {}'.format(ref_delmas))\n",
    "print('Percentage differences are (a,c,vol): {}, {}, {}'.format(a_dif, c_dif, vol_dif))"
   ]
  },
  {
   "cell_type": "code",
   "execution_count": null,
   "metadata": {},
   "outputs": [],
   "source": [
    "ref_DFT = [2.729, 14.053, 96.456]"
   ]
  },
  {
   "cell_type": "code",
   "execution_count": null,
   "metadata": {},
   "outputs": [],
   "source": [
    "a_dif = (a_c_vol[0]-ref_DFT[0])/((a_c_vol[0]+ref_DFT[0])/2) * 100\n",
    "c_dif = (a_c_vol[1]-ref_DFT[1])/((a_c_vol[1]+ref_DFT[1])/2) * 100\n",
    "vol_dif = (a_c_vol[2]-ref_DFT[2])/((a_c_vol[2]+ref_DFT[2])/2) * 100"
   ]
  },
  {
   "cell_type": "code",
   "execution_count": null,
   "metadata": {},
   "outputs": [],
   "source": [
    "print('My calculated values are (a,c,vol): {:.3f} {:.3f} {:.3f}'.format(a_c_vol[0], a_c_vol[1], a_c_vol[2]))\n",
    "print('DFT values are (a,c,vol): {:.3f} {:.3f} {:.3f}'.format(ref_DFT[0], ref_DFT[1], ref_DFT[2]))\n",
    "print('Percentage differences are (a,c,vol): {:.3f} {:.3f} {:.3f}'.format(a_dif, c_dif, vol_dif))"
   ]
  },
  {
   "cell_type": "code",
   "execution_count": null,
   "metadata": {},
   "outputs": [],
   "source": [
    "lammps.box.lengths"
   ]
  },
  {
   "cell_type": "code",
   "execution_count": null,
   "metadata": {},
   "outputs": [],
   "source": [
    "# Geometry optimised structure:\n",
    "#      fun: 0.00024535877391032265\n",
    "#  message: 'Optimization terminated successfully.'\n",
    "#     nfev: 14587\n",
    "#      nit: 161\n",
    "#  success: True\n",
    "#        x: array([6.63110880e+02, 1.19385635e-01, 1.39354000e+03, 2.17550689e-01,\n",
    "#        2.58048072e+04, 2.84121273e-01])"
   ]
  },
  {
   "cell_type": "code",
   "execution_count": null,
   "metadata": {},
   "outputs": [],
   "source": [
    "# rigid ion with C=0:\n",
    "#     My calculated values are (a,c,vol): 2.853 15.056 117.474\n",
    "#     DFT values are (a,c,vol): 2.729 14.053 96.456\n",
    "#     Percentage differences are (a,c,vol): 4.430 6.893 19.649"
   ]
  },
  {
   "cell_type": "code",
   "execution_count": null,
   "metadata": {},
   "outputs": [],
   "source": [
    "# rigid ion with O-O C=27.1:\n",
    "#     My calculated values are (a,c,vol): 2.834 15.203 117.767\n",
    "#     DFT values are (a,c,vol): 2.729 14.053 96.456\n",
    "#     Percentage differences are (a,c,vol): 3.763 7.864 19.896"
   ]
  },
  {
   "cell_type": "code",
   "execution_count": null,
   "metadata": {},
   "outputs": [],
   "source": [
    "# rigid ion with O-O C=45.0:\n",
    "#     My calculated values are (a,c,vol): 2.771 15.306 120.610\n",
    "#     DFT values are (a,c,vol): 2.729 14.053 96.456\n",
    "#     Percentage differences are (a,c,vol): 1.531 8.539 22.255"
   ]
  },
  {
   "cell_type": "code",
   "execution_count": null,
   "metadata": {},
   "outputs": [],
   "source": [
    "# core-shell with C=0:\n",
    "#     My calculated values are (a,c,vol): 2.857 14.945 115.741\n",
    "#     DFT values are (a,c,vol): 2.729 14.053 96.456\n",
    "#     Percentage differences are (a,c,vol): 4.572 6.151 18.176"
   ]
  },
  {
   "cell_type": "code",
   "execution_count": null,
   "metadata": {},
   "outputs": [],
   "source": [
    "# core-shell with C=27.1:\n",
    "#     My calculated values are (a,c,vol): 2.819 15.140 117.582\n",
    "#     DFT values are (a,c,vol): 2.729 14.053 96.456\n",
    "#     Percentage differences are (a,c,vol): 3.234 7.445 19.740"
   ]
  },
  {
   "cell_type": "code",
   "execution_count": null,
   "metadata": {},
   "outputs": [],
   "source": [
    "# core-shell with C=45.0:\n",
    "#     My calculated values are (a,c,vol): 2.818 15.119 116.555\n",
    "#     DFT values are (a,c,vol): 2.729 14.053 96.456\n",
    "#     Percentage differences are (a,c,vol): 3.225 7.310 18.872"
   ]
  },
  {
   "cell_type": "code",
   "execution_count": null,
   "metadata": {},
   "outputs": [],
   "source": []
  },
  {
   "cell_type": "code",
   "execution_count": null,
   "metadata": {},
   "outputs": [],
   "source": []
  }
 ],
 "metadata": {
  "kernelspec": {
   "display_name": "Python 3",
   "language": "python",
   "name": "python3"
  },
  "language_info": {
   "codemirror_mode": {
    "name": "ipython",
    "version": 3
   },
   "file_extension": ".py",
   "mimetype": "text/x-python",
   "name": "python",
   "nbconvert_exporter": "python",
   "pygments_lexer": "ipython3",
   "version": "3.7.3"
  }
 },
 "nbformat": 4,
 "nbformat_minor": 2
}
