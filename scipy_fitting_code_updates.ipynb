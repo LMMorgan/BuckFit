{
 "cells": [
  {
   "cell_type": "code",
   "execution_count": 4,
   "metadata": {},
   "outputs": [],
   "source": [
    "from fitting import FitModel\n",
    "from databases import initiate_db, print_summary\n",
    "from plotters import forces_plots\n",
    "from scipy import optimize\n",
    "import numpy as np\n",
    "import matplotlib.pyplot as plt"
   ]
  },
  {
   "cell_type": "code",
   "execution_count": 5,
   "metadata": {},
   "outputs": [],
   "source": [
    "params = {}\n",
    "# params['core_shell'] = { 'Li': False, 'Ni': False, 'O': False }\n",
    "# params['charges'] = {'Li': +1.0,\n",
    "#                      'Ni': +3.0,\n",
    "#                      'O': -2.0}\n",
    "# params['masses'] = {'Li': 6.941,\n",
    "#                     'Ni': 58.6934,\n",
    "#                     'O': 15.999}\n",
    "# params['cs_springs'] = {}\n",
    "\n",
    "\n",
    "params['core_shell'] = { 'Li': False, 'Ni': False, 'O': True }\n",
    "params['charges'] = {'Li': +1.0,\n",
    "                     'Ni': +3.0,\n",
    "                     'O': {'core':  +0.960,\n",
    "                           'shell': -2.960}}\n",
    "params['masses'] = {'Li': 6.941,\n",
    "                    'Ni': 58.6934,\n",
    "                    'O': {'core': 14.3991,\n",
    "                          'shell': 1.5999} }\n",
    "params['cs_springs'] = {'O-O' : [20.0, 0.0]}\n",
    "\n",
    "\n",
    "distribution = {}\n",
    "distribution['Li-O'] = {'bpp' : [663.111, 0.119, 0.0],\n",
    "                        'sd' : [80, 0.01, 0.01]}\n",
    "\n",
    "distribution['Ni-O'] = {'bpp' : [1393.540, 0.218, 0.000],\n",
    "                        'sd'  : [80, 0.01, 0.01]}\n",
    "\n",
    "distribution['O-O'] = {'bpp' : [25804.807, 0.284, 0.0],\n",
    "                       'sd'  : [200, 0.01, 5]}\n",
    "       \n",
    "excude_from_fit = [] # string of atom1_atom2_param. Example of format = 'O_O_rho'"
   ]
  },
  {
   "cell_type": "code",
   "execution_count": 6,
   "metadata": {},
   "outputs": [
    {
     "name": "stdout",
     "output_type": "stream",
     "text": [
      "Found elements: ['Li', 'Ni', 'O']\n",
      "Found elements: ['Li', 'Ni', 'O']\n"
     ]
    }
   ],
   "source": [
    "# fit_data = FitModel.collect_info(params, distribution, supercell= [[2,2,2],[2,2,2],[2,2,2],[2,2,2],[8,4,2]])\n",
    "fit_data = FitModel.collect_info(params, distribution, supercell=[2,2,2])"
   ]
  },
  {
   "cell_type": "code",
   "execution_count": 8,
   "metadata": {},
   "outputs": [],
   "source": [
    "include_labels = ['q_scaling', 'O-O spring', 'Li_O_a', 'Li_O_rho', 'Ni_O_a', 'Ni_O_rho', 'O_O_a', 'O_O_rho']\n",
    "bounds_list = [(0.3,1.0),(10.0,150.0),(30.0,5000.0),(0.01,1.0),(150.0,5000.0),(0.01,1.0),(150.0,30000.0),(0.01,1.0)]"
   ]
  },
  {
   "cell_type": "markdown",
   "metadata": {},
   "source": [
    "## SOME VALIDATION OF THE LABELS AND BOUNDS BEING PASSED TO THE OPTIMISER - INCLUDING ASSERT 'dq_' RELATING ATOMS MUST BE DEFINED AS CORESHELL"
   ]
  },
  {
   "cell_type": "code",
   "execution_count": 10,
   "metadata": {},
   "outputs": [
    {
     "name": "stderr",
     "output_type": "stream",
     "text": [
      "/Users/lmm82/.pyenv/versions/3.7.3/lib/python3.7/site-packages/scipy/optimize/_differentialevolution.py:461: UserWarning: differential_evolution: the 'workers' keyword has overridden updating='immediate' to updating='deferred'\n",
      "  \" updating='deferred'\", UserWarning)\n"
     ]
    },
    {
     "name": "stdout",
     "output_type": "stream",
     "text": [
      "differential_evolution step 1: f(x)= 0.412971\n",
      "differential_evolution step 2: f(x)= 0.412971\n",
      "differential_evolution step 3: f(x)= 0.412971\n",
      "differential_evolution step 4: f(x)= 0.412971\n",
      "differential_evolution step 5: f(x)= 0.412971\n",
      "differential_evolution step 6: f(x)= 0.412971\n",
      "differential_evolution step 7: f(x)= 0.331086\n",
      "differential_evolution step 8: f(x)= 0.331086\n",
      "differential_evolution step 9: f(x)= 0.331086\n",
      "differential_evolution step 10: f(x)= 0.331086\n",
      "differential_evolution step 11: f(x)= 0.331086\n",
      "differential_evolution step 12: f(x)= 0.331086\n",
      "differential_evolution step 13: f(x)= 0.301518\n",
      "differential_evolution step 14: f(x)= 0.301518\n",
      "differential_evolution step 15: f(x)= 0.301518\n",
      "differential_evolution step 16: f(x)= 0.301518\n",
      "differential_evolution step 17: f(x)= 0.301518\n",
      "differential_evolution step 18: f(x)= 0.296131\n",
      "differential_evolution step 19: f(x)= 0.286693\n",
      "differential_evolution step 20: f(x)= 0.286693\n",
      "differential_evolution step 21: f(x)= 0.286693\n",
      "differential_evolution step 22: f(x)= 0.286693\n",
      "differential_evolution step 23: f(x)= 0.286693\n",
      "differential_evolution step 24: f(x)= 0.286693\n",
      "differential_evolution step 25: f(x)= 0.286693\n",
      "differential_evolution step 26: f(x)= 0.286693\n",
      "differential_evolution step 27: f(x)= 0.286693\n",
      "differential_evolution step 28: f(x)= 0.283974\n",
      "differential_evolution step 29: f(x)= 0.25989\n",
      "differential_evolution step 30: f(x)= 0.244771\n",
      "differential_evolution step 31: f(x)= 0.244771\n",
      "differential_evolution step 32: f(x)= 0.244771\n",
      "differential_evolution step 33: f(x)= 0.244771\n",
      "differential_evolution step 34: f(x)= 0.226485\n",
      "differential_evolution step 35: f(x)= 0.226485\n",
      "differential_evolution step 36: f(x)= 0.223041\n",
      "differential_evolution step 37: f(x)= 0.223041\n",
      "differential_evolution step 38: f(x)= 0.223041\n",
      "differential_evolution step 39: f(x)= 0.223041\n",
      "differential_evolution step 40: f(x)= 0.223041\n",
      "differential_evolution step 41: f(x)= 0.223041\n",
      "differential_evolution step 42: f(x)= 0.223041\n",
      "differential_evolution step 43: f(x)= 0.223041\n",
      "differential_evolution step 44: f(x)= 0.223041\n",
      "differential_evolution step 45: f(x)= 0.223041\n",
      "differential_evolution step 46: f(x)= 0.213017\n",
      "differential_evolution step 47: f(x)= 0.213017\n",
      "differential_evolution step 48: f(x)= 0.213017\n",
      "differential_evolution step 49: f(x)= 0.213017\n",
      "differential_evolution step 50: f(x)= 0.207405\n",
      "differential_evolution step 51: f(x)= 0.207405\n",
      "differential_evolution step 52: f(x)= 0.207405\n",
      "differential_evolution step 53: f(x)= 0.207405\n",
      "differential_evolution step 54: f(x)= 0.207405\n",
      "differential_evolution step 55: f(x)= 0.207405\n",
      "differential_evolution step 56: f(x)= 0.207405\n",
      "differential_evolution step 57: f(x)= 0.207405\n",
      "differential_evolution step 58: f(x)= 0.204667\n",
      "differential_evolution step 59: f(x)= 0.204667\n",
      "differential_evolution step 60: f(x)= 0.201504\n",
      "differential_evolution step 61: f(x)= 0.201504\n",
      "differential_evolution step 62: f(x)= 0.198272\n",
      "differential_evolution step 63: f(x)= 0.198272\n",
      "differential_evolution step 64: f(x)= 0.198272\n",
      "differential_evolution step 65: f(x)= 0.198272\n",
      "differential_evolution step 66: f(x)= 0.198272\n",
      "differential_evolution step 67: f(x)= 0.198272\n",
      "differential_evolution step 68: f(x)= 0.198272\n",
      "differential_evolution step 69: f(x)= 0.198272\n",
      "differential_evolution step 70: f(x)= 0.198272\n",
      "differential_evolution step 71: f(x)= 0.198272\n",
      "differential_evolution step 72: f(x)= 0.198272\n",
      "differential_evolution step 73: f(x)= 0.198272\n",
      "differential_evolution step 74: f(x)= 0.198272\n",
      "differential_evolution step 75: f(x)= 0.198272\n",
      "differential_evolution step 76: f(x)= 0.198272\n",
      "differential_evolution step 77: f(x)= 0.198272\n",
      "differential_evolution step 78: f(x)= 0.198272\n",
      "differential_evolution step 79: f(x)= 0.198272\n",
      "differential_evolution step 80: f(x)= 0.195059\n",
      "differential_evolution step 81: f(x)= 0.195059\n",
      "differential_evolution step 82: f(x)= 0.195059\n",
      "differential_evolution step 83: f(x)= 0.195059\n",
      "differential_evolution step 84: f(x)= 0.191842\n",
      "differential_evolution step 85: f(x)= 0.191842\n",
      "differential_evolution step 86: f(x)= 0.191842\n",
      "differential_evolution step 87: f(x)= 0.191842\n",
      "differential_evolution step 88: f(x)= 0.191842\n",
      "differential_evolution step 89: f(x)= 0.191842\n",
      "differential_evolution step 90: f(x)= 0.191523\n",
      "differential_evolution step 91: f(x)= 0.191523\n",
      "differential_evolution step 92: f(x)= 0.191523\n",
      "differential_evolution step 93: f(x)= 0.191523\n",
      "differential_evolution step 94: f(x)= 0.190873\n",
      "differential_evolution step 95: f(x)= 0.190873\n",
      "differential_evolution step 96: f(x)= 0.190873\n",
      "differential_evolution step 97: f(x)= 0.190873\n",
      "differential_evolution step 98: f(x)= 0.190873\n",
      "differential_evolution step 99: f(x)= 0.190873\n",
      "differential_evolution step 100: f(x)= 0.190505\n",
      "differential_evolution step 101: f(x)= 0.190505\n",
      "differential_evolution step 102: f(x)= 0.190505\n",
      "differential_evolution step 103: f(x)= 0.190505\n",
      "differential_evolution step 104: f(x)= 0.190058\n",
      "differential_evolution step 105: f(x)= 0.190058\n",
      "differential_evolution step 106: f(x)= 0.190058\n",
      "differential_evolution step 107: f(x)= 0.189953\n",
      "differential_evolution step 108: f(x)= 0.189953\n",
      "differential_evolution step 109: f(x)= 0.189797\n",
      "differential_evolution step 110: f(x)= 0.189797\n",
      "differential_evolution step 111: f(x)= 0.189735\n",
      "differential_evolution step 112: f(x)= 0.189735\n",
      "differential_evolution step 113: f(x)= 0.189735\n",
      "differential_evolution step 114: f(x)= 0.189735\n",
      "differential_evolution step 115: f(x)= 0.189735\n",
      "differential_evolution step 116: f(x)= 0.188796\n",
      "differential_evolution step 117: f(x)= 0.188796\n",
      "differential_evolution step 118: f(x)= 0.188796\n",
      "differential_evolution step 119: f(x)= 0.188796\n",
      "differential_evolution step 120: f(x)= 0.188796\n",
      "differential_evolution step 121: f(x)= 0.188796\n"
     ]
    }
   ],
   "source": [
    "s = optimize.differential_evolution(fit_data.fit_error,\n",
    "                                    bounds=bounds_list,\n",
    "                                    popsize=15,\n",
    "#                                     tol=0.0001,\n",
    "                                    args=([include_labels]),\n",
    "                                    maxiter=1000,\n",
    "                                    disp=True,\n",
    "                                    init='latinhypercube',\n",
    "                                    workers=-1)"
   ]
  },
  {
   "cell_type": "code",
   "execution_count": 11,
   "metadata": {},
   "outputs": [
    {
     "data": {
      "text/plain": [
       "     fun: 0.18879571074876433\n",
       " message: 'Optimization terminated successfully.'\n",
       "    nfev: 14649\n",
       "     nit: 121\n",
       " success: True\n",
       "       x: array([6.67118359e-01, 1.15513814e+01, 2.90910693e+03, 2.08006167e-01,\n",
       "       2.67599635e+03, 2.32505169e-01, 1.84689661e+04, 1.81110582e-01])"
      ]
     },
     "execution_count": 11,
     "metadata": {},
     "output_type": "execute_result"
    }
   ],
   "source": [
    "s"
   ]
  },
  {
   "cell_type": "code",
   "execution_count": 12,
   "metadata": {},
   "outputs": [],
   "source": [
    "def fit_forces(fit_data, values, args):\n",
    "    potential_params = dict(zip( args, np.round(values,4) ))\n",
    "    for pot in fit_data.potentials:\n",
    "        for param in [ pot.a, pot.rho, pot.c ]:\n",
    "            key = param.label_string\n",
    "            if key not in potential_params:\n",
    "                potential_params[key] = param.value\n",
    "    print(potential_params)\n",
    "    ip_forces = fit_data.get_forces(**potential_params)\n",
    "    return ip_forces"
   ]
  },
  {
   "cell_type": "code",
   "execution_count": 13,
   "metadata": {},
   "outputs": [
    {
     "name": "stdout",
     "output_type": "stream",
     "text": [
      "{'O-O spring': 11.5514, 'Li_O_a': 2909.1069, 'Li_O_rho': 0.208, 'Ni_O_a': 2675.9963, 'Ni_O_rho': 0.2325, 'O_O_a': 18468.9661, 'O_O_rho': 0.1811, 'Li_O_c': 0.0, 'Ni_O_c': 0.0, 'O_O_c': 0.0}\n"
     ]
    },
    {
     "ename": "TypeError",
     "evalue": "get_forces() got an unexpected keyword argument 'O-O spring'",
     "output_type": "error",
     "traceback": [
      "\u001b[0;31m---------------------------------------------------------------------------\u001b[0m",
      "\u001b[0;31mTypeError\u001b[0m                                 Traceback (most recent call last)",
      "\u001b[0;32m<ipython-input-13-99b9afa4ba38>\u001b[0m in \u001b[0;36m<module>\u001b[0;34m\u001b[0m\n\u001b[1;32m      1\u001b[0m \u001b[0minclude_values\u001b[0m \u001b[0;34m=\u001b[0m \u001b[0ms\u001b[0m\u001b[0;34m.\u001b[0m\u001b[0mx\u001b[0m\u001b[0;34m[\u001b[0m\u001b[0;36m1\u001b[0m\u001b[0;34m:\u001b[0m\u001b[0;34m]\u001b[0m\u001b[0;34m\u001b[0m\u001b[0;34m\u001b[0m\u001b[0m\n\u001b[1;32m      2\u001b[0m \u001b[0;31m# include_values = np.array([1.84647709e+03, 2.03114668e-01, 2.26842048e+03, 1.92221860e-01, 2.42507181e+04, 2.89352712e-01])\u001b[0m\u001b[0;34m\u001b[0m\u001b[0;34m\u001b[0m\u001b[0;34m\u001b[0m\u001b[0m\n\u001b[0;32m----> 3\u001b[0;31m \u001b[0mip_list\u001b[0m \u001b[0;34m=\u001b[0m \u001b[0mnp\u001b[0m\u001b[0;34m.\u001b[0m\u001b[0mconcatenate\u001b[0m\u001b[0;34m(\u001b[0m\u001b[0mfit_forces\u001b[0m\u001b[0;34m(\u001b[0m\u001b[0mfit_data\u001b[0m\u001b[0;34m,\u001b[0m \u001b[0minclude_values\u001b[0m\u001b[0;34m,\u001b[0m \u001b[0minclude_labels\u001b[0m\u001b[0;34m[\u001b[0m\u001b[0;36m1\u001b[0m\u001b[0;34m:\u001b[0m\u001b[0;34m]\u001b[0m\u001b[0;34m)\u001b[0m\u001b[0;34m,\u001b[0m \u001b[0maxis\u001b[0m\u001b[0;34m=\u001b[0m\u001b[0;36m0\u001b[0m\u001b[0;34m)\u001b[0m\u001b[0;34m\u001b[0m\u001b[0;34m\u001b[0m\u001b[0m\n\u001b[0m\u001b[1;32m      4\u001b[0m \u001b[0mdft_list\u001b[0m \u001b[0;34m=\u001b[0m \u001b[0mnp\u001b[0m\u001b[0;34m.\u001b[0m\u001b[0mconcatenate\u001b[0m\u001b[0;34m(\u001b[0m\u001b[0mfit_data\u001b[0m\u001b[0;34m.\u001b[0m\u001b[0mexpected_forces\u001b[0m\u001b[0;34m(\u001b[0m\u001b[0;34m)\u001b[0m\u001b[0;34m,\u001b[0m \u001b[0maxis\u001b[0m\u001b[0;34m=\u001b[0m\u001b[0;36m0\u001b[0m\u001b[0;34m)\u001b[0m\u001b[0;34m\u001b[0m\u001b[0;34m\u001b[0m\u001b[0m\n",
      "\u001b[0;32m<ipython-input-12-424290bb0d60>\u001b[0m in \u001b[0;36mfit_forces\u001b[0;34m(fit_data, values, args)\u001b[0m\n\u001b[1;32m      7\u001b[0m                 \u001b[0mpotential_params\u001b[0m\u001b[0;34m[\u001b[0m\u001b[0mkey\u001b[0m\u001b[0;34m]\u001b[0m \u001b[0;34m=\u001b[0m \u001b[0mparam\u001b[0m\u001b[0;34m.\u001b[0m\u001b[0mvalue\u001b[0m\u001b[0;34m\u001b[0m\u001b[0;34m\u001b[0m\u001b[0m\n\u001b[1;32m      8\u001b[0m     \u001b[0mprint\u001b[0m\u001b[0;34m(\u001b[0m\u001b[0mpotential_params\u001b[0m\u001b[0;34m)\u001b[0m\u001b[0;34m\u001b[0m\u001b[0;34m\u001b[0m\u001b[0m\n\u001b[0;32m----> 9\u001b[0;31m     \u001b[0mip_forces\u001b[0m \u001b[0;34m=\u001b[0m \u001b[0mfit_data\u001b[0m\u001b[0;34m.\u001b[0m\u001b[0mget_forces\u001b[0m\u001b[0;34m(\u001b[0m\u001b[0;34m**\u001b[0m\u001b[0mpotential_params\u001b[0m\u001b[0;34m)\u001b[0m\u001b[0;34m\u001b[0m\u001b[0;34m\u001b[0m\u001b[0m\n\u001b[0m\u001b[1;32m     10\u001b[0m     \u001b[0;32mreturn\u001b[0m \u001b[0mip_forces\u001b[0m\u001b[0;34m\u001b[0m\u001b[0;34m\u001b[0m\u001b[0m\n",
      "\u001b[0;31mTypeError\u001b[0m: get_forces() got an unexpected keyword argument 'O-O spring'"
     ]
    }
   ],
   "source": [
    "include_values = s.x[1:]\n",
    "# include_values = np.array([1.84647709e+03, 2.03114668e-01, 2.26842048e+03, 1.92221860e-01, 2.42507181e+04, 2.89352712e-01])\n",
    "ip_list = np.concatenate(fit_forces(fit_data, include_values, include_labels[1:]), axis=0)\n",
    "dft_list = np.concatenate(fit_data.expected_forces(), axis=0)"
   ]
  },
  {
   "cell_type": "code",
   "execution_count": null,
   "metadata": {},
   "outputs": [],
   "source": [
    "plt.plot(ip_list, label='ip')\n",
    "plt.plot(dft_list, label='dft', alpha=0.6)\n",
    "plt.ylabel('force')\n",
    "plt.xlabel('index')\n",
    "plt.legend(loc='upper right')\n",
    "plt.text(1000,4.4, 'error: {0:.5f}'.format(np.sum(((dft_list-ip_list)**2)/ip_list.size)))\n",
    "plt.text(1000,3.9, 'scaling factor: {:.4f}'.format(s.x[0]))\n",
    "plt.text(1000,3.4, 'potential values: {:.4f} {:.4f}'.format(*include_values[1:4]))\n",
    "plt.text(1000,2.85, '{:.4f} {:.4f} {:.4f} {:.4f}'.format(*include_values[3:]))\n",
    "plt.text(1000,2.3, 'spring constant: {:.4f}'.format(s.x[1]))\n",
    "plt.savefig('q+buck+cs+spring.png',dpi=500, bbox_inches = \"tight\")\n",
    "plt.show()\n",
    "# np.sum(((dft_list-ip_list)**2)/ip_list.size)"
   ]
  },
  {
   "cell_type": "code",
   "execution_count": null,
   "metadata": {},
   "outputs": [],
   "source": [
    "# plt.plot([1,0.9,0.8,0.7,0.6,0.5,0.4, 0.3, 0.2, 0.1],[1.91447, 1.15191, 0.64100, 0.3006, 0.16467, 0.10002, 0.09871, 0.12966, 0.16898, 0.19944], '-ok')\n",
    "# plt.xlabel('charge scaling factor')\n",
    "# plt.ylabel('fit error')\n",
    "# plt.savefig('charge_scaling_error_plot.png',dpi=500, bbox_inches = \"tight\")\n",
    "# plt.show()"
   ]
  },
  {
   "cell_type": "code",
   "execution_count": null,
   "metadata": {},
   "outputs": [],
   "source": [
    "# plt.plot([1, 2, 3, 4, 5, 6, 7, 8],[0.25289, 0.27519, 0.28708, 0.29331, 0.30346, 0.30094, 0.30782, 0.30310], '-ok')\n",
    "# plt.xlabel('number of structures')\n",
    "# plt.ylabel('fit error')\n",
    "# plt.savefig('error_vs_numStructure.png',dpi=500, bbox_inches = \"tight\")\n",
    "# plt.show()"
   ]
  },
  {
   "cell_type": "code",
   "execution_count": null,
   "metadata": {},
   "outputs": [],
   "source": []
  },
  {
   "cell_type": "code",
   "execution_count": null,
   "metadata": {},
   "outputs": [],
   "source": []
  },
  {
   "cell_type": "code",
   "execution_count": null,
   "metadata": {},
   "outputs": [],
   "source": [
    "#      fun: 2.3219253080376756\n",
    "#  message: 'Optimization terminated successfully.'\n",
    "#     nfev: 7387\n",
    "#      nit: 81\n",
    "#  success: True\n",
    "#        x: array([5.13730594e+01, 9.87119865e-01, 2.01438438e+02, 6.67317071e-01,\n",
    "#        8.43111427e+03, 1.09300118e-01])"
   ]
  },
  {
   "cell_type": "code",
   "execution_count": null,
   "metadata": {},
   "outputs": [],
   "source": [
    "#      fun: 2.322136607888793\n",
    "#  message: 'Optimization terminated successfully.'\n",
    "#     nfev: 5137\n",
    "#      nit: 56\n",
    "#  success: True\n",
    "#        x: array([5.03365258e+01, 9.81008705e-01, 1.97216648e+02, 6.73293175e-01,\n",
    "#        9.73366468e+03, 1.38164383e-01])"
   ]
  },
  {
   "cell_type": "markdown",
   "metadata": {},
   "source": [
    "Get Lattice Parameters"
   ]
  },
  {
   "cell_type": "code",
   "execution_count": null,
   "metadata": {},
   "outputs": [],
   "source": [
    "import lammps\n",
    "def get_lattice(fit_data):\n",
    "    potential_params = {}\n",
    "    for pot in fit_data.potentials:\n",
    "        for param in [pot.a, pot.rho, pot.c]:\n",
    "            key = param.label_string\n",
    "            potential_params[key] = param.value\n",
    "    lmp = fit_data.get_lattice_params(**potential_params)\n",
    "    return lmp"
   ]
  },
  {
   "cell_type": "code",
   "execution_count": null,
   "metadata": {},
   "outputs": [],
   "source": [
    "lmp = get_lattice(fit_data)\n",
    "lammps = lmp[0]"
   ]
  },
  {
   "cell_type": "code",
   "execution_count": null,
   "metadata": {},
   "outputs": [],
   "source": [
    "a_c_vol = [(lammps.box.lengths[0]/8),(lammps.box.lengths[2]/2),lammps.box.volume/8/4/2/2]\n",
    "ref_delmas = [2.879, 14.201, 101.951]"
   ]
  },
  {
   "cell_type": "code",
   "execution_count": null,
   "metadata": {},
   "outputs": [],
   "source": [
    "a_dif = (a_c_vol[0]-ref_delmas[0])/((a_c_vol[0]+ref_delmas[0])/2) * 100\n",
    "c_dif = (a_c_vol[1]-ref_delmas[1])/((a_c_vol[1]+ref_delmas[1])/2) * 100\n",
    "vol_dif = (a_c_vol[2]-ref_delmas[2])/((a_c_vol[2]+ref_delmas[2])/2) * 100"
   ]
  },
  {
   "cell_type": "code",
   "execution_count": null,
   "metadata": {},
   "outputs": [],
   "source": [
    "print('My calculated values are (a,c,vol): {}'.format(a_c_vol))\n",
    "print('Experimental values are (a,c,vol): {}'.format(ref_delmas))\n",
    "print('Percentage differences are (a,c,vol): {}, {}, {}'.format(a_dif, c_dif, vol_dif))"
   ]
  },
  {
   "cell_type": "code",
   "execution_count": null,
   "metadata": {},
   "outputs": [],
   "source": [
    "ref_DFT = [2.729, 14.053, 96.456]"
   ]
  },
  {
   "cell_type": "code",
   "execution_count": null,
   "metadata": {},
   "outputs": [],
   "source": [
    "a_dif = (a_c_vol[0]-ref_DFT[0])/((a_c_vol[0]+ref_DFT[0])/2) * 100\n",
    "c_dif = (a_c_vol[1]-ref_DFT[1])/((a_c_vol[1]+ref_DFT[1])/2) * 100\n",
    "vol_dif = (a_c_vol[2]-ref_DFT[2])/((a_c_vol[2]+ref_DFT[2])/2) * 100"
   ]
  },
  {
   "cell_type": "code",
   "execution_count": null,
   "metadata": {},
   "outputs": [],
   "source": [
    "print('My calculated values are (a,c,vol): {:.3f} {:.3f} {:.3f}'.format(a_c_vol[0], a_c_vol[1], a_c_vol[2]))\n",
    "print('DFT values are (a,c,vol): {:.3f} {:.3f} {:.3f}'.format(ref_DFT[0], ref_DFT[1], ref_DFT[2]))\n",
    "print('Percentage differences are (a,c,vol): {:.3f} {:.3f} {:.3f}'.format(a_dif, c_dif, vol_dif))"
   ]
  },
  {
   "cell_type": "code",
   "execution_count": null,
   "metadata": {},
   "outputs": [],
   "source": [
    "lammps.box.lengths"
   ]
  },
  {
   "cell_type": "code",
   "execution_count": null,
   "metadata": {},
   "outputs": [],
   "source": [
    "# Geometry optimised structure:\n",
    "#      fun: 0.00024535877391032265\n",
    "#        x: array([6.63110880e+02, 1.19385635e-01, 1.39354000e+03, 2.17550689e-01,\n",
    "#        2.58048072e+04, 2.84121273e-01])"
   ]
  },
  {
   "cell_type": "code",
   "execution_count": null,
   "metadata": {},
   "outputs": [],
   "source": [
    "# rigid ion with C=0:\n",
    "#     My calculated values are (a,c,vol): 2.853 15.056 117.474\n",
    "#     DFT values are (a,c,vol): 2.729 14.053 96.456\n",
    "#     Percentage differences are (a,c,vol): 4.430 6.893 19.649"
   ]
  },
  {
   "cell_type": "code",
   "execution_count": null,
   "metadata": {},
   "outputs": [],
   "source": [
    "# rigid ion with O-O C=27.1:\n",
    "#     My calculated values are (a,c,vol): 2.834 15.203 117.767\n",
    "#     DFT values are (a,c,vol): 2.729 14.053 96.456\n",
    "#     Percentage differences are (a,c,vol): 3.763 7.864 19.896"
   ]
  },
  {
   "cell_type": "code",
   "execution_count": null,
   "metadata": {},
   "outputs": [],
   "source": [
    "# rigid ion with O-O C=45.0:\n",
    "#     My calculated values are (a,c,vol): 2.771 15.306 120.610\n",
    "#     DFT values are (a,c,vol): 2.729 14.053 96.456\n",
    "#     Percentage differences are (a,c,vol): 1.531 8.539 22.255"
   ]
  },
  {
   "cell_type": "code",
   "execution_count": null,
   "metadata": {},
   "outputs": [],
   "source": [
    "# core-shell with C=0:\n",
    "#     My calculated values are (a,c,vol): 2.857 14.945 115.741\n",
    "#     DFT values are (a,c,vol): 2.729 14.053 96.456\n",
    "#     Percentage differences are (a,c,vol): 4.572 6.151 18.176"
   ]
  },
  {
   "cell_type": "code",
   "execution_count": null,
   "metadata": {},
   "outputs": [],
   "source": [
    "# core-shell with C=27.1:\n",
    "#     My calculated values are (a,c,vol): 2.819 15.140 117.582\n",
    "#     DFT values are (a,c,vol): 2.729 14.053 96.456\n",
    "#     Percentage differences are (a,c,vol): 3.234 7.445 19.740"
   ]
  },
  {
   "cell_type": "code",
   "execution_count": null,
   "metadata": {},
   "outputs": [],
   "source": [
    "# core-shell with C=45.0:\n",
    "#     My calculated values are (a,c,vol): 2.818 15.119 116.555\n",
    "#     DFT values are (a,c,vol): 2.729 14.053 96.456\n",
    "#     Percentage differences are (a,c,vol): 3.225 7.310 18.872"
   ]
  },
  {
   "cell_type": "code",
   "execution_count": null,
   "metadata": {},
   "outputs": [],
   "source": []
  },
  {
   "cell_type": "code",
   "execution_count": null,
   "metadata": {},
   "outputs": [],
   "source": [
    "#      fun: 0.00020117218726958615\n",
    "#        x: array([5.16859856e+02, 2.27622770e-01, 3.17959194e+02, 3.02641291e-01,\n",
    "#        1.56010420e+04, 3.00961159e-01])"
   ]
  },
  {
   "cell_type": "code",
   "execution_count": null,
   "metadata": {},
   "outputs": [],
   "source": [
    "#      fun: 2.9965469134567404e-05\n",
    "#        x: array([1.57187515e+03, 2.38087128e-01, 2.18242730e+02, 5.40287127e-01,\n",
    "#        3.67954544e+04, 3.99826009e-02])"
   ]
  },
  {
   "cell_type": "code",
   "execution_count": null,
   "metadata": {},
   "outputs": [],
   "source": [
    "#      fun: 0.00022146538630216886\n",
    "#        x: array([1.99884762e+03, 1.97915567e-01, 1.92779928e+03, 2.00805359e-01,\n",
    "#        2.23406599e+04, 2.91794009e-01])"
   ]
  },
  {
   "cell_type": "code",
   "execution_count": null,
   "metadata": {},
   "outputs": [],
   "source": [
    "#      fun: 0.00021587433861985865\n",
    "#        x: array([1.36449374e+03, 2.07769552e-01, 5.85016576e+02, 2.44567736e-01,\n",
    "#        2.12183128e+04, 2.92891694e-01])"
   ]
  },
  {
   "cell_type": "code",
   "execution_count": null,
   "metadata": {},
   "outputs": [],
   "source": [
    "#      fun: 0.0001749872704503645\n",
    "#        x: array([1.27061887e+03, 2.08855364e-01, 3.21011122e+02, 3.30160472e-01,\n",
    "#        8.15204948e+03, 3.24710512e-01])"
   ]
  },
  {
   "cell_type": "code",
   "execution_count": null,
   "metadata": {},
   "outputs": [],
   "source": [
    "#      fun: 0.00024201340356503294\n",
    "#        x: array([1.51933430e+03, 2.19804987e-01, 2.73284257e+03, 1.25871870e-01,\n",
    "#        3.99602258e+04, 2.74290327e-01])"
   ]
  },
  {
   "cell_type": "code",
   "execution_count": null,
   "metadata": {},
   "outputs": [],
   "source": [
    "#      fun: 3.0152162973553667e-05\n",
    "#        x: array([1.61227502e+03, 2.36678924e-01, 2.18410497e+02, 5.39111493e-01,\n",
    "#        1.18954090e+02, 2.72658396e-01])"
   ]
  },
  {
   "cell_type": "code",
   "execution_count": null,
   "metadata": {},
   "outputs": [],
   "source": [
    "#      fun: 0.00020736598495354775\n",
    "#        x: array([1.83446063e+03, 1.86905880e-01, 2.72859123e+02, 3.07100959e-01,\n",
    "#        2.00429777e+04, 2.91059506e-01])"
   ]
  },
  {
   "cell_type": "code",
   "execution_count": null,
   "metadata": {},
   "outputs": [],
   "source": []
  },
  {
   "cell_type": "code",
   "execution_count": null,
   "metadata": {},
   "outputs": [],
   "source": [
    "# optimize.minimize(fit_data.fit_error, include_values, args=(include_labels), method='trust-constr', bounds=bounds_list, options={'xtol':0.001})"
   ]
  },
  {
   "cell_type": "code",
   "execution_count": null,
   "metadata": {},
   "outputs": [],
   "source": []
  },
  {
   "cell_type": "code",
   "execution_count": null,
   "metadata": {},
   "outputs": [],
   "source": []
  },
  {
   "cell_type": "code",
   "execution_count": null,
   "metadata": {},
   "outputs": [],
   "source": []
  },
  {
   "cell_type": "code",
   "execution_count": null,
   "metadata": {},
   "outputs": [],
   "source": []
  },
  {
   "cell_type": "code",
   "execution_count": null,
   "metadata": {},
   "outputs": [],
   "source": []
  },
  {
   "cell_type": "code",
   "execution_count": null,
   "metadata": {},
   "outputs": [],
   "source": []
  },
  {
   "cell_type": "code",
   "execution_count": null,
   "metadata": {},
   "outputs": [],
   "source": []
  },
  {
   "cell_type": "code",
   "execution_count": null,
   "metadata": {},
   "outputs": [],
   "source": []
  }
 ],
 "metadata": {
  "kernelspec": {
   "display_name": "Python 3",
   "language": "python",
   "name": "python3"
  },
  "language_info": {
   "codemirror_mode": {
    "name": "ipython",
    "version": 3
   },
   "file_extension": ".py",
   "mimetype": "text/x-python",
   "name": "python",
   "nbconvert_exporter": "python",
   "pygments_lexer": "ipython3",
   "version": "3.7.3"
  }
 },
 "nbformat": 4,
 "nbformat_minor": 2
}
