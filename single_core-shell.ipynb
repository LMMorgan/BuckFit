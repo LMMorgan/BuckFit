{
 "cells": [
  {
   "cell_type": "code",
   "execution_count": 1,
   "metadata": {},
   "outputs": [],
   "source": [
    "import lammps\n",
    "import random\n",
    "from tqdm import trange\n",
    "import pymc3 as pm\n",
    "import arviz as az\n",
    "import numpy as np\n",
    "import pymatgen as pmg\n",
    "import theano.tensor as tt\n",
    "import glob\n",
    "from copy import deepcopy\n",
    "import matplotlib.pyplot as plt\n",
    "\n",
    "from poscar_to_lammps import poscar_to_lammps\n",
    "from pymatgen.io.vasp import Poscar\n",
    "\n",
    "import sys\n",
    "from contextlib import contextmanager"
   ]
  },
  {
   "cell_type": "markdown",
   "metadata": {},
   "source": [
    "### Cell below reads in a POSCAR and outputs a lammps input config"
   ]
  },
  {
   "cell_type": "code",
   "execution_count": 2,
   "metadata": {},
   "outputs": [],
   "source": [
    "@contextmanager\n",
    "def custom_redirection(fileobj):\n",
    "    old = sys.stdout\n",
    "    sys.stdout = fileobj\n",
    "    try:\n",
    "        yield fileobj\n",
    "    finally:\n",
    "        sys.stdout = old\n",
    "# Defining our data:\n",
    "# 1. Define which elements are core-shell species\n",
    "core_shell = { 'Li': False , 'Ni': False, 'O': True}\n",
    "# 2. Set charges: dictionary values are either a single number for non-core-shell species, \n",
    "# or a sub-dictionary containing { 'core': core_charge, 'shell': shell_charge }\n",
    "charges = {'Li': +1.0,\n",
    "           'Ni': +3.0,\n",
    "           'O': {'core':  +0.960,\n",
    "                 'shell': -2.960}}\n",
    "\n",
    "# 3. Load a POSCAR using pymatgen and write lammps file using poscar_to_lammps\n",
    "file = 'lammps/coords1.lmp'\n",
    "with open(file, 'w') as struct:\n",
    "    with custom_redirection(struct):\n",
    "        poscar = Poscar.from_file('poscars/POSCAR1')\n",
    "        poscar_to_lammps(poscar, core_shell, charges )"
   ]
  },
  {
   "cell_type": "code",
   "execution_count": 3,
   "metadata": {},
   "outputs": [],
   "source": [
    "elements = ['Li', 'Ni', 'Oc', 'O']\n",
    "# elements = pmg.Element('Li'), pmg.Element('Ni'), pmg.Element('Ge'), pmg.Element('O')\n",
    "li, ni, oc, o = elements\n",
    "\n",
    "pairs = [(li,o), (ni,o), (o,o)]\n",
    "\n",
    "charges = {li: 1, ni: 3, oc: 0.960, o: -2.960}\n",
    "\n",
    "bpp_def = {'Li_O_A'   : 233.0,\n",
    "           'Li_O_rho' : 0.525,\n",
    "           'Li_O_C'   : 0.0,\n",
    "           'Ni_O_A'   : 322.0,\n",
    "           'Ni_O_rho' : 0.278,\n",
    "           'Ni_O_C'   : 0.491,\n",
    "           'O_O_A'    : 22844.0,\n",
    "           'O_O_rho'  : 0.087,\n",
    "           'O_O_C'    : 28.547}\n",
    "\n",
    "bpp = deepcopy(bpp_def)\n"
   ]
  },
  {
   "cell_type": "code",
   "execution_count": 4,
   "metadata": {},
   "outputs": [],
   "source": [
    "def init():\n",
    "    lmp = lammps.Lammps(units='metal', style = 'full', args=['-log', 'none', '-screen', 'none'])\n",
    "    lmp.command('fix csinfo all property/atom i_CSID')\n",
    "    lmp.command('read_data lammps/coords1.lmp fix csinfo NULL CS-Info')\n",
    "\n",
    "    lmp.command('group cores type 3')\n",
    "    lmp.command('group shells type 4')\n",
    "\n",
    "    lmp.command('pair_style buck/coul/long/cs 10.0') #ADD THE CS IF USING CORESHELLS NOT IF RIGID ION\n",
    "    lmp.command('pair_coeff * * 0 1 0')\n",
    "    \n",
    "    lmp.command('bond_style harmonic')\n",
    "    lmp.command('bond_coeff 1 9999.0 0.0')\n",
    "    \n",
    "    lmp.command('kspace_style pppm 1e-6')\n",
    "    \n",
    "    for c in charges:\n",
    "        lmp.command('set atom %d charge %f' % (elements.index(c)+1, charges[c]))\n",
    "        \n",
    "    #setup for minimization\n",
    "    lmp.command('min_style cg')\n",
    "\n",
    "    return lmp"
   ]
  },
  {
   "cell_type": "code",
   "execution_count": 5,
   "metadata": {},
   "outputs": [],
   "source": [
    "def update_potentials(**kwargs):\n",
    "    bpp.update(kwargs)\n",
    "    \n",
    "def set_potentials(instance):\n",
    "    for pair in pairs:\n",
    "        instance.command('pair_coeff {} {} {} {} {}'.format(dex(pair[0]),\n",
    "                                                            dex(pair[1]),\n",
    "                                                            bpp['{}_{}_A'.format(pair[0], pair[1])],\n",
    "                                                            bpp['{}_{}_rho'.format(pair[0], pair[1])],\n",
    "                                                            bpp['{}_{}_C'.format(pair[0], pair[1])]))\n",
    "\n",
    "def dex(elin): return elements.index(elin) + 1"
   ]
  },
  {
   "cell_type": "code",
   "execution_count": 6,
   "metadata": {},
   "outputs": [],
   "source": [
    "def simfunc(**kwargs):\n",
    "    if min(kwargs.values()) > 0:\n",
    "        update_potentials(**kwargs)\n",
    "        out = np.zeros([instances.system.total,3])\n",
    "        \n",
    "        set_potentials(instances)\n",
    "\n",
    "        instances.command('fix 1 cores setforce 0.0 0.0 0.0')\n",
    "        instances.command('minimize 1e-5 1e-5 5000 10000')\n",
    "        instances.command('unfix 1')\n",
    "        instances.run(0)\n",
    "        \n",
    "        out = instances.system.forces\n",
    "            \n",
    "    else:\n",
    "        out = np.ones([instances.system.total,3])*999999999 # ThisAlgorithmBecomingSkynetCost\n",
    "        counter()\n",
    "    return out\n",
    "\n",
    "count = 0\n",
    "def counter():\n",
    "    global count\n",
    "    count += 1"
   ]
  },
  {
   "cell_type": "code",
   "execution_count": 7,
   "metadata": {},
   "outputs": [],
   "source": [
    "instances = init()"
   ]
  },
  {
   "cell_type": "code",
   "execution_count": 8,
   "metadata": {},
   "outputs": [],
   "source": [
    "expected = np.zeros([instances.system.total,3])"
   ]
  },
  {
   "cell_type": "code",
   "execution_count": null,
   "metadata": {},
   "outputs": [
    {
     "name": "stderr",
     "output_type": "stream",
     "text": [
      "Sample initial stage: ...\n",
      "/Users/lmm82/.pyenv/versions/3.7.3/lib/python3.7/site-packages/pymc3/step_methods/smc.py:176: UserWarning: Warning: SMC-ABC methods are experimental step methods and not yet recommended for use in PyMC3!\n",
      "  warnings.warn(EXPERIMENTAL_WARNING)\n",
      "Stage: 0 Beta: 0.000 Steps: 25\n"
     ]
    }
   ],
   "source": [
    "with pm.Model() as model:\n",
    "#  pm.TruncatedNormal -- truncated so never tries a negative    pm.Uniform\n",
    "    Li_O_A      = pm.Normal(\"Li_O_A\",    mu = bpp_def['Li_O_A'],    sd =  30)\n",
    "    Li_O_rho    = pm.Normal(\"Li_O_rho\",  mu = bpp_def['Li_O_rho'],  sd =  0.05)\n",
    "#     Li_O_C      = pm.Normal(\"Li_O_C\",    mu = bpp_def['Li_O_C'],    sd =  0.01)\n",
    "    Ni_O_A      = pm.Normal(\"Ni_O_A\",    mu = bpp_def['Ni_O_A'],    sd =  100)\n",
    "    Ni_O_rho    = pm.Normal(\"Ni_O_rho\",  mu = bpp_def['Ni_O_rho'],  sd =  0.05)\n",
    "    Ni_O_C      = pm.Normal(\"Ni_O_C\",    mu = bpp_def['Ni_O_C'],    sd =  0.05)\n",
    "    O_O_A       = pm.Normal(\"O_O_A\",     mu = bpp_def['O_O_A'],     sd =  100)\n",
    "    O_O_rho     = pm.Normal(\"O_O_rho\",   mu = bpp_def['O_O_rho'],   sd =  0.01)\n",
    "    O_O_C       = pm.Normal(\"O_O_C\",     mu = bpp_def['O_O_C'],     sd =  5)\n",
    "    \n",
    "    simulator = pm.Simulator('simulator', simfunc, observed=expected)\n",
    "    \n",
    "#     trace = pm.sample(step=pm.SMC(ABC=True, epsilon=1), draws=1000)\n",
    "    trace = pm.sample(step=pm.SMC(ABC=True, epsilon=3000, dist_func=\"sum_of_squared_distance\"), parallel=False, draws=1000)"
   ]
  },
  {
   "cell_type": "code",
   "execution_count": null,
   "metadata": {},
   "outputs": [],
   "source": [
    "print(count)"
   ]
  },
  {
   "cell_type": "code",
   "execution_count": null,
   "metadata": {},
   "outputs": [],
   "source": [
    "az.style.use('arviz-darkgrid')\n",
    "az.plot_trace(trace)\n",
    "plt.savefig('coreshell_LiNiO2_trace2.png',dpi=500, bbox_inches = \"tight\")"
   ]
  },
  {
   "cell_type": "code",
   "execution_count": null,
   "metadata": {},
   "outputs": [],
   "source": [
    "az.plot_posterior(trace, round_to = 3, point_estimate = 'mode')\n",
    "plt.savefig('coreshell_LiNiO2_mode2.png',dpi=500, bbox_inches = \"tight\")"
   ]
  },
  {
   "cell_type": "code",
   "execution_count": null,
   "metadata": {},
   "outputs": [],
   "source": []
  },
  {
   "cell_type": "code",
   "execution_count": null,
   "metadata": {},
   "outputs": [],
   "source": []
  },
  {
   "cell_type": "code",
   "execution_count": null,
   "metadata": {},
   "outputs": [],
   "source": []
  },
  {
   "cell_type": "code",
   "execution_count": null,
   "metadata": {},
   "outputs": [],
   "source": []
  },
  {
   "cell_type": "code",
   "execution_count": null,
   "metadata": {},
   "outputs": [],
   "source": []
  },
  {
   "cell_type": "code",
   "execution_count": null,
   "metadata": {},
   "outputs": [],
   "source": [
    " "
   ]
  },
  {
   "cell_type": "code",
   "execution_count": null,
   "metadata": {},
   "outputs": [],
   "source": []
  },
  {
   "cell_type": "code",
   "execution_count": null,
   "metadata": {},
   "outputs": [],
   "source": []
  },
  {
   "cell_type": "code",
   "execution_count": null,
   "metadata": {},
   "outputs": [],
   "source": []
  },
  {
   "cell_type": "code",
   "execution_count": null,
   "metadata": {},
   "outputs": [],
   "source": []
  },
  {
   "cell_type": "code",
   "execution_count": null,
   "metadata": {},
   "outputs": [],
   "source": []
  },
  {
   "cell_type": "code",
   "execution_count": null,
   "metadata": {},
   "outputs": [],
   "source": []
  },
  {
   "cell_type": "code",
   "execution_count": null,
   "metadata": {},
   "outputs": [],
   "source": []
  }
 ],
 "metadata": {
  "kernelspec": {
   "display_name": "Python 3",
   "language": "python",
   "name": "python3"
  },
  "language_info": {
   "codemirror_mode": {
    "name": "ipython",
    "version": 3
   },
   "file_extension": ".py",
   "mimetype": "text/x-python",
   "name": "python",
   "nbconvert_exporter": "python",
   "pygments_lexer": "ipython3",
   "version": "3.7.3"
  }
 },
 "nbformat": 4,
 "nbformat_minor": 2
}
