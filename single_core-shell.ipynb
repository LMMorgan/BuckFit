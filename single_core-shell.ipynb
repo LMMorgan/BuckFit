{
 "cells": [
  {
   "cell_type": "code",
   "execution_count": 1,
   "metadata": {},
   "outputs": [],
   "source": [
    "import lammps\n",
    "import pymc3 as pm\n",
    "import arviz as az\n",
    "import numpy as np\n",
    "# import glob\n",
    "from copy import deepcopy\n",
    "import matplotlib.pyplot as plt\n",
    "\n",
    "from lammps_data import LammpsData\n",
    "from pymatgen.io.vasp import Poscar"
   ]
  },
  {
   "cell_type": "code",
   "execution_count": 2,
   "metadata": {},
   "outputs": [],
   "source": [
    "def init(structure_data, structure, cs_springs=None):\n",
    "    \"\"\"\n",
    "    Initialises the system from the structure (read in from lammps input) and non-changing parameters.\n",
    "    \n",
    "    Args:\n",
    "        structure (str): Name of lammps input file.\n",
    "        cs_springs (optional:dict): A dictionary of the bond_coeff values. Key = atom label and values = K\n",
    "                                    (energy/distance^2) and r0 (equilibrium bond distance) (list).\n",
    "                                    Default = None.\n",
    "        structure_data (obj): LammpsData stuctural object containing information on atom_types, bond_types,\n",
    "                              atoms, bonds, cell_lengths, and tilt_factors.\n",
    "\n",
    "    Returns:\n",
    "        lmp (Lammps): Lammps system with structure and specified commands implemented.\n",
    "    \"\"\"\n",
    "    \n",
    "    lmp = lammps.Lammps(units='metal', style = 'full', args=['-log', 'none', '-screen', 'none'])\n",
    "    lmp.command('read_data {}'.format(structure))\n",
    "\n",
    "    lmp.command('group cores type {}'.format(structure_data.type_core()))\n",
    "    lmp.command('group shells type {}'.format(structure_data.type_shell()))\n",
    "\n",
    "    if cs_springs:\n",
    "        lmp.command('pair_style buck/coul/long/cs 10.0')\n",
    "        lmp.command('pair_coeff * * 0 1 0')\n",
    "\n",
    "        lmp.command('bond_style harmonic')\n",
    "        for i, spring in enumerate(cs_springs):\n",
    "            lmp.command('bond_coeff {} {} {}'.format(i+1,\n",
    "                                                     cs_springs[spring][0],\n",
    "                                                     cs_springs[spring][1]))\n",
    "    else:\n",
    "        lmp.command('pair_style buck/coul/long 10.0')\n",
    "        lmp.command('pair_coeff * * 0 1 0')\n",
    "    \n",
    "    lmp.command('kspace_style ewald 1e-6')\n",
    "        \n",
    "    #setup for minimization\n",
    "    lmp.command('min_style cg')\n",
    "\n",
    "    return lmp"
   ]
  },
  {
   "cell_type": "code",
   "execution_count": 3,
   "metadata": {},
   "outputs": [],
   "source": [
    "def dex(element):\n",
    "    \"\"\"\n",
    "    Finds atom_index number for given element, where core-shell returns shell index.\n",
    "\n",
    "    Args:\n",
    "        element (str): element symbol\n",
    "\n",
    "    Returns:\n",
    "        atom_index (int): index of atom relating to element. In the case of core-shell atoms\n",
    "                          this will return the shell index.\n",
    "    \"\"\"\n",
    "    element_list = [e.label for e in structure_data.atom_types]\n",
    "    for e in element_list:\n",
    "        if element in e and 'core' not in e:\n",
    "            atom_index = element_list.index(e)+1\n",
    "    return atom_index\n",
    "\n",
    "def update_potentials(**kwargs):\n",
    "    \"\"\"\n",
    "    Unpdates the potentials set by pymc3 into the dictionary for the fitting process.\n",
    "\n",
    "    Args:\n",
    "        **kwargs: The parameters to be updated in the fitting process as set with pm.Model.\n",
    "\n",
    "    Returns:\n",
    "        None.\n",
    "    \"\"\"\n",
    "    bpp.update(kwargs)\n",
    "    \n",
    "def set_potentials(instance):\n",
    "    \"\"\"\n",
    "    Sets the potential for the sepecified Lammps system (changes for each iteration of the potential fit).\n",
    "\n",
    "    Args:\n",
    "        instance (Lammps): Lammps system with structure and specified commands implemented.\n",
    "\n",
    "    Returns:\n",
    "        None\n",
    "    \"\"\"\n",
    "    for pair in pairs:\n",
    "        instance.command('pair_coeff {} {} {} {} {}'.format(dex(pair[0]),\n",
    "                                                            dex(pair[1]),\n",
    "                                                            bpp['{}_{}_A'.format(pair[0], pair[1])],\n",
    "                                                            bpp['{}_{}_rho'.format(pair[0], pair[1])],\n",
    "                                                            bpp['{}_{}_C'.format(pair[0], pair[1])]))"
   ]
  },
  {
   "cell_type": "code",
   "execution_count": 4,
   "metadata": {},
   "outputs": [],
   "source": [
    "def simfunc(**kwargs):\n",
    "    \"\"\"\n",
    "    Runs a minimization and zero step run for the instance and returns the forces.\n",
    "\n",
    "    Args:\n",
    "        **kwargs: Contain data for type of fitting and to what parameters as set with pm.Model.\n",
    "\n",
    "    Returns:\n",
    "        out (np.array): x,y,z forces on each atom.\n",
    "    \"\"\"\n",
    "    if min(kwargs.values()) > 0:\n",
    "        update_potentials(**kwargs)\n",
    "        out = np.zeros([sum(core_mask),3])\n",
    "        \n",
    "        set_potentials(instances)\n",
    "\n",
    "        instances.command('fix 1 cores setforce 0.0 0.0 0.0')\n",
    "        instances.command('minimize 1e-25 1e-25 5000 10000')\n",
    "        instances.command('unfix 1')\n",
    "        instances.run(0)\n",
    "        \n",
    "        out = instances.system.forces[core_mask]\n",
    "            \n",
    "    else:\n",
    "        out = np.ones([sum(core_mask),3])*999999999 # ThisAlgorithmBecomingSkynetCost\n",
    "\n",
    "    return out"
   ]
  },
  {
   "cell_type": "code",
   "execution_count": 5,
   "metadata": {},
   "outputs": [
    {
     "name": "stdout",
     "output_type": "stream",
     "text": [
      "Found elements: ['Li', 'Ni', 'O']\n"
     ]
    }
   ],
   "source": [
    "# set up some auxiliary data\n",
    "params = {}\n",
    "params['core_shell'] = { 'Li': False, 'Ni': False, 'O': True }\n",
    "params['charges'] = {'Li': +1.0,\n",
    "                     'Ni': +3.0,\n",
    "                     'O': {'core':  +0.960,\n",
    "                           'shell': -2.960}}\n",
    "params['masses'] = {'Li': 6.941,\n",
    "                    'Ni': 58.6934,\n",
    "                    'O': {'core': 15.0,\n",
    "                          'shell': 1.0} }\n",
    "\n",
    "poscar = Poscar.from_file('poscars/POSCAR1')\n",
    "my_structure = poscar.structure\n",
    "structure_data = LammpsData.from_structure(my_structure, params)\n",
    "lammps_file = 'lammps/coords1.lmp'\n",
    "with open( lammps_file, 'w' ) as f:\n",
    "    f.write(structure_data.input_string())\n",
    "\n",
    "pairs = [('Li','O'), ('Ni','O'), ('O','O')]\n",
    "\n",
    "#Must be in same order given in charges dictionary\n",
    "cs_springs = {'O' : [65.0, 0.0]} #Set to None if not using any core-shells\n",
    "\n",
    "bpp_def = {'Li_O_A'   : 632.1018,\n",
    "           'Li_O_rho' : 0.2906,\n",
    "           'Li_O_C'   : 0.0,\n",
    "           'Ni_O_A'   : 1582.5000,\n",
    "           'Ni_O_rho' : 0.2882,\n",
    "           'Ni_O_C'   : 0.000,\n",
    "           'O_O_A'    : 22764.3000,\n",
    "           'O_O_rho'  : 0.1490,\n",
    "           'O_O_C'    : 21.7}\n",
    "\n",
    "bpp = deepcopy(bpp_def)"
   ]
  },
  {
   "cell_type": "code",
   "execution_count": 6,
   "metadata": {},
   "outputs": [],
   "source": [
    "instances = init(structure_data, lammps_file, cs_springs)\n",
    "core_mask = structure_data.core_mask()"
   ]
  },
  {
   "cell_type": "code",
   "execution_count": 7,
   "metadata": {},
   "outputs": [],
   "source": [
    "expected = np.zeros([sum(core_mask),3])"
   ]
  },
  {
   "cell_type": "code",
   "execution_count": null,
   "metadata": {},
   "outputs": [],
   "source": [
    "with pm.Model() as model:\n",
    "#  pm.TruncatedNormal -- truncated so never tries a negative    pm.Uniform\n",
    "    Li_O_A      = pm.Normal(\"Li_O_A\",    mu = bpp_def['Li_O_A'],    sd =  50)\n",
    "    Li_O_rho    = pm.Normal(\"Li_O_rho\",  mu = bpp_def['Li_O_rho'],  sd =  0.05)\n",
    "#     Li_O_C      = pm.Normal(\"Li_O_C\",    mu = bpp_def['Li_O_C'],    sd =  0.01)\n",
    "    Ni_O_A      = pm.Normal(\"Ni_O_A\",    mu = bpp_def['Ni_O_A'],    sd =  100)\n",
    "    Ni_O_rho    = pm.Normal(\"Ni_O_rho\",  mu = bpp_def['Ni_O_rho'],  sd =  0.05)\n",
    "#     Ni_O_C      = pm.Normal(\"Ni_O_C\",    mu = bpp_def['Ni_O_C'],    sd =  0.05)\n",
    "    O_O_A       = pm.Normal(\"O_O_A\",     mu = bpp_def['O_O_A'],     sd =  100)\n",
    "    O_O_rho     = pm.Normal(\"O_O_rho\",   mu = bpp_def['O_O_rho'],   sd =  0.01)\n",
    "    O_O_C       = pm.Normal(\"O_O_C\",     mu = bpp_def['O_O_C'],     sd =  5)\n",
    "    \n",
    "    simulator = pm.Simulator('simulator', simfunc, observed=expected)\n",
    "    \n",
    "    trace = pm.sample(step=pm.SMC(ABC=True, epsilon=0.1), draws=2000)\n",
    "#     trace = pm.sample(step=pm.SMC(ABC=True, epsilon=3000, dist_func=\"sum_of_squared_distance\"), parallel=False, draws=1000)"
   ]
  },
  {
   "cell_type": "code",
   "execution_count": null,
   "metadata": {},
   "outputs": [],
   "source": []
  },
  {
   "cell_type": "code",
   "execution_count": null,
   "metadata": {},
   "outputs": [],
   "source": [
    "az.style.use('arviz-darkgrid')\n",
    "az.plot_trace(trace)\n",
    "plt.savefig('coreshell_LiNiO2_trace2.png',dpi=500, bbox_inches = \"tight\")"
   ]
  },
  {
   "cell_type": "code",
   "execution_count": null,
   "metadata": {},
   "outputs": [],
   "source": [
    "az.plot_posterior(trace, round_to = 3, point_estimate = 'mode')\n",
    "plt.savefig('coreshell_LiNiO2_mode2.png',dpi=500, bbox_inches = \"tight\")"
   ]
  },
  {
   "cell_type": "code",
   "execution_count": null,
   "metadata": {},
   "outputs": [],
   "source": []
  },
  {
   "cell_type": "code",
   "execution_count": null,
   "metadata": {},
   "outputs": [],
   "source": []
  },
  {
   "cell_type": "code",
   "execution_count": null,
   "metadata": {},
   "outputs": [],
   "source": []
  },
  {
   "cell_type": "code",
   "execution_count": null,
   "metadata": {},
   "outputs": [],
   "source": []
  },
  {
   "cell_type": "code",
   "execution_count": null,
   "metadata": {},
   "outputs": [],
   "source": []
  },
  {
   "cell_type": "code",
   "execution_count": null,
   "metadata": {},
   "outputs": [],
   "source": [
    " "
   ]
  },
  {
   "cell_type": "code",
   "execution_count": null,
   "metadata": {},
   "outputs": [],
   "source": []
  },
  {
   "cell_type": "code",
   "execution_count": null,
   "metadata": {},
   "outputs": [],
   "source": []
  },
  {
   "cell_type": "code",
   "execution_count": null,
   "metadata": {},
   "outputs": [],
   "source": []
  },
  {
   "cell_type": "code",
   "execution_count": null,
   "metadata": {},
   "outputs": [],
   "source": []
  },
  {
   "cell_type": "code",
   "execution_count": null,
   "metadata": {},
   "outputs": [],
   "source": []
  },
  {
   "cell_type": "code",
   "execution_count": null,
   "metadata": {},
   "outputs": [],
   "source": []
  },
  {
   "cell_type": "code",
   "execution_count": null,
   "metadata": {},
   "outputs": [],
   "source": []
  }
 ],
 "metadata": {
  "kernelspec": {
   "display_name": "Python 3",
   "language": "python",
   "name": "python3"
  },
  "language_info": {
   "codemirror_mode": {
    "name": "ipython",
    "version": 3
   },
   "file_extension": ".py",
   "mimetype": "text/x-python",
   "name": "python",
   "nbconvert_exporter": "python",
   "pygments_lexer": "ipython3",
   "version": "3.7.3"
  }
 },
 "nbformat": 4,
 "nbformat_minor": 2
}
