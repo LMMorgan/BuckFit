{
 "cells": [
  {
   "cell_type": "code",
   "execution_count": 1,
   "metadata": {},
   "outputs": [],
   "source": [
    "import lammps\n",
    "import numpy as np\n",
    "import pymatgen as pmg\n",
    "import glob"
   ]
  },
  {
   "cell_type": "code",
   "execution_count": 2,
   "metadata": {},
   "outputs": [],
   "source": [
    "def get_structure(filename):\n",
    "    structure = pmg.Structure.from_file(filename)\n",
    "    return structure\n",
    "\n",
    "def add_sites(structure, specie, new_specie):\n",
    "    new_sites = []\n",
    "    [new_sites.append(structure.frac_coords[i]) for i, species in enumerate(structure.species) if species.symbol == specie]\n",
    "    for i, species in enumerate(new_sites):\n",
    "        structure.append(new_specie, new_sites[i], validate_proximity=False, properties=None)\n",
    "    return structure"
   ]
  },
  {
   "cell_type": "code",
   "execution_count": 3,
   "metadata": {},
   "outputs": [],
   "source": [
    "filename = 'poscars/POSCAR1'\n",
    "structure = get_structure(filename)"
   ]
  },
  {
   "cell_type": "code",
   "execution_count": 4,
   "metadata": {},
   "outputs": [],
   "source": [
    "specie = \"O\" # Duplicate positons for core-shell\n",
    "new_specie = \"Ge\" # Element name to call the shells becuase pmg is argh\n",
    "structure = add_sites(structure, specie, new_specie)"
   ]
  },
  {
   "cell_type": "code",
   "execution_count": 6,
   "metadata": {},
   "outputs": [],
   "source": [
    "elements = pmg.Element('Li'), pmg.Element('Ni'), pmg.Element('O'), pmg.Element('Ge') #Ge is oxygen shell\n",
    "li, ni, o, ge = elements\n",
    "pairs = [(li,ge), (ni,ge), (ge,ge)]\n",
    "charges = {li: 1, ni: 3, o: 0.960, ge: -2.960}\n",
    "masses = {li: 6.9410, ni: 52.8237, o: 14.3991, ge: 1.5999}"
   ]
  },
  {
   "cell_type": "code",
   "execution_count": 7,
   "metadata": {},
   "outputs": [],
   "source": [
    "num_atoms = structure.num_sites\n",
    "num_types = structure.ntypesp\n",
    "\n",
    "xlo, xhi = 0.0, structure.lattice.a\n",
    "ylo, yhi = 0.0, structure.lattice.b\n",
    "zlo, zhi = 0.0, structure.lattice.c\n",
    "xy, xz, yz = 0.0, 0.0, 0.0"
   ]
  },
  {
   "cell_type": "code",
   "execution_count": 8,
   "metadata": {},
   "outputs": [],
   "source": [
    "num_bonds = 0\n",
    "oxy_index = []\n",
    "ge_index = []\n",
    "for i, species in enumerate(structure.species):\n",
    "    if species.symbol == \"O\":\n",
    "        num_bonds += 1\n",
    "        oxy_index.append(i)\n",
    "    if species.symbol == \"Ge\":\n",
    "        ge_index.append(i)\n",
    "oxy_index = np.array(oxy_index)\n",
    "ge_index = np.array(ge_index)"
   ]
  },
  {
   "cell_type": "code",
   "execution_count": 9,
   "metadata": {},
   "outputs": [
    {
     "data": {
      "text/plain": [
       "180"
      ]
     },
     "execution_count": 9,
     "metadata": {},
     "output_type": "execute_result"
    }
   ],
   "source": []
  },
  {
   "cell_type": "code",
   "execution_count": null,
   "metadata": {},
   "outputs": [],
   "source": []
  },
  {
   "cell_type": "code",
   "execution_count": null,
   "metadata": {},
   "outputs": [],
   "source": []
  },
  {
   "cell_type": "code",
   "execution_count": null,
   "metadata": {},
   "outputs": [],
   "source": []
  }
 ],
 "metadata": {
  "kernelspec": {
   "display_name": "Python 3",
   "language": "python",
   "name": "python3"
  },
  "language_info": {
   "codemirror_mode": {
    "name": "ipython",
    "version": 3
   },
   "file_extension": ".py",
   "mimetype": "text/x-python",
   "name": "python",
   "nbconvert_exporter": "python",
   "pygments_lexer": "ipython3",
   "version": "3.7.3"
  }
 },
 "nbformat": 4,
 "nbformat_minor": 2
}
