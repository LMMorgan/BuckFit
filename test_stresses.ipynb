{
 "cells": [
  {
   "cell_type": "markdown",
   "metadata": {},
   "source": [
    "## VASP stresses"
   ]
  },
  {
   "cell_type": "code",
   "execution_count": 1,
   "metadata": {},
   "outputs": [],
   "source": [
    "import numpy as np\n",
    "from pymatgen.io.vasp.outputs import Outcar"
   ]
  },
  {
   "cell_type": "code",
   "execution_count": 3,
   "metadata": {},
   "outputs": [],
   "source": [
    "def stresses_from_outcar( filename='OUTCAR' ):\n",
    "    \"\"\"Finds and returns stress tensors from the OUTCAR file.\n",
    "      \n",
    "    Args:\n",
    "        filename (:obj:'str', optional): the name of the ``OUTCAR`` file to be read. Default is `OUTCAR`.\n",
    "    Returns:\n",
    "        (np.array): The force as found in the ``OUTCAR`` file, as a 1D numpy array.\n",
    "    \"\"\"\n",
    "    outcar = Outcar(filename)\n",
    "    stresses = outcar.read_table_pattern(\n",
    "        header_pattern=r\"\\s+Fock(\\s+[+-]?\\d+\\.\\d+)*\\n\\s+-+\",\n",
    "        row_pattern=r\"\\s+\\D+\\s+([+-]?\\d+\\.\\d+)\\s+([+-]?\\d+\\.\\d+)\\s+([+-]?\\d+\\.\\d+)\\s+([+-]?\\d+\\.\\d+)\\s+([+-]?\\d+\\.\\d+)\\s+([+-]?\\d+\\.\\d+)\",\n",
    "        footer_pattern=r\"\\s+in kB.+\",\n",
    "        postprocess=lambda x: float(x),\n",
    "        last_one_only=False\n",
    "    )\n",
    "    return np.array(stresses).flatten()"
   ]
  },
  {
   "cell_type": "code",
   "execution_count": 4,
   "metadata": {},
   "outputs": [],
   "source": [
    "# outcar = Outcar('outcars/thermos/OUTCAR1')\n",
    "stresses = stresses_from_outcar( filename='outcars/thermos/OUTCAR1' )"
   ]
  },
  {
   "cell_type": "code",
   "execution_count": 5,
   "metadata": {},
   "outputs": [
    {
     "data": {
      "text/plain": [
       "array([ 8.917071e+01,  1.545475e+01,  4.985392e+01,  5.278070e+00,\n",
       "       -3.239010e+00, -1.571000e-02])"
      ]
     },
     "execution_count": 5,
     "metadata": {},
     "output_type": "execute_result"
    }
   ],
   "source": [
    "stresses # eV/(cell volume) XX YY ZZ XY YZ ZX"
   ]
  },
  {
   "cell_type": "markdown",
   "metadata": {},
   "source": [
    "## LAMMPS stresses"
   ]
  },
  {
   "cell_type": "code",
   "execution_count": 7,
   "metadata": {},
   "outputs": [],
   "source": []
  },
  {
   "cell_type": "markdown",
   "metadata": {},
   "source": [
    "### Code to run single step and pull out stresses on atoms.\n",
    "Units = pressure\\*volume units (bars*ang^3)\n",
    "format = XX YY ZZ XY XZ YZ "
   ]
  },
  {
   "cell_type": "code",
   "execution_count": 8,
   "metadata": {},
   "outputs": [],
   "source": [
    "instance.command('compute stresses all stress/atom NULL') #requires NULL pair?\n",
    "instance.command('dump stress all custom 1 stresses.dump c_stresses[*]')\n",
    "instance.run(0)"
   ]
  },
  {
   "cell_type": "markdown",
   "metadata": {},
   "source": [
    "### Reads in file adn skips the header, returning a (n,6) numpy array"
   ]
  },
  {
   "cell_type": "code",
   "execution_count": 37,
   "metadata": {},
   "outputs": [],
   "source": [
    "ip_stresses = np.genfromtxt('stresses.dump', skip_header=9)"
   ]
  },
  {
   "cell_type": "code",
   "execution_count": null,
   "metadata": {},
   "outputs": [],
   "source": []
  },
  {
   "cell_type": "code",
   "execution_count": null,
   "metadata": {},
   "outputs": [],
   "source": []
  },
  {
   "cell_type": "code",
   "execution_count": null,
   "metadata": {},
   "outputs": [],
   "source": []
  },
  {
   "cell_type": "code",
   "execution_count": null,
   "metadata": {},
   "outputs": [],
   "source": []
  },
  {
   "cell_type": "code",
   "execution_count": null,
   "metadata": {},
   "outputs": [],
   "source": []
  },
  {
   "cell_type": "code",
   "execution_count": null,
   "metadata": {},
   "outputs": [],
   "source": []
  },
  {
   "cell_type": "code",
   "execution_count": null,
   "metadata": {},
   "outputs": [],
   "source": []
  },
  {
   "cell_type": "code",
   "execution_count": null,
   "metadata": {},
   "outputs": [],
   "source": []
  }
 ],
 "metadata": {
  "kernelspec": {
   "display_name": "Python 3",
   "language": "python",
   "name": "python3"
  },
  "language_info": {
   "codemirror_mode": {
    "name": "ipython",
    "version": 3
   },
   "file_extension": ".py",
   "mimetype": "text/x-python",
   "name": "python",
   "nbconvert_exporter": "python",
   "pygments_lexer": "ipython3",
   "version": "3.7.3"
  }
 },
 "nbformat": 4,
 "nbformat_minor": 2
}
