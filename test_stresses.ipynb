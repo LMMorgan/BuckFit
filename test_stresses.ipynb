{
 "cells": [
  {
   "cell_type": "markdown",
   "metadata": {},
   "source": [
    "## VASP stresses"
   ]
  },
  {
   "cell_type": "code",
   "execution_count": 7,
   "metadata": {},
   "outputs": [],
   "source": [
    "import numpy as np\n",
    "from pymatgen.io.vasp.outputs import Outcar"
   ]
  },
  {
   "cell_type": "code",
   "execution_count": 8,
   "metadata": {},
   "outputs": [],
   "source": [
    "def stresses_from_outcar( filename='OUTCAR' ):\n",
    "    \"\"\"Finds and returns stress tensors from the OUTCAR file.\n",
    "      \n",
    "    Args:\n",
    "        filename (:obj:'str', optional): the name of the ``OUTCAR`` file to be read. Default is `OUTCAR`.\n",
    "    Returns:\n",
    "        (np.array): The stresses as found in the ``OUTCAR`` file in kB, as a 1D numpy array.\n",
    "    \"\"\"\n",
    "    outcar = Outcar(filename)\n",
    "    stresses = outcar.read_table_pattern(\n",
    "        header_pattern=r\"\\s+Fock(\\s+[+-]?\\d+\\.\\d+)*\\n\\s+-+\\n\\s+Total(\\s+[+-]?\\d+\\.\\d+)*\",\n",
    "        row_pattern=r\"\\s+\\D+\\s+([+-]?\\d+\\.\\d+)\\s+([+-]?\\d+\\.\\d+)\\s+([+-]?\\d+\\.\\d+)\\s+([+-]?\\d+\\.\\d+)\\s+([+-]?\\d+\\.\\d+)\\s+([+-]?\\d+\\.\\d+)\",\n",
    "        footer_pattern=r\"\\s+external.+\",\n",
    "        postprocess=lambda x: float(x),\n",
    "        last_one_only=False\n",
    "    )\n",
    "    return np.array(stresses).flatten()"
   ]
  },
  {
   "cell_type": "code",
   "execution_count": 31,
   "metadata": {},
   "outputs": [],
   "source": [
    "#Units of kBar if wanting units of eV/(cell volume) remove `\\n\\s+Total(\\s+[+-]?\\d+\\.\\d+)*` from header_pattern and change 'external' to 'in kB' in footer_pattern\n",
    "stresses = stresses_from_outcar( 'outcars/thermos/OUTCAR4' )"
   ]
  },
  {
   "cell_type": "code",
   "execution_count": 16,
   "metadata": {},
   "outputs": [
    {
     "data": {
      "text/plain": [
       "array([ 9.257303e+01,  1.604443e+01,  5.175611e+01,  5.479450e+00,\n",
       "       -3.362590e+00, -1.631000e-02])"
      ]
     },
     "execution_count": 16,
     "metadata": {},
     "output_type": "execute_result"
    }
   ],
   "source": [
    "stresses #XX YY ZZ XY YZ ZX "
   ]
  },
  {
   "cell_type": "code",
   "execution_count": 32,
   "metadata": {},
   "outputs": [
    {
     "data": {
      "text/plain": [
       "array([112.1004 ,  12.27436,  58.05216,  -1.90618,  -6.71627,  -5.74808])"
      ]
     },
     "execution_count": 32,
     "metadata": {},
     "output_type": "execute_result"
    }
   ],
   "source": [
    "stresses"
   ]
  },
  {
   "cell_type": "markdown",
   "metadata": {},
   "source": [
    "## LAMMPS stresses\n",
    "Units = pressure (bars) /1000 to convert to kB\n",
    "format = XX YY ZZ XY XZ YZ "
   ]
  },
  {
   "cell_type": "code",
   "execution_count": null,
   "metadata": {},
   "outputs": [],
   "source": [
    "#Units of Bar *1000 = kBar\n",
    "lammps_stresses = lammps.thermo.computes['thermo_press'].vector / 1000 #xx, yy, zz, xy, xz, yz\n",
    "lammps_stresses[5], lammps_stresses[4] = lammps_stresses[4], lammps_stresses[5] #xx, yy, zz, xy, yz, xz"
   ]
  },
  {
   "cell_type": "code",
   "execution_count": null,
   "metadata": {},
   "outputs": [],
   "source": [
    "lammps_stresses"
   ]
  },
  {
   "cell_type": "code",
   "execution_count": null,
   "metadata": {},
   "outputs": [],
   "source": []
  },
  {
   "cell_type": "code",
   "execution_count": null,
   "metadata": {},
   "outputs": [],
   "source": []
  },
  {
   "cell_type": "code",
   "execution_count": null,
   "metadata": {},
   "outputs": [],
   "source": []
  },
  {
   "cell_type": "code",
   "execution_count": null,
   "metadata": {},
   "outputs": [],
   "source": []
  },
  {
   "cell_type": "markdown",
   "metadata": {},
   "source": [
    "# Testing"
   ]
  },
  {
   "cell_type": "code",
   "execution_count": 1,
   "metadata": {},
   "outputs": [],
   "source": [
    "import os\n",
    "from fitting import FitModel\n",
    "from scipy import optimize\n",
    "import numpy as np\n",
    "import json"
   ]
  },
  {
   "cell_type": "code",
   "execution_count": 2,
   "metadata": {},
   "outputs": [],
   "source": [
    "def get_forces(fit_data, values, args):\n",
    "    fit_data.init_potential(values, args)\n",
    "    ip_forces = fit_data.get_forces()\n",
    "    dft_forces = fit_data.expected_forces()\n",
    "    return dft_forces, ip_forces"
   ]
  },
  {
   "cell_type": "code",
   "execution_count": 3,
   "metadata": {},
   "outputs": [],
   "source": [
    "params = {}\n",
    "params['core_shell'] = { 'Li': False, 'Ni': False, 'O': True }\n",
    "params['charges'] = {'Li': +1.0,\n",
    "                     'Ni': +3.0,\n",
    "                     'O': {'core':  -2.0, #+0.960,\n",
    "                           'shell': 0.0}} #-2.960}}\n",
    "params['masses'] = {'Li': 6.941,\n",
    "                    'Ni': 58.6934,\n",
    "                    'O': {'core': 14.3991,\n",
    "                          'shell': 1.5999} }\n",
    "params['cs_springs'] = {'O-O' : [20.0, 0.0]}\n",
    "\n",
    "distribution = {}\n",
    "distribution['Li-O'] = {'bpp' : [663.111, 0.119, 0.0],\n",
    "                        'sd' : [80, 0.01, 0.01]}\n",
    "distribution['Ni-O'] = {'bpp' : [1393.540, 0.218, 0.000],\n",
    "                        'sd'  : [80, 0.01, 0.01]}\n",
    "distribution['O-O'] = {'bpp' : [25804.807, 0.284, 0.0],\n",
    "                       'sd'  : [200, 0.01, 5]}"
   ]
  },
  {
   "cell_type": "code",
   "execution_count": 4,
   "metadata": {},
   "outputs": [],
   "source": [
    "include_labels = ['dq_O', 'q_scaling', 'O-O spring', 'Li_O_a',     'Li_O_rho', 'Ni_O_a',      'Ni_O_rho', 'O_O_a',        'O_O_rho']\n",
    "include_values = [3.0388, 0.5839, 11.3029, 21136.1895, 0.1648, 18779.3350, 0.1748, 19279.4957, 0.2012]"
   ]
  },
  {
   "cell_type": "code",
   "execution_count": 5,
   "metadata": {},
   "outputs": [
    {
     "name": "stdout",
     "output_type": "stream",
     "text": [
      "Found elements: ['Li', 'Ni', 'O']\n"
     ]
    }
   ],
   "source": [
    "fit_data = FitModel.collect_info(params, distribution, supercell=[2,2,2])\n",
    "# s = optimize.differential_evolution(fit_data.chi_squared_error, bounds=bounds_list, popsize=25,\n",
    "#                                     args=([include_labels]), maxiter=2000,\n",
    "#                                     disp=True, init='latinhypercube', workers=-1)\n",
    "# dft_forces, ip_forces = get_forces(fit_data, s.x, include_labels)"
   ]
  },
  {
   "cell_type": "code",
   "execution_count": 6,
   "metadata": {},
   "outputs": [
    {
     "name": "stdout",
     "output_type": "stream",
     "text": [
      "[ 9.257303e+01  1.604443e+01  5.175611e+01  5.479450e+00 -3.362590e+00\n",
      " -1.631000e-02]\n"
     ]
    },
    {
     "data": {
      "text/plain": [
       "4144.317236780679"
      ]
     },
     "execution_count": 6,
     "metadata": {},
     "output_type": "execute_result"
    }
   ],
   "source": [
    "fit_data.chi_squared_error_force_and_stress(values=include_values, args=include_labels)"
   ]
  },
  {
   "cell_type": "code",
   "execution_count": null,
   "metadata": {},
   "outputs": [],
   "source": [
    "for structure in fit_data.lammps_data:\n",
    "    print(structure.expected_stress_tensors)"
   ]
  },
  {
   "cell_type": "code",
   "execution_count": null,
   "metadata": {},
   "outputs": [],
   "source": []
  }
 ],
 "metadata": {
  "kernelspec": {
   "display_name": "Python 3",
   "language": "python",
   "name": "python3"
  },
  "language_info": {
   "codemirror_mode": {
    "name": "ipython",
    "version": 3
   },
   "file_extension": ".py",
   "mimetype": "text/x-python",
   "name": "python",
   "nbconvert_exporter": "python",
   "pygments_lexer": "ipython3",
   "version": "3.7.3"
  }
 },
 "nbformat": 4,
 "nbformat_minor": 2
}
