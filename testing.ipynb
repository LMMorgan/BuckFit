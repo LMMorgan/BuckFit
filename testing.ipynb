{
 "cells": [
  {
   "cell_type": "code",
   "execution_count": 111,
   "metadata": {},
   "outputs": [],
   "source": [
    "import numpy as np\n",
    "from lammps_potenial_fitting.potentials import BuckinghamPotential\n",
    "from lammps_potenial_fitting.potential_parameters import BuckinghamParameter\n",
    "from lammps_potenial_fitting.atom_types import AtomType\n",
    "from lammps_potenial_fitting.bond_types import BondType\n",
    "from lammps_potenial_fitting.bonds import Bond\n",
    "from lammps_potenial_fitting.atoms import Atom\n",
    "from pymatgen.io.vasp.outputs import Vasprun\n",
    "from lammps_potenial_fitting.lammps_data import LammpsData\n",
    "from mock import Mock, patch, call, mock_open\n",
    "import pytest"
   ]
  },
  {
   "cell_type": "code",
   "execution_count": 93,
   "metadata": {},
   "outputs": [
    {
     "name": "stderr",
     "output_type": "stream",
     "text": [
      "/Users/lmm82/.pyenv/versions/3.7.3/lib/python3.7/site-packages/pymatgen/io/vasp/outputs.py:907: UserWarning: No POTCAR file with matching TITEL fields was found in /Users/lmm82/Documents/current_work/lammps_potenial_fitting/test_files\n",
      "  \" was found in {}\".format(os.path.abspath(p)))\n"
     ]
    }
   ],
   "source": [
    "vasprun = Vasprun('test_files/test_vasprun.xml')\n",
    "structure = vasprun.ionic_steps[0]['structure']\n",
    "structure.add_site_property('forces', np.array(vasprun.ionic_steps[0]['forces']))"
   ]
  },
  {
   "cell_type": "code",
   "execution_count": 94,
   "metadata": {},
   "outputs": [],
   "source": [
    "params = {}\n",
    "params['core_shell'] = { 'Li': False, 'Ni': False, 'O': True }\n",
    "params['charges'] = {'Li': +1.0,\n",
    "                     'Ni': +3.0,\n",
    "                     'O': {'core':  -2.0,\n",
    "                           'shell': 0.0}} \n",
    "params['masses'] = {'Li': 6.941,\n",
    "                    'Ni': 58.6934,\n",
    "                    'O': {'core': 14.3991,\n",
    "                          'shell': 1.5999} }\n",
    "params['potentials'] = {'Li-O': [100.00, 0.1, 0.0],\n",
    "                        'Ni-O': [1000.00, 0.2, 0.0],\n",
    "                        'O-O':  [10000.00, 0.3, 0.0]}\n",
    "params['cs_springs'] = {'O-O' : [10.0, 0.0]}"
   ]
  },
  {
   "cell_type": "code",
   "execution_count": 98,
   "metadata": {},
   "outputs": [],
   "source": [
    "def collate_structural_data(params, structs, supercell=None):        \n",
    "    vaspruns = ['test_files/vasprun_small.xml' for i in structs]\n",
    "    lammps_data = [data_from_vasprun(params, v, i, supercell) for i, v in enumerate(vaspruns)]\n",
    "    return lammps_data\n",
    "\n",
    "\n",
    "def data_from_vasprun(params, filename, i, supercell):\n",
    "    vasprun = Vasprun(filename)\n",
    "    structure = vasprun.ionic_steps[0]['structure']\n",
    "    structure.add_site_property('forces', np.array(vasprun.ionic_steps[0]['forces']))\n",
    "    stresses = vasprun.ionic_steps[0]['stress']\n",
    "    if supercell is not None:\n",
    "        if isinstance(supercell[0], int) and len(supercell) == 3:\n",
    "            structure = structure*supercell\n",
    "        elif isinstance(supercell[i], list) and (all([len(supercell[i]) == 3 for i, x in enumerate(supercell)])):\n",
    "            structure = structure*supercell[i]\n",
    "        else:\n",
    "            raise ValueError('Incorrect dimensions for supercell. Requires x,y,z expansion (i.e. list of 3 integers) or list of x,y,z expansions for each structure (i.e. list of list(x,y,z))')\n",
    "\n",
    "    struct_data = LammpsData.from_structure(structure, params, i, stresses)\n",
    "    return struct_data"
   ]
  },
  {
   "cell_type": "code",
   "execution_count": 116,
   "metadata": {},
   "outputs": [],
   "source": [
    "@pytest.fixture\n",
    "def params():\n",
    "    params = {}\n",
    "    params['core_shell'] = { 'Li': False, 'Ni': False, 'O': True }\n",
    "    params['charges'] = {'Li': +1.0,\n",
    "                         'Ni': +3.0,\n",
    "                         'O': {'core':  -2.0,\n",
    "                               'shell': 0.0}} \n",
    "    params['masses'] = {'Li': 6.941,\n",
    "                        'Ni': 58.6934,\n",
    "                        'O': {'core': 14.3991,\n",
    "                              'shell': 1.5999} }\n",
    "    params['cs_springs'] = {'O-O' : [10.0, 0.0]}\n",
    "    return params\n",
    "\n",
    "@pytest.fixture\n",
    "def lammps_data():\n",
    "    lammps_data = mock.Mock(LammpsData)\n",
    "    lammps_data.file_name = 'test_files/vasprun_small.xml'\n",
    "    return lammps_data\n",
    "\n",
    "@mock.patch('collate_structures.data_from_vasprun', return_value=lammps_data, autospec=True)\n",
    "def test_output_in_collate_structural_data(mock_data_from_vasprun, params):\n",
    "    output = collate_structural_data(params, [0,1])\n",
    "    assert len(output) == 2\n",
    "    assert type(output) == list\n",
    "#     assert len(output) == 2\n",
    "#     assert output[0].file_name == 'test_files/vasprun_small.xml'\n",
    "\n",
    "def atom_types():\n",
    "    atom_types = []\n",
    "    atom_types.append(AtomType(1, 'Li', 'Li', 1.555, 1.0))\n",
    "    atom_types.append(AtomType(2, 'Ni', 'Ni', 56.111, 3.0))\n",
    "    atom_types.append(AtomType(3, 'O core', 'O', 14.001, -0.00, 'core'))\n",
    "    atom_types.append(AtomType(3, 'O shell', 'O', 1.998, -2.00, 'shell'))\n",
    "    return atom_types"
   ]
  },
  {
   "cell_type": "code",
   "execution_count": 117,
   "metadata": {},
   "outputs": [],
   "source": [
    "atom_types = atom_types()"
   ]
  },
  {
   "cell_type": "code",
   "execution_count": null,
   "metadata": {},
   "outputs": [],
   "source": []
  },
  {
   "cell_type": "code",
   "execution_count": 107,
   "metadata": {},
   "outputs": [],
   "source": []
  },
  {
   "cell_type": "code",
   "execution_count": 109,
   "metadata": {},
   "outputs": [],
   "source": []
  },
  {
   "cell_type": "code",
   "execution_count": null,
   "metadata": {},
   "outputs": [],
   "source": []
  },
  {
   "cell_type": "code",
   "execution_count": null,
   "metadata": {},
   "outputs": [],
   "source": []
  },
  {
   "cell_type": "code",
   "execution_count": 131,
   "metadata": {},
   "outputs": [],
   "source": []
  },
  {
   "cell_type": "code",
   "execution_count": null,
   "metadata": {},
   "outputs": [],
   "source": []
  },
  {
   "cell_type": "code",
   "execution_count": 2,
   "metadata": {},
   "outputs": [],
   "source": [
    "import numpy as np"
   ]
  },
  {
   "cell_type": "code",
   "execution_count": 4,
   "metadata": {},
   "outputs": [],
   "source": [
    "matrix = np.array([[10, 0.1, 0.2],[0.1, 10, 0.2],[0.1, 0.2, 10]])"
   ]
  },
  {
   "cell_type": "code",
   "execution_count": 5,
   "metadata": {},
   "outputs": [],
   "source": [
    "a, b, x = matrix"
   ]
  },
  {
   "cell_type": "code",
   "execution_count": 7,
   "metadata": {},
   "outputs": [
    {
     "data": {
      "text/plain": [
       "array([ 0.1, 10. ,  0.2])"
      ]
     },
     "execution_count": 7,
     "metadata": {},
     "output_type": "execute_result"
    }
   ],
   "source": []
  },
  {
   "cell_type": "code",
   "execution_count": null,
   "metadata": {},
   "outputs": [],
   "source": []
  },
  {
   "cell_type": "code",
   "execution_count": null,
   "metadata": {},
   "outputs": [],
   "source": []
  }
 ],
 "metadata": {
  "kernelspec": {
   "display_name": "Python 3",
   "language": "python",
   "name": "python3"
  },
  "language_info": {
   "codemirror_mode": {
    "name": "ipython",
    "version": 3
   },
   "file_extension": ".py",
   "mimetype": "text/x-python",
   "name": "python",
   "nbconvert_exporter": "python",
   "pygments_lexer": "ipython3",
   "version": "3.7.3"
  }
 },
 "nbformat": 4,
 "nbformat_minor": 4
}
