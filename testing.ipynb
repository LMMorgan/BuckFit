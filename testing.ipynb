{
 "cells": [
  {
   "cell_type": "code",
   "execution_count": null,
   "metadata": {},
   "outputs": [],
   "source": [
    "from fitting import FitModel\n",
    "from databases import initiate_dbs, print_summary, print_forces\n",
    "from plotters import plotter\n",
    "from iteration_functions import iter_fitting, update_potentials\n",
    "from convergence_checker import get_modes, converge_check\n",
    "from scipy import stats"
   ]
  },
  {
   "cell_type": "code",
   "execution_count": null,
   "metadata": {},
   "outputs": [],
   "source": [
    "params = {}\n",
    "params['core_shell'] = { 'Li': False, 'Ni': False, 'O': True }\n",
    "params['charges'] = {'Li': +1.0,\n",
    "                     'Ni': +3.0,\n",
    "                     'O': {'core':  +0.960,\n",
    "                           'shell': -2.960}}\n",
    "params['masses'] = {'Li': 6.941,\n",
    "                    'Ni': 58.6934,\n",
    "                    'O': {'core': 14.3991,\n",
    "                          'shell': 1.5999} }\n",
    "\n",
    "params['cs_springs'] = {'O' : [100.0, 0.0]}\n",
    "\n",
    "distribution = {}\n",
    "distribution['Li-O'] = {'bpp' : [691.229, 0.269, 0.0],\n",
    "                        'sd' : [80, 0.01, 0.01]}\n",
    "\n",
    "distribution['Ni-O'] = {'bpp' : [591.665, 0.382, 0.000],\n",
    "                        'sd'  : [80, 0.01, 0.01]}\n",
    "\n",
    "distribution['O-O'] = {'bpp' : [22739.211, 0.146, 67.764],\n",
    "                       'sd'  : [200, 0.01, 5]}\n",
    "\n",
    "excude_from_fit = [] # string of atom1_atom2_param. Example of format = 'O_O_rho'"
   ]
  },
  {
   "cell_type": "code",
   "execution_count": null,
   "metadata": {},
   "outputs": [],
   "source": [
    "def mode_potentials(trace):\n",
    "    potential_dic = {}\n",
    "    for var in trace.varnames:\n",
    "        potential_dic['{}'.format(var)] = float(stats.mode(trace.get_values(var))[0])\n",
    "    return potential_dic"
   ]
  },
  {
   "cell_type": "code",
   "execution_count": null,
   "metadata": {},
   "outputs": [],
   "source": [
    "i=1\n",
    "prev_modes = None\n",
    "converge = False\n",
    "summary_filename = 'summary.csv'\n",
    "forces_filename = 'forces.csv'\n",
    "initiate_dbs(summary_filename, forces_filename)\n",
    "\n",
    "while converge is False:\n",
    "    \n",
    "    #Runs FitModel and trace, finds mode, and updates the potentials in the distribution dictionary with mean values\n",
    "    trace, fit_data = iter_fitting(params, distribution, excude_from_fit)\n",
    "    modes = get_modes(trace)\n",
    "    distribution = update_potentials(trace, modes, distribution)\n",
    "    \n",
    "    #Runs with mode potential and returns forces\n",
    "    kwargs = mode_potentials(trace)\n",
    "    mode_forces = fit_data.get_forces(**kwargs)\n",
    "    \n",
    "    #Fills the databases\n",
    "    print_forces(i, mode_forces, forces_filename)\n",
    "    print_summary(i, trace, summary_filename)\n",
    "    \n",
    "    #Plots the distributions\n",
    "    plotter(trace, i)\n",
    "    \n",
    "    #Checks convergence, sets modes to prev_moves\n",
    "    converge = converge_check(modes, distribution, prev_modes)\n",
    "    prev_modes = modes\n",
    "    i+=1"
   ]
  },
  {
   "cell_type": "code",
   "execution_count": null,
   "metadata": {},
   "outputs": [],
   "source": []
  },
  {
   "cell_type": "code",
   "execution_count": null,
   "metadata": {},
   "outputs": [],
   "source": []
  },
  {
   "cell_type": "code",
   "execution_count": null,
   "metadata": {},
   "outputs": [],
   "source": []
  },
  {
   "cell_type": "code",
   "execution_count": null,
   "metadata": {},
   "outputs": [],
   "source": []
  },
  {
   "cell_type": "code",
   "execution_count": null,
   "metadata": {},
   "outputs": [],
   "source": []
  },
  {
   "cell_type": "code",
   "execution_count": null,
   "metadata": {},
   "outputs": [],
   "source": []
  },
  {
   "cell_type": "code",
   "execution_count": null,
   "metadata": {},
   "outputs": [],
   "source": []
  },
  {
   "cell_type": "code",
   "execution_count": null,
   "metadata": {},
   "outputs": [],
   "source": []
  },
  {
   "cell_type": "code",
   "execution_count": null,
   "metadata": {},
   "outputs": [],
   "source": []
  },
  {
   "cell_type": "code",
   "execution_count": null,
   "metadata": {},
   "outputs": [],
   "source": []
  },
  {
   "cell_type": "code",
   "execution_count": null,
   "metadata": {},
   "outputs": [],
   "source": [
    "# # ALTERNATIVE TO VASPPY\n",
    "# from pymatgen.io.vasp.outputs import Outcar\n",
    "# def get_forces(outcar):\n",
    "#     data = outcar.read_table_pattern(header_pattern=r\"\\sPOSITION\\s+TOTAL-FORCE \\(eV/Angst\\)\\n\\s-+\",\n",
    "#                                      row_pattern=r\"\\s+[+-]?(\\d+\\.\\d+)\\s+[+-]?(\\d+\\.\\d+)\\s+[+-]?(\\d+\\.\\d+)\\s+([+-]?\\d+\\.\\d+)\\s+([+-]?\\d+\\.\\d+)\\s+([+-]?\\d+\\.\\d+)\",\n",
    "#                                      footer_pattern=r\"\\s--+\",\n",
    "#                                      postprocess=lambda x: float(x),\n",
    "#                                      last_one_only=False)\n",
    "#     forces = []\n",
    "#     for atom_data in data[-1]:\n",
    "#         xyz_force = atom_data[3:]\n",
    "#         forces.append(xyz_force)\n",
    "#     return forces\n",
    "# outcar = Outcar(\"OUTCAR\")\n",
    "# forces = get_forces(outcar)"
   ]
  },
  {
   "cell_type": "code",
   "execution_count": null,
   "metadata": {},
   "outputs": [],
   "source": [
    "# fig, axes = az.plot_forest(trace,\n",
    "#                            kind='ridgeplot',\n",
    "#                            var_names=['Li_O_rho','Ni_O_rho', 'O_O_rho'],\n",
    "#                            combined=True,\n",
    "#                            ridgeplot_overlap=10,\n",
    "#                            colors='white',\n",
    "#                            figsize=(9, 7))"
   ]
  },
  {
   "cell_type": "code",
   "execution_count": null,
   "metadata": {},
   "outputs": [],
   "source": []
  },
  {
   "cell_type": "code",
   "execution_count": null,
   "metadata": {},
   "outputs": [],
   "source": []
  }
 ],
 "metadata": {
  "kernelspec": {
   "display_name": "Python 3",
   "language": "python",
   "name": "python3"
  },
  "language_info": {
   "codemirror_mode": {
    "name": "ipython",
    "version": 3
   },
   "file_extension": ".py",
   "mimetype": "text/x-python",
   "name": "python",
   "nbconvert_exporter": "python",
   "pygments_lexer": "ipython3",
   "version": "3.7.3"
  }
 },
 "nbformat": 4,
 "nbformat_minor": 2
}
