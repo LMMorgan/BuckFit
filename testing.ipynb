{
 "cells": [
  {
   "cell_type": "code",
   "execution_count": 1,
   "metadata": {},
   "outputs": [],
   "source": [
    "from collections import Counter\n",
    "import numpy as np\n",
    "from pymatgen.io.vasp import Poscar\n",
    "from potentials import BuckinghamPotential\n",
    "from potential_parameters import BuckinghamParameter\n",
    "from atom_types import AtomType\n",
    "\n",
    "def types_from_structure(structure):\n",
    "    elements = Counter(structure.species)\n",
    "    for e in elements:\n",
    "        print(e.name)\n",
    "        print(type(e.name))\n"
   ]
  },
  {
   "cell_type": "code",
   "execution_count": 2,
   "metadata": {},
   "outputs": [],
   "source": [
    "structure = Poscar.from_file('poscars/training_set/POSCAR1').structure"
   ]
  },
  {
   "cell_type": "code",
   "execution_count": 3,
   "metadata": {},
   "outputs": [],
   "source": [
    "for site in structure:\n",
    "    coords=site.coords"
   ]
  },
  {
   "cell_type": "code",
   "execution_count": 4,
   "metadata": {},
   "outputs": [
    {
     "data": {
      "text/plain": [
       "[<potential_parameters.BuckinghamParameter at 0x11ef4a9e8>,\n",
       " <potential_parameters.BuckinghamParameter at 0x11ef4aba8>,\n",
       " <potential_parameters.BuckinghamParameter at 0x11ef4ac50>]"
      ]
     },
     "execution_count": 4,
     "metadata": {},
     "output_type": "execute_result"
    }
   ],
   "source": [
    "def pot_params():\n",
    "    parameters = []\n",
    "    parameters.append(BuckinghamParameter('Li_O_a', 'a', 1.0))\n",
    "    parameters.append(BuckinghamParameter('Li_O_rho', 'rho', 0.1))\n",
    "    parameters.append(BuckinghamParameter('Li_O_c', 'c', 0.0))\n",
    "    return parameters\n",
    "\n",
    "parameters = pot_params()\n",
    "parameters"
   ]
  },
  {
   "cell_type": "code",
   "execution_count": 5,
   "metadata": {},
   "outputs": [
    {
     "data": {
      "text/plain": [
       "{'Li-O': [10.0, 0.1, 0.0]}"
      ]
     },
     "execution_count": 5,
     "metadata": {},
     "output_type": "execute_result"
    }
   ],
   "source": [
    "potentials = {'Li-O':[10.00, 0.1, 0.0]}\n",
    "potentials"
   ]
  },
  {
   "cell_type": "code",
   "execution_count": 6,
   "metadata": {},
   "outputs": [
    {
     "data": {
      "text/plain": [
       "[<atom_types.AtomType at 0x11ef5bda0>,\n",
       " <atom_types.AtomType at 0x11ef5bef0>,\n",
       " <atom_types.AtomType at 0x11ef5bf60>,\n",
       " <atom_types.AtomType at 0x11ef5bfd0>]"
      ]
     },
     "execution_count": 6,
     "metadata": {},
     "output_type": "execute_result"
    }
   ],
   "source": [
    "def atom_types():\n",
    "    atom_types = []\n",
    "    atom_types.append(AtomType(1, 'Li', 'Li', 1.555, 1.0))\n",
    "    atom_types.append(AtomType(2, 'Ni', 'Ni', 56.111, 3.0))\n",
    "    atom_types.append(AtomType(3, 'O core', 'O', 14.001, -0.96, 'core'))\n",
    "    atom_types.append(AtomType(3, 'O shell', 'O', 1.998, -1.04, 'shell'))\n",
    "    return atom_types\n",
    "\n",
    "atom_type_list = atom_types()\n",
    "atom_type_list"
   ]
  },
  {
   "cell_type": "code",
   "execution_count": null,
   "metadata": {},
   "outputs": [],
   "source": []
  },
  {
   "cell_type": "code",
   "execution_count": null,
   "metadata": {},
   "outputs": [],
   "source": []
  },
  {
   "cell_type": "code",
   "execution_count": 7,
   "metadata": {},
   "outputs": [],
   "source": [
    "import mock"
   ]
  },
  {
   "cell_type": "code",
   "execution_count": 8,
   "metadata": {},
   "outputs": [],
   "source": [
    "at = mock.Mock(AtomType)"
   ]
  },
  {
   "cell_type": "code",
   "execution_count": 9,
   "metadata": {},
   "outputs": [],
   "source": [
    "at.label = \"Li core\""
   ]
  },
  {
   "cell_type": "code",
   "execution_count": null,
   "metadata": {},
   "outputs": [],
   "source": []
  },
  {
   "cell_type": "code",
   "execution_count": null,
   "metadata": {},
   "outputs": [],
   "source": []
  },
  {
   "cell_type": "code",
   "execution_count": null,
   "metadata": {},
   "outputs": [],
   "source": []
  },
  {
   "cell_type": "code",
   "execution_count": null,
   "metadata": {},
   "outputs": [],
   "source": []
  },
  {
   "cell_type": "code",
   "execution_count": null,
   "metadata": {},
   "outputs": [],
   "source": []
  },
  {
   "cell_type": "code",
   "execution_count": null,
   "metadata": {},
   "outputs": [],
   "source": []
  },
  {
   "cell_type": "code",
   "execution_count": null,
   "metadata": {},
   "outputs": [],
   "source": []
  },
  {
   "cell_type": "code",
   "execution_count": null,
   "metadata": {},
   "outputs": [],
   "source": []
  },
  {
   "cell_type": "code",
   "execution_count": null,
   "metadata": {},
   "outputs": [],
   "source": []
  },
  {
   "cell_type": "code",
   "execution_count": null,
   "metadata": {},
   "outputs": [],
   "source": []
  },
  {
   "cell_type": "code",
   "execution_count": null,
   "metadata": {},
   "outputs": [],
   "source": []
  },
  {
   "cell_type": "code",
   "execution_count": null,
   "metadata": {},
   "outputs": [],
   "source": []
  }
 ],
 "metadata": {
  "kernelspec": {
   "display_name": "Python 3",
   "language": "python",
   "name": "python3"
  },
  "language_info": {
   "codemirror_mode": {
    "name": "ipython",
    "version": 3
   },
   "file_extension": ".py",
   "mimetype": "text/x-python",
   "name": "python",
   "nbconvert_exporter": "python",
   "pygments_lexer": "ipython3",
   "version": "3.7.3"
  }
 },
 "nbformat": 4,
 "nbformat_minor": 4
}
