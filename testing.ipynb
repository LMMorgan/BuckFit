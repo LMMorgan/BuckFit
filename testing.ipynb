{
 "cells": [
  {
   "cell_type": "code",
   "execution_count": 1,
   "metadata": {},
   "outputs": [],
   "source": [
    "from collections import Counter\n",
    "import numpy as np\n",
    "from pymatgen.io.vasp import Poscar\n",
    "from potentials import BuckinghamPotential\n",
    "from potential_parameters import BuckinghamParameter\n",
    "from atom_types import AtomType\n",
    "\n",
    "def types_from_structure(structure):\n",
    "    elements = Counter(structure.species)\n",
    "    for e in elements:\n",
    "        print(e.name)\n",
    "        print(type(e.name))\n"
   ]
  },
  {
   "cell_type": "code",
   "execution_count": 2,
   "metadata": {},
   "outputs": [
    {
     "data": {
      "text/plain": [
       "[<potential_parameters.BuckinghamParameter at 0x1262465f8>,\n",
       " <potential_parameters.BuckinghamParameter at 0x1262466d8>,\n",
       " <potential_parameters.BuckinghamParameter at 0x126246748>]"
      ]
     },
     "execution_count": 2,
     "metadata": {},
     "output_type": "execute_result"
    }
   ],
   "source": [
    "def pot_params():\n",
    "    parameters = []\n",
    "    parameters.append(BuckinghamParameter('Li_O_a', 'a', 1.0))\n",
    "    parameters.append(BuckinghamParameter('Li_O_rho', 'rho', 0.1))\n",
    "    parameters.append(BuckinghamParameter('Li_O_c', 'c', 0.0))\n",
    "    return parameters\n",
    "\n",
    "parameters = pot_params()\n",
    "parameters"
   ]
  },
  {
   "cell_type": "code",
   "execution_count": 3,
   "metadata": {},
   "outputs": [
    {
     "data": {
      "text/plain": [
       "{'Li-O': [10.0, 0.1, 0.0]}"
      ]
     },
     "execution_count": 3,
     "metadata": {},
     "output_type": "execute_result"
    }
   ],
   "source": [
    "potentials = {'Li-O':[10.00, 0.1, 0.0]}\n",
    "potentials"
   ]
  },
  {
   "cell_type": "code",
   "execution_count": 4,
   "metadata": {},
   "outputs": [
    {
     "data": {
      "text/plain": [
       "[<atom_types.AtomType at 0x12624f898>,\n",
       " <atom_types.AtomType at 0x12624f978>,\n",
       " <atom_types.AtomType at 0x12624f9b0>,\n",
       " <atom_types.AtomType at 0x12624fa20>]"
      ]
     },
     "execution_count": 4,
     "metadata": {},
     "output_type": "execute_result"
    }
   ],
   "source": [
    "def atom_types():\n",
    "    atom_types = []\n",
    "    atom_types.append(AtomType(1, 'Li', 'Li', 1.555, 1.0))\n",
    "    atom_types.append(AtomType(2, 'Ni', 'Ni', 56.111, 3.0))\n",
    "    atom_types.append(AtomType(3, 'O core', 'O', 14.001, -0.96, 'core'))\n",
    "    atom_types.append(AtomType(3, 'O shell', 'O', 1.998, -1.04, 'shell'))\n",
    "    return atom_types\n",
    "\n",
    "atom_type_list = atom_types()\n",
    "atom_type_list"
   ]
  },
  {
   "cell_type": "code",
   "execution_count": 43,
   "metadata": {},
   "outputs": [
    {
     "name": "stdout",
     "output_type": "stream",
     "text": [
      "O\n",
      "O\n"
     ]
    }
   ],
   "source": [
    "label = \"O-O spring\"\n",
    "split_label = label.replace('-', ' ').split()\n",
    "for element in split_label[:2]:\n",
    "    print(element)"
   ]
  },
  {
   "cell_type": "code",
   "execution_count": null,
   "metadata": {},
   "outputs": [],
   "source": []
  },
  {
   "cell_type": "code",
   "execution_count": 5,
   "metadata": {},
   "outputs": [],
   "source": [
    "import mock"
   ]
  },
  {
   "cell_type": "code",
   "execution_count": 6,
   "metadata": {},
   "outputs": [],
   "source": [
    "at = mock.Mock(AtomType)"
   ]
  },
  {
   "cell_type": "code",
   "execution_count": 7,
   "metadata": {},
   "outputs": [],
   "source": [
    "at.label = \"Li core\""
   ]
  },
  {
   "cell_type": "code",
   "execution_count": 8,
   "metadata": {},
   "outputs": [],
   "source": [
    "from collections import Counter\n",
    "import numpy as np\n",
    "from bonds import Bond\n",
    "from atoms import Atom\n",
    "from atom_types import AtomType\n",
    "from bond_types import BondType"
   ]
  },
  {
   "cell_type": "code",
   "execution_count": 9,
   "metadata": {},
   "outputs": [
    {
     "name": "stderr",
     "output_type": "stream",
     "text": [
      "/Users/lmm82/.pyenv/versions/3.7.3/lib/python3.7/site-packages/pymatgen/io/vasp/outputs.py:907: UserWarning: No POTCAR file with matching TITEL fields was found in /Users/lmm82/Documents/current_work/lammps_potenial_fitting/test_files\n",
      "  \" was found in {}\".format(os.path.abspath(p)))\n"
     ]
    }
   ],
   "source": [
    "from pymatgen.io.vasp.outputs import Vasprun\n",
    "\n",
    "vasprun = Vasprun('test_files/test_vasprun.xml')\n",
    "structure = vasprun.ionic_steps[0]['structure']\n",
    "structure.add_site_property('forces', np.array(vasprun.ionic_steps[0]['forces']))"
   ]
  },
  {
   "cell_type": "code",
   "execution_count": null,
   "metadata": {},
   "outputs": [],
   "source": []
  },
  {
   "cell_type": "code",
   "execution_count": 10,
   "metadata": {},
   "outputs": [],
   "source": [
    "params = {}\n",
    "params['core_shell'] = { 'Li': False, 'Ni': False, 'O': True }\n",
    "params['charges'] = {'Li': +1.0,\n",
    "                     'Ni': +3.0,\n",
    "                     'O': {'core':  -2.0,\n",
    "                           'shell': 0.0}} \n",
    "params['masses'] = {'Li': 6.941,\n",
    "                    'Ni': 58.6934,\n",
    "                    'O': {'core': 14.3991,\n",
    "                          'shell': 1.5999} }\n",
    "params['potentials'] = {'Li-O': [100.00, 0.1, 0.0],\n",
    "                        'Ni-O': [1000.00, 0.2, 0.0],\n",
    "                        'O-O':  [10000.00, 0.3, 0.0]}\n",
    "params['cs_springs'] = {'O-O' : [10.0, 0.0]}"
   ]
  },
  {
   "cell_type": "code",
   "execution_count": null,
   "metadata": {},
   "outputs": [],
   "source": []
  },
  {
   "cell_type": "code",
   "execution_count": 11,
   "metadata": {},
   "outputs": [],
   "source": [
    "def types_from_structure( structure, core_shell, charges, masses, cs_spring=None, verbose=True ):\n",
    "    atom_types = []\n",
    "    bond_types = []\n",
    "    atom_type_index = 0\n",
    "    bond_type_index = 0\n",
    "    elements = Counter(structure.species)\n",
    "    if verbose:\n",
    "        print( \"Found elements: {}\".format( [e.name for e in elements]))\n",
    "    for e in elements:\n",
    "        if e.name not in core_shell:\n",
    "            raise ValueError( '{} not in core_shell dictionary'.format(e.name) )\n",
    "        if e.name not in charges:\n",
    "            raise ValueError( '{} not in charges dictionary'.format(e.name) )\n",
    "        if e.name not in masses:\n",
    "            raise ValueError( '{} not in masses dictionary'.format(e.name) )\n",
    "    for e in elements:\n",
    "        if core_shell[e.name]: # Create two atom_types for core + shell\n",
    "            atom_type_index += 1\n",
    "            atom_types.append( AtomType(atom_type_index=atom_type_index,\n",
    "                                        label='{} core'.format(e.name),\n",
    "                                        element_type = e.name,\n",
    "                                        mass=masses[e.name]['core'],\n",
    "                                        charge=charges[e.name]['core'],\n",
    "                                        core_shell='core') )\n",
    "            atom_type_index += 1\n",
    "            atom_types.append( AtomType(atom_type_index=atom_type_index,\n",
    "                                        label='{} shell'.format(e.name),\n",
    "                                        element_type = e.name,\n",
    "                                        mass=masses[e.name]['shell'],\n",
    "                                        charge=charges[e.name]['shell'],\n",
    "                                        core_shell='shell') )\n",
    "            bond_type_index += 1\n",
    "            bond_types.append( BondType(bond_type_index=bond_type_index,\n",
    "                                        label='{}-{} spring'.format(e.name, e.name),\n",
    "                                        spring_coeff_1=cs_spring['{}-{}'.format(e.name, e.name)][0],\n",
    "                                        spring_coeff_2=cs_spring['{}-{}'.format(e.name, e.name)][1]))\n",
    "        else:\n",
    "            atom_type_index += 1\n",
    "            atom_types.append( AtomType(atom_type_index=atom_type_index,\n",
    "                                        label='{}'.format(e.name),\n",
    "                                        element_type = e.name,\n",
    "                                        mass=masses[e.name],\n",
    "                                        charge=charges[e.name] ) )\n",
    "    return atom_types, bond_types"
   ]
  },
  {
   "cell_type": "code",
   "execution_count": 12,
   "metadata": {},
   "outputs": [
    {
     "name": "stdout",
     "output_type": "stream",
     "text": [
      "Found elements: ['Li', 'Ni', 'O']\n"
     ]
    }
   ],
   "source": [
    "atom_types, bond_types = types_from_structure( structure, params['core_shell'], params['charges'], params['masses'], params['cs_springs'] )"
   ]
  },
  {
   "cell_type": "code",
   "execution_count": 13,
   "metadata": {},
   "outputs": [],
   "source": [
    "def atoms_and_bonds_from_structure( structure, atom_types, bond_types ):\n",
    "    atoms = []\n",
    "    bonds = []\n",
    "    atom_types_dict = {}\n",
    "    atom_types_dict = {at.label: at for at in atom_types}\n",
    "    bond_types_dict = {}\n",
    "    bond_types_dict = {bt.label: bt for bt in bond_types}\n",
    "    atom_index = 0\n",
    "    bond_index = 0\n",
    "    molecule_index = 0\n",
    "    for site in structure:\n",
    "        molecule_index += 1\n",
    "        if site.species_string in atom_types_dict: # not core-shell atom\n",
    "            atom_index += 1\n",
    "            atom_type = atom_types_dict[site.species_string]\n",
    "            atoms.append( Atom(atom_index=atom_index,\n",
    "                               molecule_index=molecule_index,\n",
    "                               coords=site.coords,\n",
    "                               atom_forces=site.properties['forces'],\n",
    "                               atom_type=atom_type) )\n",
    "        else: # need to handle core + shell\n",
    "            atom_index += 1\n",
    "            atom_type = atom_types_dict[site.species_string + ' core']\n",
    "            atoms.append( Atom(atom_index=atom_index,\n",
    "                               molecule_index=molecule_index,\n",
    "                               coords=site.coords,\n",
    "                               atom_forces=site.properties['forces'],\n",
    "                               atom_type=atom_type) )\n",
    "            atom_index += 1\n",
    "            atom_type = atom_types_dict[site.species_string + ' shell']\n",
    "            atoms.append( Atom(atom_index=atom_index,\n",
    "                               molecule_index=molecule_index,\n",
    "                               coords=site.coords,\n",
    "                               atom_forces=np.array([0.0, 0.0, 0.0]),\n",
    "                               atom_type=atom_type) )\n",
    "            bond_index += 1\n",
    "            bond_type = bond_types_dict['{}-{} spring'.format( site.species_string, site.species_string )]\n",
    "            bonds.append( Bond(bond_index=bond_index,\n",
    "                               atom_indices = [atom_index-1, atom_index],\n",
    "                               bond_type=bond_type))\n",
    "    return atoms, bonds \n"
   ]
  },
  {
   "cell_type": "code",
   "execution_count": 14,
   "metadata": {},
   "outputs": [],
   "source": [
    "atoms, bonds = atoms_and_bonds_from_structure( structure, atom_types, bond_types )"
   ]
  },
  {
   "cell_type": "code",
   "execution_count": 36,
   "metadata": {},
   "outputs": [
    {
     "data": {
      "text/plain": [
       "96"
      ]
     },
     "execution_count": 36,
     "metadata": {},
     "output_type": "execute_result"
    }
   ],
   "source": [
    "len(bonds)"
   ]
  },
  {
   "cell_type": "code",
   "execution_count": 39,
   "metadata": {},
   "outputs": [
    {
     "data": {
      "text/plain": [
       "<bond_types.BondType at 0x1262b04a8>"
      ]
     },
     "execution_count": 39,
     "metadata": {},
     "output_type": "execute_result"
    }
   ],
   "source": [
    "bonds[0].bond_type"
   ]
  },
  {
   "cell_type": "code",
   "execution_count": null,
   "metadata": {},
   "outputs": [],
   "source": []
  },
  {
   "cell_type": "code",
   "execution_count": null,
   "metadata": {},
   "outputs": [],
   "source": []
  },
  {
   "cell_type": "code",
   "execution_count": null,
   "metadata": {},
   "outputs": [],
   "source": []
  },
  {
   "cell_type": "code",
   "execution_count": null,
   "metadata": {},
   "outputs": [],
   "source": []
  },
  {
   "cell_type": "code",
   "execution_count": null,
   "metadata": {},
   "outputs": [],
   "source": []
  },
  {
   "cell_type": "code",
   "execution_count": null,
   "metadata": {},
   "outputs": [],
   "source": []
  }
 ],
 "metadata": {
  "kernelspec": {
   "display_name": "Python 3",
   "language": "python",
   "name": "python3"
  },
  "language_info": {
   "codemirror_mode": {
    "name": "ipython",
    "version": 3
   },
   "file_extension": ".py",
   "mimetype": "text/x-python",
   "name": "python",
   "nbconvert_exporter": "python",
   "pygments_lexer": "ipython3",
   "version": "3.7.3"
  }
 },
 "nbformat": 4,
 "nbformat_minor": 4
}
