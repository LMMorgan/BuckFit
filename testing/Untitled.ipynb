{
 "cells": [
  {
   "cell_type": "code",
   "execution_count": 1,
   "metadata": {},
   "outputs": [],
   "source": [
    "import lammps\n",
    "import pymc3 as pm\n",
    "import arviz as az\n",
    "import numpy as np\n",
    "import glob\n",
    "from copy import deepcopy\n",
    "import matplotlib.pyplot as plt\n",
    "\n",
    "from lammps_data import LammpsData\n",
    "from pymatgen.io.vasp import Poscar"
   ]
  },
  {
   "cell_type": "code",
   "execution_count": 2,
   "metadata": {},
   "outputs": [
    {
     "name": "stdout",
     "output_type": "stream",
     "text": [
      "Found elements: ['Li', 'Ni', 'O']\n"
     ]
    }
   ],
   "source": [
    "params = {}\n",
    "params['core_shell'] = { 'Li': False, 'Ni': False, 'O': True }\n",
    "params['charges'] = {'Li': +1.0,\n",
    "                     'Ni': +3.0,\n",
    "                     'O': {'core':  +0.960,\n",
    "                           'shell': -2.960}}\n",
    "params['masses'] = {'Li': 6.941,\n",
    "                    'Ni': 58.6934,\n",
    "                    'O': {'core': 15.0,\n",
    "                          'shell': 1.0} }\n",
    "\n",
    "params['bpp'] = {'Li-O' : [632.1018, 0.2906, 0.0],\n",
    "                 'Ni-O' : [1582.5000, 0.2882, 0.000],\n",
    "                 'O-O'  : [22764.3000, 0.1490, 21.7]}\n",
    "\n",
    "bpp = deepcopy(params['bpp'])\n",
    "\n",
    "\n",
    "\n",
    "poscar = Poscar.from_file('POSCAR1')\n",
    "my_structure = poscar.structure\n",
    "lammps_data = LammpsData.from_structure(my_structure, params)"
   ]
  },
  {
   "cell_type": "code",
   "execution_count": 3,
   "metadata": {},
   "outputs": [
    {
     "name": "stdout",
     "output_type": "stream",
     "text": [
      "pair_coeff 1 4 632.1018 0.2906 0.0\n",
      "pair_coeff 2 4 1582.5 0.2882 0.0\n",
      "pair_coeff 4 4 22764.3 0.149 21.7\n"
     ]
    }
   ],
   "source": [
    "for pot in lammps_data.potentials:\n",
    "    print(pot.potential_string())\n",
    "#     pot.update('name', 10.0)\n",
    "#     print(pot.a)"
   ]
  },
  {
   "cell_type": "code",
   "execution_count": 4,
   "metadata": {},
   "outputs": [],
   "source": [
    "# for pot in lammps_data.potentials:\n",
    "#     pot.a.distribution(stand_dev = 100)"
   ]
  },
  {
   "cell_type": "code",
   "execution_count": 43,
   "metadata": {},
   "outputs": [],
   "source": [
    "with pm.Model() as model:\n",
    "    my_dict = {}\n",
    "    for pot in lammps_data.potentials:\n",
    "        name = '{}'.format(pot.a.label_string)\n",
    "        my_dict[name] = pot.a.distribution(stand_dev = 100)\n",
    "        name = '{}'.format(pot.rho.label_string)\n",
    "        my_dict[name] = pot.rho.distribution(stand_dev = 0.05)\n",
    "        name = '{}'.format(pot.c.label_string)\n",
    "        my_dict[name] = pot.c.distribution(stand_dev = 0.01)\n",
    "#         exec(\"%s = %s\" % (\"{}\".format(pot.a.label_string), distribution))"
   ]
  },
  {
   "cell_type": "code",
   "execution_count": null,
   "metadata": {},
   "outputs": [],
   "source": []
  },
  {
   "cell_type": "code",
   "execution_count": 44,
   "metadata": {},
   "outputs": [
    {
     "data": {
      "text/plain": [
       "{'Li_O_a': Li_O_a,\n",
       " 'Li_O_rho': Li_O_rho,\n",
       " 'Li_O_c': Li_O_c,\n",
       " 'Ni_O_a': Ni_O_a,\n",
       " 'Ni_O_rho': Ni_O_rho,\n",
       " 'Ni_O_c': Ni_O_c,\n",
       " 'O_O_a': O_O_a,\n",
       " 'O_O_rho': O_O_rho,\n",
       " 'O_O_c': O_O_c}"
      ]
     },
     "execution_count": 44,
     "metadata": {},
     "output_type": "execute_result"
    }
   ],
   "source": [
    "my_dict"
   ]
  },
  {
   "cell_type": "code",
   "execution_count": 47,
   "metadata": {},
   "outputs": [
    {
     "data": {
      "text/latex": [
       "$\\text{O_O_a} \\sim \\text{Normal}(\\mathit{mu}=22764.3,~\\mathit{sigma}=100.0)$"
      ],
      "text/plain": [
       "O_O_a"
      ]
     },
     "execution_count": 47,
     "metadata": {},
     "output_type": "execute_result"
    }
   ],
   "source": [
    "my_dict['O_O_a']"
   ]
  },
  {
   "cell_type": "code",
   "execution_count": 48,
   "metadata": {},
   "outputs": [
    {
     "data": {
      "text/plain": [
       "pymc3.model.FreeRV"
      ]
     },
     "execution_count": 48,
     "metadata": {},
     "output_type": "execute_result"
    }
   ],
   "source": [
    "type(my_dict['O_O_a'])"
   ]
  },
  {
   "cell_type": "code",
   "execution_count": null,
   "metadata": {},
   "outputs": [],
   "source": []
  },
  {
   "cell_type": "code",
   "execution_count": null,
   "metadata": {},
   "outputs": [],
   "source": []
  },
  {
   "cell_type": "code",
   "execution_count": null,
   "metadata": {},
   "outputs": [],
   "source": []
  }
 ],
 "metadata": {
  "kernelspec": {
   "display_name": "Python 3",
   "language": "python",
   "name": "python3"
  },
  "language_info": {
   "codemirror_mode": {
    "name": "ipython",
    "version": 3
   },
   "file_extension": ".py",
   "mimetype": "text/x-python",
   "name": "python",
   "nbconvert_exporter": "python",
   "pygments_lexer": "ipython3",
   "version": "3.7.3"
  }
 },
 "nbformat": 4,
 "nbformat_minor": 2
}
