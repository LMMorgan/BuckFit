{
 "cells": [
  {
   "cell_type": "code",
   "execution_count": 21,
   "metadata": {},
   "outputs": [],
   "source": [
    "class AtomProperties():\n",
    "    def __init__(self,\n",
    "                 atom_index,\n",
    "                 molecule_index,\n",
    "                 atom_type_index,\n",
    "                 atom_charge,\n",
    "                 atom_position,\n",
    "                atom_global):\n",
    "        self.index=atom_index\n",
    "        self.moleculeID=molecule_index\n",
    "        self.atom_type=atom_type_index\n",
    "        self.charge=atom_charge\n",
    "        self.position=atom_position\n",
    "        if atom_global.values"
   ]
  },
  {
   "cell_type": "code",
   "execution_count": 22,
   "metadata": {},
   "outputs": [],
   "source": [
    "def searcher(search, found=False):\n",
    "    index = 0\n",
    "    for sublist in data:\n",
    "        if search in sublist:\n",
    "            found = True\n",
    "            break\n",
    "        index +=1\n",
    "    if found is False:\n",
    "        index = None\n",
    "    return index\n",
    "\n",
    "def get_info(data):\n",
    "    overview ={'natoms':int(data[2][0]),\n",
    "               'nbonds':int(data[3][0]),\n",
    "               'natom_types':int(data[5][0]),\n",
    "               'nbond_types':int(data[6][0])}\n",
    "    mass_loc = searcher('Masses')\n",
    "    atom_loc = searcher('Atoms')\n",
    "    atom_global = {\"_\".join(item[3:]):[int(item[0]),float(item[1])]\n",
    "                   for item in data[mass_loc+2:atom_loc-1]}\n",
    "    bonds_loc = searcher('Bonds')\n",
    "    if bonds_loc is None:\n",
    "        atoms = {AtomProperties(int(item[0]),\n",
    "                                int(item[1]),\n",
    "                                int(item[2]),\n",
    "                                float(item[3]),\n",
    "                                list(map(float,item[4:])))\n",
    "                 for item in data[atom_loc+2:-1]}\n",
    "        bonds=None\n",
    "    else:\n",
    "        atoms = [AtomProperties(int(item[0]),\n",
    "                                int(item[1]),\n",
    "                                int(item[2]),\n",
    "                                float(item[3]),\n",
    "                                list(map(float,item[4:])),\n",
    "                               atom_global)\n",
    "                 for item in data[atom_loc+2:bonds_loc-1]]\n",
    "        bonds = {int(item[0]): list(map(int,item[2:])) for item in data[bonds_loc+2:-1]}\n",
    "    return overview, atom_global, atoms, bonds"
   ]
  },
  {
   "cell_type": "code",
   "execution_count": 23,
   "metadata": {},
   "outputs": [],
   "source": [
    "structure = 'multicoords.lmp'\n",
    "with open(structure, 'r') as struct:\n",
    "    data = [item.split() for item in struct.readlines()]"
   ]
  },
  {
   "cell_type": "code",
   "execution_count": 24,
   "metadata": {},
   "outputs": [],
   "source": [
    "overview, atom_global, atoms, bonds = get_info(data)"
   ]
  },
  {
   "cell_type": "code",
   "execution_count": 30,
   "metadata": {},
   "outputs": [
    {
     "data": {
      "text/plain": [
       "{'Li': [1, 6.941],\n",
       " 'Ni': [2, 58.6934],\n",
       " 'O_core': [3, 14.39946],\n",
       " 'O_shell': [4, 1.59994]}"
      ]
     },
     "execution_count": 30,
     "metadata": {},
     "output_type": "execute_result"
    }
   ],
   "source": [
    "atom_global\n",
    "# for atom in atoms:\n",
    "#     print(atom.atom_type)"
   ]
  },
  {
   "cell_type": "code",
   "execution_count": 41,
   "metadata": {},
   "outputs": [
    {
     "data": {
      "text/plain": [
       "dict_values([[1, 6.941], [2, 58.6934], [3, 14.39946], [4, 1.59994]])"
      ]
     },
     "execution_count": 41,
     "metadata": {},
     "output_type": "execute_result"
    }
   ],
   "source": [
    "atom_global.values()"
   ]
  },
  {
   "cell_type": "code",
   "execution_count": null,
   "metadata": {},
   "outputs": [],
   "source": []
  },
  {
   "cell_type": "code",
   "execution_count": null,
   "metadata": {},
   "outputs": [],
   "source": []
  },
  {
   "cell_type": "code",
   "execution_count": null,
   "metadata": {},
   "outputs": [],
   "source": []
  },
  {
   "cell_type": "code",
   "execution_count": null,
   "metadata": {},
   "outputs": [],
   "source": []
  }
 ],
 "metadata": {
  "kernelspec": {
   "display_name": "Python 3",
   "language": "python",
   "name": "python3"
  },
  "language_info": {
   "codemirror_mode": {
    "name": "ipython",
    "version": 3
   },
   "file_extension": ".py",
   "mimetype": "text/x-python",
   "name": "python",
   "nbconvert_exporter": "python",
   "pygments_lexer": "ipython3",
   "version": "3.7.3"
  }
 },
 "nbformat": 4,
 "nbformat_minor": 2
}
