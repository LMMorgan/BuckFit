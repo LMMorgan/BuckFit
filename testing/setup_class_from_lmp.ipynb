{
 "cells": [
  {
   "cell_type": "code",
   "execution_count": 1,
   "metadata": {},
   "outputs": [],
   "source": [
    "def searcher(search, found=False):\n",
    "    index = 0\n",
    "    for sublist in data:\n",
    "        if search in sublist:\n",
    "            found = True\n",
    "            break\n",
    "        index +=1\n",
    "    if found is False:\n",
    "        index = None\n",
    "    return index"
   ]
  },
  {
   "cell_type": "code",
   "execution_count": 2,
   "metadata": {},
   "outputs": [],
   "source": [
    "structure = 'multicoords.lmp'\n",
    "with open(structure, 'r') as struct:\n",
    "    data = [item.split() for item in struct.readlines()]"
   ]
  },
  {
   "cell_type": "code",
   "execution_count": 3,
   "metadata": {},
   "outputs": [],
   "source": [
    "overview ={'natoms':int(data[2][0]),\n",
    "           'nbonds':int(data[3][0]),\n",
    "           'natom_types':int(data[5][0]),\n",
    "           'nbond_types':int(data[6][0])}\n",
    "mass_loc = searcher('Masses')\n",
    "atom_loc = searcher('Atoms')\n",
    "atom_global = {\"_\".join(item[3:]):[int(item[0]), float(item[1])] for item in data[mass_loc+2:atom_loc-1]}"
   ]
  },
  {
   "cell_type": "code",
   "execution_count": 18,
   "metadata": {},
   "outputs": [],
   "source": [
    "bonds_loc = searcher('Bonds')\n",
    "if bonds_loc is None:\n",
    "    atoms = {int(item[0]):[int(item[1]), #molecule_index\n",
    "                           int(item[2]), #atom_type_index\n",
    "                           float(item[3]), #atom_charge\n",
    "                           list(map(float,item[4:]))] #atom_positions\n",
    "             for item in data[atom_loc+2:-1]}\n",
    "else:\n",
    "    atoms = {int(item[0]):[int(item[1]), #molecule_index\n",
    "                           int(item[2]), #atom_type_index\n",
    "                           float(item[3]), #atom_charge\n",
    "                           list(map(float,item[4:]))] #atom_positions\n",
    "             for item in data[atom_loc+2:bonds_loc-1]}\n",
    "    bonds = {int(item[0]): list(map(int,item[2:])) for item in data[bonds_loc+2:-1]}"
   ]
  },
  {
   "cell_type": "code",
   "execution_count": 15,
   "metadata": {},
   "outputs": [],
   "source": [
    "# print(overview) # key=property, value=number\n",
    "# print(atom_global) # key=label, values= atom_type number, mass\n",
    "# print(atoms) # key=atom_index, values= moleculeID, atom_type, charge, positions\n",
    "# print(bonds) # key=bond_index, values= atomID_core, atomID_shell"
   ]
  },
  {
   "cell_type": "code",
   "execution_count": 8,
   "metadata": {},
   "outputs": [],
   "source": [
    "class AtomProperties():\n",
    "    def __init__(self,\n",
    "                 atom_index,\n",
    "                 molecule_index,\n",
    "                 atom_type_index,\n",
    "                 atom_charge,\n",
    "                 atom_position):\n",
    "        self.index=atom_index\n",
    "        self.moleculeID=molecule_index\n",
    "        self.atom_type=atom_type_index\n",
    "        self.charge=atom_charge\n",
    "        self.position=atom_position"
   ]
  },
  {
   "cell_type": "code",
   "execution_count": 9,
   "metadata": {},
   "outputs": [],
   "source": [
    "# shells = [atom_type_index[i] for i, item in enumerate(label) if 'shell' in item]\n",
    "# print(shells)"
   ]
  },
  {
   "cell_type": "code",
   "execution_count": 10,
   "metadata": {},
   "outputs": [],
   "source": [
    "# list(dict.fromkeys(atom_charge))"
   ]
  },
  {
   "cell_type": "code",
   "execution_count": null,
   "metadata": {},
   "outputs": [],
   "source": []
  },
  {
   "cell_type": "code",
   "execution_count": 12,
   "metadata": {},
   "outputs": [],
   "source": [
    "atoms = {AtomProperties(int(item[0]),\n",
    "                        int(item[1]),\n",
    "                        int(item[2]),\n",
    "                        float(item[3]),\n",
    "                        list(map(float,item[4:])))\n",
    "         for item in data[atom_loc+2:bonds_loc-1]}"
   ]
  },
  {
   "cell_type": "code",
   "execution_count": 13,
   "metadata": {},
   "outputs": [],
   "source": [
    "# for atom in atoms:\n",
    "#     print(atom.index, atom.position)\n"
   ]
  },
  {
   "cell_type": "code",
   "execution_count": null,
   "metadata": {},
   "outputs": [],
   "source": []
  },
  {
   "cell_type": "code",
   "execution_count": null,
   "metadata": {},
   "outputs": [],
   "source": [
    "# atoms = [{'atom_index':int(item[0]),\n",
    "#           'molecule_index':int(item[1]),\n",
    "#           'atom_type_index':int(item[2]),\n",
    "#           'charge': float(item[3]),\n",
    "#           'position': list(map(float,item[4:]))}\n",
    "#          for item in data[atom_loc+2:bonds_loc-1]]"
   ]
  },
  {
   "cell_type": "code",
   "execution_count": null,
   "metadata": {},
   "outputs": [],
   "source": []
  }
 ],
 "metadata": {
  "kernelspec": {
   "display_name": "Python 3",
   "language": "python",
   "name": "python3"
  },
  "language_info": {
   "codemirror_mode": {
    "name": "ipython",
    "version": 3
   },
   "file_extension": ".py",
   "mimetype": "text/x-python",
   "name": "python",
   "nbconvert_exporter": "python",
   "pygments_lexer": "ipython3",
   "version": "3.7.3"
  }
 },
 "nbformat": 4,
 "nbformat_minor": 2
}
