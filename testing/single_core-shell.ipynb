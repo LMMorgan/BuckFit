{
 "cells": [
  {
   "cell_type": "code",
   "execution_count": 1,
   "metadata": {},
   "outputs": [],
   "source": [
    "import lammps\n",
    "import pymc3 as pm\n",
    "import arviz as az\n",
    "import numpy as np\n",
    "# import glob\n",
    "from copy import deepcopy\n",
    "import matplotlib.pyplot as plt\n",
    "\n",
    "from lammps_data import LammpsData\n",
    "from pymatgen.io.vasp import Poscar"
   ]
  },
  {
   "cell_type": "code",
   "execution_count": 2,
   "metadata": {},
   "outputs": [],
   "source": [
    "def init(lammps_data, structure, cs_springs=None):\n",
    "    \"\"\"\n",
    "    Initialises the system from the structure (read in from lammps input) and non-changing parameters.\n",
    "    \n",
    "    Args:\n",
    "        structure (str): Name of lammps input file.\n",
    "        cs_springs (optional:dict): A dictionary of the bond_coeff values. Key = atom label and values = K\n",
    "                                    (energy/distance^2) and r0 (equilibrium bond distance) (list).\n",
    "                                    Default = None.\n",
    "        lammps_data (obj): LammpsData stuctural object containing information on atom_types, bond_types,\n",
    "                           atoms, bonds, cell_lengths, and tilt_factors.\n",
    "\n",
    "    Returns:\n",
    "        lmp (Lammps): Lammps system with structure and specified commands implemented.\n",
    "    \"\"\"\n",
    "    \n",
    "    lmp = lammps.Lammps(units='metal', style = 'full', args=['-log', 'none', '-screen', 'none'])\n",
    "    lmp.command('read_data {}'.format(structure))\n",
    "\n",
    "    lmp.command('group cores type {}'.format(lammps_data.type_core()))\n",
    "    lmp.command('group shells type {}'.format(lammps_data.type_shell()))\n",
    "\n",
    "    if cs_springs:\n",
    "        lmp.command('pair_style buck/coul/long/cs 10.0')\n",
    "        lmp.command('pair_coeff * * 0 1 0')\n",
    "\n",
    "        lmp.command('bond_style harmonic')\n",
    "        for i, spring in enumerate(cs_springs):\n",
    "            lmp.command('bond_coeff {} {} {}'.format(i+1,\n",
    "                                                     cs_springs[spring][0],\n",
    "                                                     cs_springs[spring][1]))\n",
    "    else:\n",
    "        lmp.command('pair_style buck/coul/long 10.0')\n",
    "        lmp.command('pair_coeff * * 0 1 0')\n",
    "    \n",
    "    lmp.command('kspace_style ewald 1e-6')\n",
    "        \n",
    "    #setup for minimization\n",
    "    lmp.command('min_style cg')\n",
    "\n",
    "    return lmp"
   ]
  },
  {
   "cell_type": "code",
   "execution_count": 3,
   "metadata": {},
   "outputs": [],
   "source": [
    "def update_potentials(**kwargs):\n",
    "    \"\"\"\n",
    "    Unpdates the potentials set by pymc3 into the dictionary for the fitting process.\n",
    "\n",
    "    Args:\n",
    "        **kwargs: The parameters to be updated in the fitting process as set with pm.Model.\n",
    "\n",
    "    Returns:\n",
    "        None.\n",
    "    \"\"\"\n",
    "#     for key, value in kwargs.items():\n",
    "#         my_dict.update({key: value})\n",
    "    for key, value in kwargs.items():    \n",
    "        for pot in lammps_data.potentials:\n",
    "            if key is pot.a.label_string:\n",
    "                pot.a.value = value\n",
    "            if key is pot.rho.label_string:\n",
    "                pot.rho.value = value\n",
    "            if key is pot.c.label_string:\n",
    "                pot.c.value = value\n",
    "#     [print(pot.a.value) for pot in lammps_data.potentials]\n",
    "    \n",
    "def set_potentials(instance):\n",
    "    \"\"\"\n",
    "    Sets the potential for the sepecified Lammps system (changes for each iteration of the potential fit).\n",
    "\n",
    "    Args:\n",
    "        instance (Lammps): Lammps system with structure and specified commands implemented.\n",
    "\n",
    "    Returns:\n",
    "        None\n",
    "    \"\"\"\n",
    "    for pot in lammps_data.potentials:\n",
    "        instance.command('{}'.format(pot.potential_string()))\n",
    "#         print('{}'.format(pot.potential_string()))\n",
    "                         "
   ]
  },
  {
   "cell_type": "code",
   "execution_count": 4,
   "metadata": {},
   "outputs": [],
   "source": [
    "def simfunc(**kwargs):\n",
    "    \"\"\"\n",
    "    Runs a minimization and zero step run for the instance and returns the forces.\n",
    "\n",
    "    Args:\n",
    "        **kwargs: Contain data for type of fitting and to what parameters as set with pm.Model.\n",
    "\n",
    "    Returns:\n",
    "        out (np.array): x,y,z forces on each atom.\n",
    "    \"\"\"\n",
    "    if min(kwargs.values()) > 0:\n",
    "        update_potentials(**kwargs)\n",
    "        out = np.zeros([sum(core_mask),3])\n",
    "        \n",
    "        set_potentials(instances)\n",
    "\n",
    "        instances.command('fix 1 cores setforce 0.0 0.0 0.0')\n",
    "        instances.command('minimize 1e-25 1e-25 5000 10000')\n",
    "        instances.command('unfix 1')\n",
    "        instances.run(0)\n",
    "        \n",
    "        out = instances.system.forces[core_mask]\n",
    "            \n",
    "    else:\n",
    "        out = np.ones([sum(core_mask),3])*999999999 # ThisAlgorithmBecomingSkynetCost\n",
    "\n",
    "    return out"
   ]
  },
  {
   "cell_type": "code",
   "execution_count": 5,
   "metadata": {},
   "outputs": [
    {
     "name": "stdout",
     "output_type": "stream",
     "text": [
      "Found elements: ['Li', 'Ni', 'O']\n"
     ]
    }
   ],
   "source": [
    "params = {}\n",
    "params['core_shell'] = { 'Li': False, 'Ni': False, 'O': True }\n",
    "params['charges'] = {'Li': +1.0,\n",
    "                     'Ni': +3.0,\n",
    "                     'O': {'core':  +0.960,\n",
    "                           'shell': -2.960}}\n",
    "params['masses'] = {'Li': 6.941,\n",
    "                    'Ni': 58.6934,\n",
    "                    'O': {'core': 15.0,\n",
    "                          'shell': 1.0} }\n",
    "\n",
    "params['bpp'] = {'Li-O' : [632.1018, 0.2906, 0.0],\n",
    "                 'Ni-O' : [1582.5000, 0.2882, 0.000],\n",
    "                 'O-O'  : [22764.3000, 0.1490, 21.7]}\n",
    "\n",
    "#Must be in same order given in charges dictionary\n",
    "cs_springs = {'O' : [65.0, 0.0]} #Set to None if not using any core-shells\n",
    "\n",
    "bpp_def = deepcopy(params['bpp'])\n",
    "\n",
    "poscar = Poscar.from_file('POSCAR1')\n",
    "my_structure = poscar.structure\n",
    "lammps_data = LammpsData.from_structure(my_structure, params)\n",
    "lammps_file = 'coords.lmp'\n",
    "with open( lammps_file, 'w' ) as f:\n",
    "    f.write(lammps_data.input_string())"
   ]
  },
  {
   "cell_type": "code",
   "execution_count": 6,
   "metadata": {},
   "outputs": [],
   "source": [
    "instances = init(lammps_data, lammps_file, cs_springs)\n",
    "core_mask = lammps_data.core_mask()"
   ]
  },
  {
   "cell_type": "code",
   "execution_count": 7,
   "metadata": {},
   "outputs": [],
   "source": [
    "expected = np.zeros([sum(core_mask),3])"
   ]
  },
  {
   "cell_type": "code",
   "execution_count": null,
   "metadata": {},
   "outputs": [
    {
     "name": "stderr",
     "output_type": "stream",
     "text": [
      "Sample initial stage: ...\n",
      "/Users/lmm82/.pyenv/versions/3.7.3/lib/python3.7/site-packages/pymc3/step_methods/smc.py:176: UserWarning: Warning: SMC-ABC methods are experimental step methods and not yet recommended for use in PyMC3!\n",
      "  warnings.warn(EXPERIMENTAL_WARNING)\n",
      "Stage: 0 Beta: 0.000 Steps: 25\n",
      "Stage: 1 Beta: 0.004 Steps: 25\n",
      "Stage: 2 Beta: 0.033 Steps: 25\n"
     ]
    }
   ],
   "source": [
    "with pm.Model() as model:\n",
    "#  pm.TruncatedNormal -- truncated so never tries a negative    pm.Uniform\n",
    "    my_dict = {}\n",
    "    for pot in lammps_data.potentials:\n",
    "        name = '{}'.format(pot.a.label_string)\n",
    "        my_dict[name] = pot.a.distribution(stand_dev = 60)\n",
    "        name = '{}'.format(pot.rho.label_string)\n",
    "        my_dict[name] = pot.rho.distribution(stand_dev = 0.05)\n",
    "        name = '{}'.format(pot.c.label_string)\n",
    "        my_dict[name] = pot.c.distribution(stand_dev = 0.01)\n",
    "        \n",
    "    simulator = pm.Simulator('simulator', simfunc, observed=expected)\n",
    "    \n",
    "    trace = pm.sample(step=pm.SMC(ABC=True, epsilon=0.1), draws=1000)\n",
    "#     trace = pm.sample(step=pm.SMC(ABC=True, epsilon=3000, dist_func=\"sum_of_squared_distance\"), parallel=False, draws=1000)"
   ]
  },
  {
   "cell_type": "code",
   "execution_count": null,
   "metadata": {},
   "outputs": [],
   "source": []
  },
  {
   "cell_type": "code",
   "execution_count": null,
   "metadata": {},
   "outputs": [],
   "source": [
    "az.style.use('arviz-darkgrid')\n",
    "az.plot_trace(trace)\n",
    "plt.savefig('coreshell_LiNiO2_trace2.png',dpi=500, bbox_inches = \"tight\")"
   ]
  },
  {
   "cell_type": "code",
   "execution_count": null,
   "metadata": {},
   "outputs": [],
   "source": [
    "az.plot_posterior(trace, round_to = 3, point_estimate = 'mode')\n",
    "plt.savefig('coreshell_LiNiO2_mode2.png',dpi=500, bbox_inches = \"tight\")"
   ]
  },
  {
   "cell_type": "code",
   "execution_count": null,
   "metadata": {},
   "outputs": [],
   "source": []
  },
  {
   "cell_type": "code",
   "execution_count": null,
   "metadata": {},
   "outputs": [],
   "source": []
  },
  {
   "cell_type": "code",
   "execution_count": null,
   "metadata": {},
   "outputs": [],
   "source": []
  },
  {
   "cell_type": "code",
   "execution_count": null,
   "metadata": {},
   "outputs": [],
   "source": []
  },
  {
   "cell_type": "code",
   "execution_count": null,
   "metadata": {},
   "outputs": [],
   "source": []
  },
  {
   "cell_type": "code",
   "execution_count": null,
   "metadata": {},
   "outputs": [],
   "source": [
    " "
   ]
  },
  {
   "cell_type": "code",
   "execution_count": null,
   "metadata": {},
   "outputs": [],
   "source": []
  },
  {
   "cell_type": "code",
   "execution_count": null,
   "metadata": {},
   "outputs": [],
   "source": []
  },
  {
   "cell_type": "code",
   "execution_count": null,
   "metadata": {},
   "outputs": [],
   "source": []
  },
  {
   "cell_type": "code",
   "execution_count": null,
   "metadata": {},
   "outputs": [],
   "source": []
  },
  {
   "cell_type": "code",
   "execution_count": null,
   "metadata": {},
   "outputs": [],
   "source": []
  },
  {
   "cell_type": "code",
   "execution_count": null,
   "metadata": {},
   "outputs": [],
   "source": []
  },
  {
   "cell_type": "code",
   "execution_count": null,
   "metadata": {},
   "outputs": [],
   "source": []
  }
 ],
 "metadata": {
  "kernelspec": {
   "display_name": "Python 3",
   "language": "python",
   "name": "python3"
  },
  "language_info": {
   "codemirror_mode": {
    "name": "ipython",
    "version": 3
   },
   "file_extension": ".py",
   "mimetype": "text/x-python",
   "name": "python",
   "nbconvert_exporter": "python",
   "pygments_lexer": "ipython3",
   "version": "3.7.3"
  }
 },
 "nbformat": 4,
 "nbformat_minor": 2
}
