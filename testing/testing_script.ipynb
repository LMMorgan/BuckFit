{
 "cells": [
  {
   "cell_type": "code",
   "execution_count": 1,
   "metadata": {},
   "outputs": [],
   "source": [
    "import lammps\n",
    "import random\n",
    "from tqdm import trange\n",
    "import pymc3 as pm\n",
    "import arviz as az\n",
    "import numpy as np\n",
    "import theano.tensor as tt\n",
    "from copy import deepcopy\n",
    "import matplotlib.pyplot as plt\n",
    "\n",
    "from poscar_to_lammps import poscar_to_lammps\n",
    "from pymatgen.io.vasp import Poscar\n",
    "\n",
    "import sys\n",
    "from contextlib import contextmanager"
   ]
  },
  {
   "cell_type": "code",
   "execution_count": 2,
   "metadata": {},
   "outputs": [],
   "source": [
    "def type_shell(core_shell):\n",
    "    shell_nums = []\n",
    "    x = 0\n",
    "    for i in core_shell.values():\n",
    "        x +=1\n",
    "        if i:\n",
    "            x+=1\n",
    "            shell_nums.append(x)\n",
    "    return shell_nums"
   ]
  },
  {
   "cell_type": "code",
   "execution_count": 3,
   "metadata": {},
   "outputs": [],
   "source": [
    "@contextmanager\n",
    "def custom_redirection(fileobj):\n",
    "    old = sys.stdout\n",
    "    sys.stdout = fileobj\n",
    "    try:\n",
    "        yield fileobj\n",
    "    finally:\n",
    "        sys.stdout = old\n",
    "\n",
    "core_shell = { 'Li': False , 'Ni': False, 'O': True}\n",
    "shells = type_shell(core_shell)\n",
    "\n",
    "# 2. Set charges: values either single number (non-core-shell)\n",
    "# or a sub-dictionary containing { 'core': core_charge, 'shell': shell_charge }\n",
    "charges = {'Li': +1.0,\n",
    "           'Ni': +3.0,\n",
    "           'O': {'core':  +0.960,\n",
    "                 'shell': -2.960}}\n",
    "\n",
    "# 3. Load a POSCAR using pymatgen and write lammps file using poscar_to_lammps\n",
    "file = 'multicoords.lmp'\n",
    "with open(file, 'w') as struct:\n",
    "    with custom_redirection(struct):\n",
    "        poscar = Poscar.from_file('../poscars/POSCAR1')\n",
    "        poscar_to_lammps(poscar, core_shell, charges )"
   ]
  },
  {
   "cell_type": "code",
   "execution_count": 4,
   "metadata": {},
   "outputs": [],
   "source": [
    "elements = ['Li', 'Ni', 'Oc', 'O']\n",
    "pairs = [('Li','O'), ('Ni','O'), ('O','O')]\n",
    "springs = ['O']\n",
    "\n",
    "bpp_def = {'Li_O_A'   : 632.1018,\n",
    "           'Li_O_rho' : 0.2906,\n",
    "           'Li_O_C'   : 0.0,\n",
    "           'Ni_O_A'   : 1582.000,\n",
    "           'Ni_O_rho' : 0.2882,\n",
    "           'Ni_O_C'   : 0.000,\n",
    "           'O_O_A'    : 22844.0000,\n",
    "           'O_O_rho'  : 0.0870,\n",
    "           'O_O_C'    : 20.7,\n",
    "           'O_k'      : 65.0,\n",
    "           'O_r'      : 0.0}\n",
    "\n",
    "bpp = deepcopy(bpp_def)"
   ]
  },
  {
   "cell_type": "code",
   "execution_count": 5,
   "metadata": {},
   "outputs": [],
   "source": [
    "def init():\n",
    "    lmp = lammps.Lammps(units='metal', style = 'full', args=['-log', 'none', '-screen', 'none'])\n",
    "    lmp.command('read_data multicoords.lmp')\n",
    "    \n",
    "    lmp.command('group cores type 1 2 3')\n",
    "    lmp.command('group shells type 4')\n",
    "    \n",
    "    lmp.command('neighbor 2.0 bin')\n",
    "    lmp.command('comm_modify vel yes')\n",
    "\n",
    "    lmp.command('kspace_style ewald 1e-6')\n",
    "    lmp.command('pair_style buck/coul/long/cs 10.0') #ADD THE CS IF USING CORESHELLS NOT IF RIGID ION\n",
    "    lmp.command('pair_coeff * * 0 1 0')\n",
    "    \n",
    "    lmp.command('bond_style harmonic')\n",
    "    \n",
    "\n",
    "    return lmp"
   ]
  },
  {
   "cell_type": "code",
   "execution_count": 6,
   "metadata": {},
   "outputs": [],
   "source": [
    "def set_potentials(lmp):\n",
    "    for pair in pairs:\n",
    "        lmp.command('pair_coeff {} {} {} {} {}'.format(dex(pair[0]),\n",
    "                                                            dex(pair[1]),\n",
    "                                                            bpp['{}_{}_A'.format(pair[0], pair[1])],\n",
    "                                                            bpp['{}_{}_rho'.format(pair[0], pair[1])],\n",
    "                                                            bpp['{}_{}_C'.format(pair[0], pair[1])]))\n",
    "    for i, spring in enumerate(springs):\n",
    "        lmp.command('bond_coeff {} {} {}'.format(i+1,\n",
    "                                                 bpp['{}_k'.format(spring)],\n",
    "                                                 bpp['{}_r'.format(spring)]))\n",
    "    \n",
    "\n",
    "def dex(elin): return elements.index(elin) + 1"
   ]
  },
  {
   "cell_type": "code",
   "execution_count": 7,
   "metadata": {},
   "outputs": [],
   "source": [
    "lmp = init()\n",
    "core_mask = [ atype not in shells for atype in lmp.system.types ]\n",
    "out = np.zeros([sum(core_mask),3])\n",
    "\n",
    "set_potentials(lmp)\n",
    "\n",
    "lmp.command('fix 1 cores setforce 0.0 0.0 0.0')\n",
    "lmp.command('min_style cg')\n",
    "lmp.command('minimize 1e-25 1e-25 5000 10000')\n",
    "lmp.command('unfix 1')\n",
    "lmp.run(0)\n",
    "out = lmp.system.forces[core_mask]"
   ]
  },
  {
   "cell_type": "code",
   "execution_count": 8,
   "metadata": {},
   "outputs": [
    {
     "data": {
      "text/plain": [
       "1.826754674579115"
      ]
     },
     "execution_count": 8,
     "metadata": {},
     "output_type": "execute_result"
    }
   ],
   "source": [
    "maxElement = np.amax(out)\n",
    "maxElement\n",
    "# np.argmax(out) #index value"
   ]
  },
  {
   "cell_type": "code",
   "execution_count": null,
   "metadata": {},
   "outputs": [],
   "source": []
  },
  {
   "cell_type": "code",
   "execution_count": null,
   "metadata": {},
   "outputs": [],
   "source": []
  },
  {
   "cell_type": "code",
   "execution_count": null,
   "metadata": {},
   "outputs": [],
   "source": []
  },
  {
   "cell_type": "code",
   "execution_count": null,
   "metadata": {},
   "outputs": [],
   "source": []
  },
  {
   "cell_type": "code",
   "execution_count": null,
   "metadata": {},
   "outputs": [],
   "source": [
    "\n"
   ]
  },
  {
   "cell_type": "code",
   "execution_count": null,
   "metadata": {},
   "outputs": [],
   "source": []
  },
  {
   "cell_type": "code",
   "execution_count": null,
   "metadata": {},
   "outputs": [],
   "source": []
  },
  {
   "cell_type": "code",
   "execution_count": null,
   "metadata": {},
   "outputs": [],
   "source": []
  },
  {
   "cell_type": "code",
   "execution_count": null,
   "metadata": {},
   "outputs": [],
   "source": []
  },
  {
   "cell_type": "code",
   "execution_count": null,
   "metadata": {},
   "outputs": [],
   "source": []
  },
  {
   "cell_type": "code",
   "execution_count": null,
   "metadata": {},
   "outputs": [],
   "source": []
  },
  {
   "cell_type": "code",
   "execution_count": null,
   "metadata": {},
   "outputs": [],
   "source": []
  }
 ],
 "metadata": {
  "kernelspec": {
   "display_name": "Python 3",
   "language": "python",
   "name": "python3"
  },
  "language_info": {
   "codemirror_mode": {
    "name": "ipython",
    "version": 3
   },
   "file_extension": ".py",
   "mimetype": "text/x-python",
   "name": "python",
   "nbconvert_exporter": "python",
   "pygments_lexer": "ipython3",
   "version": "3.7.3"
  }
 },
 "nbformat": 4,
 "nbformat_minor": 2
}
