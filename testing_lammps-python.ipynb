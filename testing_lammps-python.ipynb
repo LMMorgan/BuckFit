{
 "cells": [
  {
   "cell_type": "code",
   "execution_count": 4,
   "metadata": {},
   "outputs": [],
   "source": [
    "from popoff.fitting_code import FitModel\n",
    "import popoff.fitting_output as output\n",
    "from popoff.input_checker import setup_error_checks\n",
    "from scipy import optimize\n",
    "import numpy as np"
   ]
  },
  {
   "cell_type": "code",
   "execution_count": 5,
   "metadata": {},
   "outputs": [],
   "source": [
    "params = {}\n",
    "params['core_shell'] = { 'Li': False, 'Ni': False, 'O': False }\n",
    "params['charges'] = {'Li': +1.0,\n",
    "                     'Ni': +3.0,\n",
    "                     'O': -2.0}\n",
    "params['masses'] = {'Li': 6.941,\n",
    "                    'Ni': 58.6934,\n",
    "                    'O': 15.999}\n",
    "params['potentials'] = {'Li-O': [663.111, 0.119, 0.0],\n",
    "                        'Ni-O': [1393.540, 0.218, 0.000],\n",
    "                        'O-O': [25804.807, 0.284, 0.0]}"
   ]
  },
  {
   "cell_type": "code",
   "execution_count": 6,
   "metadata": {},
   "outputs": [
    {
     "name": "stdout",
     "output_type": "stream",
     "text": [
      "Found elements: ['Li', 'Ni', 'O']\n"
     ]
    },
    {
     "name": "stderr",
     "output_type": "stream",
     "text": [
      "/Users/lmm82/.pyenv/versions/3.7.3/lib/python3.7/site-packages/pymatgen/io/vasp/outputs.py:1014: UserWarning: No POTCAR file with matching TITEL fields was found in /Users/lmm82/Documents/current_work/popoff/vaspruns\n",
      "  warnings.warn(\"No POTCAR file with matching TITEL fields\" \" was found in {}\".format(os.path.abspath(p)))\n"
     ]
    }
   ],
   "source": [
    "fit_data = FitModel.collect_info(params, np.array([0]), supercell=None)"
   ]
  },
  {
   "cell_type": "code",
   "execution_count": 7,
   "metadata": {},
   "outputs": [
    {
     "data": {
      "text/plain": [
       "<popoff.lammps_data.LammpsData at 0x1226d6eb8>"
      ]
     },
     "execution_count": 7,
     "metadata": {},
     "output_type": "execute_result"
    }
   ],
   "source": [
    "fit_data.lammps_data[0]"
   ]
  },
  {
   "cell_type": "code",
   "execution_count": 8,
   "metadata": {},
   "outputs": [],
   "source": [
    "from lammps import lammps"
   ]
  },
  {
   "cell_type": "code",
   "execution_count": 9,
   "metadata": {},
   "outputs": [],
   "source": [
    "#Creates a lammps instance\n",
    "lmp = lammps() \n",
    "\n",
    "#Sets unis and atom style\n",
    "lmp.command('units metal')\n",
    "lmp.command('atom_style full')\n",
    "\n",
    "#reads in file\n",
    "lmp.command('read_data lammps/coords1.lmp')"
   ]
  },
  {
   "cell_type": "code",
   "execution_count": 10,
   "metadata": {},
   "outputs": [],
   "source": [
    "#gets cores groups\n",
    "lmp.command('group cores type {}'.format(fit_data.lammps_data[0].type_core()))\n",
    "\n",
    "#set rigid commands\n",
    "lmp.command('pair_style buck/coul/long 10.0')\n",
    "lmp.command('pair_coeff * * 0 1 0')\n",
    "\n",
    "#set universal commands\n",
    "lmp.command('kspace_style ewald 1e-6')\n",
    "lmp.command('min_style cg')"
   ]
  },
  {
   "cell_type": "code",
   "execution_count": 11,
   "metadata": {},
   "outputs": [],
   "source": [
    "lmp.command('run 0')"
   ]
  },
  {
   "cell_type": "code",
   "execution_count": 12,
   "metadata": {},
   "outputs": [],
   "source": [
    "# returns the stress tensors?\n",
    "lmp.command('thermo_style custom temp press')\n",
    "lmp.command('compute 1 all temp')\n",
    "lmp.command('compute 2 all pressure 1')"
   ]
  },
  {
   "cell_type": "code",
   "execution_count": 13,
   "metadata": {},
   "outputs": [
    {
     "name": "stdout",
     "output_type": "stream",
     "text": [
      "Temperature from compute = 0.0\n"
     ]
    }
   ],
   "source": [
    "temp = lmp.extract_compute(\"thermo_temp\",0,0)\n",
    "print(\"Temperature from compute =\",temp)"
   ]
  },
  {
   "cell_type": "code",
   "execution_count": 35,
   "metadata": {},
   "outputs": [
    {
     "data": {
      "text/plain": [
       "array([-1730.52279437, -1678.00742235, -2114.74373876,     9.127073  ,\n",
       "          20.92300351,  -251.873981  ])"
      ]
     },
     "execution_count": 35,
     "metadata": {},
     "output_type": "execute_result"
    }
   ],
   "source": [
    "thermo_press = lmp.extract_compute(\"thermo_press\", 0, 1)\n",
    "ip_stresses = np.array([thermo_press[i]/1000 for i in range(0,6,1)])\n",
    "ip_stresses"
   ]
  },
  {
   "cell_type": "code",
   "execution_count": null,
   "metadata": {},
   "outputs": [],
   "source": []
  },
  {
   "cell_type": "code",
   "execution_count": 38,
   "metadata": {},
   "outputs": [
    {
     "data": {
      "text/plain": [
       "1543.29284703092"
      ]
     },
     "execution_count": 38,
     "metadata": {},
     "output_type": "execute_result"
    }
   ],
   "source": [
    "lmp.get_thermo('vol')"
   ]
  },
  {
   "cell_type": "code",
   "execution_count": null,
   "metadata": {},
   "outputs": [],
   "source": [
    "    lmp.box.lengths = MagicMock(return_value = [10.0, 10.0, 10.0])\n",
    "    lmp.box.volume = MagicMock(return_value= 1000.0)"
   ]
  },
  {
   "cell_type": "code",
   "execution_count": null,
   "metadata": {},
   "outputs": [],
   "source": []
  },
  {
   "cell_type": "code",
   "execution_count": null,
   "metadata": {},
   "outputs": [],
   "source": []
  },
  {
   "cell_type": "code",
   "execution_count": null,
   "metadata": {},
   "outputs": [],
   "source": []
  },
  {
   "cell_type": "code",
   "execution_count": null,
   "metadata": {},
   "outputs": [],
   "source": []
  },
  {
   "cell_type": "code",
   "execution_count": null,
   "metadata": {},
   "outputs": [],
   "source": []
  }
 ],
 "metadata": {
  "kernelspec": {
   "display_name": "Python 3",
   "language": "python",
   "name": "python3"
  },
  "language_info": {
   "codemirror_mode": {
    "name": "ipython",
    "version": 3
   },
   "file_extension": ".py",
   "mimetype": "text/x-python",
   "name": "python",
   "nbconvert_exporter": "python",
   "pygments_lexer": "ipython3",
   "version": "3.7.3"
  }
 },
 "nbformat": 4,
 "nbformat_minor": 4
}
