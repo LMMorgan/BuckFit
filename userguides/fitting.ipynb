{
 "cells": [
  {
   "cell_type": "markdown",
   "metadata": {},
   "source": [
    "# Setting up and running the potential fit\n",
    "The classes and functions required to run the fit in a Jupyter notebook are imported from the source code, along with numpy and the scipy optimizer."
   ]
  },
  {
   "cell_type": "code",
   "execution_count": null,
   "metadata": {},
   "outputs": [],
   "source": [
    "from lammps_potenial_fitting.fitting_code import FitModel\n",
    "import lammps_potenial_fitting.fitting_output as output\n",
    "from lammps_potenial_fitting.input_checker import setup_error_checks\n",
    "from scipy import optimize\n",
    "import numpy as np"
   ]
  },
  {
   "cell_type": "markdown",
   "metadata": {},
   "source": [
    "## Training set\n",
    "**Note**: For details on creating a training set, see the `training set` notebook.\n",
    "\n",
    "The training set consists of vasprun.xml files. These are placed in the `vasprun` directory and are labelled as `vasprunX.xml` where X is an integer increasing from 0. For example a training set of 4 structures would have 4 vasprun.xml files labelled as vasprun0.xml, vasprun1.xml, vasprun2.xml, and vasprun3.xml."
   ]
  },
  {
   "cell_type": "markdown",
   "metadata": {},
   "source": [
    "## Structure generation and executing fitting functions\n",
    "`random_set_of_structures` is used to select a subset of structures from your training set to fit to. This is not a required aspect of the code and instead you can specifically state which structures you wish to fit to later in the notebook.\n",
    "\n",
    "`run_fit` is essential. It is used to run the fitting process. This function takes your input parameters, and calls several key funtions. Firstly it creates a fitting class, then checks for errors in the input parameters you have provided before running the mean squared fit. Following this the forces and stresses data is extracted and the output data saved in the relevant locations. This function can be modified by the user. Reasons for modification include:\n",
    "1. Changing the number of cores used - `optimize.differential_evolution` is the solver used for finding the mean squared error. The input `workers` defines the number of cores used and is currently set to `-1` which uses all avaliable cores. Further details on these inputs are given in the [optimize.differential_evolution](https://docs.scipy.org/doc/scipy/reference/generated/scipy.optimize.differential_evolution.html) documentation.\n",
    "2. Changing the solver - `optimize.differential_evolution` is the current solver however other solvers do exist. Further details on other scipy optimizers can be found in the [scipy.optimize](https://docs.scipy.org/doc/scipy/reference/tutorial/optimize.html) documentation.\n",
    "3. Changing the output directory structure - the names of the directories can be changed later in the notebook, however, the directory tree and which output information is saved can be changed here."
   ]
  },
  {
   "cell_type": "code",
   "execution_count": null,
   "metadata": {},
   "outputs": [],
   "source": [
    "def random_set_of_structures(fits, structures, structures_to_fit, seed=False):\n",
    "    \"\"\"\n",
    "    Randomly selects structures up to the number of structures to include in the fit, checks there are no repeats and returns the structure numbers of those to be included in the fit.\n",
    "    Args:\n",
    "        fits (int): Number of fits to run.\n",
    "        structures (int): Total number of structures in the training set.\n",
    "        structures_to_fit (int): Number of structures to fit to.\n",
    "        seed (optional: int or 1-d array_like): Seed for RandomState. Must be convertible to 32 bit unsigned integers. Default=False\n",
    "    Returns:\n",
    "        (np.array): Structure numbers of structures in training set to be fitted to.\n",
    "    \"\"\"\n",
    " \n",
    "    for x in [fits, structures, structures_to_fit]:\n",
    "        if isinstance(x, int) == False:\n",
    "            raise TypeError('Input values must be integers.')\n",
    "        if x <=0:\n",
    "            raise ValueError('Integer values must be positive.')\n",
    "\n",
    "    if seed is not False:\n",
    "        if isinstance(seed, int) == False and isinstance(seed, np.ndarray) == False:\n",
    "            raise TypeError('seed must be an integer, 1-d array, or False')\n",
    "        else:\n",
    "            np.random.seed(seed)\n",
    "        sets_of_structures = []\n",
    "        while len(sets_of_structures) < fits:\n",
    "            struct_set = np.sort(np.random.randint(0, structures, size=structures_to_fit), axis=0)\n",
    "            if len(set(struct_set)) != structures_to_fit:\n",
    "                continue\n",
    "            if not any(np.array_equiv(struct_set, x) for x in sets_of_structures):\n",
    "                sets_of_structures.append(struct_set) \n",
    "        return np.array(sets_of_structures)\n",
    "\n",
    "def run_fit(sets_of_structures, params, labels, bounds, supercell=None, seed=None):\n",
    "    \"\"\"\n",
    "    Collates the structures to be fitted into the working directory, creates the lammps inputs and runs the optimiser to fit to the designated parameters. Calls another function to save the data in the appropriate output directory.\n",
    "    Args:\n",
    "        sets_of_structures (np.array): Structure numbers of structures in training set to be fitted to.\n",
    "        params (dict(dict)): Setup dictionary containing the inputs for coreshell, charges, masses, potentials, and core-shell springs.\n",
    "        labels (list(str)): List of parameters to be fitted.\n",
    "        bounds (list(tuple(float))): List of lower and upper bound tuples associated with each parameter.\n",
    "        supercell (optional:list(int)): 3 integers defining the cell increase in x, y, and z for all structures. Default=None.\n",
    "        seed (optional: int or np.random.RandomState): If seed is not specified the np.RandomState singleton is used. If seed is an int, a new np.random.RandomState instance is used, seeded with seed. If seed is already a np.random.RandomState instance, then that np.random.RandomState instance is used. Specify seed for repeatable minimizations. Default=None\n",
    "    Returns:\n",
    "        None\n",
    "    \"\"\"\n",
    "    for fit, structs in enumerate(sets_of_structures):\n",
    "        fit_data = FitModel.collect_info(params, structs, supercell=supercell)\n",
    "        setup_error_checks(labels, bounds, fit_data, params)\n",
    "\n",
    "        fit_output = optimize.differential_evolution(fit_data.chi_squared_error, bounds=bounds, popsize=25,\n",
    "                                           args=([labels]), maxiter=1000, updating='deferred',\n",
    "                                           disp=True, init='latinhypercube', workers=-1, seed=seed)\n",
    "        dft_forces, ip_forces, dft_stresses, ip_stresses = output.extract_stresses_and_forces(fit_data, fit_output.x, labels)\n",
    "        local_struct_dir = '-'.join([ '{}'.format(struct+1) for struct in structs])\n",
    "        struct_directory = output.create_directory(head_directory_name, local_struct_dir)\n",
    "        output.save_data(struct_directory, labels, fit_output, dft_forces, ip_forces, dft_stresses, ip_stresses)\n",
    "    fit_data.reset_directories()"
   ]
  },
  {
   "cell_type": "markdown",
   "metadata": {},
   "source": [
    "## Setup of fitting parameters for your structure (Example: core-shell LiNiO$_2$)\n",
    "Params is the dictionary (of dictionaries) which contains the main information relating to the system and potentials. There are 5 sub dictionaries: core_shell, charges, masses, potentials, and cs_springs.\n",
    "\n",
    "**core_shell**: The keys are each atom type within the structure, with the relating value a boolean expression stating if that atom type is core-shell or not i.e. True = core-shell, False = rigid ion.\n",
    "\n",
    "**charges**: The keys are again each atom type within the structure. The relating value is either a float representation of the atomic charge (for rigid ion atoms) or a sub dictionary where the sub keys are 'core' and 'shell', with the relating sub values being a float representation of the charge. Note: if you are fitting the charge separation (dq), the formal charge should be on the core and 0.0 charge on the shell.\n",
    "\n",
    "**masses**: Similar to charges, the keys are each atom type within the structure, with the values either a float representation of the atomic mass, or a sub directory with the sub keys 'core' and 'shell' and sub values a float representation of the mass on each (summing to the atomic mass). Mass can not be fitted, and there is no definative way of splitting the mass, however convention suggests having 10 % mass on the shell.\n",
    "\n",
    "**potentials**: The keys are atom label pairs separated by a dash (str), example: `Li-O`. The values are a list of the buckingham potential parameters, i.e. `[a, rho, c]`, where each parameter is a float.\n",
    "\n",
    "**cs_springs**: The keys are agian atom label pairs separated by a dash (str), example: `O-O`. This basically denotes the spring is between 'O' core and 'O' shell. The values are a list of the spring contants, k1 and k2, as floats. Commonly k2 is set to 0.0."
   ]
  },
  {
   "cell_type": "code",
   "execution_count": null,
   "metadata": {},
   "outputs": [],
   "source": [
    "params = {}\n",
    "params['core_shell'] = { 'Li': False, 'Ni': False, 'O': True }\n",
    "params['charges'] = {'Li': +1.0,\n",
    "                     'Ni': +3.0,\n",
    "                     'O': {'core':  -2.0,\n",
    "                           'shell': 0.0}} \n",
    "params['masses'] = {'Li': 6.941,\n",
    "                    'Ni': 58.6934,\n",
    "                    'O': {'core': 14.3991,\n",
    "                          'shell': 1.5999} }\n",
    "params['potentials'] = {'Li-O': [663.111, 0.119, 0.0],\n",
    "                        'Ni-O': [1393.540, 0.218, 0.000],\n",
    "                        'O-O': [25804.807, 0.284, 0.0]}\n",
    "params['cs_springs'] = {'O-O' : [20.0, 0.0]}"
   ]
  },
  {
   "cell_type": "markdown",
   "metadata": {},
   "source": [
    "## Parameters changing in the fit\n",
    "Labels and bounds relate to the parameters you wish to include in your fit. Labels is a list of strings relating to the individual parameter. Accepted keys are:\n",
    "\n",
    "**dq_x**: Where x is the atomic symbol of the core-shell atom i.e. `dq_O`. This parameter relates to the charge separation between the core and the shell, where dq is added to the charge for the core, and subtracted from the charge of the shell. In params, the charge should be split with the full charge on the core and 0.0 charge on the shell when this parameter is fitted.\n",
    "\n",
    "**q_scaling**: This parameter allows you to fit partial charges, where the term itself is the scaling factor. i.e. a q_scaling value of 0.5 is 0.5 x formal charge.\n",
    "\n",
    "**x-x spring**: Where x is the atomic symbol of the core-shell atom the spring constant relates to. Example: `O-O spring`.\n",
    "\n",
    "**x_y_param**: Where x and y are the atoms associated with the potential parameter `param`. Param can be a, rho, or c only. Examples: `Li_O_a`, `Li_O_rho`, and `Li_O_c`. Note: DFT doesn't use a dispersion term, which is why the 'c' parameter is not fitted in this example.\n",
    "\n",
    "Bounds are a list of tuples containing the upper and lower values, i.e. bounds, you wish to impose on the relating parameter. Shown here the parameter labeled `dq_O` has a lower bound of 0.001 and an upper bound of 4. The bounds position in the list must directly corespond to the label in the labels list. The upper bound of the dq_x parameter is limited to 2x the formal charge."
   ]
  },
  {
   "cell_type": "code",
   "execution_count": null,
   "metadata": {},
   "outputs": [],
   "source": [
    "labels = ['dq_O', 'q_scaling', 'O-O spring', 'Li_O_a', 'Li_O_rho', 'Ni_O_a', 'Ni_O_rho', 'O_O_a', 'O_O_rho']\n",
    "bounds = [(0.01, 4), (0.3,1.0), (10.0,150.0), (100.0,50000.0), (0.01,1.0), (100.0,50000.0), (0.01,1.0), (150.0,50000.0), (0.01,1.0)]"
   ]
  },
  {
   "cell_type": "markdown",
   "metadata": {},
   "source": [
    "## Rigid ion LiNiO$_2$ example\n",
    "\n",
    "Input of params, lables, and bounds for a **fully rigid ion** system.\n",
    "\n",
    "Note: The only non-required params key is `cs_springs` as no spring constant used."
   ]
  },
  {
   "cell_type": "code",
   "execution_count": null,
   "metadata": {},
   "outputs": [],
   "source": [
    "params = {}\n",
    "params['core_shell'] = { 'Li': False, 'Ni': False, 'O': False }\n",
    "params['charges'] = {'Li': +1.0,\n",
    "                     'Ni': +3.0,\n",
    "                     'O': -2.0}\n",
    "params['masses'] = {'Li': 6.941,\n",
    "                    'Ni': 58.6934,\n",
    "                    'O': 15.999}\n",
    "params['potentials'] = {'Li-O': [663.111, 0.119, 0.0],\n",
    "                        'Ni-O': [1393.540, 0.218, 0.000],\n",
    "                        'O-O': [25804.807, 0.284, 0.0]}\n",
    "\n",
    "labels = ['q_scaling', 'Li_O_a', 'Li_O_rho', 'Ni_O_a', 'Ni_O_rho', 'O_O_a', 'O_O_rho']\n",
    "bounds = [(0.3,1.0), (100.0,50000.0), (0.01,1.0), (100.0,50000.0), (0.01,1.0), (150.0,50000.0), (0.01,1.0)]"
   ]
  },
  {
   "cell_type": "markdown",
   "metadata": {},
   "source": [
    "## Directory set up\n",
    "\n",
    "Structures, structures_to_fit, and fits are required inputs. These designate how many structures are in the training set (saved in the directory named `vaspruns`), how many of those structures to fit to, and how many fits to conduct, respectively.\n",
    "\n",
    "The `head_directory_name` is set up to output the fit to a results directory, with a sub directory of the number of structures fitted. For example, if you fit to 5 structures, your output would go to `results/5_fit`. This can be changed to any descriptor without causing any issues."
   ]
  },
  {
   "cell_type": "code",
   "execution_count": null,
   "metadata": {},
   "outputs": [],
   "source": [
    "structures = 15 #Total number of structures in the training set\n",
    "structures_to_fit = 5 #Number of structures you wish to fit to\n",
    "fits = 1 #Number of fits to run\n",
    "head_directory_name = 'results/{}_fit'.format(structures_to_fit)"
   ]
  },
  {
   "cell_type": "markdown",
   "metadata": {},
   "source": [
    "## Randomly selecting sets of structures\n",
    "To prevent any bias in the data, and to improve the variation in structures which are being fitted to, structures are selected randomly from the trianing set, up to the number of structures you choose to fit to. This is done in a function which will check that repeats of the same structure aren't used and doesn't require any further input. There is an optional input of `seed` which allows you to designate a seed for reproducible results. `seed` must be either an int or 1-d array_like. Default is None.\n",
    "\n",
    "This uses the `random_set_of_structures` function which outputs a numpy array of the structure indices used for each fit. If you wish to select specific structures, you can either creat a numpy array with their specific indices or only have those vasprun.xml files in the directory (labelled sequentially from 0)."
   ]
  },
  {
   "cell_type": "code",
   "execution_count": null,
   "metadata": {},
   "outputs": [],
   "source": [
    "sets_of_structures = random_set_of_structures(fits, structures, structures_to_fit, seed=7)"
   ]
  },
  {
   "cell_type": "markdown",
   "metadata": {},
   "source": [
    "## Running the fit for each set of structures\n",
    "The fit itself is run within the function above called `run_fit`, which is executed here. There are 4 required inputs: `sets_of_structures`, `params`, `labels`, and `bounds`, which have already been defined. There are also 2 optional inputs: `supercell` which creates a supercell of the structures before running the fit. This can should be a list with the multipliers for x, y, and z, i.e. [2,2,2]. The second is `seed` which designates if the optimiser is seeded from a start point for reproducibility/repeatability. If seed is not specified the np.RandomState singleton is used. If seed is an int, a new np.random.RandomState instance is used, seeded with seed. If seed is already a np.random.RandomState instance, then that np.random.RandomState instance is used. Further details on the seed input for the optimiser is given in the [optimize.differential_evolution](https://docs.scipy.org/doc/scipy/reference/generated/scipy.optimize.differential_evolution.html) documentation.\n",
    "\n",
    "Optimisation parameters can be changed within the `run_fit` function at the top of this notebook. Further details on these inputs are given the [optimize.differential_evolution](https://docs.scipy.org/doc/scipy/reference/generated/scipy.optimize.differential_evolution.html) documentation.\n",
    "\n",
    "**Note**: workers relates to paralising the fit. It is currently set to `-1` which uses all avaliable cores. This will need to be changed appropriately if used on a shared machine.\n",
    "\n",
    "Output data is sent to the *head directory* location, in a sub directory named with the structure numbers which it has been fitted to. Example: fitting to 3 random structures will be in a sub directory similar to `2-4-10`."
   ]
  },
  {
   "cell_type": "code",
   "execution_count": null,
   "metadata": {},
   "outputs": [],
   "source": [
    "run_fit(sets_of_structures, params, labels, bounds, supercell=[2,2,2], seed=7)"
   ]
  },
  {
   "cell_type": "markdown",
   "metadata": {},
   "source": [
    "## Additional notes\n",
    "\n",
    "An example python script of this notebook is given in [fitting.py](fitting.py).\n",
    "\n",
    "There are a couple of things you might also want to consider changing, such as the short range and long range cutoffs (currently 10 Å) for the atom interactions and the ewald precision (currently $1e^{-6}$). This can be changed in the `initiate_lmp` function in `lammps_data.py`. You can also change the units used by lammps within this function as well (currently `metal`), along with the minimiser used (currently cg).\n",
    "\n",
    "The working lammps directory is reset by removing all lammps files. The subdirectories will remain which contain the training set.\n",
    "\n",
    "**LAMMPS** - Hopefully you will be familiar with LAMMPS and the input formats, however, if you are not, the main thing you need to bare in mind is the order write your atom pairs for `params['potentials']`. Lammps does not use species labels but gives them an associated species index. When listing potential pairs, the first index must be the smaller of the two. For example, for LiNiO$_2$, Li=1, Ni=2, and O=3. A potential input or Ni-O needs to be Ni-O (2-3) and **NOT** O-Ni (3-2). For more detail see the [LAMMPS manual](https://lammps.sandia.gov/doc/Manual.html).\n",
    "\n",
    "**OUTPUT** - implementing the `dq_` value can be a little confusing. If you have correctly set your core to the formal charge and the shell to 0.0 then the output `dq_` value needs to be added to the formal charge on the core and subtracted from 0.0 charge on the shell. For example, if you get `dq_O = -3.44` and the core is given the charge `-2` and the shell `0.0` then the charges will be `core = -2 + dq` and `shell = 0.0 - dq` resulting in `core = +1.44` and `shell = -3.44`.\n",
    "\n",
    "**INPUT** - The stress tensors are scaled so there is higher weighting for fitting the forces. This is partly due to the values being different orders of magnitude. This is set to `*0.001` currently in the `chi_squared_error` function in `fitting_code.py`. This is the value you need to change if you wish to adjust the weighting of forces and stress tensors."
   ]
  },
  {
   "cell_type": "code",
   "execution_count": null,
   "metadata": {},
   "outputs": [],
   "source": []
  },
  {
   "cell_type": "code",
   "execution_count": null,
   "metadata": {},
   "outputs": [],
   "source": []
  }
 ],
 "metadata": {
  "kernelspec": {
   "display_name": "Python 3",
   "language": "python",
   "name": "python3"
  },
  "language_info": {
   "codemirror_mode": {
    "name": "ipython",
    "version": 3
   },
   "file_extension": ".py",
   "mimetype": "text/x-python",
   "name": "python",
   "nbconvert_exporter": "python",
   "pygments_lexer": "ipython3",
   "version": "3.7.3"
  }
 },
 "nbformat": 4,
 "nbformat_minor": 4
}
